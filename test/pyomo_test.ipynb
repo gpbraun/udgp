{
 "cells": [
  {
   "cell_type": "markdown",
   "metadata": {},
   "source": [
    "# Teste pyomo"
   ]
  },
  {
   "cell_type": "code",
   "execution_count": 1,
   "metadata": {},
   "outputs": [],
   "source": [
    "import numpy as np\n",
    "from udgp import Instance\n",
    "from udgp import M2"
   ]
  },
  {
   "cell_type": "code",
   "execution_count": 27,
   "metadata": {},
   "outputs": [
    {
     "data": {
      "application/3dmoljs_load.v0": "<div id=\"3dmolviewer_1691334342174261\"  style=\"position: relative; width: 400px; height: 350px;\">\n        <p id=\"3dmolwarning_1691334342174261\" style=\"background-color:#ffcccc;color:black\">You appear to be running in JupyterLab (or JavaScript failed to load for some other reason).  You need to install the 3dmol extension: <br>\n        <tt>jupyter labextension install jupyterlab_3dmol</tt></p>\n        </div>\n<script>\n\nvar loadScriptAsync = function(uri){\n  return new Promise((resolve, reject) => {\n    //this is to ignore the existence of requirejs amd\n    var savedexports, savedmodule;\n    if (typeof exports !== 'undefined') savedexports = exports;\n    else exports = {}\n    if (typeof module !== 'undefined') savedmodule = module;\n    else module = {}\n\n    var tag = document.createElement('script');\n    tag.src = uri;\n    tag.async = true;\n    tag.onload = () => {\n        exports = savedexports;\n        module = savedmodule;\n        resolve();\n    };\n  var firstScriptTag = document.getElementsByTagName('script')[0];\n  firstScriptTag.parentNode.insertBefore(tag, firstScriptTag);\n});\n};\n\nif(typeof $3Dmolpromise === 'undefined') {\n$3Dmolpromise = null;\n  $3Dmolpromise = loadScriptAsync('https://cdnjs.cloudflare.com/ajax/libs/3Dmol/2.0.3/3Dmol-min.js');\n}\n\nvar viewer_1691334342174261 = null;\nvar warn = document.getElementById(\"3dmolwarning_1691334342174261\");\nif(warn) {\n    warn.parentNode.removeChild(warn);\n}\n$3Dmolpromise.then(function() {\nviewer_1691334342174261 = $3Dmol.createViewer(document.getElementById(\"3dmolviewer_1691334342174261\"),{backgroundColor:\"white\"});\nviewer_1691334342174261.addModel(\"5\\nuDGP instance\\nC    0.0000    0.0000    0.0000\\nC    -1.5000    0.0000    0.0000\\nC    -2.0000    1.4141    0.0000\\nC    -1.5000    2.1211    1.2246\\nC    -2.0000    1.4141    2.4492\");\nviewer_1691334342174261.zoomTo();\n\tviewer_1691334342174261.setBackgroundColor(\"#000000\",0.2);\n\tviewer_1691334342174261.setStyle({\"stick\": {\"radius\": 0.1, \"color\": \"#cbd5e1\"}, \"sphere\": {\"scale\": 0.2, \"color\": \"#60a5fa\"}});\nviewer_1691334342174261.render();\n});\n</script>",
      "text/html": [
       "<div id=\"3dmolviewer_1691334342174261\"  style=\"position: relative; width: 400px; height: 350px;\">\n",
       "        <p id=\"3dmolwarning_1691334342174261\" style=\"background-color:#ffcccc;color:black\">You appear to be running in JupyterLab (or JavaScript failed to load for some other reason).  You need to install the 3dmol extension: <br>\n",
       "        <tt>jupyter labextension install jupyterlab_3dmol</tt></p>\n",
       "        </div>\n",
       "<script>\n",
       "\n",
       "var loadScriptAsync = function(uri){\n",
       "  return new Promise((resolve, reject) => {\n",
       "    //this is to ignore the existence of requirejs amd\n",
       "    var savedexports, savedmodule;\n",
       "    if (typeof exports !== 'undefined') savedexports = exports;\n",
       "    else exports = {}\n",
       "    if (typeof module !== 'undefined') savedmodule = module;\n",
       "    else module = {}\n",
       "\n",
       "    var tag = document.createElement('script');\n",
       "    tag.src = uri;\n",
       "    tag.async = true;\n",
       "    tag.onload = () => {\n",
       "        exports = savedexports;\n",
       "        module = savedmodule;\n",
       "        resolve();\n",
       "    };\n",
       "  var firstScriptTag = document.getElementsByTagName('script')[0];\n",
       "  firstScriptTag.parentNode.insertBefore(tag, firstScriptTag);\n",
       "});\n",
       "};\n",
       "\n",
       "if(typeof $3Dmolpromise === 'undefined') {\n",
       "$3Dmolpromise = null;\n",
       "  $3Dmolpromise = loadScriptAsync('https://cdnjs.cloudflare.com/ajax/libs/3Dmol/2.0.3/3Dmol-min.js');\n",
       "}\n",
       "\n",
       "var viewer_1691334342174261 = null;\n",
       "var warn = document.getElementById(\"3dmolwarning_1691334342174261\");\n",
       "if(warn) {\n",
       "    warn.parentNode.removeChild(warn);\n",
       "}\n",
       "$3Dmolpromise.then(function() {\n",
       "viewer_1691334342174261 = $3Dmol.createViewer(document.getElementById(\"3dmolviewer_1691334342174261\"),{backgroundColor:\"white\"});\n",
       "viewer_1691334342174261.addModel(\"5\\nuDGP instance\\nC    0.0000    0.0000    0.0000\\nC    -1.5000    0.0000    0.0000\\nC    -2.0000    1.4141    0.0000\\nC    -1.5000    2.1211    1.2246\\nC    -2.0000    1.4141    2.4492\");\n",
       "viewer_1691334342174261.zoomTo();\n",
       "\tviewer_1691334342174261.setBackgroundColor(\"#000000\",0.2);\n",
       "\tviewer_1691334342174261.setStyle({\"stick\": {\"radius\": 0.1, \"color\": \"#cbd5e1\"}, \"sphere\": {\"scale\": 0.2, \"color\": \"#60a5fa\"}});\n",
       "viewer_1691334342174261.render();\n",
       "});\n",
       "</script>"
      ]
     },
     "metadata": {},
     "output_type": "display_data"
    },
    {
     "data": {
      "text/plain": [
       "<py3Dmol.view at 0x7fd34de93bd0>"
      ]
     },
     "execution_count": 27,
     "metadata": {},
     "output_type": "execute_result"
    }
   ],
   "source": [
    "instance = Instance.artificial_molecule(5, freq=True, seed=1234567)\n",
    "instance.view_input()"
   ]
  },
  {
   "cell_type": "code",
   "execution_count": 28,
   "metadata": {},
   "outputs": [],
   "source": [
    "instance.reset()\n",
    "model = M2(instance, nx=4, ny=1)"
   ]
  },
  {
   "cell_type": "code",
   "execution_count": 29,
   "metadata": {},
   "outputs": [
    {
     "name": "stdout",
     "output_type": "stream",
     "text": [
      "        0.03 seconds required for presolve\n",
      "Set parameter NonConvex to value 2\n",
      "Set parameter MIPGapAbs to value 0.05\n",
      "Set parameter IntFeasTol to value 0.0001\n",
      "Set parameter FeasibilityTol to value 0.0001\n",
      "Set parameter OptimalityTol to value 0.0001\n",
      "Set parameter Cuts to value 2\n",
      "Gurobi Optimizer version 10.0.2 build v10.0.2rc0 (linux64)\n",
      "\n",
      "CPU model: Intel(R) Core(TM) i7-10510U CPU @ 1.80GHz, instruction set [SSE2|AVX|AVX2]\n",
      "Thread count: 4 physical cores, 8 logical processors, using up to 8 threads\n",
      "\n",
      "Optimize a model with 364 rows, 212 columns and 958 nonzeros\n",
      "Model fingerprint: 0xfda98b40\n",
      "Model has 10 quadratic constraints\n",
      "Variable types: 172 continuous, 40 integer (40 binary)\n",
      "Coefficient statistics:\n",
      "  Matrix range     [1e+00, 3e+00]\n",
      "  QMatrix range    [1e+00, 1e+00]\n",
      "  Objective range  [1e+00, 1e+00]\n",
      "  Bounds range     [5e-03, 3e+00]\n",
      "  RHS range        [6e-01, 7e+00]\n",
      "Presolve removed 72 rows and 22 columns\n",
      "Presolve time: 0.00s\n",
      "Presolved: 422 rows, 230 columns, 1224 nonzeros\n",
      "Presolved model has 40 bilinear constraint(s)\n",
      "Variable types: 190 continuous, 40 integer (40 binary)\n",
      "\n",
      "Root relaxation: objective 1.000000e+00, 240 iterations, 0.00 seconds (0.00 work units)\n",
      "\n",
      "    Nodes    |    Current Node    |     Objective Bounds      |     Work\n",
      " Expl Unexpl |  Obj  Depth IntInf | Incumbent    BestBd   Gap | It/Node Time\n",
      "\n",
      "     0     0    1.00000    0   22          -    1.00000      -     -    0s\n",
      "     0     0    1.00000    0   22          -    1.00000      -     -    0s\n",
      "     0     0    1.00000    0   18          -    1.00000      -     -    0s\n",
      "     0     0    1.00000    0   18          -    1.00000      -     -    0s\n",
      "     0     0    1.00000    0   18          -    1.00000      -     -    0s\n",
      "     0     2    1.00000    0   18          -    1.00000      -     -    0s\n",
      "* 2441  1243              51       1.0088362    1.00000  0.88%  29.4    0s\n",
      "\n",
      "Cutting planes:\n",
      "  Implied bound: 16\n",
      "  RLT: 5\n",
      "\n",
      "Explored 2457 nodes (72352 simplex iterations) in 0.90 seconds (0.55 work units)\n",
      "Thread count was 8 (of 8 available processors)\n",
      "\n",
      "Solution count 1: 1.00884 \n",
      "\n",
      "Optimal solution found (tolerance 1.00e-04)\n",
      "Warning: max constraint violation (1.3495e-04) exceeds tolerance\n",
      "Best objective 1.008836237113e+00, best bound 1.000000000000e+00, gap 0.8759%\n",
      "        0.92 seconds required for solver\n",
      "        0.00 seconds required for postsolve\n"
     ]
    },
    {
     "data": {
      "text/plain": [
       "True"
      ]
     },
     "execution_count": 29,
     "metadata": {},
     "output_type": "execute_result"
    }
   ],
   "source": [
    "model.optimize(solver=\"gurobi\", log=True)"
   ]
  },
  {
   "cell_type": "code",
   "execution_count": 30,
   "metadata": {},
   "outputs": [
    {
     "name": "stdout",
     "output_type": "stream",
     "text": [
      "True\n"
     ]
    },
    {
     "data": {
      "application/3dmoljs_load.v0": "<div id=\"3dmolviewer_16913343523088603\"  style=\"position: relative; width: 400px; height: 350px;\">\n        <p id=\"3dmolwarning_16913343523088603\" style=\"background-color:#ffcccc;color:black\">You appear to be running in JupyterLab (or JavaScript failed to load for some other reason).  You need to install the 3dmol extension: <br>\n        <tt>jupyter labextension install jupyterlab_3dmol</tt></p>\n        </div>\n<script>\n\nvar loadScriptAsync = function(uri){\n  return new Promise((resolve, reject) => {\n    //this is to ignore the existence of requirejs amd\n    var savedexports, savedmodule;\n    if (typeof exports !== 'undefined') savedexports = exports;\n    else exports = {}\n    if (typeof module !== 'undefined') savedmodule = module;\n    else module = {}\n\n    var tag = document.createElement('script');\n    tag.src = uri;\n    tag.async = true;\n    tag.onload = () => {\n        exports = savedexports;\n        module = savedmodule;\n        resolve();\n    };\n  var firstScriptTag = document.getElementsByTagName('script')[0];\n  firstScriptTag.parentNode.insertBefore(tag, firstScriptTag);\n});\n};\n\nif(typeof $3Dmolpromise === 'undefined') {\n$3Dmolpromise = null;\n  $3Dmolpromise = loadScriptAsync('https://cdnjs.cloudflare.com/ajax/libs/3Dmol/2.0.3/3Dmol-min.js');\n}\n\nvar viewer_16913343523088603 = null;\nvar warn = document.getElementById(\"3dmolwarning_16913343523088603\");\nif(warn) {\n    warn.parentNode.removeChild(warn);\n}\n$3Dmolpromise.then(function() {\nviewer_16913343523088603 = $3Dmol.createViewer(document.getElementById(\"3dmolviewer_16913343523088603\"),{backgroundColor:\"white\"});\nviewer_16913343523088603.addModel(\"5\\nuDGP instance\\nC    0.0000    0.0000    0.0000\\nC    -0.8950    1.7940    -1.4070\\nC    -0.0340    1.4840    -0.2190\\nC    -0.8950    1.7940    2.0530\\nC    -0.8950    2.7120    -0.2180\");\nviewer_16913343523088603.zoomTo();\n\tviewer_16913343523088603.setBackgroundColor(\"#000000\",0.2);\n\tviewer_16913343523088603.setStyle({\"stick\": {\"radius\": 0.1, \"color\": \"#cbd5e1\"}, \"sphere\": {\"scale\": 0.2, \"color\": \"#60a5fa\"}});\nviewer_16913343523088603.render();\n});\n</script>",
      "text/html": [
       "<div id=\"3dmolviewer_16913343523088603\"  style=\"position: relative; width: 400px; height: 350px;\">\n",
       "        <p id=\"3dmolwarning_16913343523088603\" style=\"background-color:#ffcccc;color:black\">You appear to be running in JupyterLab (or JavaScript failed to load for some other reason).  You need to install the 3dmol extension: <br>\n",
       "        <tt>jupyter labextension install jupyterlab_3dmol</tt></p>\n",
       "        </div>\n",
       "<script>\n",
       "\n",
       "var loadScriptAsync = function(uri){\n",
       "  return new Promise((resolve, reject) => {\n",
       "    //this is to ignore the existence of requirejs amd\n",
       "    var savedexports, savedmodule;\n",
       "    if (typeof exports !== 'undefined') savedexports = exports;\n",
       "    else exports = {}\n",
       "    if (typeof module !== 'undefined') savedmodule = module;\n",
       "    else module = {}\n",
       "\n",
       "    var tag = document.createElement('script');\n",
       "    tag.src = uri;\n",
       "    tag.async = true;\n",
       "    tag.onload = () => {\n",
       "        exports = savedexports;\n",
       "        module = savedmodule;\n",
       "        resolve();\n",
       "    };\n",
       "  var firstScriptTag = document.getElementsByTagName('script')[0];\n",
       "  firstScriptTag.parentNode.insertBefore(tag, firstScriptTag);\n",
       "});\n",
       "};\n",
       "\n",
       "if(typeof $3Dmolpromise === 'undefined') {\n",
       "$3Dmolpromise = null;\n",
       "  $3Dmolpromise = loadScriptAsync('https://cdnjs.cloudflare.com/ajax/libs/3Dmol/2.0.3/3Dmol-min.js');\n",
       "}\n",
       "\n",
       "var viewer_16913343523088603 = null;\n",
       "var warn = document.getElementById(\"3dmolwarning_16913343523088603\");\n",
       "if(warn) {\n",
       "    warn.parentNode.removeChild(warn);\n",
       "}\n",
       "$3Dmolpromise.then(function() {\n",
       "viewer_16913343523088603 = $3Dmol.createViewer(document.getElementById(\"3dmolviewer_16913343523088603\"),{backgroundColor:\"white\"});\n",
       "viewer_16913343523088603.addModel(\"5\\nuDGP instance\\nC    0.0000    0.0000    0.0000\\nC    -0.8950    1.7940    -1.4070\\nC    -0.0340    1.4840    -0.2190\\nC    -0.8950    1.7940    2.0530\\nC    -0.8950    2.7120    -0.2180\");\n",
       "viewer_16913343523088603.zoomTo();\n",
       "\tviewer_16913343523088603.setBackgroundColor(\"#000000\",0.2);\n",
       "\tviewer_16913343523088603.setStyle({\"stick\": {\"radius\": 0.1, \"color\": \"#cbd5e1\"}, \"sphere\": {\"scale\": 0.2, \"color\": \"#60a5fa\"}});\n",
       "viewer_16913343523088603.render();\n",
       "});\n",
       "</script>"
      ]
     },
     "metadata": {},
     "output_type": "display_data"
    },
    {
     "data": {
      "text/plain": [
       "<py3Dmol.view at 0x7fd34e2caa10>"
      ]
     },
     "execution_count": 30,
     "metadata": {},
     "output_type": "execute_result"
    }
   ],
   "source": [
    "print(instance.is_solved())\n",
    "instance.view()"
   ]
  }
 ],
 "metadata": {
  "kernelspec": {
   "display_name": "venv",
   "language": "python",
   "name": "python3"
  },
  "language_info": {
   "codemirror_mode": {
    "name": "ipython",
    "version": 3
   },
   "file_extension": ".py",
   "mimetype": "text/x-python",
   "name": "python",
   "nbconvert_exporter": "python",
   "pygments_lexer": "ipython3",
   "version": "3.11.4"
  },
  "orig_nbformat": 4
 },
 "nbformat": 4,
 "nbformat_minor": 2
}
