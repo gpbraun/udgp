{
 "cells": [
  {
   "cell_type": "markdown",
   "metadata": {},
   "source": [
    "# Teste pyomo"
   ]
  },
  {
   "cell_type": "code",
   "execution_count": 1,
   "metadata": {},
   "outputs": [],
   "source": [
    "import numpy as np\n",
    "from udgp import Instance\n",
    "from udgp.models import M2"
   ]
  },
  {
   "cell_type": "code",
   "execution_count": 2,
   "metadata": {},
   "outputs": [
    {
     "data": {
      "application/3dmoljs_load.v0": "<div id=\"3dmolviewer_1691338652100366\"  style=\"position: relative; width: 400px; height: 350px;\">\n        <p id=\"3dmolwarning_1691338652100366\" style=\"background-color:#ffcccc;color:black\">You appear to be running in JupyterLab (or JavaScript failed to load for some other reason).  You need to install the 3dmol extension: <br>\n        <tt>jupyter labextension install jupyterlab_3dmol</tt></p>\n        </div>\n<script>\n\nvar loadScriptAsync = function(uri){\n  return new Promise((resolve, reject) => {\n    //this is to ignore the existence of requirejs amd\n    var savedexports, savedmodule;\n    if (typeof exports !== 'undefined') savedexports = exports;\n    else exports = {}\n    if (typeof module !== 'undefined') savedmodule = module;\n    else module = {}\n\n    var tag = document.createElement('script');\n    tag.src = uri;\n    tag.async = true;\n    tag.onload = () => {\n        exports = savedexports;\n        module = savedmodule;\n        resolve();\n    };\n  var firstScriptTag = document.getElementsByTagName('script')[0];\n  firstScriptTag.parentNode.insertBefore(tag, firstScriptTag);\n});\n};\n\nif(typeof $3Dmolpromise === 'undefined') {\n$3Dmolpromise = null;\n  $3Dmolpromise = loadScriptAsync('https://cdnjs.cloudflare.com/ajax/libs/3Dmol/2.0.3/3Dmol-min.js');\n}\n\nvar viewer_1691338652100366 = null;\nvar warn = document.getElementById(\"3dmolwarning_1691338652100366\");\nif(warn) {\n    warn.parentNode.removeChild(warn);\n}\n$3Dmolpromise.then(function() {\nviewer_1691338652100366 = $3Dmol.createViewer(document.getElementById(\"3dmolviewer_1691338652100366\"),{backgroundColor:\"white\"});\nviewer_1691338652100366.addModel(\"5\\nuDGP instance\\nC    0.0000    0.0000    0.0000\\nC    -1.5000    0.0000    0.0000\\nC    -2.0000    1.4141    0.0000\\nC    -1.5000    2.1211    -1.2246\\nC    -2.0000    3.5352    -1.2246\");\nviewer_1691338652100366.zoomTo();\n\tviewer_1691338652100366.setBackgroundColor(\"#000000\",0.2);\n\tviewer_1691338652100366.setStyle({\"stick\": {\"radius\": 0.1, \"color\": \"#cbd5e1\"}, \"sphere\": {\"scale\": 0.2, \"color\": \"#60a5fa\"}});\nviewer_1691338652100366.render();\n});\n</script>",
      "text/html": [
       "<div id=\"3dmolviewer_1691338652100366\"  style=\"position: relative; width: 400px; height: 350px;\">\n",
       "        <p id=\"3dmolwarning_1691338652100366\" style=\"background-color:#ffcccc;color:black\">You appear to be running in JupyterLab (or JavaScript failed to load for some other reason).  You need to install the 3dmol extension: <br>\n",
       "        <tt>jupyter labextension install jupyterlab_3dmol</tt></p>\n",
       "        </div>\n",
       "<script>\n",
       "\n",
       "var loadScriptAsync = function(uri){\n",
       "  return new Promise((resolve, reject) => {\n",
       "    //this is to ignore the existence of requirejs amd\n",
       "    var savedexports, savedmodule;\n",
       "    if (typeof exports !== 'undefined') savedexports = exports;\n",
       "    else exports = {}\n",
       "    if (typeof module !== 'undefined') savedmodule = module;\n",
       "    else module = {}\n",
       "\n",
       "    var tag = document.createElement('script');\n",
       "    tag.src = uri;\n",
       "    tag.async = true;\n",
       "    tag.onload = () => {\n",
       "        exports = savedexports;\n",
       "        module = savedmodule;\n",
       "        resolve();\n",
       "    };\n",
       "  var firstScriptTag = document.getElementsByTagName('script')[0];\n",
       "  firstScriptTag.parentNode.insertBefore(tag, firstScriptTag);\n",
       "});\n",
       "};\n",
       "\n",
       "if(typeof $3Dmolpromise === 'undefined') {\n",
       "$3Dmolpromise = null;\n",
       "  $3Dmolpromise = loadScriptAsync('https://cdnjs.cloudflare.com/ajax/libs/3Dmol/2.0.3/3Dmol-min.js');\n",
       "}\n",
       "\n",
       "var viewer_1691338652100366 = null;\n",
       "var warn = document.getElementById(\"3dmolwarning_1691338652100366\");\n",
       "if(warn) {\n",
       "    warn.parentNode.removeChild(warn);\n",
       "}\n",
       "$3Dmolpromise.then(function() {\n",
       "viewer_1691338652100366 = $3Dmol.createViewer(document.getElementById(\"3dmolviewer_1691338652100366\"),{backgroundColor:\"white\"});\n",
       "viewer_1691338652100366.addModel(\"5\\nuDGP instance\\nC    0.0000    0.0000    0.0000\\nC    -1.5000    0.0000    0.0000\\nC    -2.0000    1.4141    0.0000\\nC    -1.5000    2.1211    -1.2246\\nC    -2.0000    3.5352    -1.2246\");\n",
       "viewer_1691338652100366.zoomTo();\n",
       "\tviewer_1691338652100366.setBackgroundColor(\"#000000\",0.2);\n",
       "\tviewer_1691338652100366.setStyle({\"stick\": {\"radius\": 0.1, \"color\": \"#cbd5e1\"}, \"sphere\": {\"scale\": 0.2, \"color\": \"#60a5fa\"}});\n",
       "viewer_1691338652100366.render();\n",
       "});\n",
       "</script>"
      ]
     },
     "metadata": {},
     "output_type": "display_data"
    },
    {
     "data": {
      "text/plain": [
       "<py3Dmol.view at 0x7f8b860f4390>"
      ]
     },
     "execution_count": 2,
     "metadata": {},
     "output_type": "execute_result"
    }
   ],
   "source": [
    "instance = Instance.artificial_molecule(5, freq=True, seed=123456)\n",
    "instance.view_input()"
   ]
  },
  {
   "cell_type": "code",
   "execution_count": 3,
   "metadata": {},
   "outputs": [
    {
     "name": "stdout",
     "output_type": "stream",
     "text": [
      "        0.04 seconds required for presolve\n",
      "Set parameter NonConvex to value 2\n",
      "Set parameter MIPGapAbs to value 0.1\n",
      "Set parameter IntFeasTol to value 0.0001\n",
      "Set parameter FeasibilityTol to value 0.0001\n",
      "Set parameter OptimalityTol to value 0.0001\n",
      "Set parameter Cuts to value 2\n",
      "Gurobi Optimizer version 10.0.2 build v10.0.2rc0 (linux64)\n",
      "\n",
      "CPU model: Intel(R) Core(TM) i7-10510U CPU @ 1.80GHz, instruction set [SSE2|AVX|AVX2]\n",
      "Thread count: 4 physical cores, 8 logical processors, using up to 8 threads\n",
      "\n",
      "Optimize a model with 445 rows, 252 columns and 1178 nonzeros\n",
      "Model fingerprint: 0xc12a3a58\n",
      "Model has 10 quadratic constraints\n",
      "Variable types: 202 continuous, 50 integer (50 binary)\n",
      "Coefficient statistics:\n",
      "  Matrix range     [1e+00, 4e+00]\n",
      "  QMatrix range    [1e+00, 1e+00]\n",
      "  Objective range  [1e+00, 1e+00]\n",
      "  Bounds range     [1e-02, 4e+00]\n",
      "  RHS range        [5e-01, 8e+00]\n",
      "Presolve removed 82 rows and 22 columns\n",
      "Presolve time: 0.00s\n",
      "Presolved: 493 rows, 270 columns, 1564 nonzeros\n",
      "Presolved model has 40 bilinear constraint(s)\n",
      "Variable types: 220 continuous, 50 integer (50 binary)\n",
      "\n",
      "Root relaxation: objective 1.000000e+00, 227 iterations, 0.00 seconds (0.00 work units)\n",
      "\n",
      "    Nodes    |    Current Node    |     Objective Bounds      |     Work\n",
      " Expl Unexpl |  Obj  Depth IntInf | Incumbent    BestBd   Gap | It/Node Time\n",
      "\n",
      "     0     0    1.00000    0   35          -    1.00000      -     -    0s\n",
      "     0     0    1.00000    0   29          -    1.00000      -     -    0s\n",
      "     0     0    1.00000    0   29          -    1.00000      -     -    0s\n",
      "     0     0    1.00000    0   28          -    1.00000      -     -    0s\n",
      "     0     0    1.00000    0   28          -    1.00000      -     -    0s\n",
      "     0     2    1.00000    0   28          -    1.00000      -     -    0s\n",
      "* 2612  1360              89       1.0131745    1.00000  1.30%  32.3    1s\n",
      "\n",
      "Cutting planes:\n",
      "  Gomory: 3\n",
      "  Implied bound: 24\n",
      "  Flow cover: 5\n",
      "  RLT: 16\n",
      "\n",
      "Explored 2971 nodes (97982 simplex iterations) in 1.17 seconds (0.85 work units)\n",
      "Thread count was 8 (of 8 available processors)\n",
      "\n",
      "Solution count 1: 1.01317 \n",
      "\n",
      "Optimal solution found (tolerance 1.00e-04)\n",
      "Warning: max constraint violation (1.0372e-04) exceeds tolerance\n",
      "Best objective 1.013174479826e+00, best bound 1.000000000000e+00, gap 1.3003%\n",
      "        1.19 seconds required for solver\n",
      "        0.00 seconds required for postsolve\n"
     ]
    }
   ],
   "source": [
    "instance.solve(M2, log=True)"
   ]
  },
  {
   "cell_type": "code",
   "execution_count": 4,
   "metadata": {},
   "outputs": [
    {
     "name": "stdout",
     "output_type": "stream",
     "text": [
      "True\n"
     ]
    },
    {
     "data": {
      "application/3dmoljs_load.v0": "<div id=\"3dmolviewer_16913386579382975\"  style=\"position: relative; width: 400px; height: 350px;\">\n        <p id=\"3dmolwarning_16913386579382975\" style=\"background-color:#ffcccc;color:black\">You appear to be running in JupyterLab (or JavaScript failed to load for some other reason).  You need to install the 3dmol extension: <br>\n        <tt>jupyter labextension install jupyterlab_3dmol</tt></p>\n        </div>\n<script>\n\nvar loadScriptAsync = function(uri){\n  return new Promise((resolve, reject) => {\n    //this is to ignore the existence of requirejs amd\n    var savedexports, savedmodule;\n    if (typeof exports !== 'undefined') savedexports = exports;\n    else exports = {}\n    if (typeof module !== 'undefined') savedmodule = module;\n    else module = {}\n\n    var tag = document.createElement('script');\n    tag.src = uri;\n    tag.async = true;\n    tag.onload = () => {\n        exports = savedexports;\n        module = savedmodule;\n        resolve();\n    };\n  var firstScriptTag = document.getElementsByTagName('script')[0];\n  firstScriptTag.parentNode.insertBefore(tag, firstScriptTag);\n});\n};\n\nif(typeof $3Dmolpromise === 'undefined') {\n$3Dmolpromise = null;\n  $3Dmolpromise = loadScriptAsync('https://cdnjs.cloudflare.com/ajax/libs/3Dmol/2.0.3/3Dmol-min.js');\n}\n\nvar viewer_16913386579382975 = null;\nvar warn = document.getElementById(\"3dmolwarning_16913386579382975\");\nif(warn) {\n    warn.parentNode.removeChild(warn);\n}\n$3Dmolpromise.then(function() {\nviewer_16913386579382975 = $3Dmol.createViewer(document.getElementById(\"3dmolviewer_16913386579382975\"),{backgroundColor:\"white\"});\nviewer_16913386579382975.addModel(\"5\\nuDGP instance\\nC    0.0000    0.0000    0.0000\\nC    2.1360    -0.3120    1.1560\\nC    0.8430    0.4490    1.1560\\nC    3.0070    0.1830    2.2730\\nC    0.7400    0.1830    -1.2920\");\nviewer_16913386579382975.zoomTo();\n\tviewer_16913386579382975.setBackgroundColor(\"#000000\",0.2);\n\tviewer_16913386579382975.setStyle({\"stick\": {\"radius\": 0.1, \"color\": \"#cbd5e1\"}, \"sphere\": {\"scale\": 0.2, \"color\": \"#60a5fa\"}});\nviewer_16913386579382975.render();\n});\n</script>",
      "text/html": [
       "<div id=\"3dmolviewer_16913386579382975\"  style=\"position: relative; width: 400px; height: 350px;\">\n",
       "        <p id=\"3dmolwarning_16913386579382975\" style=\"background-color:#ffcccc;color:black\">You appear to be running in JupyterLab (or JavaScript failed to load for some other reason).  You need to install the 3dmol extension: <br>\n",
       "        <tt>jupyter labextension install jupyterlab_3dmol</tt></p>\n",
       "        </div>\n",
       "<script>\n",
       "\n",
       "var loadScriptAsync = function(uri){\n",
       "  return new Promise((resolve, reject) => {\n",
       "    //this is to ignore the existence of requirejs amd\n",
       "    var savedexports, savedmodule;\n",
       "    if (typeof exports !== 'undefined') savedexports = exports;\n",
       "    else exports = {}\n",
       "    if (typeof module !== 'undefined') savedmodule = module;\n",
       "    else module = {}\n",
       "\n",
       "    var tag = document.createElement('script');\n",
       "    tag.src = uri;\n",
       "    tag.async = true;\n",
       "    tag.onload = () => {\n",
       "        exports = savedexports;\n",
       "        module = savedmodule;\n",
       "        resolve();\n",
       "    };\n",
       "  var firstScriptTag = document.getElementsByTagName('script')[0];\n",
       "  firstScriptTag.parentNode.insertBefore(tag, firstScriptTag);\n",
       "});\n",
       "};\n",
       "\n",
       "if(typeof $3Dmolpromise === 'undefined') {\n",
       "$3Dmolpromise = null;\n",
       "  $3Dmolpromise = loadScriptAsync('https://cdnjs.cloudflare.com/ajax/libs/3Dmol/2.0.3/3Dmol-min.js');\n",
       "}\n",
       "\n",
       "var viewer_16913386579382975 = null;\n",
       "var warn = document.getElementById(\"3dmolwarning_16913386579382975\");\n",
       "if(warn) {\n",
       "    warn.parentNode.removeChild(warn);\n",
       "}\n",
       "$3Dmolpromise.then(function() {\n",
       "viewer_16913386579382975 = $3Dmol.createViewer(document.getElementById(\"3dmolviewer_16913386579382975\"),{backgroundColor:\"white\"});\n",
       "viewer_16913386579382975.addModel(\"5\\nuDGP instance\\nC    0.0000    0.0000    0.0000\\nC    2.1360    -0.3120    1.1560\\nC    0.8430    0.4490    1.1560\\nC    3.0070    0.1830    2.2730\\nC    0.7400    0.1830    -1.2920\");\n",
       "viewer_16913386579382975.zoomTo();\n",
       "\tviewer_16913386579382975.setBackgroundColor(\"#000000\",0.2);\n",
       "\tviewer_16913386579382975.setStyle({\"stick\": {\"radius\": 0.1, \"color\": \"#cbd5e1\"}, \"sphere\": {\"scale\": 0.2, \"color\": \"#60a5fa\"}});\n",
       "viewer_16913386579382975.render();\n",
       "});\n",
       "</script>"
      ]
     },
     "metadata": {},
     "output_type": "display_data"
    },
    {
     "data": {
      "text/plain": [
       "<py3Dmol.view at 0x7f8b85172ad0>"
      ]
     },
     "execution_count": 4,
     "metadata": {},
     "output_type": "execute_result"
    }
   ],
   "source": [
    "print(instance.is_solved())\n",
    "instance.view()"
   ]
  }
 ],
 "metadata": {
  "kernelspec": {
   "display_name": "venv",
   "language": "python",
   "name": "python3"
  },
  "language_info": {
   "codemirror_mode": {
    "name": "ipython",
    "version": 3
   },
   "file_extension": ".py",
   "mimetype": "text/x-python",
   "name": "python",
   "nbconvert_exporter": "python",
   "pygments_lexer": "ipython3",
   "version": "3.11.4"
  },
  "orig_nbformat": 4
 },
 "nbformat": 4,
 "nbformat_minor": 2
}
