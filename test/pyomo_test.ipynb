{
 "cells": [
  {
   "cell_type": "markdown",
   "metadata": {},
   "source": [
    "# Teste pyomo"
   ]
  },
  {
   "cell_type": "code",
   "execution_count": 80,
   "metadata": {},
   "outputs": [],
   "source": [
    "import numpy as np\n",
    "from udgp import Instance"
   ]
  },
  {
   "cell_type": "code",
   "execution_count": 81,
   "metadata": {},
   "outputs": [
    {
     "data": {
      "application/3dmoljs_load.v0": "<div id=\"3dmolviewer_16911810409477148\"  style=\"position: relative; width: 400px; height: 350px;\">\n        <p id=\"3dmolwarning_16911810409477148\" style=\"background-color:#ffcccc;color:black\">You appear to be running in JupyterLab (or JavaScript failed to load for some other reason).  You need to install the 3dmol extension: <br>\n        <tt>jupyter labextension install jupyterlab_3dmol</tt></p>\n        </div>\n<script>\n\nvar loadScriptAsync = function(uri){\n  return new Promise((resolve, reject) => {\n    //this is to ignore the existence of requirejs amd\n    var savedexports, savedmodule;\n    if (typeof exports !== 'undefined') savedexports = exports;\n    else exports = {}\n    if (typeof module !== 'undefined') savedmodule = module;\n    else module = {}\n\n    var tag = document.createElement('script');\n    tag.src = uri;\n    tag.async = true;\n    tag.onload = () => {\n        exports = savedexports;\n        module = savedmodule;\n        resolve();\n    };\n  var firstScriptTag = document.getElementsByTagName('script')[0];\n  firstScriptTag.parentNode.insertBefore(tag, firstScriptTag);\n});\n};\n\nif(typeof $3Dmolpromise === 'undefined') {\n$3Dmolpromise = null;\n  $3Dmolpromise = loadScriptAsync('https://cdnjs.cloudflare.com/ajax/libs/3Dmol/2.0.3/3Dmol-min.js');\n}\n\nvar viewer_16911810409477148 = null;\nvar warn = document.getElementById(\"3dmolwarning_16911810409477148\");\nif(warn) {\n    warn.parentNode.removeChild(warn);\n}\n$3Dmolpromise.then(function() {\nviewer_16911810409477148 = $3Dmol.createViewer(document.getElementById(\"3dmolviewer_16911810409477148\"),{backgroundColor:\"white\"});\nviewer_16911810409477148.addModel(\"5\\nuDGP instance\\nC    0.0000    0.0000    0.0000\\nC    -1.5000    0.0000    0.0000\\nC    -2.0000    1.4141    0.0000\\nC    -1.5000    2.1211    -1.2246\\nC    -2.0000    3.5352    -1.2246\");\nviewer_16911810409477148.zoomTo();\n\tviewer_16911810409477148.setBackgroundColor(\"#000000\",0.2);\n\tviewer_16911810409477148.setStyle({\"stick\": {\"radius\": 0.1, \"color\": \"#cbd5e1\"}, \"sphere\": {\"scale\": 0.2, \"color\": \"#60a5fa\"}});\nviewer_16911810409477148.render();\n});\n</script>",
      "text/html": [
       "<div id=\"3dmolviewer_16911810409477148\"  style=\"position: relative; width: 400px; height: 350px;\">\n",
       "        <p id=\"3dmolwarning_16911810409477148\" style=\"background-color:#ffcccc;color:black\">You appear to be running in JupyterLab (or JavaScript failed to load for some other reason).  You need to install the 3dmol extension: <br>\n",
       "        <tt>jupyter labextension install jupyterlab_3dmol</tt></p>\n",
       "        </div>\n",
       "<script>\n",
       "\n",
       "var loadScriptAsync = function(uri){\n",
       "  return new Promise((resolve, reject) => {\n",
       "    //this is to ignore the existence of requirejs amd\n",
       "    var savedexports, savedmodule;\n",
       "    if (typeof exports !== 'undefined') savedexports = exports;\n",
       "    else exports = {}\n",
       "    if (typeof module !== 'undefined') savedmodule = module;\n",
       "    else module = {}\n",
       "\n",
       "    var tag = document.createElement('script');\n",
       "    tag.src = uri;\n",
       "    tag.async = true;\n",
       "    tag.onload = () => {\n",
       "        exports = savedexports;\n",
       "        module = savedmodule;\n",
       "        resolve();\n",
       "    };\n",
       "  var firstScriptTag = document.getElementsByTagName('script')[0];\n",
       "  firstScriptTag.parentNode.insertBefore(tag, firstScriptTag);\n",
       "});\n",
       "};\n",
       "\n",
       "if(typeof $3Dmolpromise === 'undefined') {\n",
       "$3Dmolpromise = null;\n",
       "  $3Dmolpromise = loadScriptAsync('https://cdnjs.cloudflare.com/ajax/libs/3Dmol/2.0.3/3Dmol-min.js');\n",
       "}\n",
       "\n",
       "var viewer_16911810409477148 = null;\n",
       "var warn = document.getElementById(\"3dmolwarning_16911810409477148\");\n",
       "if(warn) {\n",
       "    warn.parentNode.removeChild(warn);\n",
       "}\n",
       "$3Dmolpromise.then(function() {\n",
       "viewer_16911810409477148 = $3Dmol.createViewer(document.getElementById(\"3dmolviewer_16911810409477148\"),{backgroundColor:\"white\"});\n",
       "viewer_16911810409477148.addModel(\"5\\nuDGP instance\\nC    0.0000    0.0000    0.0000\\nC    -1.5000    0.0000    0.0000\\nC    -2.0000    1.4141    0.0000\\nC    -1.5000    2.1211    -1.2246\\nC    -2.0000    3.5352    -1.2246\");\n",
       "viewer_16911810409477148.zoomTo();\n",
       "\tviewer_16911810409477148.setBackgroundColor(\"#000000\",0.2);\n",
       "\tviewer_16911810409477148.setStyle({\"stick\": {\"radius\": 0.1, \"color\": \"#cbd5e1\"}, \"sphere\": {\"scale\": 0.2, \"color\": \"#60a5fa\"}});\n",
       "viewer_16911810409477148.render();\n",
       "});\n",
       "</script>"
      ]
     },
     "metadata": {},
     "output_type": "display_data"
    },
    {
     "data": {
      "text/plain": [
       "<py3Dmol.view at 0x7f140c8682d0>"
      ]
     },
     "execution_count": 81,
     "metadata": {},
     "output_type": "execute_result"
    }
   ],
   "source": [
    "instance = Instance.artificial_molecule(5, freq=True, seed=123456)\n",
    "instance.view_input()"
   ]
  },
  {
   "cell_type": "code",
   "execution_count": 82,
   "metadata": {},
   "outputs": [],
   "source": [
    "import pyomo.environ as pyo"
   ]
  },
  {
   "cell_type": "code",
   "execution_count": 83,
   "metadata": {},
   "outputs": [
    {
     "name": "stdout",
     "output_type": "stream",
     "text": [
      "((0, 1), (0, 2), (0, 3), (0, 4), (1, 2), (1, 3), (1, 4), (2, 3), (2, 4), (3, 4))\n"
     ]
    }
   ],
   "source": [
    "model = pyo.ConcreteModel()\n",
    "\n",
    "instance.reset()\n",
    "\n",
    "model.n = pyo.Param(initialize=instance.n)\n",
    "model.m = pyo.Param(initialize=instance.m)\n",
    "\n",
    "## CONJUNTOS\n",
    "ny = 1\n",
    "rng = np.random.default_rng()\n",
    "y_indices = rng.choice(instance.fixed_n, ny, replace=False)\n",
    "\n",
    "nx = 4\n",
    "x_indices = np.arange(instance.fixed_n, nx + instance.fixed_n)\n",
    "\n",
    "model.Iy = pyo.Set(initialize=y_indices)\n",
    "model.Ix = pyo.Set(initialize=x_indices)\n",
    "model.I = model.Iy | model.Ix\n",
    "\n",
    "k = np.arange(instance.m)[instance.freqs != 0]\n",
    "model.K = pyo.Set(initialize=k)\n",
    "\n",
    "model.IJxx = pyo.Set(\n",
    "    within=model.Ix * model.Ix,\n",
    "    initialize=((i, j) for i in model.Ix for j in model.Ix if i < j),\n",
    ")\n",
    "model.IJyx = pyo.Set(\n",
    "    initialize=model.Iy * model.Ix\n",
    ")\n",
    "model.IJ = model.IJyx | model.IJxx\n",
    "\n",
    "print(model.IJ.data())\n"
   ]
  },
  {
   "cell_type": "code",
   "execution_count": 67,
   "metadata": {},
   "outputs": [],
   "source": [
    "model.L = pyo.Set(initialize=[0, 1, 2])\n",
    "\n",
    "## PARÂMETROS\n",
    "model.max_gap = pyo.Param(initialize=0.01)\n",
    "\n",
    "model.d_max = pyo.Param(initialize=instance.dists.max())\n",
    "model.d_min = pyo.Param(initialize=instance.dists.min())\n",
    "\n",
    "model.dists = pyo.Param(\n",
    "    model.K, \n",
    "    within=pyo.PositiveReals, \n",
    "    initialize=instance.dists\n",
    ")\n",
    "model.freqs = pyo.Param(\n",
    "    model.K, \n",
    "    within=pyo.NonNegativeIntegers, \n",
    "    initialize=instance.freqs,\n",
    ")\n",
    "\n",
    "model.y = pyo.Param(\n",
    "    model.Iy, \n",
    "    model.L, \n",
    "    within=pyo.Reals,\n",
    "    initialize={(i, l): instance.points[i, l] for l in model.L for i in model.Iy}\n",
    ")\n",
    "\n",
    "## VARIÁVEIS BASE\n",
    "model.a = pyo.Var(\n",
    "    model.IJ, \n",
    "    model.K, \n",
    "    within=pyo.Binary,\n",
    ")\n",
    "model.x = pyo.Var(\n",
    "    model.Ix, \n",
    "    model.L, \n",
    "    within=pyo.Reals\n",
    ")\n",
    "model.v = pyo.Var(\n",
    "    model.IJ, \n",
    "    model.L, \n",
    "    within=pyo.Reals\n",
    ")\n",
    "model.r = pyo.Var(\n",
    "    model.IJ, \n",
    "    within=pyo.NonNegativeReals,\n",
    "    bounds=(model.d_min, model.d_max),\n",
    ")\n",
    "\n",
    "## VARIÁVEIS MACULAN\n",
    "model.p = pyo.Var(\n",
    "    model.IJ, \n",
    "    model.K, \n",
    "    within=pyo.Reals,\n",
    "    bounds=(-model.max_gap, model.max_gap),\n",
    ")\n",
    "model.w = pyo.Var(\n",
    "    model.IJ, \n",
    "    model.K, \n",
    "    within=pyo.NonNegativeReals,\n",
    "    bounds=(0, model.max_gap),\n",
    ")\n",
    "model.z = pyo.Var(\n",
    "    model.IJ, \n",
    "    model.K, \n",
    "    within=pyo.NonNegativeReals,\n",
    "    bounds=(0, model.d_max),\n",
    ")\n",
    "\n"
   ]
  },
  {
   "cell_type": "code",
   "execution_count": 73,
   "metadata": {},
   "outputs": [],
   "source": [
    "## RESTRIÇÕES BASE\n",
    "@model.Constraint(model.K)\n",
    "def constr_a1(model, k):\n",
    "    return sum(model.a[i, j, k] for i, j in model.IJ) <= model.freqs[k]\n",
    "\n",
    "\n",
    "@model.Constraint(model.IJ)\n",
    "def constr_a2(model, i, j):\n",
    "    return sum(model.a[i, j, k] for k in model.K) == 1\n",
    "\n",
    "\n",
    "@model.Constraint(model.IJxx, model.L)\n",
    "def constr_vxx(model, i, j, l):\n",
    "    return model.v[i, j, l] == model.x[j, l] - model.x[i, l]\n",
    "\n",
    "\n",
    "@model.Constraint(model.IJyx, model.L)\n",
    "def constr_vxy(model, i, j, l):\n",
    "    return model.v[i, j, l] == model.y[i, l] - model.x[j, l]\n",
    "\n",
    "\n",
    "@model.Constraint(model.IJ)\n",
    "def constr_r(model, i, j):\n",
    "    return model.r[i, j] ** 2 == sum(model.v[i, j, l] ** 2 for l in model.L)\n",
    "\n",
    "\n",
    "## RESTRIÇÕES MACULAN\n",
    "@model.Constraint(model.IJ, model.K)\n",
    "def constr_x1(model, i, j, k):\n",
    "    return model.w[i, j, k] >= model.p[i, j, k]\n",
    "\n",
    "\n",
    "@model.Constraint(model.IJ, model.K)\n",
    "def constr_x2(model, i, j, k):\n",
    "    return model.w[i, j, k] >= -model.p[i, j, k]\n",
    "\n",
    "\n",
    "@model.Constraint(model.IJ, model.K)\n",
    "def constr_x3(model, i, j, k):\n",
    "    return model.z[i, j, k] >= model.r[i, j] - model.d_max * (1 - model.a[i, j, k])\n",
    "\n",
    "\n",
    "@model.Constraint(model.IJ, model.K)\n",
    "def constr_x4(model, i, j, k):\n",
    "    return model.z[i, j, k] <= model.r[i, j] + model.d_max * (1 - model.a[i, j, k])\n",
    "\n",
    "\n",
    "@model.Constraint(model.IJ, model.K)\n",
    "def constr_x5(model, i, j, k):\n",
    "    return model.z[i, j, k] >= -model.d_max * model.a[i, j, k]\n",
    "\n",
    "\n",
    "@model.Constraint(model.IJ, model.K)\n",
    "def constr_x6(model, i, j, k):\n",
    "    return model.z[i, j, k] <= model.d_max * model.a[i, j, k]\n",
    "\n",
    "\n",
    "@model.Constraint(model.IJ, model.K)\n",
    "def constr_x7(model, i, j, k):\n",
    "    return model.z[i, j, k] >= model.dists[k] + model.p[i, j, k] - model.d_max * (1 - model.a[i, j, k])\n",
    "\n",
    "\n",
    "@model.Constraint(model.IJ, model.K)\n",
    "def constr_x8(model, i, j, k):\n",
    "    return model.z[i, j, k] <= model.dists[k] + model.p[i, j, k] + model.d_max * (1 - model.a[i, j, k])\n",
    "\n",
    "# @model.Constraint(model.IJ, model.K)\n",
    "# def constr_x9(model, i, j, k):\n",
    "#     return model.w[i, j, k] <= model.dists[k] * 0.05\n",
    "\n",
    "\n",
    "## OBJETIVO\n",
    "@model.Objective(sense=pyo.minimize)\n",
    "def objective(model):\n",
    "    return 1 + pyo.summation(model.w)\n"
   ]
  },
  {
   "cell_type": "code",
   "execution_count": 74,
   "metadata": {},
   "outputs": [
    {
     "name": "stdout",
     "output_type": "stream",
     "text": [
      "0.1\n"
     ]
    }
   ],
   "source": [
    "print(model.max_gap * len(list(model.IJ.data())))"
   ]
  },
  {
   "cell_type": "code",
   "execution_count": 79,
   "metadata": {},
   "outputs": [
    {
     "name": "stdout",
     "output_type": "stream",
     "text": [
      "        0.05 seconds required for presolve\n",
      "Set parameter NonConvex to value 2\n",
      "Set parameter MIPGap to value 0.1\n",
      "Set parameter IntFeasTol to value 0.0001\n",
      "Set parameter FeasibilityTol to value 0.0001\n",
      "Set parameter OptimalityTol to value 0.0001\n",
      "Gurobi Optimizer version 10.0.2 build v10.0.2rc0 (linux64)\n",
      "\n",
      "CPU model: Intel(R) Core(TM) i7-10510U CPU @ 1.80GHz, instruction set [SSE2|AVX|AVX2]\n",
      "Thread count: 4 physical cores, 8 logical processors, using up to 8 threads\n",
      "\n",
      "Optimize a model with 445 rows, 252 columns and 1178 nonzeros\n",
      "Model fingerprint: 0x256f6729\n",
      "Model has 10 quadratic constraints\n",
      "Variable types: 202 continuous, 50 integer (50 binary)\n",
      "Coefficient statistics:\n",
      "  Matrix range     [1e+00, 4e+00]\n",
      "  QMatrix range    [1e+00, 1e+00]\n",
      "  Objective range  [1e+00, 1e+00]\n",
      "  Bounds range     [1e-02, 4e+00]\n",
      "  RHS range        [5e-01, 8e+00]\n",
      "Presolve removed 82 rows and 22 columns\n",
      "Presolve time: 0.01s\n",
      "Presolved: 493 rows, 270 columns, 1564 nonzeros\n",
      "Presolved model has 40 bilinear constraint(s)\n",
      "Variable types: 220 continuous, 50 integer (50 binary)\n",
      "\n",
      "Root relaxation: objective 1.000000e+00, 233 iterations, 0.00 seconds (0.00 work units)\n",
      "\n",
      "    Nodes    |    Current Node    |     Objective Bounds      |     Work\n",
      " Expl Unexpl |  Obj  Depth IntInf | Incumbent    BestBd   Gap | It/Node Time\n",
      "\n",
      "     0     0    1.00000    0   31          -    1.00000      -     -    0s\n",
      "     0     0    1.00000    0   30          -    1.00000      -     -    0s\n",
      "     0     0    1.00000    0   29          -    1.00000      -     -    0s\n",
      "     0     0    1.00000    0   29          -    1.00000      -     -    0s\n",
      "     0     0    1.00000    0   29          -    1.00000      -     -    0s\n",
      "     0     0    1.00000    0   29          -    1.00000      -     -    0s\n",
      "     0     2    1.00000    0   29          -    1.00000      -     -    0s\n",
      "* 7123  3159              72       1.0155026    1.00000  1.53%  34.6    2s\n",
      "* 7325  3114              91       1.0092751    1.00000  0.92%  34.5    2s\n",
      "\n",
      "Cutting planes:\n",
      "  Implied bound: 5\n",
      "  RLT: 3\n",
      "  Relax-and-lift: 1\n",
      "\n",
      "Explored 7697 nodes (263522 simplex iterations) in 2.41 seconds (1.36 work units)\n",
      "Thread count was 8 (of 8 available processors)\n",
      "\n",
      "Solution count 2: 1.00928 1.0155 \n",
      "\n",
      "Optimal solution found (tolerance 1.00e-01)\n",
      "Warning: max constraint violation (1.1871e-04) exceeds tolerance\n",
      "Best objective 1.009275146505e+00, best bound 1.000000000000e+00, gap 0.9190%\n",
      "        2.43 seconds required for solver\n",
      "        0.00 seconds required for postsolve\n"
     ]
    },
    {
     "data": {
      "text/plain": [
       "{'Problem': [{'Name': 'unknown', 'Lower bound': 1.0, 'Upper bound': 1.009275146505341, 'Number of objectives': 1, 'Number of constraints': 455, 'Number of variables': 252, 'Number of binary variables': 50, 'Number of integer variables': 50, 'Number of continuous variables': 152, 'Number of nonzeros': 1178, 'Sense': 1, 'Number of solutions': 2}], 'Solver': [{'Name': 'Gurobi 10.02', 'Status': 'ok', 'Wallclock time': 2.4283699989318848, 'Termination condition': 'optimal', 'Termination message': 'Model was solved to optimality (subject to tolerances), and an optimal solution is available.'}], 'Solution': [OrderedDict([('number of solutions', 0), ('number of solutions displayed', 0)])]}"
      ]
     },
     "execution_count": 79,
     "metadata": {},
     "output_type": "execute_result"
    }
   ],
   "source": [
    "instance.reset()\n",
    "\n",
    "opt = pyo.SolverFactory('gurobi_direct')\n",
    "\n",
    "opt.options['NonConvex'] = 2\n",
    "opt.options['MIPGap'] = 0.1\n",
    "opt.options['IntFeasTol'] = 1e-4\n",
    "opt.options['FeasibilityTol'] = 1e-4\n",
    "opt.options['OptimalityTol'] = 1e-4\n",
    "\n",
    "opt.solve(model, tee=True, report_timing=True)\n"
   ]
  },
  {
   "cell_type": "code",
   "execution_count": 76,
   "metadata": {},
   "outputs": [
    {
     "name": "stdout",
     "output_type": "stream",
     "text": [
      "[[ 0.22104264  2.02085224  1.3660297 ]\n",
      " [-1.42247456  3.8236759   1.14852052]\n",
      " [ 0.56447485  2.80972309  0.13733234]\n",
      " [ 0.02986435  3.50858413  1.35216596]]\n"
     ]
    }
   ],
   "source": [
    "points = np.array([[model.x[i, l].value for l in model.L] for i in model.Ix])\n",
    "print(points)"
   ]
  },
  {
   "cell_type": "code",
   "execution_count": 77,
   "metadata": {},
   "outputs": [
    {
     "data": {
      "text/plain": [
       "True"
      ]
     },
     "execution_count": 77,
     "metadata": {},
     "output_type": "execute_result"
    }
   ],
   "source": [
    "instance.add_points(points)"
   ]
  },
  {
   "cell_type": "code",
   "execution_count": 78,
   "metadata": {},
   "outputs": [
    {
     "name": "stdout",
     "output_type": "stream",
     "text": [
      "True\n"
     ]
    },
    {
     "data": {
      "application/3dmoljs_load.v0": "<div id=\"3dmolviewer_16911797022026262\"  style=\"position: relative; width: 400px; height: 350px;\">\n        <p id=\"3dmolwarning_16911797022026262\" style=\"background-color:#ffcccc;color:black\">You appear to be running in JupyterLab (or JavaScript failed to load for some other reason).  You need to install the 3dmol extension: <br>\n        <tt>jupyter labextension install jupyterlab_3dmol</tt></p>\n        </div>\n<script>\n\nvar loadScriptAsync = function(uri){\n  return new Promise((resolve, reject) => {\n    //this is to ignore the existence of requirejs amd\n    var savedexports, savedmodule;\n    if (typeof exports !== 'undefined') savedexports = exports;\n    else exports = {}\n    if (typeof module !== 'undefined') savedmodule = module;\n    else module = {}\n\n    var tag = document.createElement('script');\n    tag.src = uri;\n    tag.async = true;\n    tag.onload = () => {\n        exports = savedexports;\n        module = savedmodule;\n        resolve();\n    };\n  var firstScriptTag = document.getElementsByTagName('script')[0];\n  firstScriptTag.parentNode.insertBefore(tag, firstScriptTag);\n});\n};\n\nif(typeof $3Dmolpromise === 'undefined') {\n$3Dmolpromise = null;\n  $3Dmolpromise = loadScriptAsync('https://cdnjs.cloudflare.com/ajax/libs/3Dmol/2.0.3/3Dmol-min.js');\n}\n\nvar viewer_16911797022026262 = null;\nvar warn = document.getElementById(\"3dmolwarning_16911797022026262\");\nif(warn) {\n    warn.parentNode.removeChild(warn);\n}\n$3Dmolpromise.then(function() {\nviewer_16911797022026262 = $3Dmol.createViewer(document.getElementById(\"3dmolviewer_16911797022026262\"),{backgroundColor:\"white\"});\nviewer_16911797022026262.addModel(\"5\\nuDGP instance\\nC    0.0000    0.0000    0.0000\\nC    0.2210    2.0210    1.3660\\nC    -1.4220    3.8240    1.1490\\nC    0.5640    2.8100    0.1370\\nC    0.0300    3.5090    1.3520\");\nviewer_16911797022026262.zoomTo();\n\tviewer_16911797022026262.setBackgroundColor(\"#000000\",0.2);\n\tviewer_16911797022026262.setStyle({\"stick\": {\"radius\": 0.1, \"color\": \"#cbd5e1\"}, \"sphere\": {\"scale\": 0.2, \"color\": \"#60a5fa\"}});\nviewer_16911797022026262.render();\n});\n</script>",
      "text/html": [
       "<div id=\"3dmolviewer_16911797022026262\"  style=\"position: relative; width: 400px; height: 350px;\">\n",
       "        <p id=\"3dmolwarning_16911797022026262\" style=\"background-color:#ffcccc;color:black\">You appear to be running in JupyterLab (or JavaScript failed to load for some other reason).  You need to install the 3dmol extension: <br>\n",
       "        <tt>jupyter labextension install jupyterlab_3dmol</tt></p>\n",
       "        </div>\n",
       "<script>\n",
       "\n",
       "var loadScriptAsync = function(uri){\n",
       "  return new Promise((resolve, reject) => {\n",
       "    //this is to ignore the existence of requirejs amd\n",
       "    var savedexports, savedmodule;\n",
       "    if (typeof exports !== 'undefined') savedexports = exports;\n",
       "    else exports = {}\n",
       "    if (typeof module !== 'undefined') savedmodule = module;\n",
       "    else module = {}\n",
       "\n",
       "    var tag = document.createElement('script');\n",
       "    tag.src = uri;\n",
       "    tag.async = true;\n",
       "    tag.onload = () => {\n",
       "        exports = savedexports;\n",
       "        module = savedmodule;\n",
       "        resolve();\n",
       "    };\n",
       "  var firstScriptTag = document.getElementsByTagName('script')[0];\n",
       "  firstScriptTag.parentNode.insertBefore(tag, firstScriptTag);\n",
       "});\n",
       "};\n",
       "\n",
       "if(typeof $3Dmolpromise === 'undefined') {\n",
       "$3Dmolpromise = null;\n",
       "  $3Dmolpromise = loadScriptAsync('https://cdnjs.cloudflare.com/ajax/libs/3Dmol/2.0.3/3Dmol-min.js');\n",
       "}\n",
       "\n",
       "var viewer_16911797022026262 = null;\n",
       "var warn = document.getElementById(\"3dmolwarning_16911797022026262\");\n",
       "if(warn) {\n",
       "    warn.parentNode.removeChild(warn);\n",
       "}\n",
       "$3Dmolpromise.then(function() {\n",
       "viewer_16911797022026262 = $3Dmol.createViewer(document.getElementById(\"3dmolviewer_16911797022026262\"),{backgroundColor:\"white\"});\n",
       "viewer_16911797022026262.addModel(\"5\\nuDGP instance\\nC    0.0000    0.0000    0.0000\\nC    0.2210    2.0210    1.3660\\nC    -1.4220    3.8240    1.1490\\nC    0.5640    2.8100    0.1370\\nC    0.0300    3.5090    1.3520\");\n",
       "viewer_16911797022026262.zoomTo();\n",
       "\tviewer_16911797022026262.setBackgroundColor(\"#000000\",0.2);\n",
       "\tviewer_16911797022026262.setStyle({\"stick\": {\"radius\": 0.1, \"color\": \"#cbd5e1\"}, \"sphere\": {\"scale\": 0.2, \"color\": \"#60a5fa\"}});\n",
       "viewer_16911797022026262.render();\n",
       "});\n",
       "</script>"
      ]
     },
     "metadata": {},
     "output_type": "display_data"
    },
    {
     "data": {
      "text/plain": [
       "<py3Dmol.view at 0x7f140ca3e550>"
      ]
     },
     "execution_count": 78,
     "metadata": {},
     "output_type": "execute_result"
    }
   ],
   "source": [
    "print(instance.is_solved())\n",
    "instance.view()"
   ]
  }
 ],
 "metadata": {
  "kernelspec": {
   "display_name": "venv",
   "language": "python",
   "name": "python3"
  },
  "language_info": {
   "codemirror_mode": {
    "name": "ipython",
    "version": 3
   },
   "file_extension": ".py",
   "mimetype": "text/x-python",
   "name": "python",
   "nbconvert_exporter": "python",
   "pygments_lexer": "ipython3",
   "version": "3.11.4"
  },
  "orig_nbformat": 4
 },
 "nbformat": 4,
 "nbformat_minor": 2
}
