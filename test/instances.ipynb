{
 "cells": [
  {
   "cell_type": "markdown",
   "metadata": {},
   "source": [
    "# Geração de instâncias"
   ]
  },
  {
   "cell_type": "code",
   "execution_count": 59,
   "metadata": {},
   "outputs": [
    {
     "data": {
      "application/3dmoljs_load.v0": "<div id=\"3dmolviewer_16900426055248811\"  style=\"position: relative; width: 300px; height: 300px;\">\n        <p id=\"3dmolwarning_16900426055248811\" style=\"background-color:#ffcccc;color:black\">You appear to be running in JupyterLab (or JavaScript failed to load for some other reason).  You need to install the 3dmol extension: <br>\n        <tt>jupyter labextension install jupyterlab_3dmol</tt></p>\n        </div>\n<script>\n\nvar loadScriptAsync = function(uri){\n  return new Promise((resolve, reject) => {\n    //this is to ignore the existence of requirejs amd\n    var savedexports, savedmodule;\n    if (typeof exports !== 'undefined') savedexports = exports;\n    else exports = {}\n    if (typeof module !== 'undefined') savedmodule = module;\n    else module = {}\n\n    var tag = document.createElement('script');\n    tag.src = uri;\n    tag.async = true;\n    tag.onload = () => {\n        exports = savedexports;\n        module = savedmodule;\n        resolve();\n    };\n  var firstScriptTag = document.getElementsByTagName('script')[0];\n  firstScriptTag.parentNode.insertBefore(tag, firstScriptTag);\n});\n};\n\nif(typeof $3Dmolpromise === 'undefined') {\n$3Dmolpromise = null;\n  $3Dmolpromise = loadScriptAsync('https://cdnjs.cloudflare.com/ajax/libs/3Dmol/2.0.3/3Dmol-min.js');\n}\n\nvar viewer_16900426055248811 = null;\nvar warn = document.getElementById(\"3dmolwarning_16900426055248811\");\nif(warn) {\n    warn.parentNode.removeChild(warn);\n}\n$3Dmolpromise.then(function() {\nviewer_16900426055248811 = $3Dmol.createViewer(document.getElementById(\"3dmolviewer_16900426055248811\"),{backgroundColor:\"white\"});\nviewer_16900426055248811.addModel(\"7\\nuDGP instance\\nC    0.0000    0.0000    0.0000\\nC    -1.5000    0.0000    0.0000\\nC    -2.0000    1.4142    0.0000\\nC    -1.5000    2.1213    -1.2247\\nC    -2.0000    3.5355    -1.2247\\nC    -1.5000    4.2426    -2.4495\\nC    -2.0000    5.6569    -2.4495\");\nviewer_16900426055248811.zoomTo();\n\tviewer_16900426055248811.setBackgroundColor(\"#000000\",0.2);\n\tviewer_16900426055248811.setStyle({\"stick\": {\"radius\": 0.1}, \"sphere\": {\"scale\": 0.2}});\nviewer_16900426055248811.render();\n});\n</script>",
      "text/html": [
       "<div id=\"3dmolviewer_16900426055248811\"  style=\"position: relative; width: 300px; height: 300px;\">\n",
       "        <p id=\"3dmolwarning_16900426055248811\" style=\"background-color:#ffcccc;color:black\">You appear to be running in JupyterLab (or JavaScript failed to load for some other reason).  You need to install the 3dmol extension: <br>\n",
       "        <tt>jupyter labextension install jupyterlab_3dmol</tt></p>\n",
       "        </div>\n",
       "<script>\n",
       "\n",
       "var loadScriptAsync = function(uri){\n",
       "  return new Promise((resolve, reject) => {\n",
       "    //this is to ignore the existence of requirejs amd\n",
       "    var savedexports, savedmodule;\n",
       "    if (typeof exports !== 'undefined') savedexports = exports;\n",
       "    else exports = {}\n",
       "    if (typeof module !== 'undefined') savedmodule = module;\n",
       "    else module = {}\n",
       "\n",
       "    var tag = document.createElement('script');\n",
       "    tag.src = uri;\n",
       "    tag.async = true;\n",
       "    tag.onload = () => {\n",
       "        exports = savedexports;\n",
       "        module = savedmodule;\n",
       "        resolve();\n",
       "    };\n",
       "  var firstScriptTag = document.getElementsByTagName('script')[0];\n",
       "  firstScriptTag.parentNode.insertBefore(tag, firstScriptTag);\n",
       "});\n",
       "};\n",
       "\n",
       "if(typeof $3Dmolpromise === 'undefined') {\n",
       "$3Dmolpromise = null;\n",
       "  $3Dmolpromise = loadScriptAsync('https://cdnjs.cloudflare.com/ajax/libs/3Dmol/2.0.3/3Dmol-min.js');\n",
       "}\n",
       "\n",
       "var viewer_16900426055248811 = null;\n",
       "var warn = document.getElementById(\"3dmolwarning_16900426055248811\");\n",
       "if(warn) {\n",
       "    warn.parentNode.removeChild(warn);\n",
       "}\n",
       "$3Dmolpromise.then(function() {\n",
       "viewer_16900426055248811 = $3Dmol.createViewer(document.getElementById(\"3dmolviewer_16900426055248811\"),{backgroundColor:\"white\"});\n",
       "viewer_16900426055248811.addModel(\"7\\nuDGP instance\\nC    0.0000    0.0000    0.0000\\nC    -1.5000    0.0000    0.0000\\nC    -2.0000    1.4142    0.0000\\nC    -1.5000    2.1213    -1.2247\\nC    -2.0000    3.5355    -1.2247\\nC    -1.5000    4.2426    -2.4495\\nC    -2.0000    5.6569    -2.4495\");\n",
       "viewer_16900426055248811.zoomTo();\n",
       "\tviewer_16900426055248811.setBackgroundColor(\"#000000\",0.2);\n",
       "\tviewer_16900426055248811.setStyle({\"stick\": {\"radius\": 0.1}, \"sphere\": {\"scale\": 0.2}});\n",
       "viewer_16900426055248811.render();\n",
       "});\n",
       "</script>"
      ]
     },
     "metadata": {},
     "output_type": "display_data"
    },
    {
     "data": {
      "text/plain": [
       "<py3Dmol.view at 0x7f5b207f2890>"
      ]
     },
     "execution_count": 59,
     "metadata": {},
     "output_type": "execute_result"
    }
   ],
   "source": [
    "from udgp import M4, generate_random_instance\n",
    "\n",
    "# cicloexano: seed 144\n",
    "\n",
    "N = 7\n",
    "instance = generate_random_instance(N)\n",
    "instance.view_input()"
   ]
  },
  {
   "cell_type": "code",
   "execution_count": 60,
   "metadata": {},
   "outputs": [
    {
     "name": "stdout",
     "output_type": "stream",
     "text": [
      "Set parameter WLSAccessID\n",
      "Set parameter WLSSecret\n",
      "Set parameter LicenseID to value 2372514\n",
      "Academic license - for non-commercial use only - registered to braun@cos.ufrj.br\n"
     ]
    }
   ],
   "source": [
    "import gurobipy as gp\n",
    "\n",
    "env = gp.Env()"
   ]
  },
  {
   "cell_type": "code",
   "execution_count": 61,
   "metadata": {},
   "outputs": [
    {
     "name": "stdout",
     "output_type": "stream",
     "text": [
      "\n",
      "Interrupt request received\n",
      "[[-0.         -0.         -0.        ]\n",
      " [-1.73494807 -3.29542086 -0.61656681]\n",
      " [-2.87242322 -2.44572909 -0.1326408 ]\n",
      " [-2.81351361 -1.17477031 -2.22577066]\n",
      " [-0.98156209 -0.96466982 -0.61337758]]\n"
     ]
    }
   ],
   "source": [
    "m1 = M4(instance, n=4, max_gap=1e-2, log=False, env=env)\n",
    "m1.optimize()"
   ]
  },
  {
   "cell_type": "code",
   "execution_count": 62,
   "metadata": {},
   "outputs": [
    {
     "data": {
      "application/3dmoljs_load.v0": "<div id=\"3dmolviewer_16900426700702493\"  style=\"position: relative; width: 300px; height: 300px;\">\n        <p id=\"3dmolwarning_16900426700702493\" style=\"background-color:#ffcccc;color:black\">You appear to be running in JupyterLab (or JavaScript failed to load for some other reason).  You need to install the 3dmol extension: <br>\n        <tt>jupyter labextension install jupyterlab_3dmol</tt></p>\n        </div>\n<script>\n\nvar loadScriptAsync = function(uri){\n  return new Promise((resolve, reject) => {\n    //this is to ignore the existence of requirejs amd\n    var savedexports, savedmodule;\n    if (typeof exports !== 'undefined') savedexports = exports;\n    else exports = {}\n    if (typeof module !== 'undefined') savedmodule = module;\n    else module = {}\n\n    var tag = document.createElement('script');\n    tag.src = uri;\n    tag.async = true;\n    tag.onload = () => {\n        exports = savedexports;\n        module = savedmodule;\n        resolve();\n    };\n  var firstScriptTag = document.getElementsByTagName('script')[0];\n  firstScriptTag.parentNode.insertBefore(tag, firstScriptTag);\n});\n};\n\nif(typeof $3Dmolpromise === 'undefined') {\n$3Dmolpromise = null;\n  $3Dmolpromise = loadScriptAsync('https://cdnjs.cloudflare.com/ajax/libs/3Dmol/2.0.3/3Dmol-min.js');\n}\n\nvar viewer_16900426700702493 = null;\nvar warn = document.getElementById(\"3dmolwarning_16900426700702493\");\nif(warn) {\n    warn.parentNode.removeChild(warn);\n}\n$3Dmolpromise.then(function() {\nviewer_16900426700702493 = $3Dmol.createViewer(document.getElementById(\"3dmolviewer_16900426700702493\"),{backgroundColor:\"white\"});\nviewer_16900426700702493.addModel(\"5\\nuDGP instance\\nC    -0.0000    -0.0000    -0.0000\\nC    -1.7349    -3.2954    -0.6166\\nC    -2.8724    -2.4457    -0.1326\\nC    -2.8135    -1.1748    -2.2258\\nC    -0.9816    -0.9647    -0.6134\");\nviewer_16900426700702493.zoomTo();\n\tviewer_16900426700702493.setBackgroundColor(\"#000000\",0.2);\n\tviewer_16900426700702493.setStyle({\"stick\": {\"radius\": 0.1}, \"sphere\": {\"scale\": 0.2}});\nviewer_16900426700702493.render();\n});\n</script>",
      "text/html": [
       "<div id=\"3dmolviewer_16900426700702493\"  style=\"position: relative; width: 300px; height: 300px;\">\n",
       "        <p id=\"3dmolwarning_16900426700702493\" style=\"background-color:#ffcccc;color:black\">You appear to be running in JupyterLab (or JavaScript failed to load for some other reason).  You need to install the 3dmol extension: <br>\n",
       "        <tt>jupyter labextension install jupyterlab_3dmol</tt></p>\n",
       "        </div>\n",
       "<script>\n",
       "\n",
       "var loadScriptAsync = function(uri){\n",
       "  return new Promise((resolve, reject) => {\n",
       "    //this is to ignore the existence of requirejs amd\n",
       "    var savedexports, savedmodule;\n",
       "    if (typeof exports !== 'undefined') savedexports = exports;\n",
       "    else exports = {}\n",
       "    if (typeof module !== 'undefined') savedmodule = module;\n",
       "    else module = {}\n",
       "\n",
       "    var tag = document.createElement('script');\n",
       "    tag.src = uri;\n",
       "    tag.async = true;\n",
       "    tag.onload = () => {\n",
       "        exports = savedexports;\n",
       "        module = savedmodule;\n",
       "        resolve();\n",
       "    };\n",
       "  var firstScriptTag = document.getElementsByTagName('script')[0];\n",
       "  firstScriptTag.parentNode.insertBefore(tag, firstScriptTag);\n",
       "});\n",
       "};\n",
       "\n",
       "if(typeof $3Dmolpromise === 'undefined') {\n",
       "$3Dmolpromise = null;\n",
       "  $3Dmolpromise = loadScriptAsync('https://cdnjs.cloudflare.com/ajax/libs/3Dmol/2.0.3/3Dmol-min.js');\n",
       "}\n",
       "\n",
       "var viewer_16900426700702493 = null;\n",
       "var warn = document.getElementById(\"3dmolwarning_16900426700702493\");\n",
       "if(warn) {\n",
       "    warn.parentNode.removeChild(warn);\n",
       "}\n",
       "$3Dmolpromise.then(function() {\n",
       "viewer_16900426700702493 = $3Dmol.createViewer(document.getElementById(\"3dmolviewer_16900426700702493\"),{backgroundColor:\"white\"});\n",
       "viewer_16900426700702493.addModel(\"5\\nuDGP instance\\nC    -0.0000    -0.0000    -0.0000\\nC    -1.7349    -3.2954    -0.6166\\nC    -2.8724    -2.4457    -0.1326\\nC    -2.8135    -1.1748    -2.2258\\nC    -0.9816    -0.9647    -0.6134\");\n",
       "viewer_16900426700702493.zoomTo();\n",
       "\tviewer_16900426700702493.setBackgroundColor(\"#000000\",0.2);\n",
       "\tviewer_16900426700702493.setStyle({\"stick\": {\"radius\": 0.1}, \"sphere\": {\"scale\": 0.2}});\n",
       "viewer_16900426700702493.render();\n",
       "});\n",
       "</script>"
      ]
     },
     "metadata": {},
     "output_type": "display_data"
    },
    {
     "data": {
      "text/plain": [
       "<py3Dmol.view at 0x7f5ad1b03990>"
      ]
     },
     "execution_count": 62,
     "metadata": {},
     "output_type": "execute_result"
    }
   ],
   "source": [
    "m1.instance.view()"
   ]
  },
  {
   "cell_type": "code",
   "execution_count": 56,
   "metadata": {},
   "outputs": [
    {
     "name": "stdout",
     "output_type": "stream",
     "text": [
      "[[ 0.          0.          0.        ]\n",
      " [ 0.30846702  0.15307433  1.45993726]\n",
      " [-3.51300338  1.37904326  0.08394146]\n",
      " [-0.8930399  -0.23761009  2.26848347]\n",
      " [-0.58457345 -0.0845374   3.72842096]\n",
      " [-0.23034908  1.34408181  4.01750961]]\n"
     ]
    }
   ],
   "source": [
    "m2 = M4(m1.instance, n=1, max_gap=1e-2, log=False, env=env)\n",
    "m2.optimize()"
   ]
  },
  {
   "cell_type": "code",
   "execution_count": 57,
   "metadata": {},
   "outputs": [
    {
     "name": "stdout",
     "output_type": "stream",
     "text": [
      "[[ 0.          0.          0.        ]\n",
      " [ 0.30846702  0.15307433  1.45993726]\n",
      " [-3.51300338  1.37904326  0.08394146]\n",
      " [-0.8930399  -0.23761009  2.26848347]\n",
      " [-0.58457345 -0.0845374   3.72842096]\n",
      " [-0.23034908  1.34408181  4.01750961]]\n"
     ]
    }
   ],
   "source": [
    "print(m2.instance.coords)\n"
   ]
  },
  {
   "cell_type": "code",
   "execution_count": 58,
   "metadata": {},
   "outputs": [
    {
     "data": {
      "application/3dmoljs_load.v0": "<div id=\"3dmolviewer_16900425910732825\"  style=\"position: relative; width: 300px; height: 300px;\">\n        <p id=\"3dmolwarning_16900425910732825\" style=\"background-color:#ffcccc;color:black\">You appear to be running in JupyterLab (or JavaScript failed to load for some other reason).  You need to install the 3dmol extension: <br>\n        <tt>jupyter labextension install jupyterlab_3dmol</tt></p>\n        </div>\n<script>\n\nvar loadScriptAsync = function(uri){\n  return new Promise((resolve, reject) => {\n    //this is to ignore the existence of requirejs amd\n    var savedexports, savedmodule;\n    if (typeof exports !== 'undefined') savedexports = exports;\n    else exports = {}\n    if (typeof module !== 'undefined') savedmodule = module;\n    else module = {}\n\n    var tag = document.createElement('script');\n    tag.src = uri;\n    tag.async = true;\n    tag.onload = () => {\n        exports = savedexports;\n        module = savedmodule;\n        resolve();\n    };\n  var firstScriptTag = document.getElementsByTagName('script')[0];\n  firstScriptTag.parentNode.insertBefore(tag, firstScriptTag);\n});\n};\n\nif(typeof $3Dmolpromise === 'undefined') {\n$3Dmolpromise = null;\n  $3Dmolpromise = loadScriptAsync('https://cdnjs.cloudflare.com/ajax/libs/3Dmol/2.0.3/3Dmol-min.js');\n}\n\nvar viewer_16900425910732825 = null;\nvar warn = document.getElementById(\"3dmolwarning_16900425910732825\");\nif(warn) {\n    warn.parentNode.removeChild(warn);\n}\n$3Dmolpromise.then(function() {\nviewer_16900425910732825 = $3Dmol.createViewer(document.getElementById(\"3dmolviewer_16900425910732825\"),{backgroundColor:\"white\"});\nviewer_16900425910732825.addModel(\"6\\nuDGP instance\\nC    0.0000    0.0000    0.0000\\nC    0.3085    0.1531    1.4599\\nC    -3.5130    1.3790    0.0839\\nC    -0.8930    -0.2376    2.2685\\nC    -0.5846    -0.0845    3.7284\\nC    -0.2303    1.3441    4.0175\");\nviewer_16900425910732825.zoomTo();\n\tviewer_16900425910732825.setBackgroundColor(\"#000000\",0.2);\n\tviewer_16900425910732825.setStyle({\"stick\": {\"radius\": 0.1}, \"sphere\": {\"scale\": 0.2}});\nviewer_16900425910732825.render();\n});\n</script>",
      "text/html": [
       "<div id=\"3dmolviewer_16900425910732825\"  style=\"position: relative; width: 300px; height: 300px;\">\n",
       "        <p id=\"3dmolwarning_16900425910732825\" style=\"background-color:#ffcccc;color:black\">You appear to be running in JupyterLab (or JavaScript failed to load for some other reason).  You need to install the 3dmol extension: <br>\n",
       "        <tt>jupyter labextension install jupyterlab_3dmol</tt></p>\n",
       "        </div>\n",
       "<script>\n",
       "\n",
       "var loadScriptAsync = function(uri){\n",
       "  return new Promise((resolve, reject) => {\n",
       "    //this is to ignore the existence of requirejs amd\n",
       "    var savedexports, savedmodule;\n",
       "    if (typeof exports !== 'undefined') savedexports = exports;\n",
       "    else exports = {}\n",
       "    if (typeof module !== 'undefined') savedmodule = module;\n",
       "    else module = {}\n",
       "\n",
       "    var tag = document.createElement('script');\n",
       "    tag.src = uri;\n",
       "    tag.async = true;\n",
       "    tag.onload = () => {\n",
       "        exports = savedexports;\n",
       "        module = savedmodule;\n",
       "        resolve();\n",
       "    };\n",
       "  var firstScriptTag = document.getElementsByTagName('script')[0];\n",
       "  firstScriptTag.parentNode.insertBefore(tag, firstScriptTag);\n",
       "});\n",
       "};\n",
       "\n",
       "if(typeof $3Dmolpromise === 'undefined') {\n",
       "$3Dmolpromise = null;\n",
       "  $3Dmolpromise = loadScriptAsync('https://cdnjs.cloudflare.com/ajax/libs/3Dmol/2.0.3/3Dmol-min.js');\n",
       "}\n",
       "\n",
       "var viewer_16900425910732825 = null;\n",
       "var warn = document.getElementById(\"3dmolwarning_16900425910732825\");\n",
       "if(warn) {\n",
       "    warn.parentNode.removeChild(warn);\n",
       "}\n",
       "$3Dmolpromise.then(function() {\n",
       "viewer_16900425910732825 = $3Dmol.createViewer(document.getElementById(\"3dmolviewer_16900425910732825\"),{backgroundColor:\"white\"});\n",
       "viewer_16900425910732825.addModel(\"6\\nuDGP instance\\nC    0.0000    0.0000    0.0000\\nC    0.3085    0.1531    1.4599\\nC    -3.5130    1.3790    0.0839\\nC    -0.8930    -0.2376    2.2685\\nC    -0.5846    -0.0845    3.7284\\nC    -0.2303    1.3441    4.0175\");\n",
       "viewer_16900425910732825.zoomTo();\n",
       "\tviewer_16900425910732825.setBackgroundColor(\"#000000\",0.2);\n",
       "\tviewer_16900425910732825.setStyle({\"stick\": {\"radius\": 0.1}, \"sphere\": {\"scale\": 0.2}});\n",
       "viewer_16900425910732825.render();\n",
       "});\n",
       "</script>"
      ]
     },
     "metadata": {},
     "output_type": "display_data"
    },
    {
     "data": {
      "text/plain": [
       "<py3Dmol.view at 0x7f5ad71a5d10>"
      ]
     },
     "execution_count": 58,
     "metadata": {},
     "output_type": "execute_result"
    }
   ],
   "source": [
    "m2.instance.view()"
   ]
  }
 ],
 "metadata": {
  "kernelspec": {
   "display_name": "venv",
   "language": "python",
   "name": "python3"
  },
  "language_info": {
   "codemirror_mode": {
    "name": "ipython",
    "version": 3
   },
   "file_extension": ".py",
   "mimetype": "text/x-python",
   "name": "python",
   "nbconvert_exporter": "python",
   "pygments_lexer": "ipython3",
   "version": "3.11.2"
  },
  "orig_nbformat": 4
 },
 "nbformat": 4,
 "nbformat_minor": 2
}
