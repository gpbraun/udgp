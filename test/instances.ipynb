{
 "cells": [
  {
   "cell_type": "markdown",
   "metadata": {},
   "source": [
    "# Geração de instâncias"
   ]
  },
  {
   "cell_type": "code",
   "execution_count": 2,
   "metadata": {},
   "outputs": [],
   "source": [
    "import numpy as np\n",
    "import gurobipy as gp\n",
    "from gurobipy import GRB\n",
    "from udgp import M1, M2, M4, M5, Instance"
   ]
  },
  {
   "cell_type": "code",
   "execution_count": 3,
   "metadata": {},
   "outputs": [
    {
     "name": "stdout",
     "output_type": "stream",
     "text": [
      "Set parameter Username\n",
      "Academic license - for non-commercial use only - expires 2024-07-25\n"
     ]
    }
   ],
   "source": [
    "env = gp.Env()"
   ]
  },
  {
   "cell_type": "code",
   "execution_count": 6,
   "metadata": {},
   "outputs": [
    {
     "data": {
      "application/3dmoljs_load.v0": "<div id=\"3dmolviewer_16905082502819986\"  style=\"position: relative; width: 400px; height: 350px;\">\n        <p id=\"3dmolwarning_16905082502819986\" style=\"background-color:#ffcccc;color:black\">You appear to be running in JupyterLab (or JavaScript failed to load for some other reason).  You need to install the 3dmol extension: <br>\n        <tt>jupyter labextension install jupyterlab_3dmol</tt></p>\n        </div>\n<script>\n\nvar loadScriptAsync = function(uri){\n  return new Promise((resolve, reject) => {\n    //this is to ignore the existence of requirejs amd\n    var savedexports, savedmodule;\n    if (typeof exports !== 'undefined') savedexports = exports;\n    else exports = {}\n    if (typeof module !== 'undefined') savedmodule = module;\n    else module = {}\n\n    var tag = document.createElement('script');\n    tag.src = uri;\n    tag.async = true;\n    tag.onload = () => {\n        exports = savedexports;\n        module = savedmodule;\n        resolve();\n    };\n  var firstScriptTag = document.getElementsByTagName('script')[0];\n  firstScriptTag.parentNode.insertBefore(tag, firstScriptTag);\n});\n};\n\nif(typeof $3Dmolpromise === 'undefined') {\n$3Dmolpromise = null;\n  $3Dmolpromise = loadScriptAsync('https://cdnjs.cloudflare.com/ajax/libs/3Dmol/2.0.3/3Dmol-min.js');\n}\n\nvar viewer_16905082502819986 = null;\nvar warn = document.getElementById(\"3dmolwarning_16905082502819986\");\nif(warn) {\n    warn.parentNode.removeChild(warn);\n}\n$3Dmolpromise.then(function() {\nviewer_16905082502819986 = $3Dmol.createViewer(document.getElementById(\"3dmolviewer_16905082502819986\"),{backgroundColor:\"white\"});\nviewer_16905082502819986.addModel(\"12\\nuDGP instance\\nC    0.0000    0.0000    0.0000\\nC    -1.5000    0.0000    0.0000\\nC    -2.0000    1.4141    0.0000\\nC    -1.5000    2.1211    1.2246\\nC    -2.0000    1.4141    2.4492\\nC    -1.5000    0.0000    2.4492\\nC    0.0000    0.0000    2.4492\\nC    0.5000    -1.4141    2.4492\\nC    -0.0000    -2.1211    1.2246\\nC    -1.5000    -2.1211    1.2246\\nC    -2.0000    -2.8281    2.4492\\nC    -3.5000    -2.8281    2.4492\");\nviewer_16905082502819986.zoomTo();\n\tviewer_16905082502819986.setBackgroundColor(\"#000000\",0.2);\n\tviewer_16905082502819986.setStyle({\"stick\": {\"radius\": 0.1, \"color\": \"#cbd5e1\"}, \"sphere\": {\"scale\": 0.2, \"color\": \"#60a5fa\"}});\nviewer_16905082502819986.render();\n});\n</script>",
      "text/html": [
       "<div id=\"3dmolviewer_16905082502819986\"  style=\"position: relative; width: 400px; height: 350px;\">\n",
       "        <p id=\"3dmolwarning_16905082502819986\" style=\"background-color:#ffcccc;color:black\">You appear to be running in JupyterLab (or JavaScript failed to load for some other reason).  You need to install the 3dmol extension: <br>\n",
       "        <tt>jupyter labextension install jupyterlab_3dmol</tt></p>\n",
       "        </div>\n",
       "<script>\n",
       "\n",
       "var loadScriptAsync = function(uri){\n",
       "  return new Promise((resolve, reject) => {\n",
       "    //this is to ignore the existence of requirejs amd\n",
       "    var savedexports, savedmodule;\n",
       "    if (typeof exports !== 'undefined') savedexports = exports;\n",
       "    else exports = {}\n",
       "    if (typeof module !== 'undefined') savedmodule = module;\n",
       "    else module = {}\n",
       "\n",
       "    var tag = document.createElement('script');\n",
       "    tag.src = uri;\n",
       "    tag.async = true;\n",
       "    tag.onload = () => {\n",
       "        exports = savedexports;\n",
       "        module = savedmodule;\n",
       "        resolve();\n",
       "    };\n",
       "  var firstScriptTag = document.getElementsByTagName('script')[0];\n",
       "  firstScriptTag.parentNode.insertBefore(tag, firstScriptTag);\n",
       "});\n",
       "};\n",
       "\n",
       "if(typeof $3Dmolpromise === 'undefined') {\n",
       "$3Dmolpromise = null;\n",
       "  $3Dmolpromise = loadScriptAsync('https://cdnjs.cloudflare.com/ajax/libs/3Dmol/2.0.3/3Dmol-min.js');\n",
       "}\n",
       "\n",
       "var viewer_16905082502819986 = null;\n",
       "var warn = document.getElementById(\"3dmolwarning_16905082502819986\");\n",
       "if(warn) {\n",
       "    warn.parentNode.removeChild(warn);\n",
       "}\n",
       "$3Dmolpromise.then(function() {\n",
       "viewer_16905082502819986 = $3Dmol.createViewer(document.getElementById(\"3dmolviewer_16905082502819986\"),{backgroundColor:\"white\"});\n",
       "viewer_16905082502819986.addModel(\"12\\nuDGP instance\\nC    0.0000    0.0000    0.0000\\nC    -1.5000    0.0000    0.0000\\nC    -2.0000    1.4141    0.0000\\nC    -1.5000    2.1211    1.2246\\nC    -2.0000    1.4141    2.4492\\nC    -1.5000    0.0000    2.4492\\nC    0.0000    0.0000    2.4492\\nC    0.5000    -1.4141    2.4492\\nC    -0.0000    -2.1211    1.2246\\nC    -1.5000    -2.1211    1.2246\\nC    -2.0000    -2.8281    2.4492\\nC    -3.5000    -2.8281    2.4492\");\n",
       "viewer_16905082502819986.zoomTo();\n",
       "\tviewer_16905082502819986.setBackgroundColor(\"#000000\",0.2);\n",
       "\tviewer_16905082502819986.setStyle({\"stick\": {\"radius\": 0.1, \"color\": \"#cbd5e1\"}, \"sphere\": {\"scale\": 0.2, \"color\": \"#60a5fa\"}});\n",
       "viewer_16905082502819986.render();\n",
       "});\n",
       "</script>"
      ]
     },
     "metadata": {},
     "output_type": "display_data"
    },
    {
     "data": {
      "text/plain": [
       "<py3Dmol.view at 0x7f3e973ebf10>"
      ]
     },
     "execution_count": 6,
     "metadata": {},
     "output_type": "execute_result"
    }
   ],
   "source": [
    "# seed: 1234567\n",
    "instance = Instance.artificial_molecule(12, freq=True, seed=1234567)\n",
    "instance.view_input()"
   ]
  },
  {
   "cell_type": "code",
   "execution_count": 8,
   "metadata": {},
   "outputs": [
    {
     "name": "stdout",
     "output_type": "stream",
     "text": [
      "=================\n",
      "TENTATIVA 26\n",
      "=================\n",
      "CORE\n",
      "  5 átomos\n",
      "  6 átomos\n",
      "  7 átomos\n",
      "  8 átomos\n",
      "  9 átomos\n",
      "  10 átomos\n"
     ]
    }
   ],
   "source": [
    "from IPython.display import clear_output\n",
    "\n",
    "instance.reset()\n",
    "previous_a = []\n",
    "\n",
    "i = 1\n",
    "# while not instance.is_solved():\n",
    "while instance.fixed_n < instance.n:\n",
    "    clear_output(wait=True)\n",
    "    print(\"=================\")\n",
    "    print(f\"TENTATIVA {i}\")\n",
    "    print(\"=================\")\n",
    "\n",
    "    # instance.reset()\n",
    "    # m = M4(instance, n=4, previous_a=previous_a, env=env)\n",
    "    # m.optimize()\n",
    "    # previous_a.append(list(m.a_ijk_values()))\n",
    "    # print(list(m.a_ijk_values()))\n",
    "\n",
    "    instance.reset_with_core(\"mock\")\n",
    "\n",
    "    print(\"CORE\")\n",
    "\n",
    "    broken = False\n",
    "    while instance.fixed_n < instance.n and not broken:\n",
    "        print(f\"  {instance.fixed_n} átomos\")\n",
    "\n",
    "        status = GRB.LOADED\n",
    "        while status != GRB.OPTIMAL:\n",
    "            m = M4(\n",
    "                instance, \n",
    "                n=1, \n",
    "                fixed_n=None, \n",
    "                env=env\n",
    "            )\n",
    "            m.relax()\n",
    "            m.optimize()\n",
    "            status = m.Status\n",
    "    \n",
    "            if status == GRB.INFEASIBLE:\n",
    "                broken = True\n",
    "                break\n",
    "\n",
    "    i += 1\n",
    "\n",
    "instance.view()\n"
   ]
  }
 ],
 "metadata": {
  "kernelspec": {
   "display_name": "venv",
   "language": "python",
   "name": "python3"
  },
  "language_info": {
   "codemirror_mode": {
    "name": "ipython",
    "version": 3
   },
   "file_extension": ".py",
   "mimetype": "text/x-python",
   "name": "python",
   "nbconvert_exporter": "python",
   "pygments_lexer": "ipython3",
   "version": "3.11.2"
  },
  "orig_nbformat": 4
 },
 "nbformat": 4,
 "nbformat_minor": 2
}
