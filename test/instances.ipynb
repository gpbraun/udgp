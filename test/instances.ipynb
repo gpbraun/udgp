{
 "cells": [
  {
   "cell_type": "markdown",
   "metadata": {},
   "source": [
    "# Geração de instâncias"
   ]
  },
  {
   "cell_type": "code",
   "execution_count": 1,
   "metadata": {},
   "outputs": [],
   "source": [
    "import numpy as np\n",
    "import gurobipy as gp\n",
    "from gurobipy import GRB\n",
    "from udgp import M1, M2, M4, M5, Instance\n"
   ]
  },
  {
   "cell_type": "code",
   "execution_count": 2,
   "metadata": {},
   "outputs": [
    {
     "name": "stdout",
     "output_type": "stream",
     "text": [
      "Set parameter WLSAccessID\n",
      "Set parameter WLSSecret\n",
      "Set parameter LicenseID to value 2372514\n",
      "Academic license - for non-commercial use only - registered to braun@cos.ufrj.br\n"
     ]
    }
   ],
   "source": [
    "env = gp.Env()\n"
   ]
  },
  {
   "cell_type": "code",
   "execution_count": 3,
   "metadata": {},
   "outputs": [],
   "source": [
    "coords = np.array(\n",
    "    [\n",
    "        [0.2730989500, 1.1469629952, -0.3319578813],\n",
    "        [-0.4728837298, -0.6223685080, 0.7664213265],\n",
    "        [-0.9666537615, -0.2393056630, -0.1698094248],\n",
    "        [0.6209419539, -0.3628130566, 0.7094425990],\n",
    "        [0.8035441992, 0.1648033307, -0.2639206823],\n",
    "        [-0.1784380914, 0.2412141513, -0.8077599510],\n",
    "        [0.0639788373, -0.6647479592, -0.2089132333],\n",
    "        [-0.1435883576, 0.3362547097, 0.3064972473],\n",
    "    ]\n",
    ")"
   ]
  },
  {
   "cell_type": "code",
   "execution_count": 4,
   "metadata": {},
   "outputs": [
    {
     "data": {
      "application/3dmoljs_load.v0": "<div id=\"3dmolviewer_1690381231683507\"  style=\"position: relative; width: 400px; height: 350px;\">\n        <p id=\"3dmolwarning_1690381231683507\" style=\"background-color:#ffcccc;color:black\">You appear to be running in JupyterLab (or JavaScript failed to load for some other reason).  You need to install the 3dmol extension: <br>\n        <tt>jupyter labextension install jupyterlab_3dmol</tt></p>\n        </div>\n<script>\n\nvar loadScriptAsync = function(uri){\n  return new Promise((resolve, reject) => {\n    //this is to ignore the existence of requirejs amd\n    var savedexports, savedmodule;\n    if (typeof exports !== 'undefined') savedexports = exports;\n    else exports = {}\n    if (typeof module !== 'undefined') savedmodule = module;\n    else module = {}\n\n    var tag = document.createElement('script');\n    tag.src = uri;\n    tag.async = true;\n    tag.onload = () => {\n        exports = savedexports;\n        module = savedmodule;\n        resolve();\n    };\n  var firstScriptTag = document.getElementsByTagName('script')[0];\n  firstScriptTag.parentNode.insertBefore(tag, firstScriptTag);\n});\n};\n\nif(typeof $3Dmolpromise === 'undefined') {\n$3Dmolpromise = null;\n  $3Dmolpromise = loadScriptAsync('https://cdnjs.cloudflare.com/ajax/libs/3Dmol/2.0.3/3Dmol-min.js');\n}\n\nvar viewer_1690381231683507 = null;\nvar warn = document.getElementById(\"3dmolwarning_1690381231683507\");\nif(warn) {\n    warn.parentNode.removeChild(warn);\n}\n$3Dmolpromise.then(function() {\nviewer_1690381231683507 = $3Dmol.createViewer(document.getElementById(\"3dmolviewer_1690381231683507\"),{backgroundColor:\"white\"});\nviewer_1690381231683507.addModel(\"8\\nuDGP instance\\nC    0.2730    1.1470    -0.3320\\nC    -0.4730    -0.6220    0.7660\\nC    -0.9670    -0.2390    -0.1700\\nC    0.6210    -0.3630    0.7090\\nC    0.8040    0.1650    -0.2640\\nC    -0.1780    0.2410    -0.8080\\nC    0.0640    -0.6650    -0.2090\\nC    -0.1440    0.3360    0.3060\");\nviewer_1690381231683507.zoomTo();\n\tviewer_1690381231683507.setBackgroundColor(\"#000000\",0.2);\n\tviewer_1690381231683507.setStyle({\"stick\": {\"radius\": 0.1, \"color\": \"#cbd5e1\"}, \"sphere\": {\"scale\": 0.2, \"color\": \"#60a5fa\"}});\nviewer_1690381231683507.render();\n});\n</script>",
      "text/html": [
       "<div id=\"3dmolviewer_1690381231683507\"  style=\"position: relative; width: 400px; height: 350px;\">\n",
       "        <p id=\"3dmolwarning_1690381231683507\" style=\"background-color:#ffcccc;color:black\">You appear to be running in JupyterLab (or JavaScript failed to load for some other reason).  You need to install the 3dmol extension: <br>\n",
       "        <tt>jupyter labextension install jupyterlab_3dmol</tt></p>\n",
       "        </div>\n",
       "<script>\n",
       "\n",
       "var loadScriptAsync = function(uri){\n",
       "  return new Promise((resolve, reject) => {\n",
       "    //this is to ignore the existence of requirejs amd\n",
       "    var savedexports, savedmodule;\n",
       "    if (typeof exports !== 'undefined') savedexports = exports;\n",
       "    else exports = {}\n",
       "    if (typeof module !== 'undefined') savedmodule = module;\n",
       "    else module = {}\n",
       "\n",
       "    var tag = document.createElement('script');\n",
       "    tag.src = uri;\n",
       "    tag.async = true;\n",
       "    tag.onload = () => {\n",
       "        exports = savedexports;\n",
       "        module = savedmodule;\n",
       "        resolve();\n",
       "    };\n",
       "  var firstScriptTag = document.getElementsByTagName('script')[0];\n",
       "  firstScriptTag.parentNode.insertBefore(tag, firstScriptTag);\n",
       "});\n",
       "};\n",
       "\n",
       "if(typeof $3Dmolpromise === 'undefined') {\n",
       "$3Dmolpromise = null;\n",
       "  $3Dmolpromise = loadScriptAsync('https://cdnjs.cloudflare.com/ajax/libs/3Dmol/2.0.3/3Dmol-min.js');\n",
       "}\n",
       "\n",
       "var viewer_1690381231683507 = null;\n",
       "var warn = document.getElementById(\"3dmolwarning_1690381231683507\");\n",
       "if(warn) {\n",
       "    warn.parentNode.removeChild(warn);\n",
       "}\n",
       "$3Dmolpromise.then(function() {\n",
       "viewer_1690381231683507 = $3Dmol.createViewer(document.getElementById(\"3dmolviewer_1690381231683507\"),{backgroundColor:\"white\"});\n",
       "viewer_1690381231683507.addModel(\"8\\nuDGP instance\\nC    0.2730    1.1470    -0.3320\\nC    -0.4730    -0.6220    0.7660\\nC    -0.9670    -0.2390    -0.1700\\nC    0.6210    -0.3630    0.7090\\nC    0.8040    0.1650    -0.2640\\nC    -0.1780    0.2410    -0.8080\\nC    0.0640    -0.6650    -0.2090\\nC    -0.1440    0.3360    0.3060\");\n",
       "viewer_1690381231683507.zoomTo();\n",
       "\tviewer_1690381231683507.setBackgroundColor(\"#000000\",0.2);\n",
       "\tviewer_1690381231683507.setStyle({\"stick\": {\"radius\": 0.1, \"color\": \"#cbd5e1\"}, \"sphere\": {\"scale\": 0.2, \"color\": \"#60a5fa\"}});\n",
       "viewer_1690381231683507.render();\n",
       "});\n",
       "</script>"
      ]
     },
     "metadata": {},
     "output_type": "display_data"
    },
    {
     "data": {
      "text/plain": [
       "<py3Dmol.view at 0x23f763b37d0>"
      ]
     },
     "execution_count": 4,
     "metadata": {},
     "output_type": "execute_result"
    }
   ],
   "source": [
    "N = 6\n",
    "# instance = Instance.random(N, freq=True)\n",
    "instance = Instance.from_coords(coords.round(3), freq=True)\n",
    "\n",
    "instance.view_input()"
   ]
  },
  {
   "cell_type": "code",
   "execution_count": 5,
   "metadata": {},
   "outputs": [
    {
     "data": {
      "text/plain": [
       "array([1.11, 1.12, 1.13, 1.14, 1.82, 1.83, 1.87, 2.21], dtype=float16)"
      ]
     },
     "execution_count": 5,
     "metadata": {},
     "output_type": "execute_result"
    }
   ],
   "source": [
    "instance.dist\n"
   ]
  },
  {
   "cell_type": "code",
   "execution_count": 7,
   "metadata": {},
   "outputs": [],
   "source": [
    "instance.dist = instance.dist.round(2)\n"
   ]
  },
  {
   "cell_type": "code",
   "execution_count": 7,
   "metadata": {},
   "outputs": [],
   "source": [
    "instance.reset()\n",
    "m = M4(instance, env=env)\n",
    "m.setParam(\"TimeLimit\", 10 * 60)\n",
    "m.optimize()\n",
    "\n",
    "m.instance.view()"
   ]
  },
  {
   "cell_type": "code",
   "execution_count": 8,
   "metadata": {},
   "outputs": [
    {
     "name": "stdout",
     "output_type": "stream",
     "text": [
      "reset\n",
      "step\n"
     ]
    },
    {
     "data": {
      "application/3dmoljs_load.v0": "<div id=\"3dmolviewer_1690379147910237\"  style=\"position: relative; width: 400px; height: 350px;\">\n        <p id=\"3dmolwarning_1690379147910237\" style=\"background-color:#ffcccc;color:black\">You appear to be running in JupyterLab (or JavaScript failed to load for some other reason).  You need to install the 3dmol extension: <br>\n        <tt>jupyter labextension install jupyterlab_3dmol</tt></p>\n        </div>\n<script>\n\nvar loadScriptAsync = function(uri){\n  return new Promise((resolve, reject) => {\n    //this is to ignore the existence of requirejs amd\n    var savedexports, savedmodule;\n    if (typeof exports !== 'undefined') savedexports = exports;\n    else exports = {}\n    if (typeof module !== 'undefined') savedmodule = module;\n    else module = {}\n\n    var tag = document.createElement('script');\n    tag.src = uri;\n    tag.async = true;\n    tag.onload = () => {\n        exports = savedexports;\n        module = savedmodule;\n        resolve();\n    };\n  var firstScriptTag = document.getElementsByTagName('script')[0];\n  firstScriptTag.parentNode.insertBefore(tag, firstScriptTag);\n});\n};\n\nif(typeof $3Dmolpromise === 'undefined') {\n$3Dmolpromise = null;\n  $3Dmolpromise = loadScriptAsync('https://cdnjs.cloudflare.com/ajax/libs/3Dmol/2.0.3/3Dmol-min.js');\n}\n\nvar viewer_1690379147910237 = null;\nvar warn = document.getElementById(\"3dmolwarning_1690379147910237\");\nif(warn) {\n    warn.parentNode.removeChild(warn);\n}\n$3Dmolpromise.then(function() {\nviewer_1690379147910237 = $3Dmol.createViewer(document.getElementById(\"3dmolviewer_1690379147910237\"),{backgroundColor:\"white\"});\nviewer_1690379147910237.addModel(\"6\\nuDGP instance\\nC    -2.0000    1.4140    -2.4490\\nC    -2.0000    1.4140    0.0000\\nC    -1.5000    0.0000    0.0000\\nC    -1.5000    2.1210    -1.2250\\nC    -1.4980    -0.0000    -2.4480\\nC    0.0000    0.0000    0.0000\");\nviewer_1690379147910237.zoomTo();\n\tviewer_1690379147910237.setBackgroundColor(\"#000000\",0.2);\n\tviewer_1690379147910237.setStyle({\"stick\": {\"radius\": 0.1, \"color\": \"#cbd5e1\"}, \"sphere\": {\"scale\": 0.2, \"color\": \"#60a5fa\"}});\nviewer_1690379147910237.render();\n});\n</script>",
      "text/html": [
       "<div id=\"3dmolviewer_1690379147910237\"  style=\"position: relative; width: 400px; height: 350px;\">\n",
       "        <p id=\"3dmolwarning_1690379147910237\" style=\"background-color:#ffcccc;color:black\">You appear to be running in JupyterLab (or JavaScript failed to load for some other reason).  You need to install the 3dmol extension: <br>\n",
       "        <tt>jupyter labextension install jupyterlab_3dmol</tt></p>\n",
       "        </div>\n",
       "<script>\n",
       "\n",
       "var loadScriptAsync = function(uri){\n",
       "  return new Promise((resolve, reject) => {\n",
       "    //this is to ignore the existence of requirejs amd\n",
       "    var savedexports, savedmodule;\n",
       "    if (typeof exports !== 'undefined') savedexports = exports;\n",
       "    else exports = {}\n",
       "    if (typeof module !== 'undefined') savedmodule = module;\n",
       "    else module = {}\n",
       "\n",
       "    var tag = document.createElement('script');\n",
       "    tag.src = uri;\n",
       "    tag.async = true;\n",
       "    tag.onload = () => {\n",
       "        exports = savedexports;\n",
       "        module = savedmodule;\n",
       "        resolve();\n",
       "    };\n",
       "  var firstScriptTag = document.getElementsByTagName('script')[0];\n",
       "  firstScriptTag.parentNode.insertBefore(tag, firstScriptTag);\n",
       "});\n",
       "};\n",
       "\n",
       "if(typeof $3Dmolpromise === 'undefined') {\n",
       "$3Dmolpromise = null;\n",
       "  $3Dmolpromise = loadScriptAsync('https://cdnjs.cloudflare.com/ajax/libs/3Dmol/2.0.3/3Dmol-min.js');\n",
       "}\n",
       "\n",
       "var viewer_1690379147910237 = null;\n",
       "var warn = document.getElementById(\"3dmolwarning_1690379147910237\");\n",
       "if(warn) {\n",
       "    warn.parentNode.removeChild(warn);\n",
       "}\n",
       "$3Dmolpromise.then(function() {\n",
       "viewer_1690379147910237 = $3Dmol.createViewer(document.getElementById(\"3dmolviewer_1690379147910237\"),{backgroundColor:\"white\"});\n",
       "viewer_1690379147910237.addModel(\"6\\nuDGP instance\\nC    -2.0000    1.4140    -2.4490\\nC    -2.0000    1.4140    0.0000\\nC    -1.5000    0.0000    0.0000\\nC    -1.5000    2.1210    -1.2250\\nC    -1.4980    -0.0000    -2.4480\\nC    0.0000    0.0000    0.0000\");\n",
       "viewer_1690379147910237.zoomTo();\n",
       "\tviewer_1690379147910237.setBackgroundColor(\"#000000\",0.2);\n",
       "\tviewer_1690379147910237.setStyle({\"stick\": {\"radius\": 0.1, \"color\": \"#cbd5e1\"}, \"sphere\": {\"scale\": 0.2, \"color\": \"#60a5fa\"}});\n",
       "viewer_1690379147910237.render();\n",
       "});\n",
       "</script>"
      ]
     },
     "metadata": {},
     "output_type": "display_data"
    },
    {
     "data": {
      "text/plain": [
       "<py3Dmol.view at 0x2020f7eb6d0>"
      ]
     },
     "execution_count": 8,
     "metadata": {},
     "output_type": "execute_result"
    }
   ],
   "source": [
    "# previous_a = []\n",
    "\n",
    "# TODO: evitar que o cara encontre a mesma solução errada várias vezes.\n",
    "\n",
    "# while not instance.is_solved():\n",
    "while instance.fixed_n < instance.n:\n",
    "    print(\"reset\")\n",
    "    instance.reset_random_core(5)\n",
    "\n",
    "    # m = M4(instance, n=4, previous_a=previous_a, env=env)\n",
    "    # # m.Params.TimeLimit = 120\n",
    "    # m.optimize()\n",
    "\n",
    "    # previous_a.append(list(m.a_ijk_values()))\n",
    "    # print(list(m.a_ijk_values()))\n",
    "\n",
    "    while instance.fixed_n < instance.n:\n",
    "        print(\"step\")\n",
    "        m = M4(instance, n=1, env=env)\n",
    "        m.setParam(\"TimeLimit\", 60)\n",
    "        m.optimize()\n",
    "\n",
    "        if m.Status is not GRB.OPTIMAL:\n",
    "            break\n",
    "\n",
    "instance.view()"
   ]
  }
 ],
 "metadata": {
  "kernelspec": {
   "display_name": "venv",
   "language": "python",
   "name": "python3"
  },
  "language_info": {
   "codemirror_mode": {
    "name": "ipython",
    "version": 3
   },
   "file_extension": ".py",
   "mimetype": "text/x-python",
   "name": "python",
   "nbconvert_exporter": "python",
   "pygments_lexer": "ipython3",
   "version": "3.11.4"
  },
  "orig_nbformat": 4
 },
 "nbformat": 4,
 "nbformat_minor": 2
}
