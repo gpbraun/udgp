{
 "cells": [
  {
   "cell_type": "markdown",
   "metadata": {},
   "source": [
    "# Geração de instâncias"
   ]
  },
  {
   "cell_type": "code",
   "execution_count": 1,
   "metadata": {},
   "outputs": [],
   "source": [
    "import numpy as np\n",
    "import gurobipy as gp\n",
    "from gurobipy import GRB\n",
    "from udgp import M1, M2, M4, M5, Instance"
   ]
  },
  {
   "cell_type": "code",
   "execution_count": 2,
   "metadata": {},
   "outputs": [
    {
     "name": "stdout",
     "output_type": "stream",
     "text": [
      "Set parameter Username\n",
      "Academic license - for non-commercial use only - expires 2024-07-25\n"
     ]
    }
   ],
   "source": [
    "env = gp.Env()"
   ]
  },
  {
   "cell_type": "code",
   "execution_count": 3,
   "metadata": {},
   "outputs": [
    {
     "data": {
      "application/3dmoljs_load.v0": "<div id=\"3dmolviewer_1690406260631699\"  style=\"position: relative; width: 400px; height: 350px;\">\n        <p id=\"3dmolwarning_1690406260631699\" style=\"background-color:#ffcccc;color:black\">You appear to be running in JupyterLab (or JavaScript failed to load for some other reason).  You need to install the 3dmol extension: <br>\n        <tt>jupyter labextension install jupyterlab_3dmol</tt></p>\n        </div>\n<script>\n\nvar loadScriptAsync = function(uri){\n  return new Promise((resolve, reject) => {\n    //this is to ignore the existence of requirejs amd\n    var savedexports, savedmodule;\n    if (typeof exports !== 'undefined') savedexports = exports;\n    else exports = {}\n    if (typeof module !== 'undefined') savedmodule = module;\n    else module = {}\n\n    var tag = document.createElement('script');\n    tag.src = uri;\n    tag.async = true;\n    tag.onload = () => {\n        exports = savedexports;\n        module = savedmodule;\n        resolve();\n    };\n  var firstScriptTag = document.getElementsByTagName('script')[0];\n  firstScriptTag.parentNode.insertBefore(tag, firstScriptTag);\n});\n};\n\nif(typeof $3Dmolpromise === 'undefined') {\n$3Dmolpromise = null;\n  $3Dmolpromise = loadScriptAsync('https://cdnjs.cloudflare.com/ajax/libs/3Dmol/2.0.3/3Dmol-min.js');\n}\n\nvar viewer_1690406260631699 = null;\nvar warn = document.getElementById(\"3dmolwarning_1690406260631699\");\nif(warn) {\n    warn.parentNode.removeChild(warn);\n}\n$3Dmolpromise.then(function() {\nviewer_1690406260631699 = $3Dmol.createViewer(document.getElementById(\"3dmolviewer_1690406260631699\"),{backgroundColor:\"white\"});\nviewer_1690406260631699.addModel(\"6\\nuDGP instance\\nC    0.0000    0.0000    0.0000\\nC    -1.5000    0.0000    0.0000\\nC    -2.0000    1.4141    0.0000\\nC    -1.5000    2.1211    -1.2246\\nC    -2.0000    3.5352    -1.2246\\nC    -1.5000    4.2422    0.0000\");\nviewer_1690406260631699.zoomTo();\n\tviewer_1690406260631699.setBackgroundColor(\"#000000\",0.2);\n\tviewer_1690406260631699.setStyle({\"stick\": {\"radius\": 0.1, \"color\": \"#cbd5e1\"}, \"sphere\": {\"scale\": 0.2, \"color\": \"#60a5fa\"}});\nviewer_1690406260631699.render();\n});\n</script>",
      "text/html": [
       "<div id=\"3dmolviewer_1690406260631699\"  style=\"position: relative; width: 400px; height: 350px;\">\n",
       "        <p id=\"3dmolwarning_1690406260631699\" style=\"background-color:#ffcccc;color:black\">You appear to be running in JupyterLab (or JavaScript failed to load for some other reason).  You need to install the 3dmol extension: <br>\n",
       "        <tt>jupyter labextension install jupyterlab_3dmol</tt></p>\n",
       "        </div>\n",
       "<script>\n",
       "\n",
       "var loadScriptAsync = function(uri){\n",
       "  return new Promise((resolve, reject) => {\n",
       "    //this is to ignore the existence of requirejs amd\n",
       "    var savedexports, savedmodule;\n",
       "    if (typeof exports !== 'undefined') savedexports = exports;\n",
       "    else exports = {}\n",
       "    if (typeof module !== 'undefined') savedmodule = module;\n",
       "    else module = {}\n",
       "\n",
       "    var tag = document.createElement('script');\n",
       "    tag.src = uri;\n",
       "    tag.async = true;\n",
       "    tag.onload = () => {\n",
       "        exports = savedexports;\n",
       "        module = savedmodule;\n",
       "        resolve();\n",
       "    };\n",
       "  var firstScriptTag = document.getElementsByTagName('script')[0];\n",
       "  firstScriptTag.parentNode.insertBefore(tag, firstScriptTag);\n",
       "});\n",
       "};\n",
       "\n",
       "if(typeof $3Dmolpromise === 'undefined') {\n",
       "$3Dmolpromise = null;\n",
       "  $3Dmolpromise = loadScriptAsync('https://cdnjs.cloudflare.com/ajax/libs/3Dmol/2.0.3/3Dmol-min.js');\n",
       "}\n",
       "\n",
       "var viewer_1690406260631699 = null;\n",
       "var warn = document.getElementById(\"3dmolwarning_1690406260631699\");\n",
       "if(warn) {\n",
       "    warn.parentNode.removeChild(warn);\n",
       "}\n",
       "$3Dmolpromise.then(function() {\n",
       "viewer_1690406260631699 = $3Dmol.createViewer(document.getElementById(\"3dmolviewer_1690406260631699\"),{backgroundColor:\"white\"});\n",
       "viewer_1690406260631699.addModel(\"6\\nuDGP instance\\nC    0.0000    0.0000    0.0000\\nC    -1.5000    0.0000    0.0000\\nC    -2.0000    1.4141    0.0000\\nC    -1.5000    2.1211    -1.2246\\nC    -2.0000    3.5352    -1.2246\\nC    -1.5000    4.2422    0.0000\");\n",
       "viewer_1690406260631699.zoomTo();\n",
       "\tviewer_1690406260631699.setBackgroundColor(\"#000000\",0.2);\n",
       "\tviewer_1690406260631699.setStyle({\"stick\": {\"radius\": 0.1, \"color\": \"#cbd5e1\"}, \"sphere\": {\"scale\": 0.2, \"color\": \"#60a5fa\"}});\n",
       "viewer_1690406260631699.render();\n",
       "});\n",
       "</script>"
      ]
     },
     "metadata": {},
     "output_type": "display_data"
    },
    {
     "data": {
      "text/plain": [
       "<py3Dmol.view at 0x7f0e31fbc150>"
      ]
     },
     "execution_count": 3,
     "metadata": {},
     "output_type": "execute_result"
    }
   ],
   "source": [
    "N = 6\n",
    "instance = Instance.random(N, freq=True)\n",
    "\n",
    "instance.view_input()"
   ]
  },
  {
   "cell_type": "code",
   "execution_count": 4,
   "metadata": {},
   "outputs": [
    {
     "name": "stdout",
     "output_type": "stream",
     "text": [
      "reset\n",
      "[(0, 1, 3), (0, 2, 0), (0, 3, 1), (0, 4, 2), (1, 2, 4), (1, 3, 4), (1, 4, 5), (2, 3, 2), (2, 4, 1), (3, 4, 0)]\n",
      "step\n",
      "Modelo inviável.\n",
      "reset\n",
      "[(0, 1, 2), (0, 2, 0), (0, 3, 1), (0, 4, 1), (1, 2, 1), (1, 3, 0), (1, 4, 0), (2, 3, 2), (2, 4, 0), (3, 4, 1)]\n",
      "step\n",
      "Modelo inviável.\n",
      "reset\n",
      "[(0, 1, 4), (0, 2, 5), (0, 3, 3), (0, 4, 4), (1, 2, 1), (1, 3, 0), (1, 4, 2), (2, 3, 2), (2, 4, 0), (3, 4, 1)]\n",
      "step\n",
      "Modelo inviável.\n",
      "reset\n",
      "[(0, 1, 5), (0, 2, 4), (0, 3, 4), (0, 4, 3), (1, 2, 2), (1, 3, 1), (1, 4, 0), (2, 3, 2), (2, 4, 0), (3, 4, 1)]\n",
      "step\n",
      "Modelo inviável.\n",
      "reset\n",
      "[(0, 1, 4), (0, 2, 2), (0, 3, 5), (0, 4, 4), (1, 2, 3), (1, 3, 1), (1, 4, 0), (2, 3, 1), (2, 4, 2), (3, 4, 0)]\n",
      "step\n",
      "Modelo inviável.\n",
      "reset\n",
      "[(0, 1, 1), (0, 2, 5), (0, 3, 2), (0, 4, 4), (1, 2, 3), (1, 3, 1), (1, 4, 1), (2, 3, 4), (2, 4, 1), (3, 4, 2)]\n",
      "step\n",
      "Modelo inviável.\n",
      "reset\n",
      "[(0, 1, 2), (0, 2, 5), (0, 3, 1), (0, 4, 0), (1, 2, 3), (1, 3, 0), (1, 4, 1), (2, 3, 4), (2, 4, 4), (3, 4, 2)]\n",
      "step\n",
      "Modelo inviável.\n",
      "reset\n",
      "[(0, 1, 1), (0, 2, 0), (0, 3, 4), (0, 4, 5), (1, 2, 2), (1, 3, 1), (1, 4, 2), (2, 3, 3), (2, 4, 4), (3, 4, 1)]\n",
      "step\n",
      "Modelo inviável.\n",
      "reset\n",
      "[(0, 1, 3), (0, 2, 4), (0, 3, 4), (0, 4, 0), (1, 2, 1), (1, 3, 1), (1, 4, 1), (2, 3, 1), (2, 4, 2), (3, 4, 2)]\n",
      "step\n",
      "Modelo inviável.\n",
      "reset\n",
      "[(0, 1, 4), (0, 2, 5), (0, 3, 3), (0, 4, 4), (1, 2, 0), (1, 3, 1), (1, 4, 2), (2, 3, 2), (2, 4, 1), (3, 4, 0)]\n",
      "step\n",
      "Modelo inviável.\n",
      "reset\n",
      "[(0, 1, 0), (0, 2, 1), (0, 3, 0), (0, 4, 2), (1, 2, 0), (1, 3, 0), (1, 4, 4), (2, 3, 1), (2, 4, 5), (3, 4, 3)]\n",
      "step\n",
      "Modelo inviável.\n",
      "reset\n",
      "[(0, 1, 0), (0, 2, 1), (0, 3, 5), (0, 4, 2), (1, 2, 1), (1, 3, 3), (1, 4, 0), (2, 3, 4), (2, 4, 2), (3, 4, 4)]\n",
      "step\n",
      "Modelo inviável.\n",
      "reset\n",
      "[(0, 1, 2), (0, 2, 4), (0, 3, 5), (0, 4, 4), (1, 2, 0), (1, 3, 1), (1, 4, 1), (2, 3, 0), (2, 4, 2), (3, 4, 3)]\n",
      "step\n",
      "Modelo inviável.\n",
      "reset\n",
      "[(0, 1, 1), (0, 2, 0), (0, 3, 0), (0, 4, 2), (1, 2, 2), (1, 3, 0), (1, 4, 0), (2, 3, 1), (2, 4, 1), (3, 4, 1)]\n",
      "step\n",
      "Modelo inviável.\n",
      "reset\n",
      "[(0, 1, 1), (0, 2, 4), (0, 3, 2), (0, 4, 1), (1, 2, 4), (1, 3, 3), (1, 4, 1), (2, 3, 2), (2, 4, 1), (3, 4, 0)]\n",
      "step\n",
      "Modelo inviável.\n",
      "reset\n",
      "[(0, 1, 0), (0, 2, 0), (0, 3, 4), (0, 4, 1), (1, 2, 1), (1, 3, 2), (1, 4, 1), (2, 3, 5), (2, 4, 1), (3, 4, 3)]\n",
      "step\n",
      "Modelo inviável.\n",
      "reset\n",
      "[(0, 1, 4), (0, 2, 4), (0, 3, 3), (0, 4, 5), (1, 2, 2), (1, 3, 1), (1, 4, 0), (2, 3, 0), (2, 4, 1), (3, 4, 0)]\n",
      "step\n",
      "Modelo inviável.\n",
      "reset\n",
      "[(0, 1, 1), (0, 2, 3), (0, 3, 4), (0, 4, 0), (1, 2, 0), (1, 3, 1), (1, 4, 2), (2, 3, 0), (2, 4, 4), (3, 4, 5)]\n",
      "step\n"
     ]
    },
    {
     "data": {
      "application/3dmoljs_load.v0": "<div id=\"3dmolviewer_1690406348300497\"  style=\"position: relative; width: 400px; height: 350px;\">\n        <p id=\"3dmolwarning_1690406348300497\" style=\"background-color:#ffcccc;color:black\">You appear to be running in JupyterLab (or JavaScript failed to load for some other reason).  You need to install the 3dmol extension: <br>\n        <tt>jupyter labextension install jupyterlab_3dmol</tt></p>\n        </div>\n<script>\n\nvar loadScriptAsync = function(uri){\n  return new Promise((resolve, reject) => {\n    //this is to ignore the existence of requirejs amd\n    var savedexports, savedmodule;\n    if (typeof exports !== 'undefined') savedexports = exports;\n    else exports = {}\n    if (typeof module !== 'undefined') savedmodule = module;\n    else module = {}\n\n    var tag = document.createElement('script');\n    tag.src = uri;\n    tag.async = true;\n    tag.onload = () => {\n        exports = savedexports;\n        module = savedmodule;\n        resolve();\n    };\n  var firstScriptTag = document.getElementsByTagName('script')[0];\n  firstScriptTag.parentNode.insertBefore(tag, firstScriptTag);\n});\n};\n\nif(typeof $3Dmolpromise === 'undefined') {\n$3Dmolpromise = null;\n  $3Dmolpromise = loadScriptAsync('https://cdnjs.cloudflare.com/ajax/libs/3Dmol/2.0.3/3Dmol-min.js');\n}\n\nvar viewer_1690406348300497 = null;\nvar warn = document.getElementById(\"3dmolwarning_1690406348300497\");\nif(warn) {\n    warn.parentNode.removeChild(warn);\n}\n$3Dmolpromise.then(function() {\nviewer_1690406348300497 = $3Dmol.createViewer(document.getElementById(\"3dmolviewer_1690406348300497\"),{backgroundColor:\"white\"});\nviewer_1690406348300497.addModel(\"6\\nuDGP instance\\nC    0.0000    0.0000    0.0000\\nC    1.0220    -2.2090    0.1980\\nC    0.7550    -3.6810    0.3100\\nC    0.0000    -4.1460    -0.8970\\nC    0.8060    0.2680    -1.2400\\nC    -0.2790    -1.4690    0.1030\");\nviewer_1690406348300497.zoomTo();\n\tviewer_1690406348300497.setBackgroundColor(\"#000000\",0.2);\n\tviewer_1690406348300497.setStyle({\"stick\": {\"radius\": 0.1, \"color\": \"#cbd5e1\"}, \"sphere\": {\"scale\": 0.2, \"color\": \"#60a5fa\"}});\nviewer_1690406348300497.render();\n});\n</script>",
      "text/html": [
       "<div id=\"3dmolviewer_1690406348300497\"  style=\"position: relative; width: 400px; height: 350px;\">\n",
       "        <p id=\"3dmolwarning_1690406348300497\" style=\"background-color:#ffcccc;color:black\">You appear to be running in JupyterLab (or JavaScript failed to load for some other reason).  You need to install the 3dmol extension: <br>\n",
       "        <tt>jupyter labextension install jupyterlab_3dmol</tt></p>\n",
       "        </div>\n",
       "<script>\n",
       "\n",
       "var loadScriptAsync = function(uri){\n",
       "  return new Promise((resolve, reject) => {\n",
       "    //this is to ignore the existence of requirejs amd\n",
       "    var savedexports, savedmodule;\n",
       "    if (typeof exports !== 'undefined') savedexports = exports;\n",
       "    else exports = {}\n",
       "    if (typeof module !== 'undefined') savedmodule = module;\n",
       "    else module = {}\n",
       "\n",
       "    var tag = document.createElement('script');\n",
       "    tag.src = uri;\n",
       "    tag.async = true;\n",
       "    tag.onload = () => {\n",
       "        exports = savedexports;\n",
       "        module = savedmodule;\n",
       "        resolve();\n",
       "    };\n",
       "  var firstScriptTag = document.getElementsByTagName('script')[0];\n",
       "  firstScriptTag.parentNode.insertBefore(tag, firstScriptTag);\n",
       "});\n",
       "};\n",
       "\n",
       "if(typeof $3Dmolpromise === 'undefined') {\n",
       "$3Dmolpromise = null;\n",
       "  $3Dmolpromise = loadScriptAsync('https://cdnjs.cloudflare.com/ajax/libs/3Dmol/2.0.3/3Dmol-min.js');\n",
       "}\n",
       "\n",
       "var viewer_1690406348300497 = null;\n",
       "var warn = document.getElementById(\"3dmolwarning_1690406348300497\");\n",
       "if(warn) {\n",
       "    warn.parentNode.removeChild(warn);\n",
       "}\n",
       "$3Dmolpromise.then(function() {\n",
       "viewer_1690406348300497 = $3Dmol.createViewer(document.getElementById(\"3dmolviewer_1690406348300497\"),{backgroundColor:\"white\"});\n",
       "viewer_1690406348300497.addModel(\"6\\nuDGP instance\\nC    0.0000    0.0000    0.0000\\nC    1.0220    -2.2090    0.1980\\nC    0.7550    -3.6810    0.3100\\nC    0.0000    -4.1460    -0.8970\\nC    0.8060    0.2680    -1.2400\\nC    -0.2790    -1.4690    0.1030\");\n",
       "viewer_1690406348300497.zoomTo();\n",
       "\tviewer_1690406348300497.setBackgroundColor(\"#000000\",0.2);\n",
       "\tviewer_1690406348300497.setStyle({\"stick\": {\"radius\": 0.1, \"color\": \"#cbd5e1\"}, \"sphere\": {\"scale\": 0.2, \"color\": \"#60a5fa\"}});\n",
       "viewer_1690406348300497.render();\n",
       "});\n",
       "</script>"
      ]
     },
     "metadata": {},
     "output_type": "display_data"
    },
    {
     "data": {
      "text/plain": [
       "<py3Dmol.view at 0x7f0e32564d90>"
      ]
     },
     "execution_count": 4,
     "metadata": {},
     "output_type": "execute_result"
    }
   ],
   "source": [
    "previous_a = []\n",
    "\n",
    "while not instance.is_solved():\n",
    "# while instance.fixed_n < instance.n:\n",
    "    instance.reset()\n",
    "    print(\"reset\")\n",
    "    # instance.reset_random_core(5)\n",
    "\n",
    "    m = M4(instance, n=4, previous_a=previous_a, env=env)\n",
    "    # m.Params.TimeLimit = 120\n",
    "    m.optimize()\n",
    "\n",
    "    previous_a.append(list(m.a_ijk_values()))\n",
    "    print(list(m.a_ijk_values()))\n",
    "\n",
    "    while instance.fixed_n < instance.n:\n",
    "        print(\"step\")\n",
    "        m = M4(instance, n=1, env=env)\n",
    "        m.setParam(\"TimeLimit\", 60)\n",
    "        m.optimize()\n",
    "\n",
    "        if m.Status is not GRB.OPTIMAL:\n",
    "            break\n",
    "\n",
    "instance.view()\n"
   ]
  },
  {
   "cell_type": "code",
   "execution_count": 5,
   "metadata": {},
   "outputs": [
    {
     "data": {
      "text/plain": [
       "array([[ 0.   ,  0.   ,  0.   ],\n",
       "       [ 1.022, -2.209,  0.198],\n",
       "       [ 0.755, -3.681,  0.31 ],\n",
       "       [ 0.   , -4.146, -0.897],\n",
       "       [ 0.806,  0.268, -1.24 ],\n",
       "       [-0.279, -1.469,  0.103]])"
      ]
     },
     "execution_count": 5,
     "metadata": {},
     "output_type": "execute_result"
    }
   ],
   "source": [
    "instance.coords"
   ]
  }
 ],
 "metadata": {
  "kernelspec": {
   "display_name": "venv",
   "language": "python",
   "name": "python3"
  },
  "language_info": {
   "codemirror_mode": {
    "name": "ipython",
    "version": 3
   },
   "file_extension": ".py",
   "mimetype": "text/x-python",
   "name": "python",
   "nbconvert_exporter": "python",
   "pygments_lexer": "ipython3",
   "version": "3.11.2"
  },
  "orig_nbformat": 4
 },
 "nbformat": 4,
 "nbformat_minor": 2
}
