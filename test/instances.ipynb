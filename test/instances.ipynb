{
 "cells": [
  {
   "cell_type": "markdown",
   "metadata": {},
   "source": [
    "# Geração de instâncias"
   ]
  },
  {
   "cell_type": "code",
   "execution_count": 4,
   "metadata": {},
   "outputs": [
    {
     "name": "stdout",
     "output_type": "stream",
     "text": [
      "Set parameter WLSAccessID\n",
      "Set parameter WLSSecret\n",
      "Set parameter LicenseID to value 2372514\n",
      "Academic license - for non-commercial use only - registered to braun@cos.ufrj.br\n"
     ]
    }
   ],
   "source": [
    "import numpy as np\n",
    "import gurobipy as gp\n",
    "from gurobipy import GRB\n",
    "env = gp.Env()"
   ]
  },
  {
   "cell_type": "code",
   "execution_count": 5,
   "metadata": {},
   "outputs": [
    {
     "data": {
      "application/3dmoljs_load.v0": "<div id=\"3dmolviewer_16901621171430078\"  style=\"position: relative; width: 400px; height: 350px;\">\n        <p id=\"3dmolwarning_16901621171430078\" style=\"background-color:#ffcccc;color:black\">You appear to be running in JupyterLab (or JavaScript failed to load for some other reason).  You need to install the 3dmol extension: <br>\n        <tt>jupyter labextension install jupyterlab_3dmol</tt></p>\n        </div>\n<script>\n\nvar loadScriptAsync = function(uri){\n  return new Promise((resolve, reject) => {\n    //this is to ignore the existence of requirejs amd\n    var savedexports, savedmodule;\n    if (typeof exports !== 'undefined') savedexports = exports;\n    else exports = {}\n    if (typeof module !== 'undefined') savedmodule = module;\n    else module = {}\n\n    var tag = document.createElement('script');\n    tag.src = uri;\n    tag.async = true;\n    tag.onload = () => {\n        exports = savedexports;\n        module = savedmodule;\n        resolve();\n    };\n  var firstScriptTag = document.getElementsByTagName('script')[0];\n  firstScriptTag.parentNode.insertBefore(tag, firstScriptTag);\n});\n};\n\nif(typeof $3Dmolpromise === 'undefined') {\n$3Dmolpromise = null;\n  $3Dmolpromise = loadScriptAsync('https://cdnjs.cloudflare.com/ajax/libs/3Dmol/2.0.3/3Dmol-min.js');\n}\n\nvar viewer_16901621171430078 = null;\nvar warn = document.getElementById(\"3dmolwarning_16901621171430078\");\nif(warn) {\n    warn.parentNode.removeChild(warn);\n}\n$3Dmolpromise.then(function() {\nviewer_16901621171430078 = $3Dmol.createViewer(document.getElementById(\"3dmolviewer_16901621171430078\"),{backgroundColor:\"white\"});\nviewer_16901621171430078.addModel(\"8\\nuDGP instance\\nC    -5.5000    -1.4142    0.0000\\nC    -4.0000    -1.4142    0.0000\\nC    -4.0000    0.7071    -1.2247\\nC    -3.5000    -0.7071    -1.2247\\nC    -3.5000    1.4142    -0.0000\\nC    -2.0000    1.4142    0.0000\\nC    -1.5000    0.0000    0.0000\\nC    0.0000    0.0000    0.0000\");\nviewer_16901621171430078.zoomTo();\n\tviewer_16901621171430078.setBackgroundColor(\"#000000\",0.2);\n\tviewer_16901621171430078.setStyle({\"stick\": {\"radius\": 0.1, \"color\": \"#cbd5e1\"}, \"sphere\": {\"scale\": 0.2, \"color\": \"#60a5fa\"}});\nviewer_16901621171430078.render();\n});\n</script>",
      "text/html": [
       "<div id=\"3dmolviewer_16901621171430078\"  style=\"position: relative; width: 400px; height: 350px;\">\n",
       "        <p id=\"3dmolwarning_16901621171430078\" style=\"background-color:#ffcccc;color:black\">You appear to be running in JupyterLab (or JavaScript failed to load for some other reason).  You need to install the 3dmol extension: <br>\n",
       "        <tt>jupyter labextension install jupyterlab_3dmol</tt></p>\n",
       "        </div>\n",
       "<script>\n",
       "\n",
       "var loadScriptAsync = function(uri){\n",
       "  return new Promise((resolve, reject) => {\n",
       "    //this is to ignore the existence of requirejs amd\n",
       "    var savedexports, savedmodule;\n",
       "    if (typeof exports !== 'undefined') savedexports = exports;\n",
       "    else exports = {}\n",
       "    if (typeof module !== 'undefined') savedmodule = module;\n",
       "    else module = {}\n",
       "\n",
       "    var tag = document.createElement('script');\n",
       "    tag.src = uri;\n",
       "    tag.async = true;\n",
       "    tag.onload = () => {\n",
       "        exports = savedexports;\n",
       "        module = savedmodule;\n",
       "        resolve();\n",
       "    };\n",
       "  var firstScriptTag = document.getElementsByTagName('script')[0];\n",
       "  firstScriptTag.parentNode.insertBefore(tag, firstScriptTag);\n",
       "});\n",
       "};\n",
       "\n",
       "if(typeof $3Dmolpromise === 'undefined') {\n",
       "$3Dmolpromise = null;\n",
       "  $3Dmolpromise = loadScriptAsync('https://cdnjs.cloudflare.com/ajax/libs/3Dmol/2.0.3/3Dmol-min.js');\n",
       "}\n",
       "\n",
       "var viewer_16901621171430078 = null;\n",
       "var warn = document.getElementById(\"3dmolwarning_16901621171430078\");\n",
       "if(warn) {\n",
       "    warn.parentNode.removeChild(warn);\n",
       "}\n",
       "$3Dmolpromise.then(function() {\n",
       "viewer_16901621171430078 = $3Dmol.createViewer(document.getElementById(\"3dmolviewer_16901621171430078\"),{backgroundColor:\"white\"});\n",
       "viewer_16901621171430078.addModel(\"8\\nuDGP instance\\nC    -5.5000    -1.4142    0.0000\\nC    -4.0000    -1.4142    0.0000\\nC    -4.0000    0.7071    -1.2247\\nC    -3.5000    -0.7071    -1.2247\\nC    -3.5000    1.4142    -0.0000\\nC    -2.0000    1.4142    0.0000\\nC    -1.5000    0.0000    0.0000\\nC    0.0000    0.0000    0.0000\");\n",
       "viewer_16901621171430078.zoomTo();\n",
       "\tviewer_16901621171430078.setBackgroundColor(\"#000000\",0.2);\n",
       "\tviewer_16901621171430078.setStyle({\"stick\": {\"radius\": 0.1, \"color\": \"#cbd5e1\"}, \"sphere\": {\"scale\": 0.2, \"color\": \"#60a5fa\"}});\n",
       "viewer_16901621171430078.render();\n",
       "});\n",
       "</script>"
      ]
     },
     "metadata": {},
     "output_type": "display_data"
    },
    {
     "data": {
      "text/plain": [
       "<py3Dmol.view at 0x7fc2d01c5090>"
      ]
     },
     "execution_count": 5,
     "metadata": {},
     "output_type": "execute_result"
    }
   ],
   "source": [
    "from udgp import M4, generate_random_instance\n",
    "\n",
    "# 12345 (átomo redundante)\n",
    "\n",
    "N = 8\n",
    "instance = generate_random_instance(N)\n",
    "\n",
    "instance.view_input()\n"
   ]
  },
  {
   "cell_type": "code",
   "execution_count": 6,
   "metadata": {},
   "outputs": [
    {
     "name": "stdout",
     "output_type": "stream",
     "text": [
      "tentativa\n",
      "\n",
      "Interrupt request received\n",
      "tentativa\n",
      "\n",
      "Interrupt request received\n",
      "tentativa\n"
     ]
    }
   ],
   "source": [
    "previous_a = []\n",
    "inst = instance\n",
    "\n",
    "while not inst.is_solved():\n",
    "    print(\"tentativa\")\n",
    "\n",
    "    inst = instance\n",
    "\n",
    "    m = M4(inst, n=4, max_gap=1e-2, previous_a=previous_a, env=env)\n",
    "    # m.Params.TimeLimit = 120\n",
    "    m.optimize()\n",
    "    inst = m.instance\n",
    "\n",
    "    if m.Status is not GRB.OPTIMAL:\n",
    "        continue\n",
    "    \n",
    "    previous_a.append(list(m.a_ijk_values()))\n",
    "\n",
    "    print(list(m.a_ijk_values()))\n",
    "\n",
    "    while inst.coords.shape[0] < inst.n:\n",
    "        # print(\"step\")\n",
    "        m = M4(inst, n=1, max_gap=1e-2, env=env)\n",
    "        m.setParam('TimeLimit', 60)\n",
    "        m.optimize()\n",
    "\n",
    "        if m.Status is not GRB.OPTIMAL:\n",
    "            break\n",
    "\n",
    "        inst = m.instance\n",
    "\n",
    "inst.view()\n"
   ]
  }
 ],
 "metadata": {
  "kernelspec": {
   "display_name": "venv",
   "language": "python",
   "name": "python3"
  },
  "language_info": {
   "codemirror_mode": {
    "name": "ipython",
    "version": 3
   },
   "file_extension": ".py",
   "mimetype": "text/x-python",
   "name": "python",
   "nbconvert_exporter": "python",
   "pygments_lexer": "ipython3",
   "version": "3.11.2"
  },
  "orig_nbformat": 4
 },
 "nbformat": 4,
 "nbformat_minor": 2
}
