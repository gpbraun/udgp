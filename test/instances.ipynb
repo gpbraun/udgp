{
 "cells": [
  {
   "cell_type": "markdown",
   "metadata": {},
   "source": [
    "# Geração de instâncias"
   ]
  },
  {
   "cell_type": "code",
   "execution_count": 1,
   "metadata": {},
   "outputs": [],
   "source": [
    "import numpy as np\n",
    "import gurobipy as gp\n",
    "from gurobipy import GRB\n",
    "from udgp import M1, M2, M4, M5, Instance"
   ]
  },
  {
   "cell_type": "code",
   "execution_count": 2,
   "metadata": {},
   "outputs": [
    {
     "name": "stdout",
     "output_type": "stream",
     "text": [
      "Set parameter WLSAccessID\n",
      "Set parameter WLSSecret\n",
      "Set parameter LicenseID to value 2372514\n",
      "Academic license - for non-commercial use only - registered to braun@cos.ufrj.br\n"
     ]
    }
   ],
   "source": [
    "env = gp.Env()"
   ]
  },
  {
   "cell_type": "code",
   "execution_count": 5,
   "metadata": {},
   "outputs": [],
   "source": [
    "coords = np.array(\n",
    "    [\n",
    "        [-0.9523699364, 0.0159052548, -0.0840802250],\n",
    "        [-0.2528949024, 0.8598484003, -0.3332183372],\n",
    "        [-0.3357005052, -0.8500181306, 0.2812584200],\n",
    "        [0.7960710440, 0.5155096551, -0.1218613860],\n",
    "        [0.7448954577, -0.5412454414, 0.2579017563],\n",
    "        [-0.0442130155, 0.1953980103, 0.5377653956],\n",
    "        [0.0442118576, -0.1953977484, -0.5377656238],\n",
    "    ]\n",
    ")"
   ]
  },
  {
   "cell_type": "code",
   "execution_count": 9,
   "metadata": {},
   "outputs": [
    {
     "data": {
      "application/3dmoljs_load.v0": "<div id=\"3dmolviewer_16903960045868788\"  style=\"position: relative; width: 400px; height: 350px;\">\n        <p id=\"3dmolwarning_16903960045868788\" style=\"background-color:#ffcccc;color:black\">You appear to be running in JupyterLab (or JavaScript failed to load for some other reason).  You need to install the 3dmol extension: <br>\n        <tt>jupyter labextension install jupyterlab_3dmol</tt></p>\n        </div>\n<script>\n\nvar loadScriptAsync = function(uri){\n  return new Promise((resolve, reject) => {\n    //this is to ignore the existence of requirejs amd\n    var savedexports, savedmodule;\n    if (typeof exports !== 'undefined') savedexports = exports;\n    else exports = {}\n    if (typeof module !== 'undefined') savedmodule = module;\n    else module = {}\n\n    var tag = document.createElement('script');\n    tag.src = uri;\n    tag.async = true;\n    tag.onload = () => {\n        exports = savedexports;\n        module = savedmodule;\n        resolve();\n    };\n  var firstScriptTag = document.getElementsByTagName('script')[0];\n  firstScriptTag.parentNode.insertBefore(tag, firstScriptTag);\n});\n};\n\nif(typeof $3Dmolpromise === 'undefined') {\n$3Dmolpromise = null;\n  $3Dmolpromise = loadScriptAsync('https://cdnjs.cloudflare.com/ajax/libs/3Dmol/2.0.3/3Dmol-min.js');\n}\n\nvar viewer_16903960045868788 = null;\nvar warn = document.getElementById(\"3dmolwarning_16903960045868788\");\nif(warn) {\n    warn.parentNode.removeChild(warn);\n}\n$3Dmolpromise.then(function() {\nviewer_16903960045868788 = $3Dmol.createViewer(document.getElementById(\"3dmolviewer_16903960045868788\"),{backgroundColor:\"white\"});\nviewer_16903960045868788.addModel(\"6\\nuDGP instance\\nC    0.0000    0.0000    0.0000\\nC    -1.5000    0.0000    0.0000\\nC    -2.0000    1.4141    0.0000\\nC    -1.5000    2.1211    -1.2246\\nC    -2.0000    3.5352    -1.2246\\nC    -3.5000    3.5352    -1.2246\");\nviewer_16903960045868788.zoomTo();\n\tviewer_16903960045868788.setBackgroundColor(\"#000000\",0.2);\n\tviewer_16903960045868788.setStyle({\"stick\": {\"radius\": 0.1, \"color\": \"#cbd5e1\"}, \"sphere\": {\"scale\": 0.2, \"color\": \"#60a5fa\"}});\nviewer_16903960045868788.render();\n});\n</script>",
      "text/html": [
       "<div id=\"3dmolviewer_16903960045868788\"  style=\"position: relative; width: 400px; height: 350px;\">\n",
       "        <p id=\"3dmolwarning_16903960045868788\" style=\"background-color:#ffcccc;color:black\">You appear to be running in JupyterLab (or JavaScript failed to load for some other reason).  You need to install the 3dmol extension: <br>\n",
       "        <tt>jupyter labextension install jupyterlab_3dmol</tt></p>\n",
       "        </div>\n",
       "<script>\n",
       "\n",
       "var loadScriptAsync = function(uri){\n",
       "  return new Promise((resolve, reject) => {\n",
       "    //this is to ignore the existence of requirejs amd\n",
       "    var savedexports, savedmodule;\n",
       "    if (typeof exports !== 'undefined') savedexports = exports;\n",
       "    else exports = {}\n",
       "    if (typeof module !== 'undefined') savedmodule = module;\n",
       "    else module = {}\n",
       "\n",
       "    var tag = document.createElement('script');\n",
       "    tag.src = uri;\n",
       "    tag.async = true;\n",
       "    tag.onload = () => {\n",
       "        exports = savedexports;\n",
       "        module = savedmodule;\n",
       "        resolve();\n",
       "    };\n",
       "  var firstScriptTag = document.getElementsByTagName('script')[0];\n",
       "  firstScriptTag.parentNode.insertBefore(tag, firstScriptTag);\n",
       "});\n",
       "};\n",
       "\n",
       "if(typeof $3Dmolpromise === 'undefined') {\n",
       "$3Dmolpromise = null;\n",
       "  $3Dmolpromise = loadScriptAsync('https://cdnjs.cloudflare.com/ajax/libs/3Dmol/2.0.3/3Dmol-min.js');\n",
       "}\n",
       "\n",
       "var viewer_16903960045868788 = null;\n",
       "var warn = document.getElementById(\"3dmolwarning_16903960045868788\");\n",
       "if(warn) {\n",
       "    warn.parentNode.removeChild(warn);\n",
       "}\n",
       "$3Dmolpromise.then(function() {\n",
       "viewer_16903960045868788 = $3Dmol.createViewer(document.getElementById(\"3dmolviewer_16903960045868788\"),{backgroundColor:\"white\"});\n",
       "viewer_16903960045868788.addModel(\"6\\nuDGP instance\\nC    0.0000    0.0000    0.0000\\nC    -1.5000    0.0000    0.0000\\nC    -2.0000    1.4141    0.0000\\nC    -1.5000    2.1211    -1.2246\\nC    -2.0000    3.5352    -1.2246\\nC    -3.5000    3.5352    -1.2246\");\n",
       "viewer_16903960045868788.zoomTo();\n",
       "\tviewer_16903960045868788.setBackgroundColor(\"#000000\",0.2);\n",
       "\tviewer_16903960045868788.setStyle({\"stick\": {\"radius\": 0.1, \"color\": \"#cbd5e1\"}, \"sphere\": {\"scale\": 0.2, \"color\": \"#60a5fa\"}});\n",
       "viewer_16903960045868788.render();\n",
       "});\n",
       "</script>"
      ]
     },
     "metadata": {},
     "output_type": "display_data"
    },
    {
     "data": {
      "text/plain": [
       "<py3Dmol.view at 0x2314cb5bc10>"
      ]
     },
     "execution_count": 9,
     "metadata": {},
     "output_type": "execute_result"
    }
   ],
   "source": [
    "N = 6\n",
    "instance = Instance.random(N, freq=True)\n",
    "# instance = Instance.from_coords(coords, freq=True)\n",
    "\n",
    "instance.view_input()"
   ]
  },
  {
   "cell_type": "code",
   "execution_count": 14,
   "metadata": {},
   "outputs": [
    {
     "data": {
      "text/plain": [
       "array([1.5  , 2.45 , 2.871, 3.465, 3.775, 4.242, 4.5  ], dtype=float16)"
      ]
     },
     "execution_count": 14,
     "metadata": {},
     "output_type": "execute_result"
    }
   ],
   "source": [
    "instance.dist"
   ]
  },
  {
   "cell_type": "code",
   "execution_count": 6,
   "metadata": {},
   "outputs": [
    {
     "name": "stdout",
     "output_type": "stream",
     "text": [
      "Set parameter LogToConsole to value 1\n",
      "Gurobi Optimizer version 10.0.2 build v10.0.2rc0 (win64)\n",
      "\n",
      "CPU model: Intel(R) Core(TM) i9-10885H CPU @ 2.40GHz, instruction set [SSE2|AVX|AVX2]\n",
      "Thread count: 8 physical cores, 16 logical processors, using up to 16 threads\n",
      "\n",
      "Academic license - for non-commercial use only - registered to braun@cos.ufrj.br\n",
      "Optimize a model with 435 rows, 206 columns and 1234 nonzeros\n",
      "Model fingerprint: 0x23dccb3b\n",
      "Model has 15 quadratic constraints\n",
      "Variable types: 146 continuous, 60 integer (60 binary)\n",
      "Coefficient statistics:\n",
      "  Matrix range     [1e+00, 2e+00]\n",
      "  QMatrix range    [1e+00, 1e+00]\n",
      "  Objective range  [1e+00, 1e+00]\n",
      "  Bounds range     [1e-01, 1e+00]\n",
      "  RHS range        [7e-01, 1e+01]\n",
      "Presolve removed 80 rows and 19 columns\n",
      "Presolve time: 0.00s\n",
      "Presolved: 550 rows, 247 columns, 1662 nonzeros\n",
      "Presolved model has 60 bilinear constraint(s)\n",
      "Variable types: 187 continuous, 60 integer (60 binary)\n",
      "\n",
      "Root relaxation: objective 0.000000e+00, 181 iterations, 0.00 seconds (0.00 work units)\n",
      "\n",
      "    Nodes    |    Current Node    |     Objective Bounds      |     Work\n",
      " Expl Unexpl |  Obj  Depth IntInf | Incumbent    BestBd   Gap | It/Node Time\n",
      "\n",
      "     0     0    0.00000    0   38          -    0.00000      -     -    0s\n",
      "     0     0    0.00000    0   20          -    0.00000      -     -    0s\n",
      "     0     0    0.00000    0   20          -    0.00000      -     -    0s\n",
      "     0     0    0.00000    0   20          -    0.00000      -     -    0s\n",
      "     0     2    0.00000    0   20          -    0.00000      -     -    0s\n",
      "  9141  5963    0.00000   46   37          -    0.00000      -  32.4    5s\n",
      " 18584 12012 infeasible   54               -    0.00000      -  40.2   10s\n",
      " 29292 18565    0.00000   67   50          -    0.00000      -  43.2   15s\n",
      " 39492 24730    0.00000   47   31          -    0.00000      -  44.3   20s\n",
      " 50902 31801    0.00000   46   49          -    0.00000      -  46.4   25s\n",
      " 63109 38928    0.00000   55   50          -    0.00000      -  47.3   30s\n",
      " 72583 43000    0.06117   56   49          -    0.00000      -  47.8   35s\n",
      " 83931 49532    0.24658   61   48          -    0.00000      -  48.2   40s\n",
      " 95858 56035    0.01662   65   38          -    0.00000      -  48.8   45s\n",
      " 103423 60453    0.00000   72   41          -    0.00000      -  48.5   50s\n",
      "*107265 49729             127       0.0559118    0.00000   100%  48.5   51s\n",
      " 113824 50454    0.00000   46   45    0.05591    0.00000   100%  48.9   55s\n",
      " 118420 51275    0.00000   51   44    0.05591    0.00000   100%  49.4   60s\n",
      "\n",
      "Cutting planes:\n",
      "  RLT: 9\n",
      "\n",
      "Explored 119089 nodes (5901103 simplex iterations) in 60.04 seconds (14.15 work units)\n",
      "Thread count was 16 (of 16 available processors)\n",
      "\n",
      "Solution count 1: 0.0559118 \n",
      "\n",
      "Time limit reached\n",
      "Warning: max constraint violation (2.0774e-02) exceeds tolerance\n",
      "Best objective 5.591175146153e-02, best bound 0.000000000000e+00, gap 100.0000%\n"
     ]
    },
    {
     "data": {
      "application/3dmoljs_load.v0": "<div id=\"3dmolviewer_16903925519068189\"  style=\"position: relative; width: 400px; height: 350px;\">\n        <p id=\"3dmolwarning_16903925519068189\" style=\"background-color:#ffcccc;color:black\">You appear to be running in JupyterLab (or JavaScript failed to load for some other reason).  You need to install the 3dmol extension: <br>\n        <tt>jupyter labextension install jupyterlab_3dmol</tt></p>\n        </div>\n<script>\n\nvar loadScriptAsync = function(uri){\n  return new Promise((resolve, reject) => {\n    //this is to ignore the existence of requirejs amd\n    var savedexports, savedmodule;\n    if (typeof exports !== 'undefined') savedexports = exports;\n    else exports = {}\n    if (typeof module !== 'undefined') savedmodule = module;\n    else module = {}\n\n    var tag = document.createElement('script');\n    tag.src = uri;\n    tag.async = true;\n    tag.onload = () => {\n        exports = savedexports;\n        module = savedmodule;\n        resolve();\n    };\n  var firstScriptTag = document.getElementsByTagName('script')[0];\n  firstScriptTag.parentNode.insertBefore(tag, firstScriptTag);\n});\n};\n\nif(typeof $3Dmolpromise === 'undefined') {\n$3Dmolpromise = null;\n  $3Dmolpromise = loadScriptAsync('https://cdnjs.cloudflare.com/ajax/libs/3Dmol/2.0.3/3Dmol-min.js');\n}\n\nvar viewer_16903925519068189 = null;\nvar warn = document.getElementById(\"3dmolwarning_16903925519068189\");\nif(warn) {\n    warn.parentNode.removeChild(warn);\n}\n$3Dmolpromise.then(function() {\nviewer_16903925519068189 = $3Dmol.createViewer(document.getElementById(\"3dmolviewer_16903925519068189\"),{backgroundColor:\"white\"});\nviewer_16903925519068189.addModel(\"6\\nuDGP instance\\nC    -0.8540    -0.1820    -0.7530\\nC    -0.4190    -0.0430    -1.7560\\nC    -0.0620    0.6230    -0.9600\\nC    0.0000    0.0000    0.0000\\nC    0.1760    -0.4980    -0.9600\\nC    0.6460    0.1950    -1.6770\");\nviewer_16903925519068189.zoomTo();\n\tviewer_16903925519068189.setBackgroundColor(\"#000000\",0.2);\n\tviewer_16903925519068189.setStyle({\"stick\": {\"radius\": 0.1, \"color\": \"#cbd5e1\"}, \"sphere\": {\"scale\": 0.2, \"color\": \"#60a5fa\"}});\nviewer_16903925519068189.render();\n});\n</script>",
      "text/html": [
       "<div id=\"3dmolviewer_16903925519068189\"  style=\"position: relative; width: 400px; height: 350px;\">\n",
       "        <p id=\"3dmolwarning_16903925519068189\" style=\"background-color:#ffcccc;color:black\">You appear to be running in JupyterLab (or JavaScript failed to load for some other reason).  You need to install the 3dmol extension: <br>\n",
       "        <tt>jupyter labextension install jupyterlab_3dmol</tt></p>\n",
       "        </div>\n",
       "<script>\n",
       "\n",
       "var loadScriptAsync = function(uri){\n",
       "  return new Promise((resolve, reject) => {\n",
       "    //this is to ignore the existence of requirejs amd\n",
       "    var savedexports, savedmodule;\n",
       "    if (typeof exports !== 'undefined') savedexports = exports;\n",
       "    else exports = {}\n",
       "    if (typeof module !== 'undefined') savedmodule = module;\n",
       "    else module = {}\n",
       "\n",
       "    var tag = document.createElement('script');\n",
       "    tag.src = uri;\n",
       "    tag.async = true;\n",
       "    tag.onload = () => {\n",
       "        exports = savedexports;\n",
       "        module = savedmodule;\n",
       "        resolve();\n",
       "    };\n",
       "  var firstScriptTag = document.getElementsByTagName('script')[0];\n",
       "  firstScriptTag.parentNode.insertBefore(tag, firstScriptTag);\n",
       "});\n",
       "};\n",
       "\n",
       "if(typeof $3Dmolpromise === 'undefined') {\n",
       "$3Dmolpromise = null;\n",
       "  $3Dmolpromise = loadScriptAsync('https://cdnjs.cloudflare.com/ajax/libs/3Dmol/2.0.3/3Dmol-min.js');\n",
       "}\n",
       "\n",
       "var viewer_16903925519068189 = null;\n",
       "var warn = document.getElementById(\"3dmolwarning_16903925519068189\");\n",
       "if(warn) {\n",
       "    warn.parentNode.removeChild(warn);\n",
       "}\n",
       "$3Dmolpromise.then(function() {\n",
       "viewer_16903925519068189 = $3Dmol.createViewer(document.getElementById(\"3dmolviewer_16903925519068189\"),{backgroundColor:\"white\"});\n",
       "viewer_16903925519068189.addModel(\"6\\nuDGP instance\\nC    -0.8540    -0.1820    -0.7530\\nC    -0.4190    -0.0430    -1.7560\\nC    -0.0620    0.6230    -0.9600\\nC    0.0000    0.0000    0.0000\\nC    0.1760    -0.4980    -0.9600\\nC    0.6460    0.1950    -1.6770\");\n",
       "viewer_16903925519068189.zoomTo();\n",
       "\tviewer_16903925519068189.setBackgroundColor(\"#000000\",0.2);\n",
       "\tviewer_16903925519068189.setStyle({\"stick\": {\"radius\": 0.1, \"color\": \"#cbd5e1\"}, \"sphere\": {\"scale\": 0.2, \"color\": \"#60a5fa\"}});\n",
       "viewer_16903925519068189.render();\n",
       "});\n",
       "</script>"
      ]
     },
     "metadata": {},
     "output_type": "display_data"
    },
    {
     "data": {
      "text/plain": [
       "<py3Dmol.view at 0x277ca64bf90>"
      ]
     },
     "execution_count": 6,
     "metadata": {},
     "output_type": "execute_result"
    }
   ],
   "source": [
    "instance.reset()\n",
    "m = M4(instance, n=5, env=env)\n",
    "m.setParam(\"TimeLimit\", 60)\n",
    "m.optimize(log=True)\n",
    "\n",
    "m.instance.view()\n"
   ]
  },
  {
   "cell_type": "code",
   "execution_count": 7,
   "metadata": {},
   "outputs": [
    {
     "name": "stdout",
     "output_type": "stream",
     "text": [
      "[[-0.854 -0.182 -0.753]\n",
      " [-0.419 -0.043 -1.756]\n",
      " [-0.062  0.623 -0.96 ]\n",
      " [ 0.     0.     0.   ]\n",
      " [ 0.176 -0.498 -0.96 ]\n",
      " [ 0.646  0.195 -1.677]]\n"
     ]
    }
   ],
   "source": [
    "print(instance.coords)\n"
   ]
  },
  {
   "cell_type": "code",
   "execution_count": 10,
   "metadata": {},
   "outputs": [
    {
     "name": "stdout",
     "output_type": "stream",
     "text": [
      "reset\n"
     ]
    },
    {
     "ename": "KeyboardInterrupt",
     "evalue": "",
     "output_type": "error",
     "traceback": [
      "\u001b[1;31m---------------------------------------------------------------------------\u001b[0m",
      "\u001b[1;31mKeyboardInterrupt\u001b[0m                         Traceback (most recent call last)",
      "Cell \u001b[1;32mIn[10], line 13\u001b[0m\n\u001b[0;32m     11\u001b[0m m \u001b[39m=\u001b[39m M4(instance, n\u001b[39m=\u001b[39m\u001b[39m4\u001b[39m, previous_a\u001b[39m=\u001b[39mprevious_a, env\u001b[39m=\u001b[39menv)\n\u001b[0;32m     12\u001b[0m \u001b[39m# m.Params.SolutionLimit = 1\u001b[39;00m\n\u001b[1;32m---> 13\u001b[0m m\u001b[39m.\u001b[39;49moptimize()\n\u001b[0;32m     15\u001b[0m previous_a\u001b[39m.\u001b[39mappend(\u001b[39mlist\u001b[39m(m\u001b[39m.\u001b[39ma_ijk_values()))\n\u001b[0;32m     16\u001b[0m \u001b[39mprint\u001b[39m(\u001b[39mlist\u001b[39m(m\u001b[39m.\u001b[39ma_ijk_values()))\n",
      "File \u001b[1;32m~\\Documents\\Braun\\Dev\\udgp\\src\\udgp\\models\\base_model.py:142\u001b[0m, in \u001b[0;36mBaseModel.optimize\u001b[1;34m(self, log)\u001b[0m\n\u001b[0;32m    139\u001b[0m \u001b[39m\u001b[39m\u001b[39m\"\"\"Otimiza o modelo e atualiza a instância.\"\"\"\u001b[39;00m\n\u001b[0;32m    140\u001b[0m \u001b[39mself\u001b[39m\u001b[39m.\u001b[39mParams\u001b[39m.\u001b[39mLogToConsole \u001b[39m=\u001b[39m log\n\u001b[1;32m--> 142\u001b[0m \u001b[39msuper\u001b[39;49m(BaseModel, \u001b[39mself\u001b[39;49m)\u001b[39m.\u001b[39;49moptimize()\n\u001b[0;32m    144\u001b[0m \u001b[39mif\u001b[39;00m \u001b[39mself\u001b[39m\u001b[39m.\u001b[39mStatus \u001b[39m==\u001b[39m GRB\u001b[39m.\u001b[39mINFEASIBLE:\n\u001b[0;32m    145\u001b[0m     \u001b[39mprint\u001b[39m(\u001b[39m\"\u001b[39m\u001b[39mModelo inviável.\u001b[39m\u001b[39m\"\u001b[39m)\n",
      "\u001b[1;31mKeyboardInterrupt\u001b[0m: "
     ]
    }
   ],
   "source": [
    "# TODO: evitar que o cara encontre a mesma solução errada várias vezes.\n",
    "\n",
    "previous_a = []\n",
    "\n",
    "while not instance.is_solved():\n",
    "    # while instance.fixed_n < instance.n:\n",
    "    print(\"reset\")\n",
    "    instance.reset()\n",
    "    # instance.reset_random_core(5)\n",
    "\n",
    "    m = M4(instance, n=4, env=env)\n",
    "    # m.Params.SolutionLimit = 1\n",
    "    m.optimize()\n",
    "\n",
    "    previous_a.append(list(m.a_ijk_values()))\n",
    "    print(list(m.a_ijk_values()))\n",
    "\n",
    "    while instance.fixed_n < instance.n:\n",
    "        print(\"step\")\n",
    "        m = M4(instance, n=1, env=env)\n",
    "        m.setParam(\"TimeLimit\", 60)\n",
    "        m.optimize()\n",
    "\n",
    "        if m.Status is not GRB.OPTIMAL:\n",
    "            break\n",
    "\n",
    "instance.view()"
   ]
  },
  {
   "cell_type": "code",
   "execution_count": 11,
   "metadata": {},
   "outputs": [
    {
     "data": {
      "application/3dmoljs_load.v0": "<div id=\"3dmolviewer_16903960196389256\"  style=\"position: relative; width: 400px; height: 350px;\">\n        <p id=\"3dmolwarning_16903960196389256\" style=\"background-color:#ffcccc;color:black\">You appear to be running in JupyterLab (or JavaScript failed to load for some other reason).  You need to install the 3dmol extension: <br>\n        <tt>jupyter labextension install jupyterlab_3dmol</tt></p>\n        </div>\n<script>\n\nvar loadScriptAsync = function(uri){\n  return new Promise((resolve, reject) => {\n    //this is to ignore the existence of requirejs amd\n    var savedexports, savedmodule;\n    if (typeof exports !== 'undefined') savedexports = exports;\n    else exports = {}\n    if (typeof module !== 'undefined') savedmodule = module;\n    else module = {}\n\n    var tag = document.createElement('script');\n    tag.src = uri;\n    tag.async = true;\n    tag.onload = () => {\n        exports = savedexports;\n        module = savedmodule;\n        resolve();\n    };\n  var firstScriptTag = document.getElementsByTagName('script')[0];\n  firstScriptTag.parentNode.insertBefore(tag, firstScriptTag);\n});\n};\n\nif(typeof $3Dmolpromise === 'undefined') {\n$3Dmolpromise = null;\n  $3Dmolpromise = loadScriptAsync('https://cdnjs.cloudflare.com/ajax/libs/3Dmol/2.0.3/3Dmol-min.js');\n}\n\nvar viewer_16903960196389256 = null;\nvar warn = document.getElementById(\"3dmolwarning_16903960196389256\");\nif(warn) {\n    warn.parentNode.removeChild(warn);\n}\n$3Dmolpromise.then(function() {\nviewer_16903960196389256 = $3Dmol.createViewer(document.getElementById(\"3dmolviewer_16903960196389256\"),{backgroundColor:\"white\"});\nviewer_16903960196389256.addModel(\"5\\nuDGP instance\\nC    -0.7180    -3.3060    1.6790\\nC    -0.3070    -4.7200    1.9640\\nC    0.0000    0.0000    0.0000\\nC    0.3020    -4.2150    -0.3530\\nC    1.7140    -3.3360    1.9860\");\nviewer_16903960196389256.zoomTo();\n\tviewer_16903960196389256.setBackgroundColor(\"#000000\",0.2);\n\tviewer_16903960196389256.setStyle({\"stick\": {\"radius\": 0.1, \"color\": \"#cbd5e1\"}, \"sphere\": {\"scale\": 0.2, \"color\": \"#60a5fa\"}});\nviewer_16903960196389256.render();\n});\n</script>",
      "text/html": [
       "<div id=\"3dmolviewer_16903960196389256\"  style=\"position: relative; width: 400px; height: 350px;\">\n",
       "        <p id=\"3dmolwarning_16903960196389256\" style=\"background-color:#ffcccc;color:black\">You appear to be running in JupyterLab (or JavaScript failed to load for some other reason).  You need to install the 3dmol extension: <br>\n",
       "        <tt>jupyter labextension install jupyterlab_3dmol</tt></p>\n",
       "        </div>\n",
       "<script>\n",
       "\n",
       "var loadScriptAsync = function(uri){\n",
       "  return new Promise((resolve, reject) => {\n",
       "    //this is to ignore the existence of requirejs amd\n",
       "    var savedexports, savedmodule;\n",
       "    if (typeof exports !== 'undefined') savedexports = exports;\n",
       "    else exports = {}\n",
       "    if (typeof module !== 'undefined') savedmodule = module;\n",
       "    else module = {}\n",
       "\n",
       "    var tag = document.createElement('script');\n",
       "    tag.src = uri;\n",
       "    tag.async = true;\n",
       "    tag.onload = () => {\n",
       "        exports = savedexports;\n",
       "        module = savedmodule;\n",
       "        resolve();\n",
       "    };\n",
       "  var firstScriptTag = document.getElementsByTagName('script')[0];\n",
       "  firstScriptTag.parentNode.insertBefore(tag, firstScriptTag);\n",
       "});\n",
       "};\n",
       "\n",
       "if(typeof $3Dmolpromise === 'undefined') {\n",
       "$3Dmolpromise = null;\n",
       "  $3Dmolpromise = loadScriptAsync('https://cdnjs.cloudflare.com/ajax/libs/3Dmol/2.0.3/3Dmol-min.js');\n",
       "}\n",
       "\n",
       "var viewer_16903960196389256 = null;\n",
       "var warn = document.getElementById(\"3dmolwarning_16903960196389256\");\n",
       "if(warn) {\n",
       "    warn.parentNode.removeChild(warn);\n",
       "}\n",
       "$3Dmolpromise.then(function() {\n",
       "viewer_16903960196389256 = $3Dmol.createViewer(document.getElementById(\"3dmolviewer_16903960196389256\"),{backgroundColor:\"white\"});\n",
       "viewer_16903960196389256.addModel(\"5\\nuDGP instance\\nC    -0.7180    -3.3060    1.6790\\nC    -0.3070    -4.7200    1.9640\\nC    0.0000    0.0000    0.0000\\nC    0.3020    -4.2150    -0.3530\\nC    1.7140    -3.3360    1.9860\");\n",
       "viewer_16903960196389256.zoomTo();\n",
       "\tviewer_16903960196389256.setBackgroundColor(\"#000000\",0.2);\n",
       "\tviewer_16903960196389256.setStyle({\"stick\": {\"radius\": 0.1, \"color\": \"#cbd5e1\"}, \"sphere\": {\"scale\": 0.2, \"color\": \"#60a5fa\"}});\n",
       "viewer_16903960196389256.render();\n",
       "});\n",
       "</script>"
      ]
     },
     "metadata": {},
     "output_type": "display_data"
    },
    {
     "data": {
      "text/plain": [
       "<py3Dmol.view at 0x23151b5c7d0>"
      ]
     },
     "execution_count": 11,
     "metadata": {},
     "output_type": "execute_result"
    }
   ],
   "source": [
    "instance.reset()\n",
    "previous_a = []\n",
    "\n",
    "m = M4(instance, n=4, previous_a=previous_a, env=env)\n",
    "m.optimize()\n",
    "\n",
    "previous_a.append(list(m.a_ijk_values()))\n",
    "\n",
    "instance.view()\n"
   ]
  },
  {
   "cell_type": "code",
   "execution_count": 17,
   "metadata": {},
   "outputs": [
    {
     "data": {
      "application/3dmoljs_load.v0": "<div id=\"3dmolviewer_16903963104592557\"  style=\"position: relative; width: 400px; height: 350px;\">\n        <p id=\"3dmolwarning_16903963104592557\" style=\"background-color:#ffcccc;color:black\">You appear to be running in JupyterLab (or JavaScript failed to load for some other reason).  You need to install the 3dmol extension: <br>\n        <tt>jupyter labextension install jupyterlab_3dmol</tt></p>\n        </div>\n<script>\n\nvar loadScriptAsync = function(uri){\n  return new Promise((resolve, reject) => {\n    //this is to ignore the existence of requirejs amd\n    var savedexports, savedmodule;\n    if (typeof exports !== 'undefined') savedexports = exports;\n    else exports = {}\n    if (typeof module !== 'undefined') savedmodule = module;\n    else module = {}\n\n    var tag = document.createElement('script');\n    tag.src = uri;\n    tag.async = true;\n    tag.onload = () => {\n        exports = savedexports;\n        module = savedmodule;\n        resolve();\n    };\n  var firstScriptTag = document.getElementsByTagName('script')[0];\n  firstScriptTag.parentNode.insertBefore(tag, firstScriptTag);\n});\n};\n\nif(typeof $3Dmolpromise === 'undefined') {\n$3Dmolpromise = null;\n  $3Dmolpromise = loadScriptAsync('https://cdnjs.cloudflare.com/ajax/libs/3Dmol/2.0.3/3Dmol-min.js');\n}\n\nvar viewer_16903963104592557 = null;\nvar warn = document.getElementById(\"3dmolwarning_16903963104592557\");\nif(warn) {\n    warn.parentNode.removeChild(warn);\n}\n$3Dmolpromise.then(function() {\nviewer_16903963104592557 = $3Dmol.createViewer(document.getElementById(\"3dmolviewer_16903963104592557\"),{backgroundColor:\"white\"});\nviewer_16903963104592557.addModel(\"5\\nuDGP instance\\nC    -0.7180    -3.3060    1.6790\\nC    -0.3070    -4.7200    1.9640\\nC    0.0000    0.0000    0.0000\\nC    0.3020    -4.2150    -0.3530\\nC    1.7140    -3.3360    1.9860\");\nviewer_16903963104592557.zoomTo();\n\tviewer_16903963104592557.setBackgroundColor(\"#000000\",0.2);\n\tviewer_16903963104592557.setStyle({\"stick\": {\"radius\": 0.1, \"color\": \"#cbd5e1\"}, \"sphere\": {\"scale\": 0.2, \"color\": \"#60a5fa\"}});\nviewer_16903963104592557.render();\n});\n</script>",
      "text/html": [
       "<div id=\"3dmolviewer_16903963104592557\"  style=\"position: relative; width: 400px; height: 350px;\">\n",
       "        <p id=\"3dmolwarning_16903963104592557\" style=\"background-color:#ffcccc;color:black\">You appear to be running in JupyterLab (or JavaScript failed to load for some other reason).  You need to install the 3dmol extension: <br>\n",
       "        <tt>jupyter labextension install jupyterlab_3dmol</tt></p>\n",
       "        </div>\n",
       "<script>\n",
       "\n",
       "var loadScriptAsync = function(uri){\n",
       "  return new Promise((resolve, reject) => {\n",
       "    //this is to ignore the existence of requirejs amd\n",
       "    var savedexports, savedmodule;\n",
       "    if (typeof exports !== 'undefined') savedexports = exports;\n",
       "    else exports = {}\n",
       "    if (typeof module !== 'undefined') savedmodule = module;\n",
       "    else module = {}\n",
       "\n",
       "    var tag = document.createElement('script');\n",
       "    tag.src = uri;\n",
       "    tag.async = true;\n",
       "    tag.onload = () => {\n",
       "        exports = savedexports;\n",
       "        module = savedmodule;\n",
       "        resolve();\n",
       "    };\n",
       "  var firstScriptTag = document.getElementsByTagName('script')[0];\n",
       "  firstScriptTag.parentNode.insertBefore(tag, firstScriptTag);\n",
       "});\n",
       "};\n",
       "\n",
       "if(typeof $3Dmolpromise === 'undefined') {\n",
       "$3Dmolpromise = null;\n",
       "  $3Dmolpromise = loadScriptAsync('https://cdnjs.cloudflare.com/ajax/libs/3Dmol/2.0.3/3Dmol-min.js');\n",
       "}\n",
       "\n",
       "var viewer_16903963104592557 = null;\n",
       "var warn = document.getElementById(\"3dmolwarning_16903963104592557\");\n",
       "if(warn) {\n",
       "    warn.parentNode.removeChild(warn);\n",
       "}\n",
       "$3Dmolpromise.then(function() {\n",
       "viewer_16903963104592557 = $3Dmol.createViewer(document.getElementById(\"3dmolviewer_16903963104592557\"),{backgroundColor:\"white\"});\n",
       "viewer_16903963104592557.addModel(\"5\\nuDGP instance\\nC    -0.7180    -3.3060    1.6790\\nC    -0.3070    -4.7200    1.9640\\nC    0.0000    0.0000    0.0000\\nC    0.3020    -4.2150    -0.3530\\nC    1.7140    -3.3360    1.9860\");\n",
       "viewer_16903963104592557.zoomTo();\n",
       "\tviewer_16903963104592557.setBackgroundColor(\"#000000\",0.2);\n",
       "\tviewer_16903963104592557.setStyle({\"stick\": {\"radius\": 0.1, \"color\": \"#cbd5e1\"}, \"sphere\": {\"scale\": 0.2, \"color\": \"#60a5fa\"}});\n",
       "viewer_16903963104592557.render();\n",
       "});\n",
       "</script>"
      ]
     },
     "metadata": {},
     "output_type": "display_data"
    },
    {
     "data": {
      "text/plain": [
       "<py3Dmol.view at 0x23151c347d0>"
      ]
     },
     "execution_count": 17,
     "metadata": {},
     "output_type": "execute_result"
    }
   ],
   "source": [
    "instance.reset()\n",
    "previous_a = []\n",
    "\n",
    "m = M4(instance, n=4, previous_a=previous_a, env=env)\n",
    "m.optimize()\n",
    "\n",
    "previous_a.append(list(m.a_ijk_values()))\n",
    "\n",
    "instance.view()"
   ]
  },
  {
   "cell_type": "code",
   "execution_count": 18,
   "metadata": {},
   "outputs": [
    {
     "data": {
      "application/3dmoljs_load.v0": "<div id=\"3dmolviewer_16903963337746844\"  style=\"position: relative; width: 400px; height: 350px;\">\n        <p id=\"3dmolwarning_16903963337746844\" style=\"background-color:#ffcccc;color:black\">You appear to be running in JupyterLab (or JavaScript failed to load for some other reason).  You need to install the 3dmol extension: <br>\n        <tt>jupyter labextension install jupyterlab_3dmol</tt></p>\n        </div>\n<script>\n\nvar loadScriptAsync = function(uri){\n  return new Promise((resolve, reject) => {\n    //this is to ignore the existence of requirejs amd\n    var savedexports, savedmodule;\n    if (typeof exports !== 'undefined') savedexports = exports;\n    else exports = {}\n    if (typeof module !== 'undefined') savedmodule = module;\n    else module = {}\n\n    var tag = document.createElement('script');\n    tag.src = uri;\n    tag.async = true;\n    tag.onload = () => {\n        exports = savedexports;\n        module = savedmodule;\n        resolve();\n    };\n  var firstScriptTag = document.getElementsByTagName('script')[0];\n  firstScriptTag.parentNode.insertBefore(tag, firstScriptTag);\n});\n};\n\nif(typeof $3Dmolpromise === 'undefined') {\n$3Dmolpromise = null;\n  $3Dmolpromise = loadScriptAsync('https://cdnjs.cloudflare.com/ajax/libs/3Dmol/2.0.3/3Dmol-min.js');\n}\n\nvar viewer_16903963337746844 = null;\nvar warn = document.getElementById(\"3dmolwarning_16903963337746844\");\nif(warn) {\n    warn.parentNode.removeChild(warn);\n}\n$3Dmolpromise.then(function() {\nviewer_16903963337746844 = $3Dmol.createViewer(document.getElementById(\"3dmolviewer_16903963337746844\"),{backgroundColor:\"white\"});\nviewer_16903963337746844.addModel(\"5\\nuDGP instance\\nC    -0.7180    -3.3060    1.6790\\nC    -0.3070    -4.7200    1.9640\\nC    0.0000    0.0000    0.0000\\nC    0.3020    -4.2150    -0.3530\\nC    1.7140    -3.3360    1.9860\");\nviewer_16903963337746844.zoomTo();\n\tviewer_16903963337746844.setBackgroundColor(\"#000000\",0.2);\n\tviewer_16903963337746844.setStyle({\"stick\": {\"radius\": 0.1, \"color\": \"#cbd5e1\"}, \"sphere\": {\"scale\": 0.2, \"color\": \"#60a5fa\"}});\nviewer_16903963337746844.render();\n});\n</script>",
      "text/html": [
       "<div id=\"3dmolviewer_16903963337746844\"  style=\"position: relative; width: 400px; height: 350px;\">\n",
       "        <p id=\"3dmolwarning_16903963337746844\" style=\"background-color:#ffcccc;color:black\">You appear to be running in JupyterLab (or JavaScript failed to load for some other reason).  You need to install the 3dmol extension: <br>\n",
       "        <tt>jupyter labextension install jupyterlab_3dmol</tt></p>\n",
       "        </div>\n",
       "<script>\n",
       "\n",
       "var loadScriptAsync = function(uri){\n",
       "  return new Promise((resolve, reject) => {\n",
       "    //this is to ignore the existence of requirejs amd\n",
       "    var savedexports, savedmodule;\n",
       "    if (typeof exports !== 'undefined') savedexports = exports;\n",
       "    else exports = {}\n",
       "    if (typeof module !== 'undefined') savedmodule = module;\n",
       "    else module = {}\n",
       "\n",
       "    var tag = document.createElement('script');\n",
       "    tag.src = uri;\n",
       "    tag.async = true;\n",
       "    tag.onload = () => {\n",
       "        exports = savedexports;\n",
       "        module = savedmodule;\n",
       "        resolve();\n",
       "    };\n",
       "  var firstScriptTag = document.getElementsByTagName('script')[0];\n",
       "  firstScriptTag.parentNode.insertBefore(tag, firstScriptTag);\n",
       "});\n",
       "};\n",
       "\n",
       "if(typeof $3Dmolpromise === 'undefined') {\n",
       "$3Dmolpromise = null;\n",
       "  $3Dmolpromise = loadScriptAsync('https://cdnjs.cloudflare.com/ajax/libs/3Dmol/2.0.3/3Dmol-min.js');\n",
       "}\n",
       "\n",
       "var viewer_16903963337746844 = null;\n",
       "var warn = document.getElementById(\"3dmolwarning_16903963337746844\");\n",
       "if(warn) {\n",
       "    warn.parentNode.removeChild(warn);\n",
       "}\n",
       "$3Dmolpromise.then(function() {\n",
       "viewer_16903963337746844 = $3Dmol.createViewer(document.getElementById(\"3dmolviewer_16903963337746844\"),{backgroundColor:\"white\"});\n",
       "viewer_16903963337746844.addModel(\"5\\nuDGP instance\\nC    -0.7180    -3.3060    1.6790\\nC    -0.3070    -4.7200    1.9640\\nC    0.0000    0.0000    0.0000\\nC    0.3020    -4.2150    -0.3530\\nC    1.7140    -3.3360    1.9860\");\n",
       "viewer_16903963337746844.zoomTo();\n",
       "\tviewer_16903963337746844.setBackgroundColor(\"#000000\",0.2);\n",
       "\tviewer_16903963337746844.setStyle({\"stick\": {\"radius\": 0.1, \"color\": \"#cbd5e1\"}, \"sphere\": {\"scale\": 0.2, \"color\": \"#60a5fa\"}});\n",
       "viewer_16903963337746844.render();\n",
       "});\n",
       "</script>"
      ]
     },
     "metadata": {},
     "output_type": "display_data"
    },
    {
     "data": {
      "text/plain": [
       "<py3Dmol.view at 0x2314cc13b90>"
      ]
     },
     "execution_count": 18,
     "metadata": {},
     "output_type": "execute_result"
    }
   ],
   "source": [
    "instance.reset()\n",
    "previous_a = []\n",
    "\n",
    "m = M4(instance, n=4, previous_a=previous_a, env=env)\n",
    "m.optimize()\n",
    "\n",
    "previous_a.append(list(m.a_ijk_values()))\n",
    "\n",
    "instance.view()"
   ]
  },
  {
   "cell_type": "code",
   "execution_count": 14,
   "metadata": {},
   "outputs": [
    {
     "data": {
      "application/3dmoljs_load.v0": "<div id=\"3dmolviewer_16903961091808226\"  style=\"position: relative; width: 400px; height: 350px;\">\n        <p id=\"3dmolwarning_16903961091808226\" style=\"background-color:#ffcccc;color:black\">You appear to be running in JupyterLab (or JavaScript failed to load for some other reason).  You need to install the 3dmol extension: <br>\n        <tt>jupyter labextension install jupyterlab_3dmol</tt></p>\n        </div>\n<script>\n\nvar loadScriptAsync = function(uri){\n  return new Promise((resolve, reject) => {\n    //this is to ignore the existence of requirejs amd\n    var savedexports, savedmodule;\n    if (typeof exports !== 'undefined') savedexports = exports;\n    else exports = {}\n    if (typeof module !== 'undefined') savedmodule = module;\n    else module = {}\n\n    var tag = document.createElement('script');\n    tag.src = uri;\n    tag.async = true;\n    tag.onload = () => {\n        exports = savedexports;\n        module = savedmodule;\n        resolve();\n    };\n  var firstScriptTag = document.getElementsByTagName('script')[0];\n  firstScriptTag.parentNode.insertBefore(tag, firstScriptTag);\n});\n};\n\nif(typeof $3Dmolpromise === 'undefined') {\n$3Dmolpromise = null;\n  $3Dmolpromise = loadScriptAsync('https://cdnjs.cloudflare.com/ajax/libs/3Dmol/2.0.3/3Dmol-min.js');\n}\n\nvar viewer_16903961091808226 = null;\nvar warn = document.getElementById(\"3dmolwarning_16903961091808226\");\nif(warn) {\n    warn.parentNode.removeChild(warn);\n}\n$3Dmolpromise.then(function() {\nviewer_16903961091808226 = $3Dmol.createViewer(document.getElementById(\"3dmolviewer_16903961091808226\"),{backgroundColor:\"white\"});\nviewer_16903961091808226.addModel(\"5\\nuDGP instance\\nC    0.0000    0.0000    0.0000\\nC    0.6740    -1.9740    -3.6970\\nC    1.3890    0.0430    -2.5110\\nC    2.8140    -1.9460    -2.5110\\nC    2.8300    -3.4480    -2.5100\");\nviewer_16903961091808226.zoomTo();\n\tviewer_16903961091808226.setBackgroundColor(\"#000000\",0.2);\n\tviewer_16903961091808226.setStyle({\"stick\": {\"radius\": 0.1, \"color\": \"#cbd5e1\"}, \"sphere\": {\"scale\": 0.2, \"color\": \"#60a5fa\"}});\nviewer_16903961091808226.render();\n});\n</script>",
      "text/html": [
       "<div id=\"3dmolviewer_16903961091808226\"  style=\"position: relative; width: 400px; height: 350px;\">\n",
       "        <p id=\"3dmolwarning_16903961091808226\" style=\"background-color:#ffcccc;color:black\">You appear to be running in JupyterLab (or JavaScript failed to load for some other reason).  You need to install the 3dmol extension: <br>\n",
       "        <tt>jupyter labextension install jupyterlab_3dmol</tt></p>\n",
       "        </div>\n",
       "<script>\n",
       "\n",
       "var loadScriptAsync = function(uri){\n",
       "  return new Promise((resolve, reject) => {\n",
       "    //this is to ignore the existence of requirejs amd\n",
       "    var savedexports, savedmodule;\n",
       "    if (typeof exports !== 'undefined') savedexports = exports;\n",
       "    else exports = {}\n",
       "    if (typeof module !== 'undefined') savedmodule = module;\n",
       "    else module = {}\n",
       "\n",
       "    var tag = document.createElement('script');\n",
       "    tag.src = uri;\n",
       "    tag.async = true;\n",
       "    tag.onload = () => {\n",
       "        exports = savedexports;\n",
       "        module = savedmodule;\n",
       "        resolve();\n",
       "    };\n",
       "  var firstScriptTag = document.getElementsByTagName('script')[0];\n",
       "  firstScriptTag.parentNode.insertBefore(tag, firstScriptTag);\n",
       "});\n",
       "};\n",
       "\n",
       "if(typeof $3Dmolpromise === 'undefined') {\n",
       "$3Dmolpromise = null;\n",
       "  $3Dmolpromise = loadScriptAsync('https://cdnjs.cloudflare.com/ajax/libs/3Dmol/2.0.3/3Dmol-min.js');\n",
       "}\n",
       "\n",
       "var viewer_16903961091808226 = null;\n",
       "var warn = document.getElementById(\"3dmolwarning_16903961091808226\");\n",
       "if(warn) {\n",
       "    warn.parentNode.removeChild(warn);\n",
       "}\n",
       "$3Dmolpromise.then(function() {\n",
       "viewer_16903961091808226 = $3Dmol.createViewer(document.getElementById(\"3dmolviewer_16903961091808226\"),{backgroundColor:\"white\"});\n",
       "viewer_16903961091808226.addModel(\"5\\nuDGP instance\\nC    0.0000    0.0000    0.0000\\nC    0.6740    -1.9740    -3.6970\\nC    1.3890    0.0430    -2.5110\\nC    2.8140    -1.9460    -2.5110\\nC    2.8300    -3.4480    -2.5100\");\n",
       "viewer_16903961091808226.zoomTo();\n",
       "\tviewer_16903961091808226.setBackgroundColor(\"#000000\",0.2);\n",
       "\tviewer_16903961091808226.setStyle({\"stick\": {\"radius\": 0.1, \"color\": \"#cbd5e1\"}, \"sphere\": {\"scale\": 0.2, \"color\": \"#60a5fa\"}});\n",
       "viewer_16903961091808226.render();\n",
       "});\n",
       "</script>"
      ]
     },
     "metadata": {},
     "output_type": "display_data"
    },
    {
     "data": {
      "text/plain": [
       "<py3Dmol.view at 0x2314cb346d0>"
      ]
     },
     "execution_count": 14,
     "metadata": {},
     "output_type": "execute_result"
    }
   ],
   "source": [
    "instance.reset()\n",
    "# previous_a = []\n",
    "\n",
    "m = M4(instance, n=4, previous_a=previous_a, env=env)\n",
    "m.optimize()\n",
    "\n",
    "previous_a.append(list(m.a_ijk_values()))\n",
    "\n",
    "instance.view()"
   ]
  }
 ],
 "metadata": {
  "kernelspec": {
   "display_name": "venv",
   "language": "python",
   "name": "python3"
  },
  "language_info": {
   "codemirror_mode": {
    "name": "ipython",
    "version": 3
   },
   "file_extension": ".py",
   "mimetype": "text/x-python",
   "name": "python",
   "nbconvert_exporter": "python",
   "pygments_lexer": "ipython3",
   "version": "3.11.4"
  },
  "orig_nbformat": 4
 },
 "nbformat": 4,
 "nbformat_minor": 2
}
