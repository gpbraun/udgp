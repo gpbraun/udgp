{
 "cells": [
  {
   "cell_type": "markdown",
   "metadata": {},
   "source": [
    "# Geração de instâncias"
   ]
  },
  {
   "cell_type": "code",
   "execution_count": 2,
   "metadata": {},
   "outputs": [],
   "source": [
    "import numpy as np\n",
    "import gurobipy as gp\n",
    "from gurobipy import GRB\n",
    "from udgp import M1, M2, M4, M5, Instance"
   ]
  },
  {
   "cell_type": "code",
   "execution_count": 3,
   "metadata": {},
   "outputs": [
    {
     "name": "stdout",
     "output_type": "stream",
     "text": [
      "Set parameter WLSAccessID\n",
      "Set parameter WLSSecret\n",
      "Set parameter LicenseID to value 2372514\n",
      "Academic license - for non-commercial use only - registered to braun@cos.ufrj.br\n"
     ]
    }
   ],
   "source": [
    "env = gp.Env()"
   ]
  },
  {
   "cell_type": "code",
   "execution_count": 4,
   "metadata": {},
   "outputs": [
    {
     "data": {
      "application/3dmoljs_load.v0": "<div id=\"3dmolviewer_16903308689461896\"  style=\"position: relative; width: 400px; height: 350px;\">\n        <p id=\"3dmolwarning_16903308689461896\" style=\"background-color:#ffcccc;color:black\">You appear to be running in JupyterLab (or JavaScript failed to load for some other reason).  You need to install the 3dmol extension: <br>\n        <tt>jupyter labextension install jupyterlab_3dmol</tt></p>\n        </div>\n<script>\n\nvar loadScriptAsync = function(uri){\n  return new Promise((resolve, reject) => {\n    //this is to ignore the existence of requirejs amd\n    var savedexports, savedmodule;\n    if (typeof exports !== 'undefined') savedexports = exports;\n    else exports = {}\n    if (typeof module !== 'undefined') savedmodule = module;\n    else module = {}\n\n    var tag = document.createElement('script');\n    tag.src = uri;\n    tag.async = true;\n    tag.onload = () => {\n        exports = savedexports;\n        module = savedmodule;\n        resolve();\n    };\n  var firstScriptTag = document.getElementsByTagName('script')[0];\n  firstScriptTag.parentNode.insertBefore(tag, firstScriptTag);\n});\n};\n\nif(typeof $3Dmolpromise === 'undefined') {\n$3Dmolpromise = null;\n  $3Dmolpromise = loadScriptAsync('https://cdnjs.cloudflare.com/ajax/libs/3Dmol/2.0.3/3Dmol-min.js');\n}\n\nvar viewer_16903308689461896 = null;\nvar warn = document.getElementById(\"3dmolwarning_16903308689461896\");\nif(warn) {\n    warn.parentNode.removeChild(warn);\n}\n$3Dmolpromise.then(function() {\nviewer_16903308689461896 = $3Dmol.createViewer(document.getElementById(\"3dmolviewer_16903308689461896\"),{backgroundColor:\"white\"});\nviewer_16903308689461896.addModel(\"7\\nuDGP instance\\nC    0.0000    0.0000    0.0000\\nC    -1.5000    0.0000    0.0000\\nC    -2.0000    1.4141    0.0000\\nC    -1.5000    2.1211    1.2246\\nC    -2.0000    3.5352    1.2246\\nC    -1.5000    4.2422    -0.0000\\nC    -2.0000    3.5352    -1.2246\");\nviewer_16903308689461896.zoomTo();\n\tviewer_16903308689461896.setBackgroundColor(\"#000000\",0.2);\n\tviewer_16903308689461896.setStyle({\"stick\": {\"radius\": 0.1, \"color\": \"#cbd5e1\"}, \"sphere\": {\"scale\": 0.2, \"color\": \"#60a5fa\"}});\nviewer_16903308689461896.render();\n});\n</script>",
      "text/html": [
       "<div id=\"3dmolviewer_16903308689461896\"  style=\"position: relative; width: 400px; height: 350px;\">\n",
       "        <p id=\"3dmolwarning_16903308689461896\" style=\"background-color:#ffcccc;color:black\">You appear to be running in JupyterLab (or JavaScript failed to load for some other reason).  You need to install the 3dmol extension: <br>\n",
       "        <tt>jupyter labextension install jupyterlab_3dmol</tt></p>\n",
       "        </div>\n",
       "<script>\n",
       "\n",
       "var loadScriptAsync = function(uri){\n",
       "  return new Promise((resolve, reject) => {\n",
       "    //this is to ignore the existence of requirejs amd\n",
       "    var savedexports, savedmodule;\n",
       "    if (typeof exports !== 'undefined') savedexports = exports;\n",
       "    else exports = {}\n",
       "    if (typeof module !== 'undefined') savedmodule = module;\n",
       "    else module = {}\n",
       "\n",
       "    var tag = document.createElement('script');\n",
       "    tag.src = uri;\n",
       "    tag.async = true;\n",
       "    tag.onload = () => {\n",
       "        exports = savedexports;\n",
       "        module = savedmodule;\n",
       "        resolve();\n",
       "    };\n",
       "  var firstScriptTag = document.getElementsByTagName('script')[0];\n",
       "  firstScriptTag.parentNode.insertBefore(tag, firstScriptTag);\n",
       "});\n",
       "};\n",
       "\n",
       "if(typeof $3Dmolpromise === 'undefined') {\n",
       "$3Dmolpromise = null;\n",
       "  $3Dmolpromise = loadScriptAsync('https://cdnjs.cloudflare.com/ajax/libs/3Dmol/2.0.3/3Dmol-min.js');\n",
       "}\n",
       "\n",
       "var viewer_16903308689461896 = null;\n",
       "var warn = document.getElementById(\"3dmolwarning_16903308689461896\");\n",
       "if(warn) {\n",
       "    warn.parentNode.removeChild(warn);\n",
       "}\n",
       "$3Dmolpromise.then(function() {\n",
       "viewer_16903308689461896 = $3Dmol.createViewer(document.getElementById(\"3dmolviewer_16903308689461896\"),{backgroundColor:\"white\"});\n",
       "viewer_16903308689461896.addModel(\"7\\nuDGP instance\\nC    0.0000    0.0000    0.0000\\nC    -1.5000    0.0000    0.0000\\nC    -2.0000    1.4141    0.0000\\nC    -1.5000    2.1211    1.2246\\nC    -2.0000    3.5352    1.2246\\nC    -1.5000    4.2422    -0.0000\\nC    -2.0000    3.5352    -1.2246\");\n",
       "viewer_16903308689461896.zoomTo();\n",
       "\tviewer_16903308689461896.setBackgroundColor(\"#000000\",0.2);\n",
       "\tviewer_16903308689461896.setStyle({\"stick\": {\"radius\": 0.1, \"color\": \"#cbd5e1\"}, \"sphere\": {\"scale\": 0.2, \"color\": \"#60a5fa\"}});\n",
       "viewer_16903308689461896.render();\n",
       "});\n",
       "</script>"
      ]
     },
     "metadata": {},
     "output_type": "display_data"
    },
    {
     "data": {
      "text/plain": [
       "<py3Dmol.view at 0x7f832d4b7510>"
      ]
     },
     "execution_count": 4,
     "metadata": {},
     "output_type": "execute_result"
    }
   ],
   "source": [
    "N = 7\n",
    "instance = Instance.random(N, freq=True)\n",
    "\n",
    "instance.view_input()"
   ]
  },
  {
   "cell_type": "code",
   "execution_count": 5,
   "metadata": {},
   "outputs": [
    {
     "name": "stdout",
     "output_type": "stream",
     "text": [
      "reset\n",
      "step\n",
      "step\n"
     ]
    },
    {
     "data": {
      "application/3dmoljs_load.v0": "<div id=\"3dmolviewer_16903309039658504\"  style=\"position: relative; width: 400px; height: 350px;\">\n        <p id=\"3dmolwarning_16903309039658504\" style=\"background-color:#ffcccc;color:black\">You appear to be running in JupyterLab (or JavaScript failed to load for some other reason).  You need to install the 3dmol extension: <br>\n        <tt>jupyter labextension install jupyterlab_3dmol</tt></p>\n        </div>\n<script>\n\nvar loadScriptAsync = function(uri){\n  return new Promise((resolve, reject) => {\n    //this is to ignore the existence of requirejs amd\n    var savedexports, savedmodule;\n    if (typeof exports !== 'undefined') savedexports = exports;\n    else exports = {}\n    if (typeof module !== 'undefined') savedmodule = module;\n    else module = {}\n\n    var tag = document.createElement('script');\n    tag.src = uri;\n    tag.async = true;\n    tag.onload = () => {\n        exports = savedexports;\n        module = savedmodule;\n        resolve();\n    };\n  var firstScriptTag = document.getElementsByTagName('script')[0];\n  firstScriptTag.parentNode.insertBefore(tag, firstScriptTag);\n});\n};\n\nif(typeof $3Dmolpromise === 'undefined') {\n$3Dmolpromise = null;\n  $3Dmolpromise = loadScriptAsync('https://cdnjs.cloudflare.com/ajax/libs/3Dmol/2.0.3/3Dmol-min.js');\n}\n\nvar viewer_16903309039658504 = null;\nvar warn = document.getElementById(\"3dmolwarning_16903309039658504\");\nif(warn) {\n    warn.parentNode.removeChild(warn);\n}\n$3Dmolpromise.then(function() {\nviewer_16903309039658504 = $3Dmol.createViewer(document.getElementById(\"3dmolviewer_16903309039658504\"),{backgroundColor:\"white\"});\nviewer_16903309039658504.addModel(\"7\\nuDGP instance\\nC    -4.0000    0.7070    1.2250\\nC    -3.5000    1.4140    -0.0000\\nC    -3.4990    -0.7060    1.2250\\nC    -2.0000    1.4140    0.0000\\nC    -1.5000    0.0000    0.0000\\nC    0.0000    0.0000    0.0000\\nC    0.5000    0.7090    1.2230\");\nviewer_16903309039658504.zoomTo();\n\tviewer_16903309039658504.setBackgroundColor(\"#000000\",0.2);\n\tviewer_16903309039658504.setStyle({\"stick\": {\"radius\": 0.1, \"color\": \"#cbd5e1\"}, \"sphere\": {\"scale\": 0.2, \"color\": \"#60a5fa\"}});\nviewer_16903309039658504.render();\n});\n</script>",
      "text/html": [
       "<div id=\"3dmolviewer_16903309039658504\"  style=\"position: relative; width: 400px; height: 350px;\">\n",
       "        <p id=\"3dmolwarning_16903309039658504\" style=\"background-color:#ffcccc;color:black\">You appear to be running in JupyterLab (or JavaScript failed to load for some other reason).  You need to install the 3dmol extension: <br>\n",
       "        <tt>jupyter labextension install jupyterlab_3dmol</tt></p>\n",
       "        </div>\n",
       "<script>\n",
       "\n",
       "var loadScriptAsync = function(uri){\n",
       "  return new Promise((resolve, reject) => {\n",
       "    //this is to ignore the existence of requirejs amd\n",
       "    var savedexports, savedmodule;\n",
       "    if (typeof exports !== 'undefined') savedexports = exports;\n",
       "    else exports = {}\n",
       "    if (typeof module !== 'undefined') savedmodule = module;\n",
       "    else module = {}\n",
       "\n",
       "    var tag = document.createElement('script');\n",
       "    tag.src = uri;\n",
       "    tag.async = true;\n",
       "    tag.onload = () => {\n",
       "        exports = savedexports;\n",
       "        module = savedmodule;\n",
       "        resolve();\n",
       "    };\n",
       "  var firstScriptTag = document.getElementsByTagName('script')[0];\n",
       "  firstScriptTag.parentNode.insertBefore(tag, firstScriptTag);\n",
       "});\n",
       "};\n",
       "\n",
       "if(typeof $3Dmolpromise === 'undefined') {\n",
       "$3Dmolpromise = null;\n",
       "  $3Dmolpromise = loadScriptAsync('https://cdnjs.cloudflare.com/ajax/libs/3Dmol/2.0.3/3Dmol-min.js');\n",
       "}\n",
       "\n",
       "var viewer_16903309039658504 = null;\n",
       "var warn = document.getElementById(\"3dmolwarning_16903309039658504\");\n",
       "if(warn) {\n",
       "    warn.parentNode.removeChild(warn);\n",
       "}\n",
       "$3Dmolpromise.then(function() {\n",
       "viewer_16903309039658504 = $3Dmol.createViewer(document.getElementById(\"3dmolviewer_16903309039658504\"),{backgroundColor:\"white\"});\n",
       "viewer_16903309039658504.addModel(\"7\\nuDGP instance\\nC    -4.0000    0.7070    1.2250\\nC    -3.5000    1.4140    -0.0000\\nC    -3.4990    -0.7060    1.2250\\nC    -2.0000    1.4140    0.0000\\nC    -1.5000    0.0000    0.0000\\nC    0.0000    0.0000    0.0000\\nC    0.5000    0.7090    1.2230\");\n",
       "viewer_16903309039658504.zoomTo();\n",
       "\tviewer_16903309039658504.setBackgroundColor(\"#000000\",0.2);\n",
       "\tviewer_16903309039658504.setStyle({\"stick\": {\"radius\": 0.1, \"color\": \"#cbd5e1\"}, \"sphere\": {\"scale\": 0.2, \"color\": \"#60a5fa\"}});\n",
       "viewer_16903309039658504.render();\n",
       "});\n",
       "</script>"
      ]
     },
     "metadata": {},
     "output_type": "display_data"
    },
    {
     "data": {
      "text/plain": [
       "<py3Dmol.view at 0x7f832cafbc10>"
      ]
     },
     "execution_count": 5,
     "metadata": {},
     "output_type": "execute_result"
    }
   ],
   "source": [
    "# previous_a = []\n",
    "\n",
    "# TODO: evitar que o cara encontre a mesma solução errada várias vezes.\n",
    "\n",
    "# while not instance.is_solved():\n",
    "while instance.fixed_n < instance.n:\n",
    "    print(\"reset\")\n",
    "    instance.reset_random_core(5)\n",
    "\n",
    "    # m = M4(instance, n=4, previous_a=previous_a, env=env)\n",
    "    # # m.Params.TimeLimit = 120\n",
    "    # m.optimize()\n",
    "\n",
    "    # previous_a.append(list(m.a_ijk_values()))\n",
    "    # print(list(m.a_ijk_values()))\n",
    "\n",
    "    while instance.fixed_n < instance.n:\n",
    "        print(\"step\")\n",
    "        m = M4(instance, n=1, env=env)\n",
    "        m.setParam(\"TimeLimit\", 60)\n",
    "        m.optimize()\n",
    "\n",
    "        if m.Status is not GRB.OPTIMAL:\n",
    "            break\n",
    "\n",
    "instance.view()\n"
   ]
  }
 ],
 "metadata": {
  "kernelspec": {
   "display_name": "venv",
   "language": "python",
   "name": "python3"
  },
  "language_info": {
   "codemirror_mode": {
    "name": "ipython",
    "version": 3
   },
   "file_extension": ".py",
   "mimetype": "text/x-python",
   "name": "python",
   "nbconvert_exporter": "python",
   "pygments_lexer": "ipython3",
   "version": "3.11.2"
  },
  "orig_nbformat": 4
 },
 "nbformat": 4,
 "nbformat_minor": 2
}
