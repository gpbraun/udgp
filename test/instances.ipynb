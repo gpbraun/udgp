{
 "cells": [
  {
   "cell_type": "markdown",
   "metadata": {},
   "source": [
    "# Geração de instâncias"
   ]
  },
  {
   "cell_type": "code",
   "execution_count": 1,
   "metadata": {},
   "outputs": [
    {
     "name": "stdout",
     "output_type": "stream",
     "text": [
      "Set parameter WLSAccessID\n",
      "Set parameter WLSSecret\n",
      "Set parameter LicenseID to value 2372514\n",
      "Academic license - for non-commercial use only - registered to braun@cos.ufrj.br\n"
     ]
    }
   ],
   "source": [
    "import gurobipy as gp\n",
    "env = gp.Env()"
   ]
  },
  {
   "cell_type": "code",
   "execution_count": 6,
   "metadata": {},
   "outputs": [
    {
     "data": {
      "application/3dmoljs_load.v0": "<div id=\"3dmolviewer_1690081092590627\"  style=\"position: relative; width: 300px; height: 300px;\">\n        <p id=\"3dmolwarning_1690081092590627\" style=\"background-color:#ffcccc;color:black\">You appear to be running in JupyterLab (or JavaScript failed to load for some other reason).  You need to install the 3dmol extension: <br>\n        <tt>jupyter labextension install jupyterlab_3dmol</tt></p>\n        </div>\n<script>\n\nvar loadScriptAsync = function(uri){\n  return new Promise((resolve, reject) => {\n    //this is to ignore the existence of requirejs amd\n    var savedexports, savedmodule;\n    if (typeof exports !== 'undefined') savedexports = exports;\n    else exports = {}\n    if (typeof module !== 'undefined') savedmodule = module;\n    else module = {}\n\n    var tag = document.createElement('script');\n    tag.src = uri;\n    tag.async = true;\n    tag.onload = () => {\n        exports = savedexports;\n        module = savedmodule;\n        resolve();\n    };\n  var firstScriptTag = document.getElementsByTagName('script')[0];\n  firstScriptTag.parentNode.insertBefore(tag, firstScriptTag);\n});\n};\n\nif(typeof $3Dmolpromise === 'undefined') {\n$3Dmolpromise = null;\n  $3Dmolpromise = loadScriptAsync('https://cdnjs.cloudflare.com/ajax/libs/3Dmol/2.0.3/3Dmol-min.js');\n}\n\nvar viewer_1690081092590627 = null;\nvar warn = document.getElementById(\"3dmolwarning_1690081092590627\");\nif(warn) {\n    warn.parentNode.removeChild(warn);\n}\n$3Dmolpromise.then(function() {\nviewer_1690081092590627 = $3Dmol.createViewer(document.getElementById(\"3dmolviewer_1690081092590627\"),{backgroundColor:\"white\"});\nviewer_1690081092590627.addModel(\"8\\nuDGP instance\\nC    -2.0000    1.4142    0.0000\\nC    -2.0000    1.4142    2.4495\\nC    -2.0000    3.5355    3.6742\\nC    -1.5000    0.0000    0.0000\\nC    -1.5000    2.1213    1.2247\\nC    -1.5000    2.1213    3.6742\\nC    -1.5000    4.2426    2.4495\\nC    0.0000    0.0000    0.0000\");\nviewer_1690081092590627.zoomTo();\n\tviewer_1690081092590627.setBackgroundColor(\"#000000\",0.2);\n\tviewer_1690081092590627.setStyle({\"stick\": {\"radius\": 0.1}, \"sphere\": {\"scale\": 0.2}});\nviewer_1690081092590627.render();\n});\n</script>",
      "text/html": [
       "<div id=\"3dmolviewer_1690081092590627\"  style=\"position: relative; width: 300px; height: 300px;\">\n",
       "        <p id=\"3dmolwarning_1690081092590627\" style=\"background-color:#ffcccc;color:black\">You appear to be running in JupyterLab (or JavaScript failed to load for some other reason).  You need to install the 3dmol extension: <br>\n",
       "        <tt>jupyter labextension install jupyterlab_3dmol</tt></p>\n",
       "        </div>\n",
       "<script>\n",
       "\n",
       "var loadScriptAsync = function(uri){\n",
       "  return new Promise((resolve, reject) => {\n",
       "    //this is to ignore the existence of requirejs amd\n",
       "    var savedexports, savedmodule;\n",
       "    if (typeof exports !== 'undefined') savedexports = exports;\n",
       "    else exports = {}\n",
       "    if (typeof module !== 'undefined') savedmodule = module;\n",
       "    else module = {}\n",
       "\n",
       "    var tag = document.createElement('script');\n",
       "    tag.src = uri;\n",
       "    tag.async = true;\n",
       "    tag.onload = () => {\n",
       "        exports = savedexports;\n",
       "        module = savedmodule;\n",
       "        resolve();\n",
       "    };\n",
       "  var firstScriptTag = document.getElementsByTagName('script')[0];\n",
       "  firstScriptTag.parentNode.insertBefore(tag, firstScriptTag);\n",
       "});\n",
       "};\n",
       "\n",
       "if(typeof $3Dmolpromise === 'undefined') {\n",
       "$3Dmolpromise = null;\n",
       "  $3Dmolpromise = loadScriptAsync('https://cdnjs.cloudflare.com/ajax/libs/3Dmol/2.0.3/3Dmol-min.js');\n",
       "}\n",
       "\n",
       "var viewer_1690081092590627 = null;\n",
       "var warn = document.getElementById(\"3dmolwarning_1690081092590627\");\n",
       "if(warn) {\n",
       "    warn.parentNode.removeChild(warn);\n",
       "}\n",
       "$3Dmolpromise.then(function() {\n",
       "viewer_1690081092590627 = $3Dmol.createViewer(document.getElementById(\"3dmolviewer_1690081092590627\"),{backgroundColor:\"white\"});\n",
       "viewer_1690081092590627.addModel(\"8\\nuDGP instance\\nC    -2.0000    1.4142    0.0000\\nC    -2.0000    1.4142    2.4495\\nC    -2.0000    3.5355    3.6742\\nC    -1.5000    0.0000    0.0000\\nC    -1.5000    2.1213    1.2247\\nC    -1.5000    2.1213    3.6742\\nC    -1.5000    4.2426    2.4495\\nC    0.0000    0.0000    0.0000\");\n",
       "viewer_1690081092590627.zoomTo();\n",
       "\tviewer_1690081092590627.setBackgroundColor(\"#000000\",0.2);\n",
       "\tviewer_1690081092590627.setStyle({\"stick\": {\"radius\": 0.1}, \"sphere\": {\"scale\": 0.2}});\n",
       "viewer_1690081092590627.render();\n",
       "});\n",
       "</script>"
      ]
     },
     "metadata": {},
     "output_type": "display_data"
    },
    {
     "data": {
      "text/plain": [
       "<py3Dmol.view at 0x7f4258a4a810>"
      ]
     },
     "execution_count": 6,
     "metadata": {},
     "output_type": "execute_result"
    }
   ],
   "source": [
    "from udgp import M4, generate_random_instance\n",
    "\n",
    "# 12345 (átomo redundante)\n",
    "\n",
    "N = 8\n",
    "instance = generate_random_instance(N)\n",
    "\n",
    "instance.view_input()\n"
   ]
  },
  {
   "cell_type": "code",
   "execution_count": 20,
   "metadata": {},
   "outputs": [
    {
     "data": {
      "application/3dmoljs_load.v0": "<div id=\"3dmolviewer_16900811452549121\"  style=\"position: relative; width: 300px; height: 300px;\">\n        <p id=\"3dmolwarning_16900811452549121\" style=\"background-color:#ffcccc;color:black\">You appear to be running in JupyterLab (or JavaScript failed to load for some other reason).  You need to install the 3dmol extension: <br>\n        <tt>jupyter labextension install jupyterlab_3dmol</tt></p>\n        </div>\n<script>\n\nvar loadScriptAsync = function(uri){\n  return new Promise((resolve, reject) => {\n    //this is to ignore the existence of requirejs amd\n    var savedexports, savedmodule;\n    if (typeof exports !== 'undefined') savedexports = exports;\n    else exports = {}\n    if (typeof module !== 'undefined') savedmodule = module;\n    else module = {}\n\n    var tag = document.createElement('script');\n    tag.src = uri;\n    tag.async = true;\n    tag.onload = () => {\n        exports = savedexports;\n        module = savedmodule;\n        resolve();\n    };\n  var firstScriptTag = document.getElementsByTagName('script')[0];\n  firstScriptTag.parentNode.insertBefore(tag, firstScriptTag);\n});\n};\n\nif(typeof $3Dmolpromise === 'undefined') {\n$3Dmolpromise = null;\n  $3Dmolpromise = loadScriptAsync('https://cdnjs.cloudflare.com/ajax/libs/3Dmol/2.0.3/3Dmol-min.js');\n}\n\nvar viewer_16900811452549121 = null;\nvar warn = document.getElementById(\"3dmolwarning_16900811452549121\");\nif(warn) {\n    warn.parentNode.removeChild(warn);\n}\n$3Dmolpromise.then(function() {\nviewer_16900811452549121 = $3Dmol.createViewer(document.getElementById(\"3dmolviewer_16900811452549121\"),{backgroundColor:\"white\"});\nviewer_16900811452549121.addModel(\"8\\nuDGP instance\\nC    -5.9999    2.1213    3.6746\\nC    -2.0000    1.4142    0.0000\\nC    -2.0000    1.4142    2.4495\\nC    -1.5000    0.0000    0.0000\\nC    -1.5000    -0.0000    2.4494\\nC    -1.5000    2.1213    1.2247\\nC    -1.5000    4.2426    2.4495\\nC    -1.4999    2.1212    3.6742\");\nviewer_16900811452549121.zoomTo();\n\tviewer_16900811452549121.setBackgroundColor(\"#000000\",0.2);\n\tviewer_16900811452549121.setStyle({\"stick\": {\"radius\": 0.1}, \"sphere\": {\"scale\": 0.2}});\nviewer_16900811452549121.render();\n});\n</script>",
      "text/html": [
       "<div id=\"3dmolviewer_16900811452549121\"  style=\"position: relative; width: 300px; height: 300px;\">\n",
       "        <p id=\"3dmolwarning_16900811452549121\" style=\"background-color:#ffcccc;color:black\">You appear to be running in JupyterLab (or JavaScript failed to load for some other reason).  You need to install the 3dmol extension: <br>\n",
       "        <tt>jupyter labextension install jupyterlab_3dmol</tt></p>\n",
       "        </div>\n",
       "<script>\n",
       "\n",
       "var loadScriptAsync = function(uri){\n",
       "  return new Promise((resolve, reject) => {\n",
       "    //this is to ignore the existence of requirejs amd\n",
       "    var savedexports, savedmodule;\n",
       "    if (typeof exports !== 'undefined') savedexports = exports;\n",
       "    else exports = {}\n",
       "    if (typeof module !== 'undefined') savedmodule = module;\n",
       "    else module = {}\n",
       "\n",
       "    var tag = document.createElement('script');\n",
       "    tag.src = uri;\n",
       "    tag.async = true;\n",
       "    tag.onload = () => {\n",
       "        exports = savedexports;\n",
       "        module = savedmodule;\n",
       "        resolve();\n",
       "    };\n",
       "  var firstScriptTag = document.getElementsByTagName('script')[0];\n",
       "  firstScriptTag.parentNode.insertBefore(tag, firstScriptTag);\n",
       "});\n",
       "};\n",
       "\n",
       "if(typeof $3Dmolpromise === 'undefined') {\n",
       "$3Dmolpromise = null;\n",
       "  $3Dmolpromise = loadScriptAsync('https://cdnjs.cloudflare.com/ajax/libs/3Dmol/2.0.3/3Dmol-min.js');\n",
       "}\n",
       "\n",
       "var viewer_16900811452549121 = null;\n",
       "var warn = document.getElementById(\"3dmolwarning_16900811452549121\");\n",
       "if(warn) {\n",
       "    warn.parentNode.removeChild(warn);\n",
       "}\n",
       "$3Dmolpromise.then(function() {\n",
       "viewer_16900811452549121 = $3Dmol.createViewer(document.getElementById(\"3dmolviewer_16900811452549121\"),{backgroundColor:\"white\"});\n",
       "viewer_16900811452549121.addModel(\"8\\nuDGP instance\\nC    -5.9999    2.1213    3.6746\\nC    -2.0000    1.4142    0.0000\\nC    -2.0000    1.4142    2.4495\\nC    -1.5000    0.0000    0.0000\\nC    -1.5000    -0.0000    2.4494\\nC    -1.5000    2.1213    1.2247\\nC    -1.5000    4.2426    2.4495\\nC    -1.4999    2.1212    3.6742\");\n",
       "viewer_16900811452549121.zoomTo();\n",
       "\tviewer_16900811452549121.setBackgroundColor(\"#000000\",0.2);\n",
       "\tviewer_16900811452549121.setStyle({\"stick\": {\"radius\": 0.1}, \"sphere\": {\"scale\": 0.2}});\n",
       "viewer_16900811452549121.render();\n",
       "});\n",
       "</script>"
      ]
     },
     "metadata": {},
     "output_type": "display_data"
    },
    {
     "data": {
      "text/plain": [
       "<py3Dmol.view at 0x7f4257cde3d0>"
      ]
     },
     "execution_count": 20,
     "metadata": {},
     "output_type": "execute_result"
    }
   ],
   "source": [
    "new_instance = instance\n",
    "\n",
    "new_instance.mock_core(5)\n",
    "\n",
    "# m = M4(new_instance, n=4, max_gap=1e-2, env=env)\n",
    "# m.setParam('TimeLimit', 60)\n",
    "# m.optimize()\n",
    "# new_instance = m.instance\n",
    "\n",
    "while (new_instance.coords.shape[0] < new_instance.n):\n",
    "    m = M4(new_instance, n=1, max_gap=1e-4, env=env)\n",
    "    m.optimize()\n",
    "    new_instance = m.instance\n",
    "\n",
    "new_instance.view()"
   ]
  }
 ],
 "metadata": {
  "kernelspec": {
   "display_name": "venv",
   "language": "python",
   "name": "python3"
  },
  "language_info": {
   "codemirror_mode": {
    "name": "ipython",
    "version": 3
   },
   "file_extension": ".py",
   "mimetype": "text/x-python",
   "name": "python",
   "nbconvert_exporter": "python",
   "pygments_lexer": "ipython3",
   "version": "3.11.2"
  },
  "orig_nbformat": 4
 },
 "nbformat": 4,
 "nbformat_minor": 2
}
