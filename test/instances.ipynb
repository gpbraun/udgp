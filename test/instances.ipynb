{
 "cells": [
  {
   "cell_type": "markdown",
   "metadata": {},
   "source": [
    "# Geração de instâncias"
   ]
  },
  {
   "cell_type": "code",
   "execution_count": 1,
   "metadata": {},
   "outputs": [
    {
     "name": "stdout",
     "output_type": "stream",
     "text": [
      "Set parameter WLSAccessID\n",
      "Set parameter WLSSecret\n",
      "Set parameter LicenseID to value 2372514\n",
      "Academic license - for non-commercial use only - registered to braun@cos.ufrj.br\n"
     ]
    }
   ],
   "source": [
    "import gurobipy as gp\n",
    "env = gp.Env()"
   ]
  },
  {
   "cell_type": "code",
   "execution_count": 2,
   "metadata": {},
   "outputs": [
    {
     "data": {
      "application/3dmoljs_load.v0": "<div id=\"3dmolviewer_1690060078612987\"  style=\"position: relative; width: 300px; height: 300px;\">\n        <p id=\"3dmolwarning_1690060078612987\" style=\"background-color:#ffcccc;color:black\">You appear to be running in JupyterLab (or JavaScript failed to load for some other reason).  You need to install the 3dmol extension: <br>\n        <tt>jupyter labextension install jupyterlab_3dmol</tt></p>\n        </div>\n<script>\n\nvar loadScriptAsync = function(uri){\n  return new Promise((resolve, reject) => {\n    //this is to ignore the existence of requirejs amd\n    var savedexports, savedmodule;\n    if (typeof exports !== 'undefined') savedexports = exports;\n    else exports = {}\n    if (typeof module !== 'undefined') savedmodule = module;\n    else module = {}\n\n    var tag = document.createElement('script');\n    tag.src = uri;\n    tag.async = true;\n    tag.onload = () => {\n        exports = savedexports;\n        module = savedmodule;\n        resolve();\n    };\n  var firstScriptTag = document.getElementsByTagName('script')[0];\n  firstScriptTag.parentNode.insertBefore(tag, firstScriptTag);\n});\n};\n\nif(typeof $3Dmolpromise === 'undefined') {\n$3Dmolpromise = null;\n  $3Dmolpromise = loadScriptAsync('https://cdnjs.cloudflare.com/ajax/libs/3Dmol/2.0.3/3Dmol-min.js');\n}\n\nvar viewer_1690060078612987 = null;\nvar warn = document.getElementById(\"3dmolwarning_1690060078612987\");\nif(warn) {\n    warn.parentNode.removeChild(warn);\n}\n$3Dmolpromise.then(function() {\nviewer_1690060078612987 = $3Dmol.createViewer(document.getElementById(\"3dmolviewer_1690060078612987\"),{backgroundColor:\"white\"});\nviewer_1690060078612987.addModel(\"10\\nuDGP instance\\nC    -6.0000    4.2426    0.0000\\nC    -5.5000    2.8284    -0.0000\\nC    -5.5000    4.9497    1.2247\\nC    -4.0000    2.8284    0.0000\\nC    -4.0000    4.9497    1.2247\\nC    -3.5000    1.4142    -0.0000\\nC    -3.5000    5.6569    0.0000\\nC    -2.0000    1.4142    0.0000\\nC    -1.5000    0.0000    0.0000\\nC    0.0000    0.0000    0.0000\");\nviewer_1690060078612987.zoomTo();\n\tviewer_1690060078612987.setBackgroundColor(\"#000000\",0.2);\n\tviewer_1690060078612987.setStyle({\"stick\": {\"radius\": 0.1}, \"sphere\": {\"scale\": 0.2}});\nviewer_1690060078612987.render();\n});\n</script>",
      "text/html": [
       "<div id=\"3dmolviewer_1690060078612987\"  style=\"position: relative; width: 300px; height: 300px;\">\n",
       "        <p id=\"3dmolwarning_1690060078612987\" style=\"background-color:#ffcccc;color:black\">You appear to be running in JupyterLab (or JavaScript failed to load for some other reason).  You need to install the 3dmol extension: <br>\n",
       "        <tt>jupyter labextension install jupyterlab_3dmol</tt></p>\n",
       "        </div>\n",
       "<script>\n",
       "\n",
       "var loadScriptAsync = function(uri){\n",
       "  return new Promise((resolve, reject) => {\n",
       "    //this is to ignore the existence of requirejs amd\n",
       "    var savedexports, savedmodule;\n",
       "    if (typeof exports !== 'undefined') savedexports = exports;\n",
       "    else exports = {}\n",
       "    if (typeof module !== 'undefined') savedmodule = module;\n",
       "    else module = {}\n",
       "\n",
       "    var tag = document.createElement('script');\n",
       "    tag.src = uri;\n",
       "    tag.async = true;\n",
       "    tag.onload = () => {\n",
       "        exports = savedexports;\n",
       "        module = savedmodule;\n",
       "        resolve();\n",
       "    };\n",
       "  var firstScriptTag = document.getElementsByTagName('script')[0];\n",
       "  firstScriptTag.parentNode.insertBefore(tag, firstScriptTag);\n",
       "});\n",
       "};\n",
       "\n",
       "if(typeof $3Dmolpromise === 'undefined') {\n",
       "$3Dmolpromise = null;\n",
       "  $3Dmolpromise = loadScriptAsync('https://cdnjs.cloudflare.com/ajax/libs/3Dmol/2.0.3/3Dmol-min.js');\n",
       "}\n",
       "\n",
       "var viewer_1690060078612987 = null;\n",
       "var warn = document.getElementById(\"3dmolwarning_1690060078612987\");\n",
       "if(warn) {\n",
       "    warn.parentNode.removeChild(warn);\n",
       "}\n",
       "$3Dmolpromise.then(function() {\n",
       "viewer_1690060078612987 = $3Dmol.createViewer(document.getElementById(\"3dmolviewer_1690060078612987\"),{backgroundColor:\"white\"});\n",
       "viewer_1690060078612987.addModel(\"10\\nuDGP instance\\nC    -6.0000    4.2426    0.0000\\nC    -5.5000    2.8284    -0.0000\\nC    -5.5000    4.9497    1.2247\\nC    -4.0000    2.8284    0.0000\\nC    -4.0000    4.9497    1.2247\\nC    -3.5000    1.4142    -0.0000\\nC    -3.5000    5.6569    0.0000\\nC    -2.0000    1.4142    0.0000\\nC    -1.5000    0.0000    0.0000\\nC    0.0000    0.0000    0.0000\");\n",
       "viewer_1690060078612987.zoomTo();\n",
       "\tviewer_1690060078612987.setBackgroundColor(\"#000000\",0.2);\n",
       "\tviewer_1690060078612987.setStyle({\"stick\": {\"radius\": 0.1}, \"sphere\": {\"scale\": 0.2}});\n",
       "viewer_1690060078612987.render();\n",
       "});\n",
       "</script>"
      ]
     },
     "metadata": {},
     "output_type": "display_data"
    },
    {
     "data": {
      "text/plain": [
       "<py3Dmol.view at 0x7ff2d12e7a10>"
      ]
     },
     "execution_count": 2,
     "metadata": {},
     "output_type": "execute_result"
    }
   ],
   "source": [
    "from udgp import M4, generate_random_instance\n",
    "\n",
    "# 12345 (átomo redundante)\n",
    "\n",
    "N = 10\n",
    "instance = generate_random_instance(N)\n",
    "\n",
    "instance.view_input()\n"
   ]
  },
  {
   "cell_type": "code",
   "execution_count": 27,
   "metadata": {},
   "outputs": [
    {
     "name": "stdout",
     "output_type": "stream",
     "text": [
      "\n",
      "Interrupt request received\n"
     ]
    },
    {
     "data": {
      "application/3dmoljs_load.v0": "<div id=\"3dmolviewer_1690059848467127\"  style=\"position: relative; width: 300px; height: 300px;\">\n        <p id=\"3dmolwarning_1690059848467127\" style=\"background-color:#ffcccc;color:black\">You appear to be running in JupyterLab (or JavaScript failed to load for some other reason).  You need to install the 3dmol extension: <br>\n        <tt>jupyter labextension install jupyterlab_3dmol</tt></p>\n        </div>\n<script>\n\nvar loadScriptAsync = function(uri){\n  return new Promise((resolve, reject) => {\n    //this is to ignore the existence of requirejs amd\n    var savedexports, savedmodule;\n    if (typeof exports !== 'undefined') savedexports = exports;\n    else exports = {}\n    if (typeof module !== 'undefined') savedmodule = module;\n    else module = {}\n\n    var tag = document.createElement('script');\n    tag.src = uri;\n    tag.async = true;\n    tag.onload = () => {\n        exports = savedexports;\n        module = savedmodule;\n        resolve();\n    };\n  var firstScriptTag = document.getElementsByTagName('script')[0];\n  firstScriptTag.parentNode.insertBefore(tag, firstScriptTag);\n});\n};\n\nif(typeof $3Dmolpromise === 'undefined') {\n$3Dmolpromise = null;\n  $3Dmolpromise = loadScriptAsync('https://cdnjs.cloudflare.com/ajax/libs/3Dmol/2.0.3/3Dmol-min.js');\n}\n\nvar viewer_1690059848467127 = null;\nvar warn = document.getElementById(\"3dmolwarning_1690059848467127\");\nif(warn) {\n    warn.parentNode.removeChild(warn);\n}\n$3Dmolpromise.then(function() {\nviewer_1690059848467127 = $3Dmol.createViewer(document.getElementById(\"3dmolviewer_1690059848467127\"),{backgroundColor:\"white\"});\nviewer_1690059848467127.addModel(\"0\\nuDGP instance\");\nviewer_1690059848467127.zoomTo();\n\tviewer_1690059848467127.setBackgroundColor(\"#000000\",0.2);\n\tviewer_1690059848467127.setStyle({\"stick\": {\"radius\": 0.1}, \"sphere\": {\"scale\": 0.2}});\nviewer_1690059848467127.render();\n});\n</script>",
      "text/html": [
       "<div id=\"3dmolviewer_1690059848467127\"  style=\"position: relative; width: 300px; height: 300px;\">\n",
       "        <p id=\"3dmolwarning_1690059848467127\" style=\"background-color:#ffcccc;color:black\">You appear to be running in JupyterLab (or JavaScript failed to load for some other reason).  You need to install the 3dmol extension: <br>\n",
       "        <tt>jupyter labextension install jupyterlab_3dmol</tt></p>\n",
       "        </div>\n",
       "<script>\n",
       "\n",
       "var loadScriptAsync = function(uri){\n",
       "  return new Promise((resolve, reject) => {\n",
       "    //this is to ignore the existence of requirejs amd\n",
       "    var savedexports, savedmodule;\n",
       "    if (typeof exports !== 'undefined') savedexports = exports;\n",
       "    else exports = {}\n",
       "    if (typeof module !== 'undefined') savedmodule = module;\n",
       "    else module = {}\n",
       "\n",
       "    var tag = document.createElement('script');\n",
       "    tag.src = uri;\n",
       "    tag.async = true;\n",
       "    tag.onload = () => {\n",
       "        exports = savedexports;\n",
       "        module = savedmodule;\n",
       "        resolve();\n",
       "    };\n",
       "  var firstScriptTag = document.getElementsByTagName('script')[0];\n",
       "  firstScriptTag.parentNode.insertBefore(tag, firstScriptTag);\n",
       "});\n",
       "};\n",
       "\n",
       "if(typeof $3Dmolpromise === 'undefined') {\n",
       "$3Dmolpromise = null;\n",
       "  $3Dmolpromise = loadScriptAsync('https://cdnjs.cloudflare.com/ajax/libs/3Dmol/2.0.3/3Dmol-min.js');\n",
       "}\n",
       "\n",
       "var viewer_1690059848467127 = null;\n",
       "var warn = document.getElementById(\"3dmolwarning_1690059848467127\");\n",
       "if(warn) {\n",
       "    warn.parentNode.removeChild(warn);\n",
       "}\n",
       "$3Dmolpromise.then(function() {\n",
       "viewer_1690059848467127 = $3Dmol.createViewer(document.getElementById(\"3dmolviewer_1690059848467127\"),{backgroundColor:\"white\"});\n",
       "viewer_1690059848467127.addModel(\"0\\nuDGP instance\");\n",
       "viewer_1690059848467127.zoomTo();\n",
       "\tviewer_1690059848467127.setBackgroundColor(\"#000000\",0.2);\n",
       "\tviewer_1690059848467127.setStyle({\"stick\": {\"radius\": 0.1}, \"sphere\": {\"scale\": 0.2}});\n",
       "viewer_1690059848467127.render();\n",
       "});\n",
       "</script>"
      ]
     },
     "metadata": {},
     "output_type": "display_data"
    },
    {
     "data": {
      "text/plain": [
       "<py3Dmol.view at 0x7f73e4bc7fd0>"
      ]
     },
     "execution_count": 27,
     "metadata": {},
     "output_type": "execute_result"
    }
   ],
   "source": [
    "m1 = M4(instance, n=4, max_gap=1e-4, log=False, env=env)\n",
    "m1.optimize()\n",
    "\n",
    "m1.instance.view()"
   ]
  },
  {
   "cell_type": "code",
   "execution_count": 3,
   "metadata": {},
   "outputs": [],
   "source": [
    "instance.mock_core(5)"
   ]
  },
  {
   "cell_type": "code",
   "execution_count": 4,
   "metadata": {},
   "outputs": [
    {
     "name": "stdout",
     "output_type": "stream",
     "text": [
      "0\n",
      "k = 7 -> (1,6). (1.5 -> 1.4999999994422237)\n",
      "k = 9 -> (2,6). (2.449449689215927 -> 2.4494496889613475)\n",
      "k = 35 -> (3,6). (7.499961345233721 -> 7.499961344441221)\n",
      "k = 16 -> (4,6). (2.449494219221593 -> 2.4494942194311515)\n",
      "k = 29 -> (5,6). (5.123441259544214 -> 5.123441258821657)\n",
      "1\n",
      "k = 7 -> (1,6). (1.5 -> 1.5)\n",
      "k = 4 -> (2,6). (1.4999872132788337 -> 1.4999873186037151)\n",
      "k = 10 -> (3,6). (2.4494819125684515 -> 2.449489676953227)\n",
      "k = 30 -> (4,6). (7.348445737705355 -> 7.348445737705355)\n",
      "k = 15 -> (5,6). (2.8723238831998037 -> 2.872323883199804)\n",
      "2\n",
      "k = 1 -> (1,6). (1.4999601661377542 -> 1.499960166137754)\n",
      "k = 6 -> (2,6). (2.449449689215927 -> 2.4494496892159265)\n",
      "k = 11 -> (3,6). (2.8722471655482575 -> 2.872253540095021)\n",
      "k = 7 -> (4,6). (2.4494653498263657 -> 2.449465349826365)\n",
      "k = 9 -> (5,6). (2.4494819125684515 -> 2.44948693382446)\n",
      "3\n",
      "k = 6 -> (1,6). (2.449481912568452 -> 2.4494819125684515)\n",
      "k = 4 -> (2,6). (1.5 -> 1.5)\n",
      "k = 1 -> (3,6). (1.499987213278833 -> 1.4999872132788328)\n",
      "k = 15 -> (4,6). (4.898963825136903 -> 4.898964033529387)\n",
      "k = 7 -> (5,6). (2.8723530858862047 -> 2.872352738967257)\n",
      "4\n",
      "k = 13 -> (1,6). (6.000043134011622 -> 6.000043134011621)\n",
      "k = 12 -> (2,6). (5.678857295266364 -> 5.678857295266364)\n",
      "k = 15 -> (3,6). (6.48069596416928 -> 6.48069596416928)\n",
      "k = 10 -> (4,6). (4.898963825136903 -> 4.898963825136903)\n",
      "k = 14 -> (5,6). (6.1846305273637805 -> 6.184630525866884)\n"
     ]
    },
    {
     "data": {
      "application/3dmoljs_load.v0": "<div id=\"3dmolviewer_16900600955301824\"  style=\"position: relative; width: 300px; height: 300px;\">\n        <p id=\"3dmolwarning_16900600955301824\" style=\"background-color:#ffcccc;color:black\">You appear to be running in JupyterLab (or JavaScript failed to load for some other reason).  You need to install the 3dmol extension: <br>\n        <tt>jupyter labextension install jupyterlab_3dmol</tt></p>\n        </div>\n<script>\n\nvar loadScriptAsync = function(uri){\n  return new Promise((resolve, reject) => {\n    //this is to ignore the existence of requirejs amd\n    var savedexports, savedmodule;\n    if (typeof exports !== 'undefined') savedexports = exports;\n    else exports = {}\n    if (typeof module !== 'undefined') savedmodule = module;\n    else module = {}\n\n    var tag = document.createElement('script');\n    tag.src = uri;\n    tag.async = true;\n    tag.onload = () => {\n        exports = savedexports;\n        module = savedmodule;\n        resolve();\n    };\n  var firstScriptTag = document.getElementsByTagName('script')[0];\n  firstScriptTag.parentNode.insertBefore(tag, firstScriptTag);\n});\n};\n\nif(typeof $3Dmolpromise === 'undefined') {\n$3Dmolpromise = null;\n  $3Dmolpromise = loadScriptAsync('https://cdnjs.cloudflare.com/ajax/libs/3Dmol/2.0.3/3Dmol-min.js');\n}\n\nvar viewer_16900600955301824 = null;\nvar warn = document.getElementById(\"3dmolwarning_16900600955301824\");\nif(warn) {\n    warn.parentNode.removeChild(warn);\n}\n$3Dmolpromise.then(function() {\nviewer_16900600955301824 = $3Dmol.createViewer(document.getElementById(\"3dmolviewer_16900600955301824\"),{backgroundColor:\"white\"});\nviewer_16900600955301824.addModel(\"10\\nuDGP instance\\nC    -4.0000    2.8284    -0.0001\\nC    0.0000    0.0000    0.0000\\nC    -2.0000    1.4142    0.0000\\nC    -3.5000    3.5355    1.2247\\nC    -3.5000    5.6569    0.0000\\nC    -4.0000    4.9497    1.2247\\nC    -5.5000    4.9497    1.2247\\nC    -5.5000    2.8284    0.0000\\nC    -6.0000    4.2426    -0.0000\\nC    -1.5000    -0.0000    0.0000\");\nviewer_16900600955301824.zoomTo();\n\tviewer_16900600955301824.setBackgroundColor(\"#000000\",0.2);\n\tviewer_16900600955301824.setStyle({\"stick\": {\"radius\": 0.1}, \"sphere\": {\"scale\": 0.2}});\nviewer_16900600955301824.render();\n});\n</script>",
      "text/html": [
       "<div id=\"3dmolviewer_16900600955301824\"  style=\"position: relative; width: 300px; height: 300px;\">\n",
       "        <p id=\"3dmolwarning_16900600955301824\" style=\"background-color:#ffcccc;color:black\">You appear to be running in JupyterLab (or JavaScript failed to load for some other reason).  You need to install the 3dmol extension: <br>\n",
       "        <tt>jupyter labextension install jupyterlab_3dmol</tt></p>\n",
       "        </div>\n",
       "<script>\n",
       "\n",
       "var loadScriptAsync = function(uri){\n",
       "  return new Promise((resolve, reject) => {\n",
       "    //this is to ignore the existence of requirejs amd\n",
       "    var savedexports, savedmodule;\n",
       "    if (typeof exports !== 'undefined') savedexports = exports;\n",
       "    else exports = {}\n",
       "    if (typeof module !== 'undefined') savedmodule = module;\n",
       "    else module = {}\n",
       "\n",
       "    var tag = document.createElement('script');\n",
       "    tag.src = uri;\n",
       "    tag.async = true;\n",
       "    tag.onload = () => {\n",
       "        exports = savedexports;\n",
       "        module = savedmodule;\n",
       "        resolve();\n",
       "    };\n",
       "  var firstScriptTag = document.getElementsByTagName('script')[0];\n",
       "  firstScriptTag.parentNode.insertBefore(tag, firstScriptTag);\n",
       "});\n",
       "};\n",
       "\n",
       "if(typeof $3Dmolpromise === 'undefined') {\n",
       "$3Dmolpromise = null;\n",
       "  $3Dmolpromise = loadScriptAsync('https://cdnjs.cloudflare.com/ajax/libs/3Dmol/2.0.3/3Dmol-min.js');\n",
       "}\n",
       "\n",
       "var viewer_16900600955301824 = null;\n",
       "var warn = document.getElementById(\"3dmolwarning_16900600955301824\");\n",
       "if(warn) {\n",
       "    warn.parentNode.removeChild(warn);\n",
       "}\n",
       "$3Dmolpromise.then(function() {\n",
       "viewer_16900600955301824 = $3Dmol.createViewer(document.getElementById(\"3dmolviewer_16900600955301824\"),{backgroundColor:\"white\"});\n",
       "viewer_16900600955301824.addModel(\"10\\nuDGP instance\\nC    -4.0000    2.8284    -0.0001\\nC    0.0000    0.0000    0.0000\\nC    -2.0000    1.4142    0.0000\\nC    -3.5000    3.5355    1.2247\\nC    -3.5000    5.6569    0.0000\\nC    -4.0000    4.9497    1.2247\\nC    -5.5000    4.9497    1.2247\\nC    -5.5000    2.8284    0.0000\\nC    -6.0000    4.2426    -0.0000\\nC    -1.5000    -0.0000    0.0000\");\n",
       "viewer_16900600955301824.zoomTo();\n",
       "\tviewer_16900600955301824.setBackgroundColor(\"#000000\",0.2);\n",
       "\tviewer_16900600955301824.setStyle({\"stick\": {\"radius\": 0.1}, \"sphere\": {\"scale\": 0.2}});\n",
       "viewer_16900600955301824.render();\n",
       "});\n",
       "</script>"
      ]
     },
     "metadata": {},
     "output_type": "display_data"
    },
    {
     "data": {
      "text/plain": [
       "<py3Dmol.view at 0x7ff2d0216790>"
      ]
     },
     "execution_count": 4,
     "metadata": {},
     "output_type": "execute_result"
    }
   ],
   "source": [
    "for i in range(instance.n - 5):\n",
    "    print(i)\n",
    "    m = M4(instance, n=1, max_gap=1e-4, log=False, env=env)\n",
    "    m.optimize()\n",
    "    instance = m.instance\n",
    "\n",
    "instance.view()"
   ]
  }
 ],
 "metadata": {
  "kernelspec": {
   "display_name": "venv",
   "language": "python",
   "name": "python3"
  },
  "language_info": {
   "codemirror_mode": {
    "name": "ipython",
    "version": 3
   },
   "file_extension": ".py",
   "mimetype": "text/x-python",
   "name": "python",
   "nbconvert_exporter": "python",
   "pygments_lexer": "ipython3",
   "version": "3.11.2"
  },
  "orig_nbformat": 4
 },
 "nbformat": 4,
 "nbformat_minor": 2
}
