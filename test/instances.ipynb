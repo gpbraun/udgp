{
 "cells": [
  {
   "cell_type": "markdown",
   "metadata": {},
   "source": [
    "# Geração de instâncias"
   ]
  },
  {
   "cell_type": "code",
   "execution_count": 4,
   "metadata": {},
   "outputs": [
    {
     "name": "stdout",
     "output_type": "stream",
     "text": [
      "Set parameter WLSAccessID\n",
      "Set parameter WLSSecret\n",
      "Set parameter LicenseID to value 2372514\n",
      "Academic license - for non-commercial use only - registered to braun@cos.ufrj.br\n"
     ]
    }
   ],
   "source": [
    "import gurobipy as gp\n",
    "env = gp.Env()"
   ]
  },
  {
   "cell_type": "code",
   "execution_count": 6,
   "metadata": {},
   "outputs": [
    {
     "data": {
      "application/3dmoljs_load.v0": "<div id=\"3dmolviewer_16900561616211069\"  style=\"position: relative; width: 300px; height: 300px;\">\n        <p id=\"3dmolwarning_16900561616211069\" style=\"background-color:#ffcccc;color:black\">You appear to be running in JupyterLab (or JavaScript failed to load for some other reason).  You need to install the 3dmol extension: <br>\n        <tt>jupyter labextension install jupyterlab_3dmol</tt></p>\n        </div>\n<script>\n\nvar loadScriptAsync = function(uri){\n  return new Promise((resolve, reject) => {\n    //this is to ignore the existence of requirejs amd\n    var savedexports, savedmodule;\n    if (typeof exports !== 'undefined') savedexports = exports;\n    else exports = {}\n    if (typeof module !== 'undefined') savedmodule = module;\n    else module = {}\n\n    var tag = document.createElement('script');\n    tag.src = uri;\n    tag.async = true;\n    tag.onload = () => {\n        exports = savedexports;\n        module = savedmodule;\n        resolve();\n    };\n  var firstScriptTag = document.getElementsByTagName('script')[0];\n  firstScriptTag.parentNode.insertBefore(tag, firstScriptTag);\n});\n};\n\nif(typeof $3Dmolpromise === 'undefined') {\n$3Dmolpromise = null;\n  $3Dmolpromise = loadScriptAsync('https://cdnjs.cloudflare.com/ajax/libs/3Dmol/2.0.3/3Dmol-min.js');\n}\n\nvar viewer_16900561616211069 = null;\nvar warn = document.getElementById(\"3dmolwarning_16900561616211069\");\nif(warn) {\n    warn.parentNode.removeChild(warn);\n}\n$3Dmolpromise.then(function() {\nviewer_16900561616211069 = $3Dmol.createViewer(document.getElementById(\"3dmolviewer_16900561616211069\"),{backgroundColor:\"white\"});\nviewer_16900561616211069.addModel(\"9\\nuDGP instance\\nC    -2.0000    1.4142    0.0000\\nC    -1.5000    0.0000    0.0000\\nC    -1.5000    2.1213    1.2247\\nC    0.0000    0.0000    0.0000\\nC    -0.0000    2.1213    -1.2247\\nC    -0.0000    2.1213    1.2247\\nC    0.5000    0.7071    -1.2247\\nC    0.5000    0.7071    1.2247\\nC    0.5000    2.8284    -2.4495\");\nviewer_16900561616211069.zoomTo();\n\tviewer_16900561616211069.setBackgroundColor(\"#000000\",0.2);\n\tviewer_16900561616211069.setStyle({\"stick\": {\"radius\": 0.1}, \"sphere\": {\"scale\": 0.2}});\nviewer_16900561616211069.render();\n});\n</script>",
      "text/html": [
       "<div id=\"3dmolviewer_16900561616211069\"  style=\"position: relative; width: 300px; height: 300px;\">\n",
       "        <p id=\"3dmolwarning_16900561616211069\" style=\"background-color:#ffcccc;color:black\">You appear to be running in JupyterLab (or JavaScript failed to load for some other reason).  You need to install the 3dmol extension: <br>\n",
       "        <tt>jupyter labextension install jupyterlab_3dmol</tt></p>\n",
       "        </div>\n",
       "<script>\n",
       "\n",
       "var loadScriptAsync = function(uri){\n",
       "  return new Promise((resolve, reject) => {\n",
       "    //this is to ignore the existence of requirejs amd\n",
       "    var savedexports, savedmodule;\n",
       "    if (typeof exports !== 'undefined') savedexports = exports;\n",
       "    else exports = {}\n",
       "    if (typeof module !== 'undefined') savedmodule = module;\n",
       "    else module = {}\n",
       "\n",
       "    var tag = document.createElement('script');\n",
       "    tag.src = uri;\n",
       "    tag.async = true;\n",
       "    tag.onload = () => {\n",
       "        exports = savedexports;\n",
       "        module = savedmodule;\n",
       "        resolve();\n",
       "    };\n",
       "  var firstScriptTag = document.getElementsByTagName('script')[0];\n",
       "  firstScriptTag.parentNode.insertBefore(tag, firstScriptTag);\n",
       "});\n",
       "};\n",
       "\n",
       "if(typeof $3Dmolpromise === 'undefined') {\n",
       "$3Dmolpromise = null;\n",
       "  $3Dmolpromise = loadScriptAsync('https://cdnjs.cloudflare.com/ajax/libs/3Dmol/2.0.3/3Dmol-min.js');\n",
       "}\n",
       "\n",
       "var viewer_16900561616211069 = null;\n",
       "var warn = document.getElementById(\"3dmolwarning_16900561616211069\");\n",
       "if(warn) {\n",
       "    warn.parentNode.removeChild(warn);\n",
       "}\n",
       "$3Dmolpromise.then(function() {\n",
       "viewer_16900561616211069 = $3Dmol.createViewer(document.getElementById(\"3dmolviewer_16900561616211069\"),{backgroundColor:\"white\"});\n",
       "viewer_16900561616211069.addModel(\"9\\nuDGP instance\\nC    -2.0000    1.4142    0.0000\\nC    -1.5000    0.0000    0.0000\\nC    -1.5000    2.1213    1.2247\\nC    0.0000    0.0000    0.0000\\nC    -0.0000    2.1213    -1.2247\\nC    -0.0000    2.1213    1.2247\\nC    0.5000    0.7071    -1.2247\\nC    0.5000    0.7071    1.2247\\nC    0.5000    2.8284    -2.4495\");\n",
       "viewer_16900561616211069.zoomTo();\n",
       "\tviewer_16900561616211069.setBackgroundColor(\"#000000\",0.2);\n",
       "\tviewer_16900561616211069.setStyle({\"stick\": {\"radius\": 0.1}, \"sphere\": {\"scale\": 0.2}});\n",
       "viewer_16900561616211069.render();\n",
       "});\n",
       "</script>"
      ]
     },
     "metadata": {},
     "output_type": "display_data"
    },
    {
     "data": {
      "text/plain": [
       "<py3Dmol.view at 0x7effb4211990>"
      ]
     },
     "execution_count": 6,
     "metadata": {},
     "output_type": "execute_result"
    }
   ],
   "source": [
    "from udgp import M4, generate_random_instance\n",
    "\n",
    "# cicloexano: seed 144\n",
    "\n",
    "N = 10\n",
    "instance = generate_random_instance(N, 12345)\n",
    "\n",
    "instance.view_input()\n"
   ]
  },
  {
   "cell_type": "code",
   "execution_count": 9,
   "metadata": {},
   "outputs": [
    {
     "data": {
      "application/3dmoljs_load.v0": "<div id=\"3dmolviewer_1690056281717373\"  style=\"position: relative; width: 300px; height: 300px;\">\n        <p id=\"3dmolwarning_1690056281717373\" style=\"background-color:#ffcccc;color:black\">You appear to be running in JupyterLab (or JavaScript failed to load for some other reason).  You need to install the 3dmol extension: <br>\n        <tt>jupyter labextension install jupyterlab_3dmol</tt></p>\n        </div>\n<script>\n\nvar loadScriptAsync = function(uri){\n  return new Promise((resolve, reject) => {\n    //this is to ignore the existence of requirejs amd\n    var savedexports, savedmodule;\n    if (typeof exports !== 'undefined') savedexports = exports;\n    else exports = {}\n    if (typeof module !== 'undefined') savedmodule = module;\n    else module = {}\n\n    var tag = document.createElement('script');\n    tag.src = uri;\n    tag.async = true;\n    tag.onload = () => {\n        exports = savedexports;\n        module = savedmodule;\n        resolve();\n    };\n  var firstScriptTag = document.getElementsByTagName('script')[0];\n  firstScriptTag.parentNode.insertBefore(tag, firstScriptTag);\n});\n};\n\nif(typeof $3Dmolpromise === 'undefined') {\n$3Dmolpromise = null;\n  $3Dmolpromise = loadScriptAsync('https://cdnjs.cloudflare.com/ajax/libs/3Dmol/2.0.3/3Dmol-min.js');\n}\n\nvar viewer_1690056281717373 = null;\nvar warn = document.getElementById(\"3dmolwarning_1690056281717373\");\nif(warn) {\n    warn.parentNode.removeChild(warn);\n}\n$3Dmolpromise.then(function() {\nviewer_1690056281717373 = $3Dmol.createViewer(document.getElementById(\"3dmolviewer_1690056281717373\"),{backgroundColor:\"white\"});\nviewer_1690056281717373.addModel(\"5\\nuDGP instance\\nC    -0.0000    -0.0000    -0.0000\\nC    0.9911    -1.4390    -3.8661\\nC    0.9314    -1.3258    -2.3716\\nC    -0.4937    -1.4413    -1.9181\\nC    1.4847    0.0025    -1.9482\");\nviewer_1690056281717373.zoomTo();\n\tviewer_1690056281717373.setBackgroundColor(\"#000000\",0.2);\n\tviewer_1690056281717373.setStyle({\"stick\": {\"radius\": 0.1}, \"sphere\": {\"scale\": 0.2}});\nviewer_1690056281717373.render();\n});\n</script>",
      "text/html": [
       "<div id=\"3dmolviewer_1690056281717373\"  style=\"position: relative; width: 300px; height: 300px;\">\n",
       "        <p id=\"3dmolwarning_1690056281717373\" style=\"background-color:#ffcccc;color:black\">You appear to be running in JupyterLab (or JavaScript failed to load for some other reason).  You need to install the 3dmol extension: <br>\n",
       "        <tt>jupyter labextension install jupyterlab_3dmol</tt></p>\n",
       "        </div>\n",
       "<script>\n",
       "\n",
       "var loadScriptAsync = function(uri){\n",
       "  return new Promise((resolve, reject) => {\n",
       "    //this is to ignore the existence of requirejs amd\n",
       "    var savedexports, savedmodule;\n",
       "    if (typeof exports !== 'undefined') savedexports = exports;\n",
       "    else exports = {}\n",
       "    if (typeof module !== 'undefined') savedmodule = module;\n",
       "    else module = {}\n",
       "\n",
       "    var tag = document.createElement('script');\n",
       "    tag.src = uri;\n",
       "    tag.async = true;\n",
       "    tag.onload = () => {\n",
       "        exports = savedexports;\n",
       "        module = savedmodule;\n",
       "        resolve();\n",
       "    };\n",
       "  var firstScriptTag = document.getElementsByTagName('script')[0];\n",
       "  firstScriptTag.parentNode.insertBefore(tag, firstScriptTag);\n",
       "});\n",
       "};\n",
       "\n",
       "if(typeof $3Dmolpromise === 'undefined') {\n",
       "$3Dmolpromise = null;\n",
       "  $3Dmolpromise = loadScriptAsync('https://cdnjs.cloudflare.com/ajax/libs/3Dmol/2.0.3/3Dmol-min.js');\n",
       "}\n",
       "\n",
       "var viewer_1690056281717373 = null;\n",
       "var warn = document.getElementById(\"3dmolwarning_1690056281717373\");\n",
       "if(warn) {\n",
       "    warn.parentNode.removeChild(warn);\n",
       "}\n",
       "$3Dmolpromise.then(function() {\n",
       "viewer_1690056281717373 = $3Dmol.createViewer(document.getElementById(\"3dmolviewer_1690056281717373\"),{backgroundColor:\"white\"});\n",
       "viewer_1690056281717373.addModel(\"5\\nuDGP instance\\nC    -0.0000    -0.0000    -0.0000\\nC    0.9911    -1.4390    -3.8661\\nC    0.9314    -1.3258    -2.3716\\nC    -0.4937    -1.4413    -1.9181\\nC    1.4847    0.0025    -1.9482\");\n",
       "viewer_1690056281717373.zoomTo();\n",
       "\tviewer_1690056281717373.setBackgroundColor(\"#000000\",0.2);\n",
       "\tviewer_1690056281717373.setStyle({\"stick\": {\"radius\": 0.1}, \"sphere\": {\"scale\": 0.2}});\n",
       "viewer_1690056281717373.render();\n",
       "});\n",
       "</script>"
      ]
     },
     "metadata": {},
     "output_type": "display_data"
    },
    {
     "data": {
      "text/plain": [
       "<py3Dmol.view at 0x7eff5e8ccfd0>"
      ]
     },
     "execution_count": 9,
     "metadata": {},
     "output_type": "execute_result"
    }
   ],
   "source": [
    "m1 = M4(instance, n=4, max_gap=1e-4, log=False, env=env)\n",
    "m1.optimize()\n",
    "\n",
    "m1.instance.view()"
   ]
  },
  {
   "cell_type": "code",
   "execution_count": 10,
   "metadata": {},
   "outputs": [
    {
     "name": "stdout",
     "output_type": "stream",
     "text": [
      "Modelo inviável.\n"
     ]
    },
    {
     "data": {
      "application/3dmoljs_load.v0": "<div id=\"3dmolviewer_1690056300698362\"  style=\"position: relative; width: 300px; height: 300px;\">\n        <p id=\"3dmolwarning_1690056300698362\" style=\"background-color:#ffcccc;color:black\">You appear to be running in JupyterLab (or JavaScript failed to load for some other reason).  You need to install the 3dmol extension: <br>\n        <tt>jupyter labextension install jupyterlab_3dmol</tt></p>\n        </div>\n<script>\n\nvar loadScriptAsync = function(uri){\n  return new Promise((resolve, reject) => {\n    //this is to ignore the existence of requirejs amd\n    var savedexports, savedmodule;\n    if (typeof exports !== 'undefined') savedexports = exports;\n    else exports = {}\n    if (typeof module !== 'undefined') savedmodule = module;\n    else module = {}\n\n    var tag = document.createElement('script');\n    tag.src = uri;\n    tag.async = true;\n    tag.onload = () => {\n        exports = savedexports;\n        module = savedmodule;\n        resolve();\n    };\n  var firstScriptTag = document.getElementsByTagName('script')[0];\n  firstScriptTag.parentNode.insertBefore(tag, firstScriptTag);\n});\n};\n\nif(typeof $3Dmolpromise === 'undefined') {\n$3Dmolpromise = null;\n  $3Dmolpromise = loadScriptAsync('https://cdnjs.cloudflare.com/ajax/libs/3Dmol/2.0.3/3Dmol-min.js');\n}\n\nvar viewer_1690056300698362 = null;\nvar warn = document.getElementById(\"3dmolwarning_1690056300698362\");\nif(warn) {\n    warn.parentNode.removeChild(warn);\n}\n$3Dmolpromise.then(function() {\nviewer_1690056300698362 = $3Dmol.createViewer(document.getElementById(\"3dmolviewer_1690056300698362\"),{backgroundColor:\"white\"});\nviewer_1690056300698362.addModel(\"8\\nuDGP instance\\nC    -1.5000    0.0000    0.0000\\nC    0.5000    0.7071    1.2247\\nC    0.5000    0.7071    -1.2247\\nC    0.0000    2.1213    1.2247\\nC    -2.0000    1.4142    0.0000\\nC    -2.0000    -0.7070    -1.2249\\nC    -1.5000    2.1213    1.2247\\nC    0.0000    0.0000    -0.0000\");\nviewer_1690056300698362.zoomTo();\n\tviewer_1690056300698362.setBackgroundColor(\"#000000\",0.2);\n\tviewer_1690056300698362.setStyle({\"stick\": {\"radius\": 0.1}, \"sphere\": {\"scale\": 0.2}});\nviewer_1690056300698362.render();\n});\n</script>",
      "text/html": [
       "<div id=\"3dmolviewer_1690056300698362\"  style=\"position: relative; width: 300px; height: 300px;\">\n",
       "        <p id=\"3dmolwarning_1690056300698362\" style=\"background-color:#ffcccc;color:black\">You appear to be running in JupyterLab (or JavaScript failed to load for some other reason).  You need to install the 3dmol extension: <br>\n",
       "        <tt>jupyter labextension install jupyterlab_3dmol</tt></p>\n",
       "        </div>\n",
       "<script>\n",
       "\n",
       "var loadScriptAsync = function(uri){\n",
       "  return new Promise((resolve, reject) => {\n",
       "    //this is to ignore the existence of requirejs amd\n",
       "    var savedexports, savedmodule;\n",
       "    if (typeof exports !== 'undefined') savedexports = exports;\n",
       "    else exports = {}\n",
       "    if (typeof module !== 'undefined') savedmodule = module;\n",
       "    else module = {}\n",
       "\n",
       "    var tag = document.createElement('script');\n",
       "    tag.src = uri;\n",
       "    tag.async = true;\n",
       "    tag.onload = () => {\n",
       "        exports = savedexports;\n",
       "        module = savedmodule;\n",
       "        resolve();\n",
       "    };\n",
       "  var firstScriptTag = document.getElementsByTagName('script')[0];\n",
       "  firstScriptTag.parentNode.insertBefore(tag, firstScriptTag);\n",
       "});\n",
       "};\n",
       "\n",
       "if(typeof $3Dmolpromise === 'undefined') {\n",
       "$3Dmolpromise = null;\n",
       "  $3Dmolpromise = loadScriptAsync('https://cdnjs.cloudflare.com/ajax/libs/3Dmol/2.0.3/3Dmol-min.js');\n",
       "}\n",
       "\n",
       "var viewer_1690056300698362 = null;\n",
       "var warn = document.getElementById(\"3dmolwarning_1690056300698362\");\n",
       "if(warn) {\n",
       "    warn.parentNode.removeChild(warn);\n",
       "}\n",
       "$3Dmolpromise.then(function() {\n",
       "viewer_1690056300698362 = $3Dmol.createViewer(document.getElementById(\"3dmolviewer_1690056300698362\"),{backgroundColor:\"white\"});\n",
       "viewer_1690056300698362.addModel(\"8\\nuDGP instance\\nC    -1.5000    0.0000    0.0000\\nC    0.5000    0.7071    1.2247\\nC    0.5000    0.7071    -1.2247\\nC    0.0000    2.1213    1.2247\\nC    -2.0000    1.4142    0.0000\\nC    -2.0000    -0.7070    -1.2249\\nC    -1.5000    2.1213    1.2247\\nC    0.0000    0.0000    -0.0000\");\n",
       "viewer_1690056300698362.zoomTo();\n",
       "\tviewer_1690056300698362.setBackgroundColor(\"#000000\",0.2);\n",
       "\tviewer_1690056300698362.setStyle({\"stick\": {\"radius\": 0.1}, \"sphere\": {\"scale\": 0.2}});\n",
       "viewer_1690056300698362.render();\n",
       "});\n",
       "</script>"
      ]
     },
     "metadata": {},
     "output_type": "display_data"
    },
    {
     "data": {
      "text/plain": [
       "<py3Dmol.view at 0x7effb413c3d0>"
      ]
     },
     "execution_count": 10,
     "metadata": {},
     "output_type": "execute_result"
    }
   ],
   "source": [
    "# m1 = M4(instance, n=4, max_gap=1e-2, log=False, env=env)\n",
    "# m1.optimize()\n",
    "\n",
    "instance.mock_core()\n",
    "\n",
    "for i in range(instance.n - 5):\n",
    "    m = M4(instance, n=1, max_gap=1e-2, log=False, env=env)\n",
    "    m.optimize()\n",
    "    instance = m.instance\n",
    "\n",
    "instance.view()"
   ]
  }
 ],
 "metadata": {
  "kernelspec": {
   "display_name": "venv",
   "language": "python",
   "name": "python3"
  },
  "language_info": {
   "codemirror_mode": {
    "name": "ipython",
    "version": 3
   },
   "file_extension": ".py",
   "mimetype": "text/x-python",
   "name": "python",
   "nbconvert_exporter": "python",
   "pygments_lexer": "ipython3",
   "version": "3.11.2"
  },
  "orig_nbformat": 4
 },
 "nbformat": 4,
 "nbformat_minor": 2
}
