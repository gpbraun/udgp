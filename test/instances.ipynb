{
 "cells": [
  {
   "cell_type": "markdown",
   "metadata": {},
   "source": [
    "# Geração de instâncias"
   ]
  },
  {
   "cell_type": "code",
   "execution_count": 2,
   "metadata": {},
   "outputs": [
    {
     "name": "stdout",
     "output_type": "stream",
     "text": [
      "Set parameter WLSAccessID\n",
      "Set parameter WLSSecret\n",
      "Set parameter LicenseID to value 2372514\n",
      "Academic license - for non-commercial use only - registered to braun@cos.ufrj.br\n"
     ]
    }
   ],
   "source": [
    "import gurobipy as gp\n",
    "env = gp.Env()"
   ]
  },
  {
   "cell_type": "code",
   "execution_count": 3,
   "metadata": {},
   "outputs": [
    {
     "data": {
      "application/3dmoljs_load.v0": "<div id=\"3dmolviewer_16900619326339252\"  style=\"position: relative; width: 300px; height: 300px;\">\n        <p id=\"3dmolwarning_16900619326339252\" style=\"background-color:#ffcccc;color:black\">You appear to be running in JupyterLab (or JavaScript failed to load for some other reason).  You need to install the 3dmol extension: <br>\n        <tt>jupyter labextension install jupyterlab_3dmol</tt></p>\n        </div>\n<script>\n\nvar loadScriptAsync = function(uri){\n  return new Promise((resolve, reject) => {\n    //this is to ignore the existence of requirejs amd\n    var savedexports, savedmodule;\n    if (typeof exports !== 'undefined') savedexports = exports;\n    else exports = {}\n    if (typeof module !== 'undefined') savedmodule = module;\n    else module = {}\n\n    var tag = document.createElement('script');\n    tag.src = uri;\n    tag.async = true;\n    tag.onload = () => {\n        exports = savedexports;\n        module = savedmodule;\n        resolve();\n    };\n  var firstScriptTag = document.getElementsByTagName('script')[0];\n  firstScriptTag.parentNode.insertBefore(tag, firstScriptTag);\n});\n};\n\nif(typeof $3Dmolpromise === 'undefined') {\n$3Dmolpromise = null;\n  $3Dmolpromise = loadScriptAsync('https://cdnjs.cloudflare.com/ajax/libs/3Dmol/2.0.3/3Dmol-min.js');\n}\n\nvar viewer_16900619326339252 = null;\nvar warn = document.getElementById(\"3dmolwarning_16900619326339252\");\nif(warn) {\n    warn.parentNode.removeChild(warn);\n}\n$3Dmolpromise.then(function() {\nviewer_16900619326339252 = $3Dmol.createViewer(document.getElementById(\"3dmolviewer_16900619326339252\"),{backgroundColor:\"white\"});\nviewer_16900619326339252.addModel(\"10\\nuDGP instance\\nC    -7.5000    -0.0000    -0.0000\\nC    -6.0000    -0.0000    -0.0000\\nC    -5.5000    0.7071    -1.2247\\nC    -4.0000    0.7071    -1.2247\\nC    -3.5000    1.4142    -2.4495\\nC    -2.0000    1.4142    -2.4495\\nC    -2.0000    1.4142    0.0000\\nC    -1.5000    0.0000    0.0000\\nC    -1.5000    2.1213    -1.2247\\nC    0.0000    0.0000    0.0000\");\nviewer_16900619326339252.zoomTo();\n\tviewer_16900619326339252.setBackgroundColor(\"#000000\",0.2);\n\tviewer_16900619326339252.setStyle({\"stick\": {\"radius\": 0.1}, \"sphere\": {\"scale\": 0.2}});\nviewer_16900619326339252.render();\n});\n</script>",
      "text/html": [
       "<div id=\"3dmolviewer_16900619326339252\"  style=\"position: relative; width: 300px; height: 300px;\">\n",
       "        <p id=\"3dmolwarning_16900619326339252\" style=\"background-color:#ffcccc;color:black\">You appear to be running in JupyterLab (or JavaScript failed to load for some other reason).  You need to install the 3dmol extension: <br>\n",
       "        <tt>jupyter labextension install jupyterlab_3dmol</tt></p>\n",
       "        </div>\n",
       "<script>\n",
       "\n",
       "var loadScriptAsync = function(uri){\n",
       "  return new Promise((resolve, reject) => {\n",
       "    //this is to ignore the existence of requirejs amd\n",
       "    var savedexports, savedmodule;\n",
       "    if (typeof exports !== 'undefined') savedexports = exports;\n",
       "    else exports = {}\n",
       "    if (typeof module !== 'undefined') savedmodule = module;\n",
       "    else module = {}\n",
       "\n",
       "    var tag = document.createElement('script');\n",
       "    tag.src = uri;\n",
       "    tag.async = true;\n",
       "    tag.onload = () => {\n",
       "        exports = savedexports;\n",
       "        module = savedmodule;\n",
       "        resolve();\n",
       "    };\n",
       "  var firstScriptTag = document.getElementsByTagName('script')[0];\n",
       "  firstScriptTag.parentNode.insertBefore(tag, firstScriptTag);\n",
       "});\n",
       "};\n",
       "\n",
       "if(typeof $3Dmolpromise === 'undefined') {\n",
       "$3Dmolpromise = null;\n",
       "  $3Dmolpromise = loadScriptAsync('https://cdnjs.cloudflare.com/ajax/libs/3Dmol/2.0.3/3Dmol-min.js');\n",
       "}\n",
       "\n",
       "var viewer_16900619326339252 = null;\n",
       "var warn = document.getElementById(\"3dmolwarning_16900619326339252\");\n",
       "if(warn) {\n",
       "    warn.parentNode.removeChild(warn);\n",
       "}\n",
       "$3Dmolpromise.then(function() {\n",
       "viewer_16900619326339252 = $3Dmol.createViewer(document.getElementById(\"3dmolviewer_16900619326339252\"),{backgroundColor:\"white\"});\n",
       "viewer_16900619326339252.addModel(\"10\\nuDGP instance\\nC    -7.5000    -0.0000    -0.0000\\nC    -6.0000    -0.0000    -0.0000\\nC    -5.5000    0.7071    -1.2247\\nC    -4.0000    0.7071    -1.2247\\nC    -3.5000    1.4142    -2.4495\\nC    -2.0000    1.4142    -2.4495\\nC    -2.0000    1.4142    0.0000\\nC    -1.5000    0.0000    0.0000\\nC    -1.5000    2.1213    -1.2247\\nC    0.0000    0.0000    0.0000\");\n",
       "viewer_16900619326339252.zoomTo();\n",
       "\tviewer_16900619326339252.setBackgroundColor(\"#000000\",0.2);\n",
       "\tviewer_16900619326339252.setStyle({\"stick\": {\"radius\": 0.1}, \"sphere\": {\"scale\": 0.2}});\n",
       "viewer_16900619326339252.render();\n",
       "});\n",
       "</script>"
      ]
     },
     "metadata": {},
     "output_type": "display_data"
    },
    {
     "data": {
      "text/plain": [
       "<py3Dmol.view at 0x7fa7120ac150>"
      ]
     },
     "execution_count": 3,
     "metadata": {},
     "output_type": "execute_result"
    }
   ],
   "source": [
    "from udgp import M4, generate_random_instance\n",
    "\n",
    "# 12345 (átomo redundante)\n",
    "\n",
    "N = 10\n",
    "instance = generate_random_instance(N)\n",
    "\n",
    "instance.view_input()\n"
   ]
  },
  {
   "cell_type": "code",
   "execution_count": 3,
   "metadata": {},
   "outputs": [
    {
     "name": "stdout",
     "output_type": "stream",
     "text": [
      "Set parameter LogToConsole to value 1\n",
      "Gurobi Optimizer version 10.0.2 build v10.0.2rc0 (linux64)\n",
      "\n",
      "CPU model: Intel(R) Core(TM) i7-10510U CPU @ 1.80GHz, instruction set [SSE2|AVX|AVX2]\n",
      "Thread count: 4 physical cores, 8 logical processors, using up to 8 threads\n",
      "\n",
      "Academic license - for non-commercial use only - registered to braun@cos.ufrj.br\n",
      "Optimize a model with 2878 rows, 1045 columns and 8373 nonzeros\n",
      "Model fingerprint: 0x26d58f06\n",
      "Model has 10 quadratic constraints\n",
      "Variable types: 595 continuous, 450 integer (450 binary)\n",
      "Coefficient statistics:\n",
      "  Matrix range     [1e+00, 4e+00]\n",
      "  QMatrix range    [1e+00, 1e+00]\n",
      "  Objective range  [1e+00, 1e+00]\n",
      "  Bounds range     [1e-04, 1e+00]\n",
      "  RHS range        [9e-06, 9e+00]\n",
      "Presolve removed 451 rows and 0 columns\n",
      "Presolve time: 0.05s\n",
      "Presolved: 2557 rows, 1085 columns, 12774 nonzeros\n",
      "Presolved model has 40 bilinear constraint(s)\n",
      "Variable types: 619 continuous, 466 integer (458 binary)\n",
      "\n",
      "Root relaxation: objective 0.000000e+00, 495 iterations, 0.01 seconds (0.01 work units)\n",
      "\n",
      "    Nodes    |    Current Node    |     Objective Bounds      |     Work\n",
      " Expl Unexpl |  Obj  Depth IntInf | Incumbent    BestBd   Gap | It/Node Time\n",
      "\n",
      "     0     0    0.00000    0   33          -    0.00000      -     -    0s\n",
      "     0     0    0.00000    0   39          -    0.00000      -     -    0s\n",
      "     0     0    0.00000    0   30          -    0.00000      -     -    0s\n",
      "     0     0    0.00000    0   30          -    0.00000      -     -    0s\n",
      "     0     0    0.00000    0   30          -    0.00000      -     -    0s\n",
      "     0     2    0.00000    0   30          -    0.00000      -     -    0s\n",
      "  2730  1624    0.00000   48   18          -    0.00000      -  28.9    5s\n",
      " 10859  2312    0.00000   62   24          -    0.00000      -  36.0   10s\n",
      " 16182  2811 infeasible   55               -    0.00000      -  36.4   15s\n",
      "\n",
      "Interrupt request received\n",
      "\n",
      "Cutting planes:\n",
      "  RLT: 8\n",
      "\n",
      "Explored 18539 nodes (684188 simplex iterations) in 16.81 seconds (6.68 work units)\n",
      "Thread count was 8 (of 8 available processors)\n",
      "\n",
      "Solution count 0\n",
      "\n",
      "Solve interrupted\n",
      "Best objective -, best bound 0.000000000000e+00, gap -\n"
     ]
    },
    {
     "data": {
      "application/3dmoljs_load.v0": "<div id=\"3dmolviewer_16900616129673436\"  style=\"position: relative; width: 300px; height: 300px;\">\n        <p id=\"3dmolwarning_16900616129673436\" style=\"background-color:#ffcccc;color:black\">You appear to be running in JupyterLab (or JavaScript failed to load for some other reason).  You need to install the 3dmol extension: <br>\n        <tt>jupyter labextension install jupyterlab_3dmol</tt></p>\n        </div>\n<script>\n\nvar loadScriptAsync = function(uri){\n  return new Promise((resolve, reject) => {\n    //this is to ignore the existence of requirejs amd\n    var savedexports, savedmodule;\n    if (typeof exports !== 'undefined') savedexports = exports;\n    else exports = {}\n    if (typeof module !== 'undefined') savedmodule = module;\n    else module = {}\n\n    var tag = document.createElement('script');\n    tag.src = uri;\n    tag.async = true;\n    tag.onload = () => {\n        exports = savedexports;\n        module = savedmodule;\n        resolve();\n    };\n  var firstScriptTag = document.getElementsByTagName('script')[0];\n  firstScriptTag.parentNode.insertBefore(tag, firstScriptTag);\n});\n};\n\nif(typeof $3Dmolpromise === 'undefined') {\n$3Dmolpromise = null;\n  $3Dmolpromise = loadScriptAsync('https://cdnjs.cloudflare.com/ajax/libs/3Dmol/2.0.3/3Dmol-min.js');\n}\n\nvar viewer_16900616129673436 = null;\nvar warn = document.getElementById(\"3dmolwarning_16900616129673436\");\nif(warn) {\n    warn.parentNode.removeChild(warn);\n}\n$3Dmolpromise.then(function() {\nviewer_16900616129673436 = $3Dmol.createViewer(document.getElementById(\"3dmolviewer_16900616129673436\"),{backgroundColor:\"white\"});\nviewer_16900616129673436.addModel(\"0\\nuDGP instance\");\nviewer_16900616129673436.zoomTo();\n\tviewer_16900616129673436.setBackgroundColor(\"#000000\",0.2);\n\tviewer_16900616129673436.setStyle({\"stick\": {\"radius\": 0.1}, \"sphere\": {\"scale\": 0.2}});\nviewer_16900616129673436.render();\n});\n</script>",
      "text/html": [
       "<div id=\"3dmolviewer_16900616129673436\"  style=\"position: relative; width: 300px; height: 300px;\">\n",
       "        <p id=\"3dmolwarning_16900616129673436\" style=\"background-color:#ffcccc;color:black\">You appear to be running in JupyterLab (or JavaScript failed to load for some other reason).  You need to install the 3dmol extension: <br>\n",
       "        <tt>jupyter labextension install jupyterlab_3dmol</tt></p>\n",
       "        </div>\n",
       "<script>\n",
       "\n",
       "var loadScriptAsync = function(uri){\n",
       "  return new Promise((resolve, reject) => {\n",
       "    //this is to ignore the existence of requirejs amd\n",
       "    var savedexports, savedmodule;\n",
       "    if (typeof exports !== 'undefined') savedexports = exports;\n",
       "    else exports = {}\n",
       "    if (typeof module !== 'undefined') savedmodule = module;\n",
       "    else module = {}\n",
       "\n",
       "    var tag = document.createElement('script');\n",
       "    tag.src = uri;\n",
       "    tag.async = true;\n",
       "    tag.onload = () => {\n",
       "        exports = savedexports;\n",
       "        module = savedmodule;\n",
       "        resolve();\n",
       "    };\n",
       "  var firstScriptTag = document.getElementsByTagName('script')[0];\n",
       "  firstScriptTag.parentNode.insertBefore(tag, firstScriptTag);\n",
       "});\n",
       "};\n",
       "\n",
       "if(typeof $3Dmolpromise === 'undefined') {\n",
       "$3Dmolpromise = null;\n",
       "  $3Dmolpromise = loadScriptAsync('https://cdnjs.cloudflare.com/ajax/libs/3Dmol/2.0.3/3Dmol-min.js');\n",
       "}\n",
       "\n",
       "var viewer_16900616129673436 = null;\n",
       "var warn = document.getElementById(\"3dmolwarning_16900616129673436\");\n",
       "if(warn) {\n",
       "    warn.parentNode.removeChild(warn);\n",
       "}\n",
       "$3Dmolpromise.then(function() {\n",
       "viewer_16900616129673436 = $3Dmol.createViewer(document.getElementById(\"3dmolviewer_16900616129673436\"),{backgroundColor:\"white\"});\n",
       "viewer_16900616129673436.addModel(\"0\\nuDGP instance\");\n",
       "viewer_16900616129673436.zoomTo();\n",
       "\tviewer_16900616129673436.setBackgroundColor(\"#000000\",0.2);\n",
       "\tviewer_16900616129673436.setStyle({\"stick\": {\"radius\": 0.1}, \"sphere\": {\"scale\": 0.2}});\n",
       "viewer_16900616129673436.render();\n",
       "});\n",
       "</script>"
      ]
     },
     "metadata": {},
     "output_type": "display_data"
    },
    {
     "data": {
      "text/plain": [
       "<py3Dmol.view at 0x7feef1d92e90>"
      ]
     },
     "execution_count": 3,
     "metadata": {},
     "output_type": "execute_result"
    }
   ],
   "source": [
    "m1 = M4(instance, n=4, max_gap=1e-4, env=env)\n",
    "m1.optimize()\n",
    "\n",
    "m1.instance.view()"
   ]
  },
  {
   "cell_type": "code",
   "execution_count": 4,
   "metadata": {},
   "outputs": [],
   "source": [
    "instance.mock_core(5)"
   ]
  },
  {
   "cell_type": "code",
   "execution_count": 5,
   "metadata": {},
   "outputs": [
    {
     "name": "stdout",
     "output_type": "stream",
     "text": [
      "0\n",
      "1\n",
      "2\n",
      "3\n",
      "4\n"
     ]
    },
    {
     "data": {
      "application/3dmoljs_load.v0": "<div id=\"3dmolviewer_16900619411331215\"  style=\"position: relative; width: 300px; height: 300px;\">\n        <p id=\"3dmolwarning_16900619411331215\" style=\"background-color:#ffcccc;color:black\">You appear to be running in JupyterLab (or JavaScript failed to load for some other reason).  You need to install the 3dmol extension: <br>\n        <tt>jupyter labextension install jupyterlab_3dmol</tt></p>\n        </div>\n<script>\n\nvar loadScriptAsync = function(uri){\n  return new Promise((resolve, reject) => {\n    //this is to ignore the existence of requirejs amd\n    var savedexports, savedmodule;\n    if (typeof exports !== 'undefined') savedexports = exports;\n    else exports = {}\n    if (typeof module !== 'undefined') savedmodule = module;\n    else module = {}\n\n    var tag = document.createElement('script');\n    tag.src = uri;\n    tag.async = true;\n    tag.onload = () => {\n        exports = savedexports;\n        module = savedmodule;\n        resolve();\n    };\n  var firstScriptTag = document.getElementsByTagName('script')[0];\n  firstScriptTag.parentNode.insertBefore(tag, firstScriptTag);\n});\n};\n\nif(typeof $3Dmolpromise === 'undefined') {\n$3Dmolpromise = null;\n  $3Dmolpromise = loadScriptAsync('https://cdnjs.cloudflare.com/ajax/libs/3Dmol/2.0.3/3Dmol-min.js');\n}\n\nvar viewer_16900619411331215 = null;\nvar warn = document.getElementById(\"3dmolwarning_16900619411331215\");\nif(warn) {\n    warn.parentNode.removeChild(warn);\n}\n$3Dmolpromise.then(function() {\nviewer_16900619411331215 = $3Dmol.createViewer(document.getElementById(\"3dmolviewer_16900619411331215\"),{backgroundColor:\"white\"});\nviewer_16900619411331215.addModel(\"10\\nuDGP instance\\nC    -1.5000    2.1213    -1.2247\\nC    -1.5000    -0.0000    -0.0000\\nC    -2.0000    1.4142    0.0000\\nC    -4.8000    5.1438    -0.9495\\nC    -5.5000    0.7071    -1.2248\\nC    -4.0000    0.7071    -1.2247\\nC    -2.0000    1.4142    -2.4495\\nC    -5.5000    0.7071    -1.2247\\nC    -0.0000    2.1214    -1.2247\\nC    0.5000    2.8283    -2.4495\");\nviewer_16900619411331215.zoomTo();\n\tviewer_16900619411331215.setBackgroundColor(\"#000000\",0.2);\n\tviewer_16900619411331215.setStyle({\"stick\": {\"radius\": 0.1}, \"sphere\": {\"scale\": 0.2}});\nviewer_16900619411331215.render();\n});\n</script>",
      "text/html": [
       "<div id=\"3dmolviewer_16900619411331215\"  style=\"position: relative; width: 300px; height: 300px;\">\n",
       "        <p id=\"3dmolwarning_16900619411331215\" style=\"background-color:#ffcccc;color:black\">You appear to be running in JupyterLab (or JavaScript failed to load for some other reason).  You need to install the 3dmol extension: <br>\n",
       "        <tt>jupyter labextension install jupyterlab_3dmol</tt></p>\n",
       "        </div>\n",
       "<script>\n",
       "\n",
       "var loadScriptAsync = function(uri){\n",
       "  return new Promise((resolve, reject) => {\n",
       "    //this is to ignore the existence of requirejs amd\n",
       "    var savedexports, savedmodule;\n",
       "    if (typeof exports !== 'undefined') savedexports = exports;\n",
       "    else exports = {}\n",
       "    if (typeof module !== 'undefined') savedmodule = module;\n",
       "    else module = {}\n",
       "\n",
       "    var tag = document.createElement('script');\n",
       "    tag.src = uri;\n",
       "    tag.async = true;\n",
       "    tag.onload = () => {\n",
       "        exports = savedexports;\n",
       "        module = savedmodule;\n",
       "        resolve();\n",
       "    };\n",
       "  var firstScriptTag = document.getElementsByTagName('script')[0];\n",
       "  firstScriptTag.parentNode.insertBefore(tag, firstScriptTag);\n",
       "});\n",
       "};\n",
       "\n",
       "if(typeof $3Dmolpromise === 'undefined') {\n",
       "$3Dmolpromise = null;\n",
       "  $3Dmolpromise = loadScriptAsync('https://cdnjs.cloudflare.com/ajax/libs/3Dmol/2.0.3/3Dmol-min.js');\n",
       "}\n",
       "\n",
       "var viewer_16900619411331215 = null;\n",
       "var warn = document.getElementById(\"3dmolwarning_16900619411331215\");\n",
       "if(warn) {\n",
       "    warn.parentNode.removeChild(warn);\n",
       "}\n",
       "$3Dmolpromise.then(function() {\n",
       "viewer_16900619411331215 = $3Dmol.createViewer(document.getElementById(\"3dmolviewer_16900619411331215\"),{backgroundColor:\"white\"});\n",
       "viewer_16900619411331215.addModel(\"10\\nuDGP instance\\nC    -1.5000    2.1213    -1.2247\\nC    -1.5000    -0.0000    -0.0000\\nC    -2.0000    1.4142    0.0000\\nC    -4.8000    5.1438    -0.9495\\nC    -5.5000    0.7071    -1.2248\\nC    -4.0000    0.7071    -1.2247\\nC    -2.0000    1.4142    -2.4495\\nC    -5.5000    0.7071    -1.2247\\nC    -0.0000    2.1214    -1.2247\\nC    0.5000    2.8283    -2.4495\");\n",
       "viewer_16900619411331215.zoomTo();\n",
       "\tviewer_16900619411331215.setBackgroundColor(\"#000000\",0.2);\n",
       "\tviewer_16900619411331215.setStyle({\"stick\": {\"radius\": 0.1}, \"sphere\": {\"scale\": 0.2}});\n",
       "viewer_16900619411331215.render();\n",
       "});\n",
       "</script>"
      ]
     },
     "metadata": {},
     "output_type": "display_data"
    },
    {
     "data": {
      "text/plain": [
       "<py3Dmol.view at 0x7fa76db21910>"
      ]
     },
     "execution_count": 5,
     "metadata": {},
     "output_type": "execute_result"
    }
   ],
   "source": [
    "for i in range(instance.n - 5):\n",
    "    print(i)\n",
    "    m = M4(instance, n=1, max_gap=1e-4, env=env)\n",
    "    m.optimize()\n",
    "    instance = m.instance\n",
    "\n",
    "instance.view()"
   ]
  }
 ],
 "metadata": {
  "kernelspec": {
   "display_name": "venv",
   "language": "python",
   "name": "python3"
  },
  "language_info": {
   "codemirror_mode": {
    "name": "ipython",
    "version": 3
   },
   "file_extension": ".py",
   "mimetype": "text/x-python",
   "name": "python",
   "nbconvert_exporter": "python",
   "pygments_lexer": "ipython3",
   "version": "3.11.2"
  },
  "orig_nbformat": 4
 },
 "nbformat": 4,
 "nbformat_minor": 2
}
