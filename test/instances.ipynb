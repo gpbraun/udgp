{
       "cells": [
              {
                     "cell_type": "markdown",
                     "metadata": {},
                     "source": [
                            "# Geração de instâncias"
                     ]
              },
              {
                     "cell_type": "code",
                     "execution_count": 57,
                     "metadata": {},
                     "outputs": [],
                     "source": [
                            "import numpy as np\n",
                            "import gurobipy as gp\n",
                            "from gurobipy import GRB\n",
                            "from udgp import M1, M2, M4, M5, Instance"
                     ]
              },
              {
                     "cell_type": "code",
                     "execution_count": 58,
                     "metadata": {},
                     "outputs": [
                            {
                                   "name": "stdout",
                                   "output_type": "stream",
                                   "text": [
                                          "Set parameter Username\n",
                                          "Academic license - for non-commercial use only - expires 2024-07-25\n"
                                   ]
                            }
                     ],
                     "source": [
                            "env = gp.Env()"
                     ]
              },
              {
                     "cell_type": "code",
                     "execution_count": 65,
                     "metadata": {},
                     "outputs": [],
                     "source": [
                            "with open(\"3nir.pdb\") as ifile:\n",
                            "    system = \"\".join([x for x in ifile])"
                     ]
              },
              {
                     "cell_type": "code",
                     "execution_count": 66,
                     "metadata": {},
                     "outputs": [],
                     "source": [
                            "import py3Dmol"
                     ]
              },
              {
                     "cell_type": "code",
                     "execution_count": 70,
                     "metadata": {},
                     "outputs": [
                            {
                                   "data": {
                                          "application/3dmoljs_load.v0": "<div id=\"3dmolviewer_16911590818691738\"  style=\"position: relative; width: 400px; height: 350px;\">\n        <p id=\"3dmolwarning_16911590818691738\" style=\"background-color:#ffcccc;color:black\">You appear to be running in JupyterLab (or JavaScript failed to load for some other reason).  You need to install the 3dmol extension: <br>\n        <tt>jupyter labextension install jupyterlab_3dmol</tt></p>\n        </div>\n<script>\n\nvar loadScriptAsync = function(uri){\n  return new Promise((resolve, reject) => {\n    //this is to ignore the existence of requirejs amd\n    var savedexports, savedmodule;\n    if (typeof exports !== 'undefined') savedexports = exports;\n    else exports = {}\n    if (typeof module !== 'undefined') savedmodule = module;\n    else module = {}\n\n    var tag = document.createElement('script');\n    tag.src = uri;\n    tag.async = true;\n    tag.onload = () => {\n        exports = savedexports;\n        module = savedmodule;\n        resolve();\n    };\n  var firstScriptTag = document.getElementsByTagName('script')[0];\n  firstScriptTag.parentNode.insertBefore(tag, firstScriptTag);\n});\n};\n\nif(typeof $3Dmolpromise === 'undefined') {\n$3Dmolpromise = null;\n  $3Dmolpromise = loadScriptAsync('https://cdnjs.cloudflare.com/ajax/libs/3Dmol/2.0.3/3Dmol-min.js');\n}\n\nvar viewer_16911590818691738 = null;\nvar warn = document.getElementById(\"3dmolwarning_16911590818691738\");\nif(warn) {\n    warn.parentNode.removeChild(warn);\n}\n$3Dmolpromise.then(function() {\nviewer_16911590818691738 = $3Dmol.createViewer(document.getElementById(\"3dmolviewer_16911590818691738\"),{backgroundColor:\"white\"});\nviewer_16911590818691738.addModel(\"5\\nuDGP instance\\nC    0.0000    0.0000    0.0000\\nC    -1.5000    0.0000    0.0000\\nC    -2.0000    1.4141    0.0000\\nC    -1.5000    2.1211    -1.2246\\nC    -2.0000    3.5352    -1.2246\");\nviewer_16911590818691738.zoomTo();\n\tviewer_16911590818691738.setBackgroundColor(\"#000000\",0.2);\n\tviewer_16911590818691738.setStyle({\"stick\": {\"radius\": 0.1, \"color\": \"#cbd5e1\"}, \"sphere\": {\"scale\": 0.2, \"color\": \"#60a5fa\"}});\nviewer_16911590818691738.render();\n});\n</script>",
                                          "text/html": [
                                                 "<div id=\"3dmolviewer_16911590818691738\"  style=\"position: relative; width: 400px; height: 350px;\">\n",
                                                 "        <p id=\"3dmolwarning_16911590818691738\" style=\"background-color:#ffcccc;color:black\">You appear to be running in JupyterLab (or JavaScript failed to load for some other reason).  You need to install the 3dmol extension: <br>\n",
                                                 "        <tt>jupyter labextension install jupyterlab_3dmol</tt></p>\n",
                                                 "        </div>\n",
                                                 "<script>\n",
                                                 "\n",
                                                 "var loadScriptAsync = function(uri){\n",
                                                 "  return new Promise((resolve, reject) => {\n",
                                                 "    //this is to ignore the existence of requirejs amd\n",
                                                 "    var savedexports, savedmodule;\n",
                                                 "    if (typeof exports !== 'undefined') savedexports = exports;\n",
                                                 "    else exports = {}\n",
                                                 "    if (typeof module !== 'undefined') savedmodule = module;\n",
                                                 "    else module = {}\n",
                                                 "\n",
                                                 "    var tag = document.createElement('script');\n",
                                                 "    tag.src = uri;\n",
                                                 "    tag.async = true;\n",
                                                 "    tag.onload = () => {\n",
                                                 "        exports = savedexports;\n",
                                                 "        module = savedmodule;\n",
                                                 "        resolve();\n",
                                                 "    };\n",
                                                 "  var firstScriptTag = document.getElementsByTagName('script')[0];\n",
                                                 "  firstScriptTag.parentNode.insertBefore(tag, firstScriptTag);\n",
                                                 "});\n",
                                                 "};\n",
                                                 "\n",
                                                 "if(typeof $3Dmolpromise === 'undefined') {\n",
                                                 "$3Dmolpromise = null;\n",
                                                 "  $3Dmolpromise = loadScriptAsync('https://cdnjs.cloudflare.com/ajax/libs/3Dmol/2.0.3/3Dmol-min.js');\n",
                                                 "}\n",
                                                 "\n",
                                                 "var viewer_16911590818691738 = null;\n",
                                                 "var warn = document.getElementById(\"3dmolwarning_16911590818691738\");\n",
                                                 "if(warn) {\n",
                                                 "    warn.parentNode.removeChild(warn);\n",
                                                 "}\n",
                                                 "$3Dmolpromise.then(function() {\n",
                                                 "viewer_16911590818691738 = $3Dmol.createViewer(document.getElementById(\"3dmolviewer_16911590818691738\"),{backgroundColor:\"white\"});\n",
                                                 "viewer_16911590818691738.addModel(\"5\\nuDGP instance\\nC    0.0000    0.0000    0.0000\\nC    -1.5000    0.0000    0.0000\\nC    -2.0000    1.4141    0.0000\\nC    -1.5000    2.1211    -1.2246\\nC    -2.0000    3.5352    -1.2246\");\n",
                                                 "viewer_16911590818691738.zoomTo();\n",
                                                 "\tviewer_16911590818691738.setBackgroundColor(\"#000000\",0.2);\n",
                                                 "\tviewer_16911590818691738.setStyle({\"stick\": {\"radius\": 0.1, \"color\": \"#cbd5e1\"}, \"sphere\": {\"scale\": 0.2, \"color\": \"#60a5fa\"}});\n",
                                                 "viewer_16911590818691738.render();\n",
                                                 "});\n",
                                                 "</script>"
                                          ]
                                   },
                                   "metadata": {},
                                   "output_type": "display_data"
                            },
                            {
                                   "data": {
                                          "text/plain": [
                                                 "<py3Dmol.view at 0x1e74932e5d0>"
                                          ]
                                   },
                                   "execution_count": 64,
                                   "metadata": {},
                                   "output_type": "execute_result"
                            }
                     ],
                     "source": [
                            "# seed: 1234567\n",
                            "instance = Instance.artificial_molecule(5, freq=True, seed=123456)\n",
                            "# instance = Instance.lj_cluster(20, freq=True)\n",
                            "# instance = Instance.c60(freq=True)\n",
                            "instance.view_input(bg_color=\"#FAFAFA\", alpha=1, width=800, height=800)"
                     ]
              },
              {
                     "cell_type": "markdown",
                     "metadata": {},
                     "source": [
                            "# Testes"
                     ]
              },
              {
                     "cell_type": "code",
                     "execution_count": 8,
                     "metadata": {},
                     "outputs": [
                            {
                                   "name": "stdout",
                                   "output_type": "stream",
                                   "text": [
                                          "Set parameter LogToConsole to value 1\n",
                                          "Gurobi Optimizer version 10.0.2 build v10.0.2rc0 (linux64)\n",
                                          "\n",
                                          "CPU model: Intel(R) Core(TM) i7-10510U CPU @ 1.80GHz, instruction set [SSE2|AVX|AVX2]\n",
                                          "Thread count: 4 physical cores, 8 logical processors, using up to 8 threads\n",
                                          "\n",
                                          "Optimize a model with 302 rows, 195 columns and 780 nonzeros\n",
                                          "Model fingerprint: 0x3503897d\n",
                                          "Model has 15 quadratic constraints\n",
                                          "Variable types: 135 continuous, 30 integer (30 binary)\n",
                                          "Semi-Variable types: 30 continuous, 0 integer\n",
                                          "Coefficient statistics:\n",
                                          "  Matrix range     [1e+00, 2e+00]\n",
                                          "  QMatrix range    [1e+00, 1e+00]\n",
                                          "  Objective range  [1e+00, 1e+00]\n",
                                          "  Bounds range     [5e-03, 2e+00]\n",
                                          "  RHS range        [5e-01, 1e+01]\n",
                                          "Presolve removed 91 rows and 45 columns\n",
                                          "Presolve time: 0.00s\n",
                                          "Presolved: 466 rows, 240 columns, 1080 nonzeros\n",
                                          "Presolved model has 60 bilinear constraint(s)\n",
                                          "Variable types: 195 continuous, 45 integer (45 binary)\n",
                                          "\n",
                                          "Root relaxation: objective 1.000000e+00, 167 iterations, 0.00 seconds (0.00 work units)\n",
                                          "\n",
                                          "    Nodes    |    Current Node    |     Objective Bounds      |     Work\n",
                                          " Expl Unexpl |  Obj  Depth IntInf | Incumbent    BestBd   Gap | It/Node Time\n",
                                          "\n",
                                          "     0     0    1.00000    0   25          -    1.00000      -     -    0s\n",
                                          "     0     0    1.00000    0   25          -    1.00000      -     -    0s\n",
                                          "     0     0    1.00000    0   25          -    1.00000      -     -    0s\n",
                                          "     0     0    1.00000    0   25          -    1.00000      -     -    0s\n",
                                          "     0     2    1.00000    0   25          -    1.00000      -     -    0s\n",
                                          "*10396  4852              52       1.0337966    1.00000  3.27%  47.8    3s\n",
                                          "*10665  4910              43       1.0332031    1.00000  3.21%  47.8    3s\n",
                                          "*10666  4910              43       1.0331651    1.00000  3.21%  47.8    3s\n",
                                          " 12694  5203 infeasible   47         1.03317    1.00000  3.21%  49.8    5s\n",
                                          "*23307  6447              64       1.0330687    1.00000  3.20%  54.3    9s\n",
                                          " 23702  6662 infeasible   51         1.03307    1.00000  3.20%  54.2   10s\n",
                                          "*24051  6657              73       1.0327985    1.00000  3.18%  54.1   10s\n",
                                          "\n",
                                          "Interrupt request received\n",
                                          "\n",
                                          "Cutting planes:\n",
                                          "  RLT: 5\n",
                                          "\n",
                                          "Explored 25611 nodes (1387354 simplex iterations) in 10.64 seconds (5.65 work units)\n",
                                          "Thread count was 8 (of 8 available processors)\n",
                                          "\n",
                                          "Solution count 5: 1.0328 1.03307 1.03317 ... 1.0338\n",
                                          "\n",
                                          "Solve interrupted\n",
                                          "Warning: max constraint violation (3.0226e-04) exceeds tolerance\n",
                                          "Best objective 1.032798470809e+00, best bound 1.000000000000e+00, gap 3.1757%\n",
                                          "True\n",
                                          "10.655892133712769\n"
                                   ]
                            },
                            {
                                   "data": {
                                          "application/3dmoljs_load.v0": "<div id=\"3dmolviewer_16910178683545773\"  style=\"position: relative; width: 400px; height: 350px;\">\n        <p id=\"3dmolwarning_16910178683545773\" style=\"background-color:#ffcccc;color:black\">You appear to be running in JupyterLab (or JavaScript failed to load for some other reason).  You need to install the 3dmol extension: <br>\n        <tt>jupyter labextension install jupyterlab_3dmol</tt></p>\n        </div>\n<script>\n\nvar loadScriptAsync = function(uri){\n  return new Promise((resolve, reject) => {\n    //this is to ignore the existence of requirejs amd\n    var savedexports, savedmodule;\n    if (typeof exports !== 'undefined') savedexports = exports;\n    else exports = {}\n    if (typeof module !== 'undefined') savedmodule = module;\n    else module = {}\n\n    var tag = document.createElement('script');\n    tag.src = uri;\n    tag.async = true;\n    tag.onload = () => {\n        exports = savedexports;\n        module = savedmodule;\n        resolve();\n    };\n  var firstScriptTag = document.getElementsByTagName('script')[0];\n  firstScriptTag.parentNode.insertBefore(tag, firstScriptTag);\n});\n};\n\nif(typeof $3Dmolpromise === 'undefined') {\n$3Dmolpromise = null;\n  $3Dmolpromise = loadScriptAsync('https://cdnjs.cloudflare.com/ajax/libs/3Dmol/2.0.3/3Dmol-min.js');\n}\n\nvar viewer_16910178683545773 = null;\nvar warn = document.getElementById(\"3dmolwarning_16910178683545773\");\nif(warn) {\n    warn.parentNode.removeChild(warn);\n}\n$3Dmolpromise.then(function() {\nviewer_16910178683545773 = $3Dmol.createViewer(document.getElementById(\"3dmolviewer_16910178683545773\"),{backgroundColor:\"white\"});\nviewer_16910178683545773.addModel(\"6\\nuDGP instance\\nC    0.0000    0.0000    0.0000\\nC    0.0200    -1.1180    -0.0270\\nC    -0.8840    -1.1180    -0.6810\\nC    0.0160    -0.5350    -0.9830\\nC    -0.9050    -0.5880    0.3000\\nC    -0.9050    0.0000    -0.6520\");\nviewer_16910178683545773.zoomTo();\n\tviewer_16910178683545773.setBackgroundColor(\"#000000\",0.2);\n\tviewer_16910178683545773.setStyle({\"stick\": {\"radius\": 0.1, \"color\": \"#cbd5e1\"}, \"sphere\": {\"scale\": 0.2, \"color\": \"#60a5fa\"}});\nviewer_16910178683545773.render();\n});\n</script>",
                                          "text/html": [
                                                 "<div id=\"3dmolviewer_16910178683545773\"  style=\"position: relative; width: 400px; height: 350px;\">\n",
                                                 "        <p id=\"3dmolwarning_16910178683545773\" style=\"background-color:#ffcccc;color:black\">You appear to be running in JupyterLab (or JavaScript failed to load for some other reason).  You need to install the 3dmol extension: <br>\n",
                                                 "        <tt>jupyter labextension install jupyterlab_3dmol</tt></p>\n",
                                                 "        </div>\n",
                                                 "<script>\n",
                                                 "\n",
                                                 "var loadScriptAsync = function(uri){\n",
                                                 "  return new Promise((resolve, reject) => {\n",
                                                 "    //this is to ignore the existence of requirejs amd\n",
                                                 "    var savedexports, savedmodule;\n",
                                                 "    if (typeof exports !== 'undefined') savedexports = exports;\n",
                                                 "    else exports = {}\n",
                                                 "    if (typeof module !== 'undefined') savedmodule = module;\n",
                                                 "    else module = {}\n",
                                                 "\n",
                                                 "    var tag = document.createElement('script');\n",
                                                 "    tag.src = uri;\n",
                                                 "    tag.async = true;\n",
                                                 "    tag.onload = () => {\n",
                                                 "        exports = savedexports;\n",
                                                 "        module = savedmodule;\n",
                                                 "        resolve();\n",
                                                 "    };\n",
                                                 "  var firstScriptTag = document.getElementsByTagName('script')[0];\n",
                                                 "  firstScriptTag.parentNode.insertBefore(tag, firstScriptTag);\n",
                                                 "});\n",
                                                 "};\n",
                                                 "\n",
                                                 "if(typeof $3Dmolpromise === 'undefined') {\n",
                                                 "$3Dmolpromise = null;\n",
                                                 "  $3Dmolpromise = loadScriptAsync('https://cdnjs.cloudflare.com/ajax/libs/3Dmol/2.0.3/3Dmol-min.js');\n",
                                                 "}\n",
                                                 "\n",
                                                 "var viewer_16910178683545773 = null;\n",
                                                 "var warn = document.getElementById(\"3dmolwarning_16910178683545773\");\n",
                                                 "if(warn) {\n",
                                                 "    warn.parentNode.removeChild(warn);\n",
                                                 "}\n",
                                                 "$3Dmolpromise.then(function() {\n",
                                                 "viewer_16910178683545773 = $3Dmol.createViewer(document.getElementById(\"3dmolviewer_16910178683545773\"),{backgroundColor:\"white\"});\n",
                                                 "viewer_16910178683545773.addModel(\"6\\nuDGP instance\\nC    0.0000    0.0000    0.0000\\nC    0.0200    -1.1180    -0.0270\\nC    -0.8840    -1.1180    -0.6810\\nC    0.0160    -0.5350    -0.9830\\nC    -0.9050    -0.5880    0.3000\\nC    -0.9050    0.0000    -0.6520\");\n",
                                                 "viewer_16910178683545773.zoomTo();\n",
                                                 "\tviewer_16910178683545773.setBackgroundColor(\"#000000\",0.2);\n",
                                                 "\tviewer_16910178683545773.setStyle({\"stick\": {\"radius\": 0.1, \"color\": \"#cbd5e1\"}, \"sphere\": {\"scale\": 0.2, \"color\": \"#60a5fa\"}});\n",
                                                 "viewer_16910178683545773.render();\n",
                                                 "});\n",
                                                 "</script>"
                                          ]
                                   },
                                   "metadata": {},
                                   "output_type": "display_data"
                            },
                            {
                                   "data": {
                                          "text/plain": [
                                                 "<py3Dmol.view at 0x7f35a2f9cc50>"
                                          ]
                                   },
                                   "execution_count": 8,
                                   "metadata": {},
                                   "output_type": "execute_result"
                            }
                     ],
                     "source": [
                            "instance.reset()\n",
                            "m = M4(\n",
                            "        instance, \n",
                            "        # nx=4,\n",
                            "        env=env,\n",
                            "        # relaxed=True,\n",
                            "    )\n",
                            "m.optimize(log=True)\n",
                            "print(instance.is_solved())\n",
                            "print(m.Runtime)\n",
                            "instance.view()"
                     ]
              },
              {
                     "cell_type": "code",
                     "execution_count": 4,
                     "metadata": {},
                     "outputs": [
                            {
                                   "name": "stdout",
                                   "output_type": "stream",
                                   "text": [
                                          "1234567\n",
                                          "\n",
                                          "Interrupt request received\n",
                                          "distância 1.580078125 não está na lista: [1.5  1.5  1.5  1.5  1.5  2.45 2.45 2.45 2.45 2.45 2.87 2.87 2.87 2.87\n",
                                          " 3.46]\n",
                                          "frequências: [0 0 0 0 1 1 1 1 1 1 1 1 1 1 1]\n",
                                          "erro mínimo: 1.5 -> 0.05078125\n",
                                          "False\n",
                                          "123456\n"
                                   ]
                            }
                     ],
                     "source": [
                            "t = []\n",
                            "\n",
                            "# for i in range(5):\n",
                            "for seed in [1234567, 123456, 12345]:\n",
                            "    print(seed)\n",
                            "    instance = Instance.artificial_molecule(6, freq=False, seed=seed)\n",
                            "    m = M1(\n",
                            "        instance, \n",
                            "        # nx=4, \n",
                            "        env=env,\n",
                            "        # relaxed=True,\n",
                            "    )\n",
                            "    m.optimize(log=False)\n",
                            "    print(instance.is_solved())\n",
                            "    t.append(m.Runtime)\n",
                            "\n",
                            "np.mean(t)\n"
                     ]
              },
              {
                     "cell_type": "code",
                     "execution_count": 6,
                     "metadata": {},
                     "outputs": [
                            {
                                   "data": {
                                          "text/plain": [
                                                 "False"
                                          ]
                                   },
                                   "execution_count": 6,
                                   "metadata": {},
                                   "output_type": "execute_result"
                            }
                     ],
                     "source": [
                            "instance.is_solved()"
                     ]
              },
              {
                     "cell_type": "code",
                     "execution_count": 14,
                     "metadata": {},
                     "outputs": [
                            {
                                   "name": "stdout",
                                   "output_type": "stream",
                                   "text": [
                                          "[1.12 1.15 1.82]\n",
                                          "[11  0  0]\n"
                                   ]
                            }
                     ],
                     "source": [
                            "print(instance.dists)\n",
                            "print(instance.freqs)"
                     ]
              },
              {
                     "cell_type": "markdown",
                     "metadata": {},
                     "source": [
                            "# Heurística"
                     ]
              },
              {
                     "cell_type": "code",
                     "execution_count": 11,
                     "metadata": {},
                     "outputs": [
                            {
                                   "name": "stdout",
                                   "output_type": "stream",
                                   "text": [
                                          "=================\n",
                                          "TENTATIVA 24\n",
                                          "=================\n",
                                          "Modelo inviável.\n",
                                          "CORE\n",
                                          "  1 átomos\n",
                                          "  2 átomos\n",
                                          "  3 átomos\n",
                                          "  4 átomos\n"
                                   ]
                            },
                            {
                                   "name": "stdout",
                                   "output_type": "stream",
                                   "text": [
                                          "  5 átomos\n"
                                   ]
                            }
                     ],
                     "source": [
                            "from IPython.display import clear_output\n",
                            "\n",
                            "instance.reset()\n",
                            "\n",
                            "previous_a = []\n",
                            "\n",
                            "time = 0\n",
                            "\n",
                            "i = 1\n",
                            "while not instance.is_solved():\n",
                            "# while instance.fixed_n < instance.n:\n",
                            "    clear_output(wait=True)\n",
                            "    print(\"=================\")\n",
                            "    print(f\"TENTATIVA {i}\")\n",
                            "    print(\"=================\")\n",
                            "    i += 1\n",
                            "\n",
                            "    instance.reset()\n",
                            "    m_core = M4(instance, nx=4, env=env)\n",
                            "    for a_indices in previous_a:\n",
                            "        m_core.addConstr(\n",
                            "            gp.quicksum(m_core.a[i, j, k] for i, j, k in a_indices) \n",
                            "            <= len(a_indices) - 1\n",
                            "        )\n",
                            "    m_core.optimize()\n",
                            "\n",
                            "    if m.Status == GRB.INFEASIBLE:\n",
                            "        previous_a = []\n",
                            "\n",
                            "    time += m_core.Runtime\n",
                            "\n",
                            "    previous_a.append(instance.a_indices.tolist())\n",
                            "    \n",
                            "    # instance.reset_with_core(\"mock\")\n",
                            "    \n",
                            "    print(\"CORE\")\n",
                            "\n",
                            "    broken = False\n",
                            "    while instance.fixed_n < instance.n and not broken:\n",
                            "        print(f\"  {instance.fixed_n} átomos\")\n",
                            "\n",
                            "        solved = False\n",
                            "        tries = 0\n",
                            "\n",
                            "        while not solved:\n",
                            "            tries += 1\n",
                            "    \n",
                            "            m = M4(instance, nx=1, env=env)\n",
                            "\n",
                            "            solved = m.optimize()\n",
                            "        \n",
                            "            time += m.Runtime\n",
                            "    \n",
                            "            if m.Status == GRB.INFEASIBLE or tries > 20:\n",
                            "                broken = True\n",
                            "                # previous_a.append([(i, j, k) for i, j, k in instance.a_indices])\n",
                            "                break\n",
                            "\n",
                            "print(time)\n",
                            "\n",
                            "instance.view()\n"
                     ]
              },
              {
                     "cell_type": "code",
                     "execution_count": 9,
                     "metadata": {},
                     "outputs": [
                            {
                                   "data": {
                                          "text/plain": [
                                                 "array([ 245.64799542,  261.11746201,  613.61174006, 2421.56062166,\n",
                                                 "       4539.25102258])"
                                          ]
                                   },
                                   "execution_count": 9,
                                   "metadata": {},
                                   "output_type": "execute_result"
                            }
                     ],
                     "source": [
                            "import numpy as np\n",
                            "xxx = np.array([0.72, 3.99, 9.39, 60.52, 114.57])\n",
                            "xxx = xxx*60\n",
                            "xxx = xxx*27.35/(0.72*60)\n",
                            "xxx = xxx + np.random.normal(100,100,5)\n",
                            "xxx"
                     ]
              },
              {
                     "cell_type": "code",
                     "execution_count": 55,
                     "metadata": {},
                     "outputs": [
                            {
                                   "data": {
                                          "text/plain": [
                                                 "0.013400657263876847"
                                          ]
                                   },
                                   "execution_count": 55,
                                   "metadata": {},
                                   "output_type": "execute_result"
                            }
                     ],
                     "source": [
                            "rng = np.random.default_rng()\n",
                            "rng.random()  "
                     ]
              }
       ],
       "metadata": {
              "kernelspec": {
                     "display_name": "venv",
                     "language": "python",
                     "name": "python3"
              },
              "language_info": {
                     "codemirror_mode": {
                            "name": "ipython",
                            "version": 3
                     },
                     "file_extension": ".py",
                     "mimetype": "text/x-python",
                     "name": "python",
                     "nbconvert_exporter": "python",
                     "pygments_lexer": "ipython3",
                     "version": "3.11.4"
              },
              "orig_nbformat": 4
       },
       "nbformat": 4,
       "nbformat_minor": 2
}