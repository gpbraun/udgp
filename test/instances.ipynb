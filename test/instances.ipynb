{
 "cells": [
  {
   "cell_type": "markdown",
   "metadata": {},
   "source": [
    "# Geração de instâncias"
   ]
  },
  {
   "cell_type": "code",
   "execution_count": 1,
   "metadata": {},
   "outputs": [
    {
     "data": {
      "application/3dmoljs_load.v0": "<div id=\"3dmolviewer_1689868311442875\"  style=\"position: relative; width: 640px; height: 480px;\">\n        <p id=\"3dmolwarning_1689868311442875\" style=\"background-color:#ffcccc;color:black\">You appear to be running in JupyterLab (or JavaScript failed to load for some other reason).  You need to install the 3dmol extension: <br>\n        <tt>jupyter labextension install jupyterlab_3dmol</tt></p>\n        </div>\n<script>\n\nvar loadScriptAsync = function(uri){\n  return new Promise((resolve, reject) => {\n    //this is to ignore the existence of requirejs amd\n    var savedexports, savedmodule;\n    if (typeof exports !== 'undefined') savedexports = exports;\n    else exports = {}\n    if (typeof module !== 'undefined') savedmodule = module;\n    else module = {}\n\n    var tag = document.createElement('script');\n    tag.src = uri;\n    tag.async = true;\n    tag.onload = () => {\n        exports = savedexports;\n        module = savedmodule;\n        resolve();\n    };\n  var firstScriptTag = document.getElementsByTagName('script')[0];\n  firstScriptTag.parentNode.insertBefore(tag, firstScriptTag);\n});\n};\n\nif(typeof $3Dmolpromise === 'undefined') {\n$3Dmolpromise = null;\n  $3Dmolpromise = loadScriptAsync('https://cdnjs.cloudflare.com/ajax/libs/3Dmol/2.0.3/3Dmol-min.js');\n}\n\nvar viewer_1689868311442875 = null;\nvar warn = document.getElementById(\"3dmolwarning_1689868311442875\");\nif(warn) {\n    warn.parentNode.removeChild(warn);\n}\n$3Dmolpromise.then(function() {\nviewer_1689868311442875 = $3Dmol.createViewer(document.getElementById(\"3dmolviewer_1689868311442875\"),{backgroundColor:\"white\"});\nviewer_1689868311442875.addModel(\"5\\nInst\\u00e2ncia para uDGP\\nC    0.0000    0.0000    0.0000\\nC    -1.5000    0.0000    0.0000\\nC    -2.0000    1.4142    0.0000\\nC    -1.5000    2.1213    -1.2247\\nC    -0.0000    2.1213    -1.2247\");\nviewer_1689868311442875.zoomTo();\n\tviewer_1689868311442875.setBackgroundColor(\"#000000\");\n\tviewer_1689868311442875.setStyle({\"stick\": {\"radius\": 0.1}, \"sphere\": {\"scale\": 0.2}});\nviewer_1689868311442875.render();\n});\n</script>",
      "text/html": [
       "<div id=\"3dmolviewer_1689868311442875\"  style=\"position: relative; width: 640px; height: 480px;\">\n",
       "        <p id=\"3dmolwarning_1689868311442875\" style=\"background-color:#ffcccc;color:black\">You appear to be running in JupyterLab (or JavaScript failed to load for some other reason).  You need to install the 3dmol extension: <br>\n",
       "        <tt>jupyter labextension install jupyterlab_3dmol</tt></p>\n",
       "        </div>\n",
       "<script>\n",
       "\n",
       "var loadScriptAsync = function(uri){\n",
       "  return new Promise((resolve, reject) => {\n",
       "    //this is to ignore the existence of requirejs amd\n",
       "    var savedexports, savedmodule;\n",
       "    if (typeof exports !== 'undefined') savedexports = exports;\n",
       "    else exports = {}\n",
       "    if (typeof module !== 'undefined') savedmodule = module;\n",
       "    else module = {}\n",
       "\n",
       "    var tag = document.createElement('script');\n",
       "    tag.src = uri;\n",
       "    tag.async = true;\n",
       "    tag.onload = () => {\n",
       "        exports = savedexports;\n",
       "        module = savedmodule;\n",
       "        resolve();\n",
       "    };\n",
       "  var firstScriptTag = document.getElementsByTagName('script')[0];\n",
       "  firstScriptTag.parentNode.insertBefore(tag, firstScriptTag);\n",
       "});\n",
       "};\n",
       "\n",
       "if(typeof $3Dmolpromise === 'undefined') {\n",
       "$3Dmolpromise = null;\n",
       "  $3Dmolpromise = loadScriptAsync('https://cdnjs.cloudflare.com/ajax/libs/3Dmol/2.0.3/3Dmol-min.js');\n",
       "}\n",
       "\n",
       "var viewer_1689868311442875 = null;\n",
       "var warn = document.getElementById(\"3dmolwarning_1689868311442875\");\n",
       "if(warn) {\n",
       "    warn.parentNode.removeChild(warn);\n",
       "}\n",
       "$3Dmolpromise.then(function() {\n",
       "viewer_1689868311442875 = $3Dmol.createViewer(document.getElementById(\"3dmolviewer_1689868311442875\"),{backgroundColor:\"white\"});\n",
       "viewer_1689868311442875.addModel(\"5\\nInst\\u00e2ncia para uDGP\\nC    0.0000    0.0000    0.0000\\nC    -1.5000    0.0000    0.0000\\nC    -2.0000    1.4142    0.0000\\nC    -1.5000    2.1213    -1.2247\\nC    -0.0000    2.1213    -1.2247\");\n",
       "viewer_1689868311442875.zoomTo();\n",
       "\tviewer_1689868311442875.setBackgroundColor(\"#000000\");\n",
       "\tviewer_1689868311442875.setStyle({\"stick\": {\"radius\": 0.1}, \"sphere\": {\"scale\": 0.2}});\n",
       "viewer_1689868311442875.render();\n",
       "});\n",
       "</script>"
      ]
     },
     "metadata": {},
     "output_type": "display_data"
    },
    {
     "data": {
      "text/plain": [
       "<py3Dmol.view at 0x1fbff862090>"
      ]
     },
     "execution_count": 1,
     "metadata": {},
     "output_type": "execute_result"
    }
   ],
   "source": [
    "from udgp import generate_random_instance\n",
    "\n",
    "N = 5\n",
    "input_instance = generate_random_instance(N)\n",
    "input_instance.view()"
   ]
  },
  {
   "cell_type": "code",
   "execution_count": 2,
   "metadata": {},
   "outputs": [
    {
     "data": {
      "text/plain": [
       "matrix([[0., 1., 0., 0., 0.],\n",
       "        [1., 0., 1., 0., 0.],\n",
       "        [0., 1., 0., 1., 0.],\n",
       "        [0., 0., 1., 0., 1.],\n",
       "        [0., 0., 0., 1., 0.]])"
      ]
     },
     "execution_count": 2,
     "metadata": {},
     "output_type": "execute_result"
    }
   ],
   "source": [
    "input_instance.adjacency_matrix().todense()"
   ]
  },
  {
   "cell_type": "code",
   "execution_count": 7,
   "metadata": {},
   "outputs": [
    {
     "data": {
      "application/3dmoljs_load.v0": "<div id=\"3dmolviewer_16898685199089987\"  style=\"position: relative; width: 640px; height: 480px;\">\n        <p id=\"3dmolwarning_16898685199089987\" style=\"background-color:#ffcccc;color:black\">You appear to be running in JupyterLab (or JavaScript failed to load for some other reason).  You need to install the 3dmol extension: <br>\n        <tt>jupyter labextension install jupyterlab_3dmol</tt></p>\n        </div>\n<script>\n\nvar loadScriptAsync = function(uri){\n  return new Promise((resolve, reject) => {\n    //this is to ignore the existence of requirejs amd\n    var savedexports, savedmodule;\n    if (typeof exports !== 'undefined') savedexports = exports;\n    else exports = {}\n    if (typeof module !== 'undefined') savedmodule = module;\n    else module = {}\n\n    var tag = document.createElement('script');\n    tag.src = uri;\n    tag.async = true;\n    tag.onload = () => {\n        exports = savedexports;\n        module = savedmodule;\n        resolve();\n    };\n  var firstScriptTag = document.getElementsByTagName('script')[0];\n  firstScriptTag.parentNode.insertBefore(tag, firstScriptTag);\n});\n};\n\nif(typeof $3Dmolpromise === 'undefined') {\n$3Dmolpromise = null;\n  $3Dmolpromise = loadScriptAsync('https://cdnjs.cloudflare.com/ajax/libs/3Dmol/2.0.3/3Dmol-min.js');\n}\n\nvar viewer_16898685199089987 = null;\nvar warn = document.getElementById(\"3dmolwarning_16898685199089987\");\nif(warn) {\n    warn.parentNode.removeChild(warn);\n}\n$3Dmolpromise.then(function() {\nviewer_16898685199089987 = $3Dmol.createViewer(document.getElementById(\"3dmolviewer_16898685199089987\"),{backgroundColor:\"white\"});\nviewer_16898685199089987.addModel(\"5\\nInst\\u00e2ncia para uDGP\\nC    -0.0000    -0.0000    -0.0000\\nC    0.7071    2.0000    1.2247\\nC    -0.0000    1.5000    0.0000\\nC    -0.0000    1.5000    2.4495\\nC    -0.0000    0.0000    2.4495\");\nviewer_16898685199089987.zoomTo();\n\tviewer_16898685199089987.setBackgroundColor(\"#000000\");\n\tviewer_16898685199089987.setStyle({\"stick\": {\"radius\": 0.1}, \"sphere\": {\"scale\": 0.2}});\nviewer_16898685199089987.render();\n});\n</script>",
      "text/html": [
       "<div id=\"3dmolviewer_16898685199089987\"  style=\"position: relative; width: 640px; height: 480px;\">\n",
       "        <p id=\"3dmolwarning_16898685199089987\" style=\"background-color:#ffcccc;color:black\">You appear to be running in JupyterLab (or JavaScript failed to load for some other reason).  You need to install the 3dmol extension: <br>\n",
       "        <tt>jupyter labextension install jupyterlab_3dmol</tt></p>\n",
       "        </div>\n",
       "<script>\n",
       "\n",
       "var loadScriptAsync = function(uri){\n",
       "  return new Promise((resolve, reject) => {\n",
       "    //this is to ignore the existence of requirejs amd\n",
       "    var savedexports, savedmodule;\n",
       "    if (typeof exports !== 'undefined') savedexports = exports;\n",
       "    else exports = {}\n",
       "    if (typeof module !== 'undefined') savedmodule = module;\n",
       "    else module = {}\n",
       "\n",
       "    var tag = document.createElement('script');\n",
       "    tag.src = uri;\n",
       "    tag.async = true;\n",
       "    tag.onload = () => {\n",
       "        exports = savedexports;\n",
       "        module = savedmodule;\n",
       "        resolve();\n",
       "    };\n",
       "  var firstScriptTag = document.getElementsByTagName('script')[0];\n",
       "  firstScriptTag.parentNode.insertBefore(tag, firstScriptTag);\n",
       "});\n",
       "};\n",
       "\n",
       "if(typeof $3Dmolpromise === 'undefined') {\n",
       "$3Dmolpromise = null;\n",
       "  $3Dmolpromise = loadScriptAsync('https://cdnjs.cloudflare.com/ajax/libs/3Dmol/2.0.3/3Dmol-min.js');\n",
       "}\n",
       "\n",
       "var viewer_16898685199089987 = null;\n",
       "var warn = document.getElementById(\"3dmolwarning_16898685199089987\");\n",
       "if(warn) {\n",
       "    warn.parentNode.removeChild(warn);\n",
       "}\n",
       "$3Dmolpromise.then(function() {\n",
       "viewer_16898685199089987 = $3Dmol.createViewer(document.getElementById(\"3dmolviewer_16898685199089987\"),{backgroundColor:\"white\"});\n",
       "viewer_16898685199089987.addModel(\"5\\nInst\\u00e2ncia para uDGP\\nC    -0.0000    -0.0000    -0.0000\\nC    0.7071    2.0000    1.2247\\nC    -0.0000    1.5000    0.0000\\nC    -0.0000    1.5000    2.4495\\nC    -0.0000    0.0000    2.4495\");\n",
       "viewer_16898685199089987.zoomTo();\n",
       "\tviewer_16898685199089987.setBackgroundColor(\"#000000\");\n",
       "\tviewer_16898685199089987.setStyle({\"stick\": {\"radius\": 0.1}, \"sphere\": {\"scale\": 0.2}});\n",
       "viewer_16898685199089987.render();\n",
       "});\n",
       "</script>"
      ]
     },
     "metadata": {},
     "output_type": "display_data"
    },
    {
     "data": {
      "text/plain": [
       "<py3Dmol.view at 0x1fbffee6cd0>"
      ]
     },
     "execution_count": 7,
     "metadata": {},
     "output_type": "execute_result"
    }
   ],
   "source": [
    "from numpy import array\n",
    "from udgp.instances.base_instance import Instance\n",
    "from udgp.instances.random_instance import calculate_distances_from_coords\n",
    "\n",
    "output_coords = array(\n",
    "    [\n",
    "        [-0.00000000e00, -0.00000000e00, -0.00000000e00],\n",
    "        [7.07105631e-01, 2.00000023e00, 1.22474492e00],\n",
    "        [-6.25781754e-07, 1.49999998e00, 1.80957396e-08],\n",
    "        [-6.25781754e-07, 1.49999998e00, 2.44948977e00],\n",
    "        [-6.25781754e-07, 0.00000000e00, 2.44948977e00],\n",
    "    ]\n",
    ")\n",
    "\n",
    "output_instance = Instance(\n",
    "    output_coords, calculate_distances_from_coords(output_coords)\n",
    ")\n",
    "\n",
    "output_instance.view()\n"
   ]
  },
  {
   "cell_type": "code",
   "execution_count": 8,
   "metadata": {},
   "outputs": [
    {
     "data": {
      "text/plain": [
       "True"
      ]
     },
     "execution_count": 8,
     "metadata": {},
     "output_type": "execute_result"
    }
   ],
   "source": [
    "input_instance.is_isomorphic(output_instance)\n"
   ]
  }
 ],
 "metadata": {
  "kernelspec": {
   "display_name": "venv",
   "language": "python",
   "name": "python3"
  },
  "language_info": {
   "codemirror_mode": {
    "name": "ipython",
    "version": 3
   },
   "file_extension": ".py",
   "mimetype": "text/x-python",
   "name": "python",
   "nbconvert_exporter": "python",
   "pygments_lexer": "ipython3",
   "version": "3.11.4"
  },
  "orig_nbformat": 4
 },
 "nbformat": 4,
 "nbformat_minor": 2
}
