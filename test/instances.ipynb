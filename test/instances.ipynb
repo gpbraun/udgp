{
 "cells": [
  {
   "cell_type": "markdown",
   "metadata": {},
   "source": [
    "# Geração de instâncias"
   ]
  },
  {
   "cell_type": "code",
   "execution_count": 6,
   "metadata": {},
   "outputs": [
    {
     "data": {
      "application/3dmoljs_load.v0": "<div id=\"3dmolviewer_1689819697147702\"  style=\"position: relative; width: 640px; height: 480px;\">\n        <p id=\"3dmolwarning_1689819697147702\" style=\"background-color:#ffcccc;color:black\">You appear to be running in JupyterLab (or JavaScript failed to load for some other reason).  You need to install the 3dmol extension: <br>\n        <tt>jupyter labextension install jupyterlab_3dmol</tt></p>\n        </div>\n<script>\n\nvar loadScriptAsync = function(uri){\n  return new Promise((resolve, reject) => {\n    //this is to ignore the existence of requirejs amd\n    var savedexports, savedmodule;\n    if (typeof exports !== 'undefined') savedexports = exports;\n    else exports = {}\n    if (typeof module !== 'undefined') savedmodule = module;\n    else module = {}\n\n    var tag = document.createElement('script');\n    tag.src = uri;\n    tag.async = true;\n    tag.onload = () => {\n        exports = savedexports;\n        module = savedmodule;\n        resolve();\n    };\n  var firstScriptTag = document.getElementsByTagName('script')[0];\n  firstScriptTag.parentNode.insertBefore(tag, firstScriptTag);\n});\n};\n\nif(typeof $3Dmolpromise === 'undefined') {\n$3Dmolpromise = null;\n  $3Dmolpromise = loadScriptAsync('https://cdnjs.cloudflare.com/ajax/libs/3Dmol/2.0.3/3Dmol-min.js');\n}\n\nvar viewer_1689819697147702 = null;\nvar warn = document.getElementById(\"3dmolwarning_1689819697147702\");\nif(warn) {\n    warn.parentNode.removeChild(warn);\n}\n$3Dmolpromise.then(function() {\nviewer_1689819697147702 = $3Dmol.createViewer(document.getElementById(\"3dmolviewer_1689819697147702\"),{backgroundColor:\"white\"});\nviewer_1689819697147702.addModel(\"5\\nInst\\u00e2ncia para uDGP\\nC    0.0000    0.0000    0.0000\\nC    -1.5000    0.0000    0.0000\\nC    -2.0000    1.4142    0.0000\\nC    -3.5000    1.4142    -0.0000\\nC    -4.0000    0.7071    -1.2247\");\nviewer_1689819697147702.zoomTo();\n\tviewer_1689819697147702.setBackgroundColor(\"#000000\");\n\tviewer_1689819697147702.setStyle({\"stick\": {\"radius\": 0.1}, \"sphere\": {\"scale\": 0.2}});\nviewer_1689819697147702.render();\n});\n</script>",
      "text/html": [
       "<div id=\"3dmolviewer_1689819697147702\"  style=\"position: relative; width: 640px; height: 480px;\">\n",
       "        <p id=\"3dmolwarning_1689819697147702\" style=\"background-color:#ffcccc;color:black\">You appear to be running in JupyterLab (or JavaScript failed to load for some other reason).  You need to install the 3dmol extension: <br>\n",
       "        <tt>jupyter labextension install jupyterlab_3dmol</tt></p>\n",
       "        </div>\n",
       "<script>\n",
       "\n",
       "var loadScriptAsync = function(uri){\n",
       "  return new Promise((resolve, reject) => {\n",
       "    //this is to ignore the existence of requirejs amd\n",
       "    var savedexports, savedmodule;\n",
       "    if (typeof exports !== 'undefined') savedexports = exports;\n",
       "    else exports = {}\n",
       "    if (typeof module !== 'undefined') savedmodule = module;\n",
       "    else module = {}\n",
       "\n",
       "    var tag = document.createElement('script');\n",
       "    tag.src = uri;\n",
       "    tag.async = true;\n",
       "    tag.onload = () => {\n",
       "        exports = savedexports;\n",
       "        module = savedmodule;\n",
       "        resolve();\n",
       "    };\n",
       "  var firstScriptTag = document.getElementsByTagName('script')[0];\n",
       "  firstScriptTag.parentNode.insertBefore(tag, firstScriptTag);\n",
       "});\n",
       "};\n",
       "\n",
       "if(typeof $3Dmolpromise === 'undefined') {\n",
       "$3Dmolpromise = null;\n",
       "  $3Dmolpromise = loadScriptAsync('https://cdnjs.cloudflare.com/ajax/libs/3Dmol/2.0.3/3Dmol-min.js');\n",
       "}\n",
       "\n",
       "var viewer_1689819697147702 = null;\n",
       "var warn = document.getElementById(\"3dmolwarning_1689819697147702\");\n",
       "if(warn) {\n",
       "    warn.parentNode.removeChild(warn);\n",
       "}\n",
       "$3Dmolpromise.then(function() {\n",
       "viewer_1689819697147702 = $3Dmol.createViewer(document.getElementById(\"3dmolviewer_1689819697147702\"),{backgroundColor:\"white\"});\n",
       "viewer_1689819697147702.addModel(\"5\\nInst\\u00e2ncia para uDGP\\nC    0.0000    0.0000    0.0000\\nC    -1.5000    0.0000    0.0000\\nC    -2.0000    1.4142    0.0000\\nC    -3.5000    1.4142    -0.0000\\nC    -4.0000    0.7071    -1.2247\");\n",
       "viewer_1689819697147702.zoomTo();\n",
       "\tviewer_1689819697147702.setBackgroundColor(\"#000000\");\n",
       "\tviewer_1689819697147702.setStyle({\"stick\": {\"radius\": 0.1}, \"sphere\": {\"scale\": 0.2}});\n",
       "viewer_1689819697147702.render();\n",
       "});\n",
       "</script>"
      ]
     },
     "metadata": {},
     "output_type": "display_data"
    },
    {
     "data": {
      "text/plain": [
       "<py3Dmol.view at 0x7fcf8c753390>"
      ]
     },
     "execution_count": 6,
     "metadata": {},
     "output_type": "execute_result"
    }
   ],
   "source": [
    "from udgp import generate_random_instance\n",
    "\n",
    "N = 5\n",
    "instance = generate_random_instance(N)\n",
    "instance.view()"
   ]
  },
  {
   "cell_type": "code",
   "execution_count": 7,
   "metadata": {},
   "outputs": [
    {
     "name": "stdout",
     "output_type": "stream",
     "text": [
      "Set parameter WLSAccessID\n",
      "Set parameter WLSSecret\n",
      "Set parameter LicenseID to value 2372514\n",
      "Academic license - for non-commercial use only - registered to braun@cos.ufrj.br\n",
      "Set parameter NonConvex to value 2\n",
      "Set parameter SolutionLimit to value 1\n",
      "Resolvendo modelo...\n",
      "Gurobi Optimizer version 10.0.2 build v10.0.2rc0 (linux64)\n",
      "\n",
      "CPU model: Intel(R) Core(TM) i7-10510U CPU @ 1.80GHz, instruction set [SSE2|AVX|AVX2]\n",
      "Thread count: 4 physical cores, 8 logical processors, using up to 8 threads\n",
      "\n",
      "Academic license - for non-commercial use only - registered to braun@cos.ufrj.br\n",
      "Optimize a model with 673 rows, 275 columns and 1933 nonzeros\n",
      "Model fingerprint: 0x720f46df\n",
      "Model has 10 quadratic constraints\n",
      "Variable types: 175 continuous, 100 integer (100 binary)\n",
      "Coefficient statistics:\n",
      "  Matrix range     [1e+00, 4e+00]\n",
      "  QMatrix range    [1e+00, 1e+00]\n",
      "  Objective range  [1e+00, 1e+00]\n",
      "  Bounds range     [1e+00, 1e+00]\n",
      "  RHS range        [5e-01, 8e+00]\n",
      "Presolve removed 117 rows and 16 columns\n",
      "Presolve time: 0.01s\n",
      "Presolved: 686 rows, 299 columns, 3423 nonzeros\n",
      "Presolved model has 40 bilinear constraint(s)\n",
      "Variable types: 199 continuous, 100 integer (100 binary)\n",
      "\n",
      "Root relaxation: objective 0.000000e+00, 155 iterations, 0.00 seconds (0.00 work units)\n",
      "\n",
      "    Nodes    |    Current Node    |     Objective Bounds      |     Work\n",
      " Expl Unexpl |  Obj  Depth IntInf | Incumbent    BestBd   Gap | It/Node Time\n",
      "\n",
      "     0     0    0.00000    0   32          -    0.00000      -     -    0s\n",
      "     0     0    0.00000    0   30          -    0.00000      -     -    0s\n",
      "     0     0    0.00000    0   30          -    0.00000      -     -    0s\n",
      "     0     0    0.00000    0   30          -    0.00000      -     -    0s\n",
      "     0     0    0.00000    0   30          -    0.00000      -     -    0s\n",
      "H    0     0                       1.2873145    0.00000   100%     -    0s\n",
      "\n",
      "Cutting planes:\n",
      "  RLT: 5\n",
      "\n",
      "Explored 1 nodes (363 simplex iterations) in 0.22 seconds (0.08 work units)\n",
      "Thread count was 8 (of 8 available processors)\n",
      "\n",
      "Solution count 1: 1.28731 \n",
      "\n",
      "Solution limit reached\n",
      "Best objective 1.287314512483e+00, best bound 0.000000000000e+00, gap 100.0000%\n",
      "Solução encontrada em: 0.22 s\n",
      "k = 1 -> (1,3). (1.5 -> 1.5000000005314014)\n",
      "k = 2 -> (3,5). (1.5 -> 2.499999981644729)\n",
      "k = 3 -> (2,5). (1.5 -> 1.5000000028534957)\n",
      "k = 4 -> (4,5). (1.5 -> 1.5460904857329543)\n",
      "k = 5 -> (2,4). (2.44921875 -> 2.4492187476194704)\n",
      "k = 6 -> (1,5). (2.44921875 -> 2.4492187475880636)\n",
      "k = 7 -> (1,2). (2.44921875 -> 2.4492187504212732)\n",
      "k = 8 -> (2,3). (2.873046875 -> 2.87304687299103)\n",
      "k = 9 -> (1,4). (3.775390625 -> 3.77539062690364)\n",
      "k = 10 -> (3,4). (4.2421875 -> 4.000963496211754)\n",
      "[[-0.         -0.         -0.        ]\n",
      " [-1.13780812 -2.16635878  0.10466524]\n",
      " [-0.97000641  0.46017481 -1.04753363]\n",
      " [-2.91102613 -1.67764107  1.72192383]\n",
      " [-2.11959798 -1.11130874  0.52054755]]\n"
     ]
    },
    {
     "data": {
      "text/plain": [
       "(array([[-0.        , -0.        , -0.        ],\n",
       "        [-1.13780812, -2.16635878,  0.10466524],\n",
       "        [-0.97000641,  0.46017481, -1.04753363],\n",
       "        [-2.91102613, -1.67764107,  1.72192383],\n",
       "        [-2.11959798, -1.11130874,  0.52054755]]),\n",
       " 0.22238516807556152)"
      ]
     },
     "execution_count": 7,
     "metadata": {},
     "output_type": "execute_result"
    }
   ],
   "source": [
    "from udgp import solve_M4\n",
    "\n",
    "atoms, time = solve_M4(N, instance.distances)"
   ]
  }
 ],
 "metadata": {
  "kernelspec": {
   "display_name": "venv",
   "language": "python",
   "name": "python3"
  },
  "language_info": {
   "codemirror_mode": {
    "name": "ipython",
    "version": 3
   },
   "file_extension": ".py",
   "mimetype": "text/x-python",
   "name": "python",
   "nbconvert_exporter": "python",
   "pygments_lexer": "ipython3",
   "version": "3.11.2"
  },
  "orig_nbformat": 4
 },
 "nbformat": 4,
 "nbformat_minor": 2
}
