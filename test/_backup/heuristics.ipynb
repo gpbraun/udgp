{
 "cells": [
  {
   "cell_type": "markdown",
   "metadata": {},
   "source": [
    "# Heurísticas"
   ]
  },
  {
   "cell_type": "code",
   "execution_count": 1,
   "metadata": {},
   "outputs": [],
   "source": [
    "import numpy as np\n",
    "from udgp import Instance"
   ]
  },
  {
   "cell_type": "code",
   "execution_count": 4,
   "metadata": {},
   "outputs": [
    {
     "data": {
      "application/3dmoljs_load.v0": "<div id=\"3dmolviewer_16964428309014816\"  style=\"position: relative; width: 400px; height: 350px;\">\n        <p id=\"3dmolwarning_16964428309014816\" style=\"background-color:#ffcccc;color:black\">You appear to be running in JupyterLab (or JavaScript failed to load for some other reason).  You need to install the 3dmol extension: <br>\n        <tt>jupyter labextension install jupyterlab_3dmol</tt></p>\n        </div>\n<script>\n\nvar loadScriptAsync = function(uri){\n  return new Promise((resolve, reject) => {\n    //this is to ignore the existence of requirejs amd\n    var savedexports, savedmodule;\n    if (typeof exports !== 'undefined') savedexports = exports;\n    else exports = {}\n    if (typeof module !== 'undefined') savedmodule = module;\n    else module = {}\n\n    var tag = document.createElement('script');\n    tag.src = uri;\n    tag.async = true;\n    tag.onload = () => {\n        exports = savedexports;\n        module = savedmodule;\n        resolve();\n    };\n  var firstScriptTag = document.getElementsByTagName('script')[0];\n  firstScriptTag.parentNode.insertBefore(tag, firstScriptTag);\n});\n};\n\nif(typeof $3Dmolpromise === 'undefined') {\n$3Dmolpromise = null;\n  $3Dmolpromise = loadScriptAsync('https://cdnjs.cloudflare.com/ajax/libs/3Dmol/2.0.3/3Dmol-min.js');\n}\n\nvar viewer_16964428309014816 = null;\nvar warn = document.getElementById(\"3dmolwarning_16964428309014816\");\nif(warn) {\n    warn.parentNode.removeChild(warn);\n}\n$3Dmolpromise.then(function() {\nviewer_16964428309014816 = $3Dmol.createViewer(document.getElementById(\"3dmolviewer_16964428309014816\"),{backgroundColor:\"white\"});\nviewer_16964428309014816.addModel(\"10\\nuDGP instance\\nC    0.0000    0.0000    0.0000\\nC    -1.5000    0.0000    0.0000\\nC    -2.0000    1.4142    0.0000\\nC    -3.5000    1.4142    -0.0000\\nC    -4.0000    2.8284    0.0000\\nC    -5.5000    2.8284    -0.0000\\nC    -6.0000    4.2426    0.0000\\nC    -7.5000    4.2426    -0.0000\\nC    -8.0000    3.5355    1.2247\\nC    -9.5000    3.5355    1.2247\");\nviewer_16964428309014816.zoomTo();\n\tviewer_16964428309014816.setBackgroundColor(\"#000000\",0.2);\n\tviewer_16964428309014816.setStyle({\"stick\": {\"radius\": 0.1, \"color\": \"#cbd5e1\"}, \"sphere\": {\"scale\": 0.2, \"color\": \"#60a5fa\"}});\nviewer_16964428309014816.render();\n});\n</script>",
      "text/html": [
       "<div id=\"3dmolviewer_16964428309014816\"  style=\"position: relative; width: 400px; height: 350px;\">\n",
       "        <p id=\"3dmolwarning_16964428309014816\" style=\"background-color:#ffcccc;color:black\">You appear to be running in JupyterLab (or JavaScript failed to load for some other reason).  You need to install the 3dmol extension: <br>\n",
       "        <tt>jupyter labextension install jupyterlab_3dmol</tt></p>\n",
       "        </div>\n",
       "<script>\n",
       "\n",
       "var loadScriptAsync = function(uri){\n",
       "  return new Promise((resolve, reject) => {\n",
       "    //this is to ignore the existence of requirejs amd\n",
       "    var savedexports, savedmodule;\n",
       "    if (typeof exports !== 'undefined') savedexports = exports;\n",
       "    else exports = {}\n",
       "    if (typeof module !== 'undefined') savedmodule = module;\n",
       "    else module = {}\n",
       "\n",
       "    var tag = document.createElement('script');\n",
       "    tag.src = uri;\n",
       "    tag.async = true;\n",
       "    tag.onload = () => {\n",
       "        exports = savedexports;\n",
       "        module = savedmodule;\n",
       "        resolve();\n",
       "    };\n",
       "  var firstScriptTag = document.getElementsByTagName('script')[0];\n",
       "  firstScriptTag.parentNode.insertBefore(tag, firstScriptTag);\n",
       "});\n",
       "};\n",
       "\n",
       "if(typeof $3Dmolpromise === 'undefined') {\n",
       "$3Dmolpromise = null;\n",
       "  $3Dmolpromise = loadScriptAsync('https://cdnjs.cloudflare.com/ajax/libs/3Dmol/2.0.3/3Dmol-min.js');\n",
       "}\n",
       "\n",
       "var viewer_16964428309014816 = null;\n",
       "var warn = document.getElementById(\"3dmolwarning_16964428309014816\");\n",
       "if(warn) {\n",
       "    warn.parentNode.removeChild(warn);\n",
       "}\n",
       "$3Dmolpromise.then(function() {\n",
       "viewer_16964428309014816 = $3Dmol.createViewer(document.getElementById(\"3dmolviewer_16964428309014816\"),{backgroundColor:\"white\"});\n",
       "viewer_16964428309014816.addModel(\"10\\nuDGP instance\\nC    0.0000    0.0000    0.0000\\nC    -1.5000    0.0000    0.0000\\nC    -2.0000    1.4142    0.0000\\nC    -3.5000    1.4142    -0.0000\\nC    -4.0000    2.8284    0.0000\\nC    -5.5000    2.8284    -0.0000\\nC    -6.0000    4.2426    0.0000\\nC    -7.5000    4.2426    -0.0000\\nC    -8.0000    3.5355    1.2247\\nC    -9.5000    3.5355    1.2247\");\n",
       "viewer_16964428309014816.zoomTo();\n",
       "\tviewer_16964428309014816.setBackgroundColor(\"#000000\",0.2);\n",
       "\tviewer_16964428309014816.setStyle({\"stick\": {\"radius\": 0.1, \"color\": \"#cbd5e1\"}, \"sphere\": {\"scale\": 0.2, \"color\": \"#60a5fa\"}});\n",
       "viewer_16964428309014816.render();\n",
       "});\n",
       "</script>"
      ]
     },
     "metadata": {},
     "output_type": "display_data"
    },
    {
     "data": {
      "text/plain": [
       "<py3Dmol.view at 0x14bff72bd90>"
      ]
     },
     "execution_count": 4,
     "metadata": {},
     "output_type": "execute_result"
    }
   ],
   "source": [
    "N = 10\n",
    "instance = Instance.artificial_molecule(N, freq=True, seed=12345678910)\n",
    "# instance = Instance.lj_cluster(N, freq=True)\n",
    "#instance = Instance.c60(freq=True)\n",
    "instance.view_input()"
   ]
  },
  {
   "cell_type": "code",
   "execution_count": 9,
   "metadata": {},
   "outputs": [
    {
     "name": "stdout",
     "output_type": "stream",
     "text": [
      "=================\n",
      "TENTATIVA 14\n",
      "=================\n",
      "  5 átomos\n",
      "  6 átomos\n",
      "  7 átomos\n",
      "  8 átomos\n",
      "  9 átomos\n",
      "39.603999376297\n"
     ]
    },
    {
     "data": {
      "application/3dmoljs_load.v0": "<div id=\"3dmolviewer_1696443268097077\"  style=\"position: relative; width: 400px; height: 350px;\">\n        <p id=\"3dmolwarning_1696443268097077\" style=\"background-color:#ffcccc;color:black\">You appear to be running in JupyterLab (or JavaScript failed to load for some other reason).  You need to install the 3dmol extension: <br>\n        <tt>jupyter labextension install jupyterlab_3dmol</tt></p>\n        </div>\n<script>\n\nvar loadScriptAsync = function(uri){\n  return new Promise((resolve, reject) => {\n    //this is to ignore the existence of requirejs amd\n    var savedexports, savedmodule;\n    if (typeof exports !== 'undefined') savedexports = exports;\n    else exports = {}\n    if (typeof module !== 'undefined') savedmodule = module;\n    else module = {}\n\n    var tag = document.createElement('script');\n    tag.src = uri;\n    tag.async = true;\n    tag.onload = () => {\n        exports = savedexports;\n        module = savedmodule;\n        resolve();\n    };\n  var firstScriptTag = document.getElementsByTagName('script')[0];\n  firstScriptTag.parentNode.insertBefore(tag, firstScriptTag);\n});\n};\n\nif(typeof $3Dmolpromise === 'undefined') {\n$3Dmolpromise = null;\n  $3Dmolpromise = loadScriptAsync('https://cdnjs.cloudflare.com/ajax/libs/3Dmol/2.0.3/3Dmol-min.js');\n}\n\nvar viewer_1696443268097077 = null;\nvar warn = document.getElementById(\"3dmolwarning_1696443268097077\");\nif(warn) {\n    warn.parentNode.removeChild(warn);\n}\n$3Dmolpromise.then(function() {\nviewer_1696443268097077 = $3Dmol.createViewer(document.getElementById(\"3dmolviewer_1696443268097077\"),{backgroundColor:\"white\"});\nviewer_1696443268097077.addModel(\"10\\nuDGP instance\\nC    -3.5000    1.4142    -0.0000\\nC    -5.5000    2.8284    -0.0000\\nC    -2.0000    1.4142    0.0000\\nC    0.0000    0.0000    0.0000\\nC    -7.5000    4.2426    -0.0000\\nC    -1.5000    -0.0000    0.0000\\nC    0.5000    0.7071    -1.2247\\nC    -4.0000    2.8284    -0.0001\\nC    1.5932    0.0000    -1.9842\\nC    -6.0021    4.2348    -0.2192\");\nviewer_1696443268097077.zoomTo();\n\tviewer_1696443268097077.setBackgroundColor(\"#000000\",0.2);\n\tviewer_1696443268097077.setStyle({\"stick\": {\"radius\": 0.1, \"color\": \"#cbd5e1\"}, \"sphere\": {\"scale\": 0.2, \"color\": \"#60a5fa\"}});\nviewer_1696443268097077.render();\n});\n</script>",
      "text/html": [
       "<div id=\"3dmolviewer_1696443268097077\"  style=\"position: relative; width: 400px; height: 350px;\">\n",
       "        <p id=\"3dmolwarning_1696443268097077\" style=\"background-color:#ffcccc;color:black\">You appear to be running in JupyterLab (or JavaScript failed to load for some other reason).  You need to install the 3dmol extension: <br>\n",
       "        <tt>jupyter labextension install jupyterlab_3dmol</tt></p>\n",
       "        </div>\n",
       "<script>\n",
       "\n",
       "var loadScriptAsync = function(uri){\n",
       "  return new Promise((resolve, reject) => {\n",
       "    //this is to ignore the existence of requirejs amd\n",
       "    var savedexports, savedmodule;\n",
       "    if (typeof exports !== 'undefined') savedexports = exports;\n",
       "    else exports = {}\n",
       "    if (typeof module !== 'undefined') savedmodule = module;\n",
       "    else module = {}\n",
       "\n",
       "    var tag = document.createElement('script');\n",
       "    tag.src = uri;\n",
       "    tag.async = true;\n",
       "    tag.onload = () => {\n",
       "        exports = savedexports;\n",
       "        module = savedmodule;\n",
       "        resolve();\n",
       "    };\n",
       "  var firstScriptTag = document.getElementsByTagName('script')[0];\n",
       "  firstScriptTag.parentNode.insertBefore(tag, firstScriptTag);\n",
       "});\n",
       "};\n",
       "\n",
       "if(typeof $3Dmolpromise === 'undefined') {\n",
       "$3Dmolpromise = null;\n",
       "  $3Dmolpromise = loadScriptAsync('https://cdnjs.cloudflare.com/ajax/libs/3Dmol/2.0.3/3Dmol-min.js');\n",
       "}\n",
       "\n",
       "var viewer_1696443268097077 = null;\n",
       "var warn = document.getElementById(\"3dmolwarning_1696443268097077\");\n",
       "if(warn) {\n",
       "    warn.parentNode.removeChild(warn);\n",
       "}\n",
       "$3Dmolpromise.then(function() {\n",
       "viewer_1696443268097077 = $3Dmol.createViewer(document.getElementById(\"3dmolviewer_1696443268097077\"),{backgroundColor:\"white\"});\n",
       "viewer_1696443268097077.addModel(\"10\\nuDGP instance\\nC    -3.5000    1.4142    -0.0000\\nC    -5.5000    2.8284    -0.0000\\nC    -2.0000    1.4142    0.0000\\nC    0.0000    0.0000    0.0000\\nC    -7.5000    4.2426    -0.0000\\nC    -1.5000    -0.0000    0.0000\\nC    0.5000    0.7071    -1.2247\\nC    -4.0000    2.8284    -0.0001\\nC    1.5932    0.0000    -1.9842\\nC    -6.0021    4.2348    -0.2192\");\n",
       "viewer_1696443268097077.zoomTo();\n",
       "\tviewer_1696443268097077.setBackgroundColor(\"#000000\",0.2);\n",
       "\tviewer_1696443268097077.setStyle({\"stick\": {\"radius\": 0.1, \"color\": \"#cbd5e1\"}, \"sphere\": {\"scale\": 0.2, \"color\": \"#60a5fa\"}});\n",
       "viewer_1696443268097077.render();\n",
       "});\n",
       "</script>"
      ]
     },
     "metadata": {},
     "output_type": "display_data"
    },
    {
     "data": {
      "text/plain": [
       "<py3Dmol.view at 0x14bad564e90>"
      ]
     },
     "execution_count": 9,
     "metadata": {},
     "output_type": "execute_result"
    }
   ],
   "source": [
    "from IPython.display import clear_output\n",
    "\n",
    "previous_a = []\n",
    "\n",
    "i = 1\n",
    "instance.reset(reset_runtime=True)\n",
    "# while not instance.is_solved():\n",
    "while instance.fixed_n < instance.n:\n",
    "    clear_output(wait=True)\n",
    "    print(\"=================\")\n",
    "    print(f\"TENTATIVA {i}\")\n",
    "    print(\"=================\")\n",
    "    i += 1\n",
    "\n",
    "    # instance.reset()\n",
    "    # instance.solve_step(\"M2\", nx=4, max_gap=5e-4, previous_a=previous_a)\n",
    "    # previous_a.append(instance.a_indices.tolist())\n",
    "    # print(\"CORE\")\n",
    "\n",
    "    instance.reset_with_core(\"mock\")\n",
    "\n",
    "    broken = False\n",
    "    while instance.fixed_n < instance.n and not broken:\n",
    "        print(f\"  {instance.fixed_n} átomos\")\n",
    "\n",
    "        solved = False\n",
    "        tries = 0\n",
    "        solved = instance.solve_step(\"M2GP\", nx=1, max_gap=1e-1, max_threshold=1)\n",
    "\n",
    "        if not solved:\n",
    "            broken = True\n",
    "            break\n",
    "\n",
    "print(instance.runtime)\n",
    "\n",
    "instance.view()\n"
   ]
  }
 ],
 "metadata": {
  "kernelspec": {
   "display_name": "venv",
   "language": "python",
   "name": "python3"
  },
  "language_info": {
   "codemirror_mode": {
    "name": "ipython",
    "version": 3
   },
   "file_extension": ".py",
   "mimetype": "text/x-python",
   "name": "python",
   "nbconvert_exporter": "python",
   "pygments_lexer": "ipython3",
   "version": "3.11.4"
  },
  "orig_nbformat": 4
 },
 "nbformat": 4,
 "nbformat_minor": 2
}
