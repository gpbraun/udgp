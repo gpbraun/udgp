{
   "cells": [
      {
         "cell_type": "markdown",
         "metadata": {},
         "source": [
            "# Tests"
         ]
      },
      {
         "cell_type": "code",
         "execution_count": 4,
         "metadata": {},
         "outputs": [],
         "source": [
            "from udgp import Instance, set_logger\n",
            "\n",
            "set_logger(\"INFO\", log_to_console=False)"
         ]
      },
      {
         "cell_type": "code",
         "execution_count": 5,
         "metadata": {},
         "outputs": [
            {
               "data": {
                  "application/3dmoljs_load.v0": "<div id=\"3dmolviewer_17508189629238975\"  style=\"position: relative; width: 400px; height: 350px;\">\n        <p id=\"3dmolwarning_17508189629238975\" style=\"background-color:#ffcccc;color:black\">3Dmol.js failed to load for some reason.  Please check your browser console for error messages.<br></p>\n        </div>\n<script>\n\nvar loadScriptAsync = function(uri){\n  return new Promise((resolve, reject) => {\n    //this is to ignore the existence of requirejs amd\n    var savedexports, savedmodule;\n    if (typeof exports !== 'undefined') savedexports = exports;\n    else exports = {}\n    if (typeof module !== 'undefined') savedmodule = module;\n    else module = {}\n\n    var tag = document.createElement('script');\n    tag.src = uri;\n    tag.async = true;\n    tag.onload = () => {\n        exports = savedexports;\n        module = savedmodule;\n        resolve();\n    };\n  var firstScriptTag = document.getElementsByTagName('script')[0];\n  firstScriptTag.parentNode.insertBefore(tag, firstScriptTag);\n});\n};\n\nif(typeof $3Dmolpromise === 'undefined') {\n$3Dmolpromise = null;\n  $3Dmolpromise = loadScriptAsync('https://cdn.jsdelivr.net/npm/3dmol@2.5.0/build/3Dmol-min.js');\n}\n\nvar viewer_17508189629238975 = null;\nvar warn = document.getElementById(\"3dmolwarning_17508189629238975\");\nif(warn) {\n    warn.parentNode.removeChild(warn);\n}\n$3Dmolpromise.then(function() {\nviewer_17508189629238975 = $3Dmol.createViewer(document.getElementById(\"3dmolviewer_17508189629238975\"),{backgroundColor:\"white\"});\nviewer_17508189629238975.addModel(\"6\\nuDGP instance\\nC    0.0000    0.0000    0.0000\\nC    -1.5000    0.0000    0.0000\\nC    -2.0000    1.4142    0.0000\\nC    -1.5000    2.1213    1.2247\\nC    -0.0000    2.1213    1.2247\\nC    0.5000    0.7071    1.2247\",undefined,undefined);\nviewer_17508189629238975.zoomTo();\n\tviewer_17508189629238975.setBackgroundColor(\"#000000\",0.2);\n\tviewer_17508189629238975.setStyle({\"stick\": {\"radius\": 0.1, \"color\": \"#cbd5e1\"}, \"sphere\": {\"scale\": 0.2, \"color\": \"#60a5fa\"}});\nviewer_17508189629238975.render();\n});\n</script>",
                  "text/html": [
                     "<div id=\"3dmolviewer_17508189629238975\"  style=\"position: relative; width: 400px; height: 350px;\">\n",
                     "        <p id=\"3dmolwarning_17508189629238975\" style=\"background-color:#ffcccc;color:black\">3Dmol.js failed to load for some reason.  Please check your browser console for error messages.<br></p>\n",
                     "        </div>\n",
                     "<script>\n",
                     "\n",
                     "var loadScriptAsync = function(uri){\n",
                     "  return new Promise((resolve, reject) => {\n",
                     "    //this is to ignore the existence of requirejs amd\n",
                     "    var savedexports, savedmodule;\n",
                     "    if (typeof exports !== 'undefined') savedexports = exports;\n",
                     "    else exports = {}\n",
                     "    if (typeof module !== 'undefined') savedmodule = module;\n",
                     "    else module = {}\n",
                     "\n",
                     "    var tag = document.createElement('script');\n",
                     "    tag.src = uri;\n",
                     "    tag.async = true;\n",
                     "    tag.onload = () => {\n",
                     "        exports = savedexports;\n",
                     "        module = savedmodule;\n",
                     "        resolve();\n",
                     "    };\n",
                     "  var firstScriptTag = document.getElementsByTagName('script')[0];\n",
                     "  firstScriptTag.parentNode.insertBefore(tag, firstScriptTag);\n",
                     "});\n",
                     "};\n",
                     "\n",
                     "if(typeof $3Dmolpromise === 'undefined') {\n",
                     "$3Dmolpromise = null;\n",
                     "  $3Dmolpromise = loadScriptAsync('https://cdn.jsdelivr.net/npm/3dmol@2.5.0/build/3Dmol-min.js');\n",
                     "}\n",
                     "\n",
                     "var viewer_17508189629238975 = null;\n",
                     "var warn = document.getElementById(\"3dmolwarning_17508189629238975\");\n",
                     "if(warn) {\n",
                     "    warn.parentNode.removeChild(warn);\n",
                     "}\n",
                     "$3Dmolpromise.then(function() {\n",
                     "viewer_17508189629238975 = $3Dmol.createViewer(document.getElementById(\"3dmolviewer_17508189629238975\"),{backgroundColor:\"white\"});\n",
                     "viewer_17508189629238975.addModel(\"6\\nuDGP instance\\nC    0.0000    0.0000    0.0000\\nC    -1.5000    0.0000    0.0000\\nC    -2.0000    1.4142    0.0000\\nC    -1.5000    2.1213    1.2247\\nC    -0.0000    2.1213    1.2247\\nC    0.5000    0.7071    1.2247\",undefined,undefined);\n",
                     "viewer_17508189629238975.zoomTo();\n",
                     "\tviewer_17508189629238975.setBackgroundColor(\"#000000\",0.2);\n",
                     "\tviewer_17508189629238975.setStyle({\"stick\": {\"radius\": 0.1, \"color\": \"#cbd5e1\"}, \"sphere\": {\"scale\": 0.2, \"color\": \"#60a5fa\"}});\n",
                     "viewer_17508189629238975.render();\n",
                     "});\n",
                     "</script>"
                  ]
               },
               "metadata": {},
               "output_type": "display_data"
            },
            {
               "data": {
                  "text/plain": [
                     "<py3Dmol.view at 0x7002c33733b0>"
                  ]
               },
               "execution_count": 5,
               "metadata": {},
               "output_type": "execute_result"
            }
         ],
         "source": [
            "N = 6\n",
            "instance = Instance.artificial_molecule(N, freq=True, seed=12345)\n",
            "instance.view_input()"
         ]
      },
      {
         "cell_type": "code",
         "execution_count": 6,
         "metadata": {},
         "outputs": [
            {
               "name": "stdout",
               "output_type": "stream",
               "text": [
                  "\n",
                  "Interrupt request received\n"
               ]
            },
            {
               "data": {
                  "application/3dmoljs_load.v0": "<div id=\"3dmolviewer_17508190189149532\"  style=\"position: relative; width: 400px; height: 350px;\">\n        <p id=\"3dmolwarning_17508190189149532\" style=\"background-color:#ffcccc;color:black\">3Dmol.js failed to load for some reason.  Please check your browser console for error messages.<br></p>\n        </div>\n<script>\n\nvar loadScriptAsync = function(uri){\n  return new Promise((resolve, reject) => {\n    //this is to ignore the existence of requirejs amd\n    var savedexports, savedmodule;\n    if (typeof exports !== 'undefined') savedexports = exports;\n    else exports = {}\n    if (typeof module !== 'undefined') savedmodule = module;\n    else module = {}\n\n    var tag = document.createElement('script');\n    tag.src = uri;\n    tag.async = true;\n    tag.onload = () => {\n        exports = savedexports;\n        module = savedmodule;\n        resolve();\n    };\n  var firstScriptTag = document.getElementsByTagName('script')[0];\n  firstScriptTag.parentNode.insertBefore(tag, firstScriptTag);\n});\n};\n\nif(typeof $3Dmolpromise === 'undefined') {\n$3Dmolpromise = null;\n  $3Dmolpromise = loadScriptAsync('https://cdn.jsdelivr.net/npm/3dmol@2.5.0/build/3Dmol-min.js');\n}\n\nvar viewer_17508190189149532 = null;\nvar warn = document.getElementById(\"3dmolwarning_17508190189149532\");\nif(warn) {\n    warn.parentNode.removeChild(warn);\n}\n$3Dmolpromise.then(function() {\nviewer_17508190189149532 = $3Dmol.createViewer(document.getElementById(\"3dmolviewer_17508190189149532\"),{backgroundColor:\"white\"});\nviewer_17508190189149532.addModel(\"6\\nuDGP instance\\nC    0.0000    0.0000    0.0000\\nC    -0.1967    0.6818    2.1488\\nC    0.3583    -1.4291    0.2817\\nC    -1.8059    -0.9765    1.3361\\nC    -1.0711    -1.0497    0.0305\\nC    -1.1833    0.1255    2.1411\",undefined,undefined);\nviewer_17508190189149532.zoomTo();\n\tviewer_17508190189149532.setBackgroundColor(\"#000000\",0.2);\n\tviewer_17508190189149532.setStyle({\"stick\": {\"radius\": 0.1, \"color\": \"#cbd5e1\"}, \"sphere\": {\"scale\": 0.2, \"color\": \"#60a5fa\"}});\nviewer_17508190189149532.render();\n});\n</script>",
                  "text/html": [
                     "<div id=\"3dmolviewer_17508190189149532\"  style=\"position: relative; width: 400px; height: 350px;\">\n",
                     "        <p id=\"3dmolwarning_17508190189149532\" style=\"background-color:#ffcccc;color:black\">3Dmol.js failed to load for some reason.  Please check your browser console for error messages.<br></p>\n",
                     "        </div>\n",
                     "<script>\n",
                     "\n",
                     "var loadScriptAsync = function(uri){\n",
                     "  return new Promise((resolve, reject) => {\n",
                     "    //this is to ignore the existence of requirejs amd\n",
                     "    var savedexports, savedmodule;\n",
                     "    if (typeof exports !== 'undefined') savedexports = exports;\n",
                     "    else exports = {}\n",
                     "    if (typeof module !== 'undefined') savedmodule = module;\n",
                     "    else module = {}\n",
                     "\n",
                     "    var tag = document.createElement('script');\n",
                     "    tag.src = uri;\n",
                     "    tag.async = true;\n",
                     "    tag.onload = () => {\n",
                     "        exports = savedexports;\n",
                     "        module = savedmodule;\n",
                     "        resolve();\n",
                     "    };\n",
                     "  var firstScriptTag = document.getElementsByTagName('script')[0];\n",
                     "  firstScriptTag.parentNode.insertBefore(tag, firstScriptTag);\n",
                     "});\n",
                     "};\n",
                     "\n",
                     "if(typeof $3Dmolpromise === 'undefined') {\n",
                     "$3Dmolpromise = null;\n",
                     "  $3Dmolpromise = loadScriptAsync('https://cdn.jsdelivr.net/npm/3dmol@2.5.0/build/3Dmol-min.js');\n",
                     "}\n",
                     "\n",
                     "var viewer_17508190189149532 = null;\n",
                     "var warn = document.getElementById(\"3dmolwarning_17508190189149532\");\n",
                     "if(warn) {\n",
                     "    warn.parentNode.removeChild(warn);\n",
                     "}\n",
                     "$3Dmolpromise.then(function() {\n",
                     "viewer_17508190189149532 = $3Dmol.createViewer(document.getElementById(\"3dmolviewer_17508190189149532\"),{backgroundColor:\"white\"});\n",
                     "viewer_17508190189149532.addModel(\"6\\nuDGP instance\\nC    0.0000    0.0000    0.0000\\nC    -0.1967    0.6818    2.1488\\nC    0.3583    -1.4291    0.2817\\nC    -1.8059    -0.9765    1.3361\\nC    -1.0711    -1.0497    0.0305\\nC    -1.1833    0.1255    2.1411\",undefined,undefined);\n",
                     "viewer_17508190189149532.zoomTo();\n",
                     "\tviewer_17508190189149532.setBackgroundColor(\"#000000\",0.2);\n",
                     "\tviewer_17508190189149532.setStyle({\"stick\": {\"radius\": 0.1, \"color\": \"#cbd5e1\"}, \"sphere\": {\"scale\": 0.2, \"color\": \"#60a5fa\"}});\n",
                     "viewer_17508190189149532.render();\n",
                     "});\n",
                     "</script>"
                  ]
               },
               "metadata": {},
               "output_type": "display_data"
            },
            {
               "data": {
                  "text/plain": [
                     "<py3Dmol.view at 0x7002c35b4d70>"
                  ]
               },
               "execution_count": 6,
               "metadata": {},
               "output_type": "execute_result"
            }
         ],
         "source": [
            "instance.reset(reset_runtime=True)\n",
            "instance.solve(\n",
            "    \"M3\",\n",
            "    backend=\"gurobipy\",\n",
            "    model_params={\n",
            "        \"Mu\": 0.1,\n",
            "    },\n",
            ")\n",
            "instance.view()"
         ]
      }
   ],
   "metadata": {
      "kernelspec": {
         "display_name": "udgp-env",
         "language": "python",
         "name": "python3"
      },
      "language_info": {
         "codemirror_mode": {
            "name": "ipython",
            "version": 3
         },
         "file_extension": ".py",
         "mimetype": "text/x-python",
         "name": "python",
         "nbconvert_exporter": "python",
         "pygments_lexer": "ipython3",
         "version": "3.12.11"
      },
      "orig_nbformat": 4
   },
   "nbformat": 4,
   "nbformat_minor": 2
}
