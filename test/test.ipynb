{
   "cells": [
      {
         "cell_type": "markdown",
         "metadata": {},
         "source": [
            "# Teste pyomo"
         ]
      },
      {
         "cell_type": "code",
         "execution_count": 2,
         "metadata": {},
         "outputs": [],
         "source": [
            "import numpy as np\n",
            "from udgp import Instance"
         ]
      },
      {
         "cell_type": "code",
         "execution_count": 12,
         "metadata": {},
         "outputs": [
            {
               "data": {
                  "application/3dmoljs_load.v0": "<div id=\"3dmolviewer_17379225816066217\"  style=\"position: relative; width: 400px; height: 350px;\">\n        <p id=\"3dmolwarning_17379225816066217\" style=\"background-color:#ffcccc;color:black\">3Dmol.js failed to load for some reason.  Please check your browser console for error messages.<br></p>\n        </div>\n<script>\n\nvar loadScriptAsync = function(uri){\n  return new Promise((resolve, reject) => {\n    //this is to ignore the existence of requirejs amd\n    var savedexports, savedmodule;\n    if (typeof exports !== 'undefined') savedexports = exports;\n    else exports = {}\n    if (typeof module !== 'undefined') savedmodule = module;\n    else module = {}\n\n    var tag = document.createElement('script');\n    tag.src = uri;\n    tag.async = true;\n    tag.onload = () => {\n        exports = savedexports;\n        module = savedmodule;\n        resolve();\n    };\n  var firstScriptTag = document.getElementsByTagName('script')[0];\n  firstScriptTag.parentNode.insertBefore(tag, firstScriptTag);\n});\n};\n\nif(typeof $3Dmolpromise === 'undefined') {\n$3Dmolpromise = null;\n  $3Dmolpromise = loadScriptAsync('https://cdnjs.cloudflare.com/ajax/libs/3Dmol/2.4.2/3Dmol-min.js');\n}\n\nvar viewer_17379225816066217 = null;\nvar warn = document.getElementById(\"3dmolwarning_17379225816066217\");\nif(warn) {\n    warn.parentNode.removeChild(warn);\n}\n$3Dmolpromise.then(function() {\nviewer_17379225816066217 = $3Dmol.createViewer(document.getElementById(\"3dmolviewer_17379225816066217\"),{backgroundColor:\"white\"});\nviewer_17379225816066217.addModel(\"5\\nuDGP instance\\nC    0.0000    0.0000    0.0000\\nC    -1.5000    0.0000    0.0000\\nC    -2.0000    1.4142    0.0000\\nC    -1.5000    2.1213    -1.2247\\nC    -2.0000    3.5355    -1.2247\");\nviewer_17379225816066217.zoomTo();\n\tviewer_17379225816066217.setBackgroundColor(\"#000000\",0.2);\n\tviewer_17379225816066217.setStyle({\"stick\": {\"radius\": 0.1, \"color\": \"#cbd5e1\"}, \"sphere\": {\"scale\": 0.2, \"color\": \"#60a5fa\"}});\nviewer_17379225816066217.render();\n});\n</script>",
                  "text/html": [
                     "<div id=\"3dmolviewer_17379225816066217\"  style=\"position: relative; width: 400px; height: 350px;\">\n",
                     "        <p id=\"3dmolwarning_17379225816066217\" style=\"background-color:#ffcccc;color:black\">3Dmol.js failed to load for some reason.  Please check your browser console for error messages.<br></p>\n",
                     "        </div>\n",
                     "<script>\n",
                     "\n",
                     "var loadScriptAsync = function(uri){\n",
                     "  return new Promise((resolve, reject) => {\n",
                     "    //this is to ignore the existence of requirejs amd\n",
                     "    var savedexports, savedmodule;\n",
                     "    if (typeof exports !== 'undefined') savedexports = exports;\n",
                     "    else exports = {}\n",
                     "    if (typeof module !== 'undefined') savedmodule = module;\n",
                     "    else module = {}\n",
                     "\n",
                     "    var tag = document.createElement('script');\n",
                     "    tag.src = uri;\n",
                     "    tag.async = true;\n",
                     "    tag.onload = () => {\n",
                     "        exports = savedexports;\n",
                     "        module = savedmodule;\n",
                     "        resolve();\n",
                     "    };\n",
                     "  var firstScriptTag = document.getElementsByTagName('script')[0];\n",
                     "  firstScriptTag.parentNode.insertBefore(tag, firstScriptTag);\n",
                     "});\n",
                     "};\n",
                     "\n",
                     "if(typeof $3Dmolpromise === 'undefined') {\n",
                     "$3Dmolpromise = null;\n",
                     "  $3Dmolpromise = loadScriptAsync('https://cdnjs.cloudflare.com/ajax/libs/3Dmol/2.4.2/3Dmol-min.js');\n",
                     "}\n",
                     "\n",
                     "var viewer_17379225816066217 = null;\n",
                     "var warn = document.getElementById(\"3dmolwarning_17379225816066217\");\n",
                     "if(warn) {\n",
                     "    warn.parentNode.removeChild(warn);\n",
                     "}\n",
                     "$3Dmolpromise.then(function() {\n",
                     "viewer_17379225816066217 = $3Dmol.createViewer(document.getElementById(\"3dmolviewer_17379225816066217\"),{backgroundColor:\"white\"});\n",
                     "viewer_17379225816066217.addModel(\"5\\nuDGP instance\\nC    0.0000    0.0000    0.0000\\nC    -1.5000    0.0000    0.0000\\nC    -2.0000    1.4142    0.0000\\nC    -1.5000    2.1213    -1.2247\\nC    -2.0000    3.5355    -1.2247\");\n",
                     "viewer_17379225816066217.zoomTo();\n",
                     "\tviewer_17379225816066217.setBackgroundColor(\"#000000\",0.2);\n",
                     "\tviewer_17379225816066217.setStyle({\"stick\": {\"radius\": 0.1, \"color\": \"#cbd5e1\"}, \"sphere\": {\"scale\": 0.2, \"color\": \"#60a5fa\"}});\n",
                     "viewer_17379225816066217.render();\n",
                     "});\n",
                     "</script>"
                  ]
               },
               "metadata": {},
               "output_type": "display_data"
            },
            {
               "data": {
                  "text/plain": [
                     "<py3Dmol.view at 0x7f336aa2c810>"
                  ]
               },
               "execution_count": 12,
               "metadata": {},
               "output_type": "execute_result"
            }
         ],
         "source": [
            "N = 5\n",
            "instance = Instance.artificial_molecule(N, freq=True, seed=123456)\n",
            "instance.view_input()"
         ]
      },
      {
         "cell_type": "code",
         "execution_count": 16,
         "metadata": {},
         "outputs": [
            {
               "name": "stdout",
               "output_type": "stream",
               "text": [
                  "        0.02 seconds required for presolve\n",
                  "Set parameter OutputFlag to value 1\n",
                  "Set parameter TimeLimit to value 300\n",
                  "Set parameter NonConvex to value 2\n",
                  "Gurobi Optimizer version 12.0.0 build v12.0.0rc1 (linux64 - \"Ubuntu 24.04.1 LTS\")\n",
                  "\n",
                  "CPU model: 13th Gen Intel(R) Core(TM) i7-13650HX, instruction set [SSE2|AVX|AVX2]\n",
                  "Thread count: 10 physical cores, 20 logical processors, using up to 20 threads\n",
                  "\n",
                  "Non-default parameters:\n",
                  "TimeLimit  300\n",
                  "NonConvex  2\n",
                  "\n",
                  "Academic license 2372514 - for non-commercial use only - registered to br___@cos.ufrj.br\n",
                  "Optimize a model with 445 rows, 252 columns and 1178 nonzeros\n",
                  "Model fingerprint: 0xcf699a95\n",
                  "Model has 10 quadratic constraints\n",
                  "Variable types: 202 continuous, 50 integer (50 binary)\n",
                  "Coefficient statistics:\n",
                  "  Matrix range     [1e+00, 4e+00]\n",
                  "  QMatrix range    [1e+00, 1e+00]\n",
                  "  Objective range  [1e+00, 1e+00]\n",
                  "  Bounds range     [1e-01, 4e+00]\n",
                  "  RHS range        [1e-01, 9e+00]\n",
                  "Presolve removed 62 rows and 12 columns\n",
                  "Presolve time: 0.00s\n",
                  "Presolved: 513 rows, 281 columns, 1604 nonzeros\n",
                  "Presolved model has 40 bilinear constraint(s)\n",
                  "\n",
                  "Solving non-convex MIQCP\n",
                  "\n",
                  "Variable types: 231 continuous, 50 integer (50 binary)\n",
                  "\n",
                  "Root relaxation: objective 1.000000e+00, 206 iterations, 0.00 seconds (0.00 work units)\n",
                  "\n",
                  "    Nodes    |    Current Node    |     Objective Bounds      |     Work\n",
                  " Expl Unexpl |  Obj  Depth IntInf | Incumbent    BestBd   Gap | It/Node Time\n",
                  "\n",
                  "     0     0    1.00000    0   37          -    1.00000      -     -    0s\n",
                  "     0     0    1.00000    0   35          -    1.00000      -     -    0s\n",
                  "     0     0    1.00000    0   35          -    1.00000      -     -    0s\n",
                  "     0     0    1.00000    0   35          -    1.00000      -     -    0s\n",
                  "     0     0    1.00000    0   35          -    1.00000      -     -    0s\n",
                  "H    0     0                       1.1027848    1.00000  9.32%     -    0s\n",
                  "     0     2    1.00000    0   35    1.10278    1.00000  9.32%     -    0s\n",
                  "H  581   850                       1.1027847    1.00000  9.32%  17.7    0s\n",
                  "* 6454  2448              54       1.1027164    1.00000  9.31%  31.7    0s\n",
                  "* 6476  2367              69       1.1022861    1.00000  9.28%  31.6    0s\n",
                  "* 7094  2481              96       1.0290219    1.00000  2.82%  33.2    0s\n",
                  "* 8474  2349              57       1.0289885    1.00000  2.82%  36.0    1s\n",
                  "H 8814  2349                       1.0289172    1.00000  2.81%  37.1    1s\n",
                  "H 8902  2625                       1.0287145    1.00000  2.79%  37.4    1s\n",
                  "* 9055  2625              80       1.0286135    1.00000  2.78%  37.5    1s\n",
                  "* 9063  2625              82       1.0285313    1.00000  2.77%  37.5    1s\n",
                  "* 9856  2747              74       1.0282571    1.00000  2.75%  39.5    1s\n",
                  "* 9858  2747              73       1.0282033    1.00000  2.74%  39.5    1s\n",
                  "* 9863  2747              73       1.0281989    1.00000  2.74%  39.5    1s\n",
                  "H10755  2957                       1.0281988    1.00000  2.74%  41.8    1s\n",
                  "H11515  3405                       1.0281985    1.00000  2.74%  43.0    1s\n",
                  "*11845  3321              95       1.0192490    1.00000  1.89%  43.3    1s\n",
                  "*12175  3231              94       1.0009141    1.00000  0.09%  42.9    1s\n",
                  "H12690  3189                       1.0009140    1.00000  0.09%  43.7    1s\n",
                  "H13594  3346                       1.0006331    1.00000  0.06%  44.8    1s\n",
                  "H14243  3352                       1.0006329    1.00000  0.06%  45.7    1s\n",
                  "H14313  3390                       1.0006328    1.00000  0.06%  45.8    2s\n",
                  "*14961  3577              81       1.0004960    1.00000  0.05%  46.2    2s\n",
                  "*14964  3577              81       1.0004872    1.00000  0.05%  46.2    2s\n",
                  "*15001  3577              64       1.0004791    1.00000  0.05%  46.2    2s\n",
                  "*15003  3575              65       1.0004339    1.00000  0.04%  46.2    2s\n",
                  "*15574  3881              82       1.0004287    1.00000  0.04%  46.3    2s\n",
                  "*15592  3875              75       1.0003858    1.00000  0.04%  46.2    2s\n",
                  "*15596  3875              77       1.0003815    1.00000  0.04%  46.2    2s\n",
                  "*15632  3874              71       1.0003688    1.00000  0.04%  46.2    2s\n",
                  "*15635  3872              71       1.0003362    1.00000  0.03%  46.2    2s\n",
                  "*15641  3872              72       1.0002906    1.00000  0.03%  46.2    2s\n",
                  "*15648  3865              74       1.0001161    1.00000  0.01%  46.2    2s\n",
                  "*16050  3864              76       1.0000297    1.00000  0.00%  46.1    2s\n",
                  "\n",
                  "Cutting planes:\n",
                  "  RLT: 12\n",
                  "\n",
                  "Explored 17051 nodes (782194 simplex iterations) in 2.39 seconds (2.80 work units)\n",
                  "Thread count was 20 (of 20 available processors)\n",
                  "\n",
                  "Solution count 10: 1.00003 1.00012 1.00029 ... 1.00048\n",
                  "\n",
                  "Optimal solution found (tolerance 1.00e-04)\n",
                  "Warning: max constraint violation (1.7213e-06) exceeds tolerance\n",
                  "Best objective 1.000029676520e+00, best bound 1.000000000000e+00, gap 0.0030%\n",
                  "        2.40 seconds required for solver\n",
                  "        0.00 seconds required for postsolve\n",
                  "2.3980159759521484\n"
               ]
            },
            {
               "data": {
                  "application/3dmoljs_load.v0": "<div id=\"3dmolviewer_17379227251193721\"  style=\"position: relative; width: 400px; height: 350px;\">\n        <p id=\"3dmolwarning_17379227251193721\" style=\"background-color:#ffcccc;color:black\">3Dmol.js failed to load for some reason.  Please check your browser console for error messages.<br></p>\n        </div>\n<script>\n\nvar loadScriptAsync = function(uri){\n  return new Promise((resolve, reject) => {\n    //this is to ignore the existence of requirejs amd\n    var savedexports, savedmodule;\n    if (typeof exports !== 'undefined') savedexports = exports;\n    else exports = {}\n    if (typeof module !== 'undefined') savedmodule = module;\n    else module = {}\n\n    var tag = document.createElement('script');\n    tag.src = uri;\n    tag.async = true;\n    tag.onload = () => {\n        exports = savedexports;\n        module = savedmodule;\n        resolve();\n    };\n  var firstScriptTag = document.getElementsByTagName('script')[0];\n  firstScriptTag.parentNode.insertBefore(tag, firstScriptTag);\n});\n};\n\nif(typeof $3Dmolpromise === 'undefined') {\n$3Dmolpromise = null;\n  $3Dmolpromise = loadScriptAsync('https://cdnjs.cloudflare.com/ajax/libs/3Dmol/2.4.2/3Dmol-min.js');\n}\n\nvar viewer_17379227251193721 = null;\nvar warn = document.getElementById(\"3dmolwarning_17379227251193721\");\nif(warn) {\n    warn.parentNode.removeChild(warn);\n}\n$3Dmolpromise.then(function() {\nviewer_17379227251193721 = $3Dmol.createViewer(document.getElementById(\"3dmolviewer_17379227251193721\"),{backgroundColor:\"white\"});\nviewer_17379227251193721.addModel(\"5\\nuDGP instance\\nC    0.0000    0.0000    0.0000\\nC    -2.6751    -1.2245    -3.0568\\nC    -1.8424    0.0002    -3.2948\\nC    -1.1693    0.0002    -0.9396\\nC    -0.6732    0.0002    -2.3552\");\nviewer_17379227251193721.zoomTo();\n\tviewer_17379227251193721.setBackgroundColor(\"#000000\",0.2);\n\tviewer_17379227251193721.setStyle({\"stick\": {\"radius\": 0.1, \"color\": \"#cbd5e1\"}, \"sphere\": {\"scale\": 0.2, \"color\": \"#60a5fa\"}});\nviewer_17379227251193721.render();\n});\n</script>",
                  "text/html": [
                     "<div id=\"3dmolviewer_17379227251193721\"  style=\"position: relative; width: 400px; height: 350px;\">\n",
                     "        <p id=\"3dmolwarning_17379227251193721\" style=\"background-color:#ffcccc;color:black\">3Dmol.js failed to load for some reason.  Please check your browser console for error messages.<br></p>\n",
                     "        </div>\n",
                     "<script>\n",
                     "\n",
                     "var loadScriptAsync = function(uri){\n",
                     "  return new Promise((resolve, reject) => {\n",
                     "    //this is to ignore the existence of requirejs amd\n",
                     "    var savedexports, savedmodule;\n",
                     "    if (typeof exports !== 'undefined') savedexports = exports;\n",
                     "    else exports = {}\n",
                     "    if (typeof module !== 'undefined') savedmodule = module;\n",
                     "    else module = {}\n",
                     "\n",
                     "    var tag = document.createElement('script');\n",
                     "    tag.src = uri;\n",
                     "    tag.async = true;\n",
                     "    tag.onload = () => {\n",
                     "        exports = savedexports;\n",
                     "        module = savedmodule;\n",
                     "        resolve();\n",
                     "    };\n",
                     "  var firstScriptTag = document.getElementsByTagName('script')[0];\n",
                     "  firstScriptTag.parentNode.insertBefore(tag, firstScriptTag);\n",
                     "});\n",
                     "};\n",
                     "\n",
                     "if(typeof $3Dmolpromise === 'undefined') {\n",
                     "$3Dmolpromise = null;\n",
                     "  $3Dmolpromise = loadScriptAsync('https://cdnjs.cloudflare.com/ajax/libs/3Dmol/2.4.2/3Dmol-min.js');\n",
                     "}\n",
                     "\n",
                     "var viewer_17379227251193721 = null;\n",
                     "var warn = document.getElementById(\"3dmolwarning_17379227251193721\");\n",
                     "if(warn) {\n",
                     "    warn.parentNode.removeChild(warn);\n",
                     "}\n",
                     "$3Dmolpromise.then(function() {\n",
                     "viewer_17379227251193721 = $3Dmol.createViewer(document.getElementById(\"3dmolviewer_17379227251193721\"),{backgroundColor:\"white\"});\n",
                     "viewer_17379227251193721.addModel(\"5\\nuDGP instance\\nC    0.0000    0.0000    0.0000\\nC    -2.6751    -1.2245    -3.0568\\nC    -1.8424    0.0002    -3.2948\\nC    -1.1693    0.0002    -0.9396\\nC    -0.6732    0.0002    -2.3552\");\n",
                     "viewer_17379227251193721.zoomTo();\n",
                     "\tviewer_17379227251193721.setBackgroundColor(\"#000000\",0.2);\n",
                     "\tviewer_17379227251193721.setStyle({\"stick\": {\"radius\": 0.1, \"color\": \"#cbd5e1\"}, \"sphere\": {\"scale\": 0.2, \"color\": \"#60a5fa\"}});\n",
                     "viewer_17379227251193721.render();\n",
                     "});\n",
                     "</script>"
                  ]
               },
               "metadata": {},
               "output_type": "display_data"
            },
            {
               "data": {
                  "text/plain": [
                     "<py3Dmol.view at 0x7f33697526d0>"
                  ]
               },
               "execution_count": 16,
               "metadata": {},
               "output_type": "execute_result"
            }
         ],
         "source": [
            "instance.reset(reset_runtime=True)\n",
            "instance.solve_step(\"M2\", max_gap=1e-1, time_limit=300, log=True)\n",
            "print(instance.runtime)\n",
            "instance.view()\n"
         ]
      }
   ],
   "metadata": {
      "kernelspec": {
         "display_name": "udgp-env",
         "language": "python",
         "name": "python3"
      },
      "language_info": {
         "codemirror_mode": {
            "name": "ipython",
            "version": 3
         },
         "file_extension": ".py",
         "mimetype": "text/x-python",
         "name": "python",
         "nbconvert_exporter": "python",
         "pygments_lexer": "ipython3",
         "version": "3.11.11"
      },
      "orig_nbformat": 4
   },
   "nbformat": 4,
   "nbformat_minor": 2
}
