{
 "cells": [
  {
   "cell_type": "markdown",
   "metadata": {},
   "source": [
    "# Teste pyomo"
   ]
  },
  {
   "cell_type": "code",
   "execution_count": 1,
   "metadata": {},
   "outputs": [],
   "source": [
    "import numpy as np\n",
    "from udgp import Instance"
   ]
  },
  {
   "cell_type": "code",
   "execution_count": 19,
   "metadata": {},
   "outputs": [
    {
     "data": {
      "application/3dmoljs_load.v0": "<div id=\"3dmolviewer_16914487530872536\"  style=\"position: relative; width: 400px; height: 350px;\">\n        <p id=\"3dmolwarning_16914487530872536\" style=\"background-color:#ffcccc;color:black\">You appear to be running in JupyterLab (or JavaScript failed to load for some other reason).  You need to install the 3dmol extension: <br>\n        <tt>jupyter labextension install jupyterlab_3dmol</tt></p>\n        </div>\n<script>\n\nvar loadScriptAsync = function(uri){\n  return new Promise((resolve, reject) => {\n    //this is to ignore the existence of requirejs amd\n    var savedexports, savedmodule;\n    if (typeof exports !== 'undefined') savedexports = exports;\n    else exports = {}\n    if (typeof module !== 'undefined') savedmodule = module;\n    else module = {}\n\n    var tag = document.createElement('script');\n    tag.src = uri;\n    tag.async = true;\n    tag.onload = () => {\n        exports = savedexports;\n        module = savedmodule;\n        resolve();\n    };\n  var firstScriptTag = document.getElementsByTagName('script')[0];\n  firstScriptTag.parentNode.insertBefore(tag, firstScriptTag);\n});\n};\n\nif(typeof $3Dmolpromise === 'undefined') {\n$3Dmolpromise = null;\n  $3Dmolpromise = loadScriptAsync('https://cdnjs.cloudflare.com/ajax/libs/3Dmol/2.0.3/3Dmol-min.js');\n}\n\nvar viewer_16914487530872536 = null;\nvar warn = document.getElementById(\"3dmolwarning_16914487530872536\");\nif(warn) {\n    warn.parentNode.removeChild(warn);\n}\n$3Dmolpromise.then(function() {\nviewer_16914487530872536 = $3Dmol.createViewer(document.getElementById(\"3dmolviewer_16914487530872536\"),{backgroundColor:\"white\"});\nviewer_16914487530872536.addModel(\"10\\nuDGP instance\\nC    0.0000    0.0000    0.0000\\nC    -1.5000    0.0000    0.0000\\nC    -2.0000    1.4142    0.0000\\nC    -1.5000    2.1213    1.2247\\nC    -2.0000    1.4142    2.4495\\nC    -1.5000    0.0000    2.4495\\nC    0.0000    0.0000    2.4495\\nC    0.5000    -1.4142    2.4495\\nC    -0.0000    -2.1213    1.2247\\nC    -1.5000    -2.1213    1.2247\");\nviewer_16914487530872536.zoomTo();\n\tviewer_16914487530872536.setBackgroundColor(\"#000000\",0.2);\n\tviewer_16914487530872536.setStyle({\"stick\": {\"radius\": 0.1, \"color\": \"#cbd5e1\"}, \"sphere\": {\"scale\": 0.2, \"color\": \"#60a5fa\"}});\nviewer_16914487530872536.render();\n});\n</script>",
      "text/html": [
       "<div id=\"3dmolviewer_16914487530872536\"  style=\"position: relative; width: 400px; height: 350px;\">\n",
       "        <p id=\"3dmolwarning_16914487530872536\" style=\"background-color:#ffcccc;color:black\">You appear to be running in JupyterLab (or JavaScript failed to load for some other reason).  You need to install the 3dmol extension: <br>\n",
       "        <tt>jupyter labextension install jupyterlab_3dmol</tt></p>\n",
       "        </div>\n",
       "<script>\n",
       "\n",
       "var loadScriptAsync = function(uri){\n",
       "  return new Promise((resolve, reject) => {\n",
       "    //this is to ignore the existence of requirejs amd\n",
       "    var savedexports, savedmodule;\n",
       "    if (typeof exports !== 'undefined') savedexports = exports;\n",
       "    else exports = {}\n",
       "    if (typeof module !== 'undefined') savedmodule = module;\n",
       "    else module = {}\n",
       "\n",
       "    var tag = document.createElement('script');\n",
       "    tag.src = uri;\n",
       "    tag.async = true;\n",
       "    tag.onload = () => {\n",
       "        exports = savedexports;\n",
       "        module = savedmodule;\n",
       "        resolve();\n",
       "    };\n",
       "  var firstScriptTag = document.getElementsByTagName('script')[0];\n",
       "  firstScriptTag.parentNode.insertBefore(tag, firstScriptTag);\n",
       "});\n",
       "};\n",
       "\n",
       "if(typeof $3Dmolpromise === 'undefined') {\n",
       "$3Dmolpromise = null;\n",
       "  $3Dmolpromise = loadScriptAsync('https://cdnjs.cloudflare.com/ajax/libs/3Dmol/2.0.3/3Dmol-min.js');\n",
       "}\n",
       "\n",
       "var viewer_16914487530872536 = null;\n",
       "var warn = document.getElementById(\"3dmolwarning_16914487530872536\");\n",
       "if(warn) {\n",
       "    warn.parentNode.removeChild(warn);\n",
       "}\n",
       "$3Dmolpromise.then(function() {\n",
       "viewer_16914487530872536 = $3Dmol.createViewer(document.getElementById(\"3dmolviewer_16914487530872536\"),{backgroundColor:\"white\"});\n",
       "viewer_16914487530872536.addModel(\"10\\nuDGP instance\\nC    0.0000    0.0000    0.0000\\nC    -1.5000    0.0000    0.0000\\nC    -2.0000    1.4142    0.0000\\nC    -1.5000    2.1213    1.2247\\nC    -2.0000    1.4142    2.4495\\nC    -1.5000    0.0000    2.4495\\nC    0.0000    0.0000    2.4495\\nC    0.5000    -1.4142    2.4495\\nC    -0.0000    -2.1213    1.2247\\nC    -1.5000    -2.1213    1.2247\");\n",
       "viewer_16914487530872536.zoomTo();\n",
       "\tviewer_16914487530872536.setBackgroundColor(\"#000000\",0.2);\n",
       "\tviewer_16914487530872536.setStyle({\"stick\": {\"radius\": 0.1, \"color\": \"#cbd5e1\"}, \"sphere\": {\"scale\": 0.2, \"color\": \"#60a5fa\"}});\n",
       "viewer_16914487530872536.render();\n",
       "});\n",
       "</script>"
      ]
     },
     "metadata": {},
     "output_type": "display_data"
    },
    {
     "data": {
      "text/plain": [
       "<py3Dmol.view at 0x7f904458b610>"
      ]
     },
     "execution_count": 19,
     "metadata": {},
     "output_type": "execute_result"
    }
   ],
   "source": [
    "N = 10\n",
    "instance = Instance.artificial_molecule(N, freq=True, seed=1234567)\n",
    "# instance = Instance.lj_cluster(N, freq=True)\n",
    "#instance = Instance.c60(freq=True)\n",
    "instance.view_input()"
   ]
  },
  {
   "cell_type": "code",
   "execution_count": 10,
   "metadata": {},
   "outputs": [
    {
     "name": "stdout",
     "output_type": "stream",
     "text": [
      "[1.0975 1.1005 1.1083 1.1099 1.1221 1.131  1.1404 1.8145 1.8272 1.8318\n",
      " 1.9013 2.1871]\n",
      "[3 3 3 3 6 3 6 3 6 3 3 3]\n"
     ]
    }
   ],
   "source": [
    "print(instance.dists)\n",
    "print(instance.freqs)"
   ]
  },
  {
   "cell_type": "code",
   "execution_count": 25,
   "metadata": {},
   "outputs": [
    {
     "name": "stdout",
     "output_type": "stream",
     "text": [
      "=================\n",
      "TENTATIVA 12\n",
      "=================\n",
      "\n",
      "Interrupt request received\n",
      "WARNING: Loading a SolverResults object with an 'aborted' status, but\n",
      "containing a solution\n"
     ]
    },
    {
     "ename": "ValueError",
     "evalue": "Unsupported dtype object",
     "output_type": "error",
     "traceback": [
      "\u001b[0;31m---------------------------------------------------------------------------\u001b[0m",
      "\u001b[0;31mValueError\u001b[0m                                Traceback (most recent call last)",
      "Cell \u001b[0;32mIn[25], line 17\u001b[0m\n\u001b[1;32m     13\u001b[0m i \u001b[39m+\u001b[39m\u001b[39m=\u001b[39m \u001b[39m1\u001b[39m\n\u001b[1;32m     15\u001b[0m instance\u001b[39m.\u001b[39mreset()\n\u001b[0;32m---> 17\u001b[0m instance\u001b[39m.\u001b[39;49msolve_step(\u001b[39m\"\u001b[39;49m\u001b[39mM2\u001b[39;49m\u001b[39m\"\u001b[39;49m, nx\u001b[39m=\u001b[39;49m\u001b[39m4\u001b[39;49m, max_gap\u001b[39m=\u001b[39;49m\u001b[39m5e-4\u001b[39;49m, previous_a\u001b[39m=\u001b[39;49mprevious_a)\n\u001b[1;32m     18\u001b[0m previous_a\u001b[39m.\u001b[39mappend(instance\u001b[39m.\u001b[39ma_indices\u001b[39m.\u001b[39mtolist())\n\u001b[1;32m     20\u001b[0m \u001b[39mprint\u001b[39m(\u001b[39m\"\u001b[39m\u001b[39mCORE\u001b[39m\u001b[39m\"\u001b[39m)\n",
      "File \u001b[0;32m~/Documents/Developer/udgp/src/udgp/instances/instance.py:243\u001b[0m, in \u001b[0;36mInstance.solve_step\u001b[0;34m(self, model_name, nx, ny, max_gap, log, previous_a)\u001b[0m\n\u001b[1;32m    241\u001b[0m \u001b[39m# ATUALIZA A INSTÂNCIA\u001b[39;00m\n\u001b[1;32m    242\u001b[0m new_points \u001b[39m=\u001b[39m m\u001b[39m.\u001b[39msolution_points()\n\u001b[0;32m--> 243\u001b[0m \u001b[39mif\u001b[39;00m \u001b[39mnot\u001b[39;00m \u001b[39mself\u001b[39;49m\u001b[39m.\u001b[39;49madd_points(new_points, \u001b[39m0.1\u001b[39;49m):\n\u001b[1;32m    244\u001b[0m     \u001b[39mreturn\u001b[39;00m \u001b[39mFalse\u001b[39;00m\n\u001b[1;32m    245\u001b[0m \u001b[39melse\u001b[39;00m:\n",
      "File \u001b[0;32m~/Documents/Developer/udgp/src/udgp/instances/instance.py:155\u001b[0m, in \u001b[0;36mInstance.add_points\u001b[0;34m(self, new_points, threshold)\u001b[0m\n\u001b[1;32m    149\u001b[0m \u001b[39mdef\u001b[39;00m \u001b[39madd_points\u001b[39m(\u001b[39mself\u001b[39m, new_points: np\u001b[39m.\u001b[39mndarray, threshold\u001b[39m=\u001b[39m\u001b[39m0.05\u001b[39m):\n\u001b[1;32m    150\u001b[0m \u001b[39m    \u001b[39m\u001b[39m\"\"\"\u001b[39;00m\n\u001b[1;32m    151\u001b[0m \u001b[39m    Adiciona (fixa) novas coordenadas à solução.\u001b[39;00m\n\u001b[1;32m    152\u001b[0m \n\u001b[1;32m    153\u001b[0m \u001b[39m    Retorna (bool): verdadeiro se as distâncias entre os novos pontos e os pontos já fixados estavam na lista de distâncias remanescentes.\u001b[39;00m\n\u001b[1;32m    154\u001b[0m \u001b[39m    \"\"\"\u001b[39;00m\n\u001b[0;32m--> 155\u001b[0m     new_dists, new_indices \u001b[39m=\u001b[39m points_new_dists(\n\u001b[1;32m    156\u001b[0m         new_points, \u001b[39mself\u001b[39;49m\u001b[39m.\u001b[39;49mpoints, return_indices\u001b[39m=\u001b[39;49m\u001b[39mTrue\u001b[39;49;00m\n\u001b[1;32m    157\u001b[0m     )\n\u001b[1;32m    159\u001b[0m     \u001b[39mif\u001b[39;00m \u001b[39mself\u001b[39m\u001b[39m.\u001b[39mremove_dists(new_dists, new_indices, threshold):\n\u001b[1;32m    160\u001b[0m         \u001b[39mself\u001b[39m\u001b[39m.\u001b[39mpoints \u001b[39m=\u001b[39m np\u001b[39m.\u001b[39mr_[\u001b[39mself\u001b[39m\u001b[39m.\u001b[39mpoints, new_points]\n",
      "File \u001b[0;32m~/Documents/Developer/udgp/src/udgp/utils/points.py:53\u001b[0m, in \u001b[0;36mpoints_new_dists\u001b[0;34m(x_points, y_points, return_indices)\u001b[0m\n\u001b[1;32m     51\u001b[0m y_points \u001b[39m=\u001b[39m np\u001b[39m.\u001b[39matleast_2d(y_points)\n\u001b[1;32m     52\u001b[0m points \u001b[39m=\u001b[39m np\u001b[39m.\u001b[39mr_[y_points, x_points]\n\u001b[0;32m---> 53\u001b[0m dists \u001b[39m=\u001b[39m squareform(pdist(points, metric\u001b[39m=\u001b[39;49m\u001b[39m\"\u001b[39;49m\u001b[39meuclidean\u001b[39;49m\u001b[39m\"\u001b[39;49m))\n\u001b[1;32m     55\u001b[0m n_y, n \u001b[39m=\u001b[39m y_points\u001b[39m.\u001b[39mshape[\u001b[39m0\u001b[39m], points\u001b[39m.\u001b[39mshape[\u001b[39m0\u001b[39m]\n\u001b[1;32m     57\u001b[0m grid \u001b[39m=\u001b[39m np\u001b[39m.\u001b[39mmgrid[\u001b[39m0\u001b[39m:n, n_y:n]\u001b[39m.\u001b[39mreshape(\u001b[39m2\u001b[39m, \u001b[39m-\u001b[39m\u001b[39m1\u001b[39m)\n",
      "File \u001b[0;32m~/Documents/Developer/udgp/venv/lib/python3.11/site-packages/scipy/spatial/distance.py:2220\u001b[0m, in \u001b[0;36mpdist\u001b[0;34m(X, metric, out, **kwargs)\u001b[0m\n\u001b[1;32m   2218\u001b[0m     pdist_fn \u001b[39m=\u001b[39m metric_info\u001b[39m.\u001b[39mpdist_func\n\u001b[1;32m   2219\u001b[0m     _extra_windows_error_checks(X, out, (m \u001b[39m*\u001b[39m (m \u001b[39m-\u001b[39m \u001b[39m1\u001b[39m) \u001b[39m/\u001b[39m \u001b[39m2\u001b[39m,), \u001b[39m*\u001b[39m\u001b[39m*\u001b[39mkwargs)\n\u001b[0;32m-> 2220\u001b[0m     \u001b[39mreturn\u001b[39;00m pdist_fn(X, out\u001b[39m=\u001b[39;49mout, \u001b[39m*\u001b[39;49m\u001b[39m*\u001b[39;49mkwargs)\n\u001b[1;32m   2221\u001b[0m \u001b[39melif\u001b[39;00m mstr\u001b[39m.\u001b[39mstartswith(\u001b[39m\"\u001b[39m\u001b[39mtest_\u001b[39m\u001b[39m\"\u001b[39m):\n\u001b[1;32m   2222\u001b[0m     metric_info \u001b[39m=\u001b[39m _TEST_METRICS\u001b[39m.\u001b[39mget(mstr, \u001b[39mNone\u001b[39;00m)\n",
      "\u001b[0;31mValueError\u001b[0m: Unsupported dtype object"
     ]
    }
   ],
   "source": [
    "from IPython.display import clear_output\n",
    "\n",
    "previous_a = []\n",
    "\n",
    "i = 1\n",
    "instance.reset(reset_runtime=True)\n",
    "# while not instance.is_solved():\n",
    "while instance.fixed_n < instance.n:\n",
    "    clear_output(wait=True)\n",
    "    print(\"=================\")\n",
    "    print(f\"TENTATIVA {i}\")\n",
    "    print(\"=================\")\n",
    "    i += 1\n",
    "\n",
    "    instance.reset()\n",
    "\n",
    "    instance.solve_step(\"M2\", nx=4, max_gap=5e-4, previous_a=previous_a)\n",
    "    previous_a.append(instance.a_indices.tolist())\n",
    "\n",
    "    print(\"CORE\")\n",
    "\n",
    "    # instance.reset_with_core(\"mock\")\n",
    "\n",
    "    broken = False\n",
    "    while instance.fixed_n < instance.n and not broken:\n",
    "        print(f\"  {instance.fixed_n} átomos\")\n",
    "\n",
    "        solved = False\n",
    "        tries = 0\n",
    "\n",
    "        iter_gap = 5e-3 + 1e-3 * instance.fixed_n\n",
    "        solved = instance.solve_step(\"M2\", nx=1, max_gap=iter_gap)\n",
    "\n",
    "        if not solved:\n",
    "            broken = True\n",
    "            break\n",
    "\n",
    "print(instance.runtime)\n",
    "\n",
    "instance.view()\n"
   ]
  }
 ],
 "metadata": {
  "kernelspec": {
   "display_name": "venv",
   "language": "python",
   "name": "python3"
  },
  "language_info": {
   "codemirror_mode": {
    "name": "ipython",
    "version": 3
   },
   "file_extension": ".py",
   "mimetype": "text/x-python",
   "name": "python",
   "nbconvert_exporter": "python",
   "pygments_lexer": "ipython3",
   "version": "3.11.4"
  },
  "orig_nbformat": 4
 },
 "nbformat": 4,
 "nbformat_minor": 2
}
