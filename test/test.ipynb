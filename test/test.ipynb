{
   "cells": [
      {
         "cell_type": "markdown",
         "metadata": {},
         "source": [
            "# Teste pyomo"
         ]
      },
      {
         "cell_type": "code",
         "execution_count": 68,
         "metadata": {},
         "outputs": [],
         "source": [
            "import numpy as np\n",
            "from udgp import Instance"
         ]
      },
      {
         "cell_type": "code",
         "execution_count": 69,
         "metadata": {},
         "outputs": [
            {
               "data": {
                  "application/3dmoljs_load.v0": "<div id=\"3dmolviewer_16992385117828531\"  style=\"position: relative; width: 400px; height: 350px;\">\n        <p id=\"3dmolwarning_16992385117828531\" style=\"background-color:#ffcccc;color:black\">You appear to be running in JupyterLab (or JavaScript failed to load for some other reason).  You need to install the 3dmol extension: <br>\n        <tt>jupyter labextension install jupyterlab_3dmol</tt></p>\n        </div>\n<script>\n\nvar loadScriptAsync = function(uri){\n  return new Promise((resolve, reject) => {\n    //this is to ignore the existence of requirejs amd\n    var savedexports, savedmodule;\n    if (typeof exports !== 'undefined') savedexports = exports;\n    else exports = {}\n    if (typeof module !== 'undefined') savedmodule = module;\n    else module = {}\n\n    var tag = document.createElement('script');\n    tag.src = uri;\n    tag.async = true;\n    tag.onload = () => {\n        exports = savedexports;\n        module = savedmodule;\n        resolve();\n    };\n  var firstScriptTag = document.getElementsByTagName('script')[0];\n  firstScriptTag.parentNode.insertBefore(tag, firstScriptTag);\n});\n};\n\nif(typeof $3Dmolpromise === 'undefined') {\n$3Dmolpromise = null;\n  $3Dmolpromise = loadScriptAsync('https://cdnjs.cloudflare.com/ajax/libs/3Dmol/2.0.3/3Dmol-min.js');\n}\n\nvar viewer_16992385117828531 = null;\nvar warn = document.getElementById(\"3dmolwarning_16992385117828531\");\nif(warn) {\n    warn.parentNode.removeChild(warn);\n}\n$3Dmolpromise.then(function() {\nviewer_16992385117828531 = $3Dmol.createViewer(document.getElementById(\"3dmolviewer_16992385117828531\"),{backgroundColor:\"white\"});\nviewer_16992385117828531.addModel(\"5\\nuDGP instance\\nC    0.0000    0.0000    0.0000\\nC    -1.5000    0.0000    0.0000\\nC    -2.0000    1.4142    0.0000\\nC    -1.5000    2.1213    -1.2247\\nC    -2.0000    3.5355    -1.2247\");\nviewer_16992385117828531.zoomTo();\n\tviewer_16992385117828531.setBackgroundColor(\"#000000\",0.2);\n\tviewer_16992385117828531.setStyle({\"stick\": {\"radius\": 0.1, \"color\": \"#cbd5e1\"}, \"sphere\": {\"scale\": 0.2, \"color\": \"#60a5fa\"}});\nviewer_16992385117828531.render();\n});\n</script>",
                  "text/html": [
                     "<div id=\"3dmolviewer_16992385117828531\"  style=\"position: relative; width: 400px; height: 350px;\">\n",
                     "        <p id=\"3dmolwarning_16992385117828531\" style=\"background-color:#ffcccc;color:black\">You appear to be running in JupyterLab (or JavaScript failed to load for some other reason).  You need to install the 3dmol extension: <br>\n",
                     "        <tt>jupyter labextension install jupyterlab_3dmol</tt></p>\n",
                     "        </div>\n",
                     "<script>\n",
                     "\n",
                     "var loadScriptAsync = function(uri){\n",
                     "  return new Promise((resolve, reject) => {\n",
                     "    //this is to ignore the existence of requirejs amd\n",
                     "    var savedexports, savedmodule;\n",
                     "    if (typeof exports !== 'undefined') savedexports = exports;\n",
                     "    else exports = {}\n",
                     "    if (typeof module !== 'undefined') savedmodule = module;\n",
                     "    else module = {}\n",
                     "\n",
                     "    var tag = document.createElement('script');\n",
                     "    tag.src = uri;\n",
                     "    tag.async = true;\n",
                     "    tag.onload = () => {\n",
                     "        exports = savedexports;\n",
                     "        module = savedmodule;\n",
                     "        resolve();\n",
                     "    };\n",
                     "  var firstScriptTag = document.getElementsByTagName('script')[0];\n",
                     "  firstScriptTag.parentNode.insertBefore(tag, firstScriptTag);\n",
                     "});\n",
                     "};\n",
                     "\n",
                     "if(typeof $3Dmolpromise === 'undefined') {\n",
                     "$3Dmolpromise = null;\n",
                     "  $3Dmolpromise = loadScriptAsync('https://cdnjs.cloudflare.com/ajax/libs/3Dmol/2.0.3/3Dmol-min.js');\n",
                     "}\n",
                     "\n",
                     "var viewer_16992385117828531 = null;\n",
                     "var warn = document.getElementById(\"3dmolwarning_16992385117828531\");\n",
                     "if(warn) {\n",
                     "    warn.parentNode.removeChild(warn);\n",
                     "}\n",
                     "$3Dmolpromise.then(function() {\n",
                     "viewer_16992385117828531 = $3Dmol.createViewer(document.getElementById(\"3dmolviewer_16992385117828531\"),{backgroundColor:\"white\"});\n",
                     "viewer_16992385117828531.addModel(\"5\\nuDGP instance\\nC    0.0000    0.0000    0.0000\\nC    -1.5000    0.0000    0.0000\\nC    -2.0000    1.4142    0.0000\\nC    -1.5000    2.1213    -1.2247\\nC    -2.0000    3.5355    -1.2247\");\n",
                     "viewer_16992385117828531.zoomTo();\n",
                     "\tviewer_16992385117828531.setBackgroundColor(\"#000000\",0.2);\n",
                     "\tviewer_16992385117828531.setStyle({\"stick\": {\"radius\": 0.1, \"color\": \"#cbd5e1\"}, \"sphere\": {\"scale\": 0.2, \"color\": \"#60a5fa\"}});\n",
                     "viewer_16992385117828531.render();\n",
                     "});\n",
                     "</script>"
                  ]
               },
               "metadata": {},
               "output_type": "display_data"
            },
            {
               "data": {
                  "text/plain": [
                     "<py3Dmol.view at 0x7ff314a7cad0>"
                  ]
               },
               "execution_count": 69,
               "metadata": {},
               "output_type": "execute_result"
            }
         ],
         "source": [
            "N = 5\n",
            "instance = Instance.artificial_molecule(N, freq=True, seed=123456)\n",
            "instance.view_input()"
         ]
      },
      {
         "cell_type": "code",
         "execution_count": 74,
         "metadata": {},
         "outputs": [
            {
               "name": "stdout",
               "output_type": "stream",
               "text": [
                  "WARNING: Loading a SolverResults object with an 'aborted' status, but\n",
                  "containing a solution\n",
                  "distância 1.330078125 não está na lista: [1.5    2.4495 2.8723 3.7749 4.2426]\n",
                  "frequências: [4 3 1 1 1]\n",
                  "erro mínimo: 1.5 -> 0.12775330396475781\n",
                  "300.01222801208496\n"
               ]
            },
            {
               "data": {
                  "application/3dmoljs_load.v0": "<div id=\"3dmolviewer_16992393488769238\"  style=\"position: relative; width: 400px; height: 350px;\">\n        <p id=\"3dmolwarning_16992393488769238\" style=\"background-color:#ffcccc;color:black\">You appear to be running in JupyterLab (or JavaScript failed to load for some other reason).  You need to install the 3dmol extension: <br>\n        <tt>jupyter labextension install jupyterlab_3dmol</tt></p>\n        </div>\n<script>\n\nvar loadScriptAsync = function(uri){\n  return new Promise((resolve, reject) => {\n    //this is to ignore the existence of requirejs amd\n    var savedexports, savedmodule;\n    if (typeof exports !== 'undefined') savedexports = exports;\n    else exports = {}\n    if (typeof module !== 'undefined') savedmodule = module;\n    else module = {}\n\n    var tag = document.createElement('script');\n    tag.src = uri;\n    tag.async = true;\n    tag.onload = () => {\n        exports = savedexports;\n        module = savedmodule;\n        resolve();\n    };\n  var firstScriptTag = document.getElementsByTagName('script')[0];\n  firstScriptTag.parentNode.insertBefore(tag, firstScriptTag);\n});\n};\n\nif(typeof $3Dmolpromise === 'undefined') {\n$3Dmolpromise = null;\n  $3Dmolpromise = loadScriptAsync('https://cdnjs.cloudflare.com/ajax/libs/3Dmol/2.0.3/3Dmol-min.js');\n}\n\nvar viewer_16992393488769238 = null;\nvar warn = document.getElementById(\"3dmolwarning_16992393488769238\");\nif(warn) {\n    warn.parentNode.removeChild(warn);\n}\n$3Dmolpromise.then(function() {\nviewer_16992393488769238 = $3Dmol.createViewer(document.getElementById(\"3dmolviewer_16992393488769238\"),{backgroundColor:\"white\"});\nviewer_16992393488769238.addModel(\"1\\nuDGP instance\\nC    0.0000    0.0000    0.0000\");\nviewer_16992393488769238.zoomTo();\n\tviewer_16992393488769238.setBackgroundColor(\"#000000\",0.2);\n\tviewer_16992393488769238.setStyle({\"stick\": {\"radius\": 0.1, \"color\": \"#cbd5e1\"}, \"sphere\": {\"scale\": 0.2, \"color\": \"#60a5fa\"}});\nviewer_16992393488769238.render();\n});\n</script>",
                  "text/html": [
                     "<div id=\"3dmolviewer_16992393488769238\"  style=\"position: relative; width: 400px; height: 350px;\">\n",
                     "        <p id=\"3dmolwarning_16992393488769238\" style=\"background-color:#ffcccc;color:black\">You appear to be running in JupyterLab (or JavaScript failed to load for some other reason).  You need to install the 3dmol extension: <br>\n",
                     "        <tt>jupyter labextension install jupyterlab_3dmol</tt></p>\n",
                     "        </div>\n",
                     "<script>\n",
                     "\n",
                     "var loadScriptAsync = function(uri){\n",
                     "  return new Promise((resolve, reject) => {\n",
                     "    //this is to ignore the existence of requirejs amd\n",
                     "    var savedexports, savedmodule;\n",
                     "    if (typeof exports !== 'undefined') savedexports = exports;\n",
                     "    else exports = {}\n",
                     "    if (typeof module !== 'undefined') savedmodule = module;\n",
                     "    else module = {}\n",
                     "\n",
                     "    var tag = document.createElement('script');\n",
                     "    tag.src = uri;\n",
                     "    tag.async = true;\n",
                     "    tag.onload = () => {\n",
                     "        exports = savedexports;\n",
                     "        module = savedmodule;\n",
                     "        resolve();\n",
                     "    };\n",
                     "  var firstScriptTag = document.getElementsByTagName('script')[0];\n",
                     "  firstScriptTag.parentNode.insertBefore(tag, firstScriptTag);\n",
                     "});\n",
                     "};\n",
                     "\n",
                     "if(typeof $3Dmolpromise === 'undefined') {\n",
                     "$3Dmolpromise = null;\n",
                     "  $3Dmolpromise = loadScriptAsync('https://cdnjs.cloudflare.com/ajax/libs/3Dmol/2.0.3/3Dmol-min.js');\n",
                     "}\n",
                     "\n",
                     "var viewer_16992393488769238 = null;\n",
                     "var warn = document.getElementById(\"3dmolwarning_16992393488769238\");\n",
                     "if(warn) {\n",
                     "    warn.parentNode.removeChild(warn);\n",
                     "}\n",
                     "$3Dmolpromise.then(function() {\n",
                     "viewer_16992393488769238 = $3Dmol.createViewer(document.getElementById(\"3dmolviewer_16992393488769238\"),{backgroundColor:\"white\"});\n",
                     "viewer_16992393488769238.addModel(\"1\\nuDGP instance\\nC    0.0000    0.0000    0.0000\");\n",
                     "viewer_16992393488769238.zoomTo();\n",
                     "\tviewer_16992393488769238.setBackgroundColor(\"#000000\",0.2);\n",
                     "\tviewer_16992393488769238.setStyle({\"stick\": {\"radius\": 0.1, \"color\": \"#cbd5e1\"}, \"sphere\": {\"scale\": 0.2, \"color\": \"#60a5fa\"}});\n",
                     "viewer_16992393488769238.render();\n",
                     "});\n",
                     "</script>"
                  ]
               },
               "metadata": {},
               "output_type": "display_data"
            },
            {
               "data": {
                  "text/plain": [
                     "<py3Dmol.view at 0x7ff36a4a0610>"
                  ]
               },
               "execution_count": 74,
               "metadata": {},
               "output_type": "execute_result"
            }
         ],
         "source": [
            "instance.reset(reset_runtime=True)\n",
            "instance.solve_step(\"M3\", max_gap=1e-2, time_limit=300)\n",
            "print(instance.runtime)\n",
            "instance.view()\n"
         ]
      },
      {
         "cell_type": "code",
         "execution_count": 67,
         "metadata": {},
         "outputs": [
            {
               "name": "stdout",
               "output_type": "stream",
               "text": [
                  "10.5 & 0.517 & 9.81 & 11.2\n"
               ]
            }
         ],
         "source": [
            "x = np.array([10.239649057388306, 9.812, 10.7, 11.2])\n",
            "print(f\"{np.mean(x):.3} & {np.std(x):.3} & {np.min(x):.3} & {np.max(x):.3}\")\n"
         ]
      }
   ],
   "metadata": {
      "kernelspec": {
         "display_name": "venv",
         "language": "python",
         "name": "python3"
      },
      "language_info": {
         "codemirror_mode": {
            "name": "ipython",
            "version": 3
         },
         "file_extension": ".py",
         "mimetype": "text/x-python",
         "name": "python",
         "nbconvert_exporter": "python",
         "pygments_lexer": "ipython3",
         "version": "3.11.4"
      },
      "orig_nbformat": 4
   },
   "nbformat": 4,
   "nbformat_minor": 2
}
