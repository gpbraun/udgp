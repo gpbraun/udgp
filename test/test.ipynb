{
 "cells": [
  {
   "cell_type": "markdown",
   "metadata": {},
   "source": [
    "# Teste pyomo"
   ]
  },
  {
   "cell_type": "code",
   "execution_count": 1,
   "metadata": {},
   "outputs": [],
   "source": [
    "import numpy as np\n",
    "from udgp import Instance"
   ]
  },
  {
   "cell_type": "code",
   "execution_count": 4,
   "metadata": {},
   "outputs": [
    {
     "data": {
      "application/3dmoljs_load.v0": "<div id=\"3dmolviewer_16914342954921832\"  style=\"position: relative; width: 400px; height: 350px;\">\n        <p id=\"3dmolwarning_16914342954921832\" style=\"background-color:#ffcccc;color:black\">You appear to be running in JupyterLab (or JavaScript failed to load for some other reason).  You need to install the 3dmol extension: <br>\n        <tt>jupyter labextension install jupyterlab_3dmol</tt></p>\n        </div>\n<script>\n\nvar loadScriptAsync = function(uri){\n  return new Promise((resolve, reject) => {\n    //this is to ignore the existence of requirejs amd\n    var savedexports, savedmodule;\n    if (typeof exports !== 'undefined') savedexports = exports;\n    else exports = {}\n    if (typeof module !== 'undefined') savedmodule = module;\n    else module = {}\n\n    var tag = document.createElement('script');\n    tag.src = uri;\n    tag.async = true;\n    tag.onload = () => {\n        exports = savedexports;\n        module = savedmodule;\n        resolve();\n    };\n  var firstScriptTag = document.getElementsByTagName('script')[0];\n  firstScriptTag.parentNode.insertBefore(tag, firstScriptTag);\n});\n};\n\nif(typeof $3Dmolpromise === 'undefined') {\n$3Dmolpromise = null;\n  $3Dmolpromise = loadScriptAsync('https://cdnjs.cloudflare.com/ajax/libs/3Dmol/2.0.3/3Dmol-min.js');\n}\n\nvar viewer_16914342954921832 = null;\nvar warn = document.getElementById(\"3dmolwarning_16914342954921832\");\nif(warn) {\n    warn.parentNode.removeChild(warn);\n}\n$3Dmolpromise.then(function() {\nviewer_16914342954921832 = $3Dmol.createViewer(document.getElementById(\"3dmolviewer_16914342954921832\"),{backgroundColor:\"white\"});\nviewer_16914342954921832.addModel(\"8\\nuDGP instance\\nC    0.2731    1.1470    -0.3320\\nC    -0.4729    -0.6224    0.7664\\nC    -0.9667    -0.2393    -0.1698\\nC    0.6209    -0.3628    0.7094\\nC    0.8035    0.1648    -0.2639\\nC    -0.1784    0.2412    -0.8078\\nC    0.0640    -0.6647    -0.2089\\nC    -0.1436    0.3363    0.3065\");\nviewer_16914342954921832.zoomTo();\n\tviewer_16914342954921832.setBackgroundColor(\"#000000\",0.2);\n\tviewer_16914342954921832.setStyle({\"stick\": {\"radius\": 0.1, \"color\": \"#cbd5e1\"}, \"sphere\": {\"scale\": 0.2, \"color\": \"#60a5fa\"}});\nviewer_16914342954921832.render();\n});\n</script>",
      "text/html": [
       "<div id=\"3dmolviewer_16914342954921832\"  style=\"position: relative; width: 400px; height: 350px;\">\n",
       "        <p id=\"3dmolwarning_16914342954921832\" style=\"background-color:#ffcccc;color:black\">You appear to be running in JupyterLab (or JavaScript failed to load for some other reason).  You need to install the 3dmol extension: <br>\n",
       "        <tt>jupyter labextension install jupyterlab_3dmol</tt></p>\n",
       "        </div>\n",
       "<script>\n",
       "\n",
       "var loadScriptAsync = function(uri){\n",
       "  return new Promise((resolve, reject) => {\n",
       "    //this is to ignore the existence of requirejs amd\n",
       "    var savedexports, savedmodule;\n",
       "    if (typeof exports !== 'undefined') savedexports = exports;\n",
       "    else exports = {}\n",
       "    if (typeof module !== 'undefined') savedmodule = module;\n",
       "    else module = {}\n",
       "\n",
       "    var tag = document.createElement('script');\n",
       "    tag.src = uri;\n",
       "    tag.async = true;\n",
       "    tag.onload = () => {\n",
       "        exports = savedexports;\n",
       "        module = savedmodule;\n",
       "        resolve();\n",
       "    };\n",
       "  var firstScriptTag = document.getElementsByTagName('script')[0];\n",
       "  firstScriptTag.parentNode.insertBefore(tag, firstScriptTag);\n",
       "});\n",
       "};\n",
       "\n",
       "if(typeof $3Dmolpromise === 'undefined') {\n",
       "$3Dmolpromise = null;\n",
       "  $3Dmolpromise = loadScriptAsync('https://cdnjs.cloudflare.com/ajax/libs/3Dmol/2.0.3/3Dmol-min.js');\n",
       "}\n",
       "\n",
       "var viewer_16914342954921832 = null;\n",
       "var warn = document.getElementById(\"3dmolwarning_16914342954921832\");\n",
       "if(warn) {\n",
       "    warn.parentNode.removeChild(warn);\n",
       "}\n",
       "$3Dmolpromise.then(function() {\n",
       "viewer_16914342954921832 = $3Dmol.createViewer(document.getElementById(\"3dmolviewer_16914342954921832\"),{backgroundColor:\"white\"});\n",
       "viewer_16914342954921832.addModel(\"8\\nuDGP instance\\nC    0.2731    1.1470    -0.3320\\nC    -0.4729    -0.6224    0.7664\\nC    -0.9667    -0.2393    -0.1698\\nC    0.6209    -0.3628    0.7094\\nC    0.8035    0.1648    -0.2639\\nC    -0.1784    0.2412    -0.8078\\nC    0.0640    -0.6647    -0.2089\\nC    -0.1436    0.3363    0.3065\");\n",
       "viewer_16914342954921832.zoomTo();\n",
       "\tviewer_16914342954921832.setBackgroundColor(\"#000000\",0.2);\n",
       "\tviewer_16914342954921832.setStyle({\"stick\": {\"radius\": 0.1, \"color\": \"#cbd5e1\"}, \"sphere\": {\"scale\": 0.2, \"color\": \"#60a5fa\"}});\n",
       "viewer_16914342954921832.render();\n",
       "});\n",
       "</script>"
      ]
     },
     "metadata": {},
     "output_type": "display_data"
    },
    {
     "data": {
      "text/plain": [
       "<py3Dmol.view at 0x243f4ee2f10>"
      ]
     },
     "execution_count": 4,
     "metadata": {},
     "output_type": "execute_result"
    }
   ],
   "source": [
    "N = 8\n",
    "# instance = Instance.artificial_molecule(N, freq=True, seed=123456)\n",
    "instance = Instance.lj_cluster(N, freq=True)\n",
    "#instance = Instance.c60(freq=True)\n",
    "instance.view_input()"
   ]
  },
  {
   "cell_type": "code",
   "execution_count": 5,
   "metadata": {},
   "outputs": [
    {
     "name": "stdout",
     "output_type": "stream",
     "text": [
      "=================\n",
      "TENTATIVA 1\n",
      "=================\n",
      "CORE\n",
      "  5 átomos\n",
      "  6 átomos\n",
      "  7 átomos\n",
      "10.19700026512146\n"
     ]
    },
    {
     "data": {
      "application/3dmoljs_load.v0": "<div id=\"3dmolviewer_16914343124904053\"  style=\"position: relative; width: 400px; height: 350px;\">\n        <p id=\"3dmolwarning_16914343124904053\" style=\"background-color:#ffcccc;color:black\">You appear to be running in JupyterLab (or JavaScript failed to load for some other reason).  You need to install the 3dmol extension: <br>\n        <tt>jupyter labextension install jupyterlab_3dmol</tt></p>\n        </div>\n<script>\n\nvar loadScriptAsync = function(uri){\n  return new Promise((resolve, reject) => {\n    //this is to ignore the existence of requirejs amd\n    var savedexports, savedmodule;\n    if (typeof exports !== 'undefined') savedexports = exports;\n    else exports = {}\n    if (typeof module !== 'undefined') savedmodule = module;\n    else module = {}\n\n    var tag = document.createElement('script');\n    tag.src = uri;\n    tag.async = true;\n    tag.onload = () => {\n        exports = savedexports;\n        module = savedmodule;\n        resolve();\n    };\n  var firstScriptTag = document.getElementsByTagName('script')[0];\n  firstScriptTag.parentNode.insertBefore(tag, firstScriptTag);\n});\n};\n\nif(typeof $3Dmolpromise === 'undefined') {\n$3Dmolpromise = null;\n  $3Dmolpromise = loadScriptAsync('https://cdnjs.cloudflare.com/ajax/libs/3Dmol/2.0.3/3Dmol-min.js');\n}\n\nvar viewer_16914343124904053 = null;\nvar warn = document.getElementById(\"3dmolwarning_16914343124904053\");\nif(warn) {\n    warn.parentNode.removeChild(warn);\n}\n$3Dmolpromise.then(function() {\nviewer_16914343124904053 = $3Dmol.createViewer(document.getElementById(\"3dmolviewer_16914343124904053\"),{backgroundColor:\"white\"});\nviewer_16914343124904053.addModel(\"8\\nuDGP instance\\nC    0.0000    0.0000    0.0000\\nC    0.7044    1.3623    -0.9783\\nC    0.7604    0.8123    0.0025\\nC    0.3284    1.8372    -0.0432\\nC    1.4490    1.6606    -0.1962\\nC    1.5642    0.6888    -0.7505\\nC    0.5408    0.2717    -0.9449\\nC    -0.2174    0.9740    -0.4988\");\nviewer_16914343124904053.zoomTo();\n\tviewer_16914343124904053.setBackgroundColor(\"#000000\",0.2);\n\tviewer_16914343124904053.setStyle({\"stick\": {\"radius\": 0.1, \"color\": \"#cbd5e1\"}, \"sphere\": {\"scale\": 0.2, \"color\": \"#60a5fa\"}});\nviewer_16914343124904053.render();\n});\n</script>",
      "text/html": [
       "<div id=\"3dmolviewer_16914343124904053\"  style=\"position: relative; width: 400px; height: 350px;\">\n",
       "        <p id=\"3dmolwarning_16914343124904053\" style=\"background-color:#ffcccc;color:black\">You appear to be running in JupyterLab (or JavaScript failed to load for some other reason).  You need to install the 3dmol extension: <br>\n",
       "        <tt>jupyter labextension install jupyterlab_3dmol</tt></p>\n",
       "        </div>\n",
       "<script>\n",
       "\n",
       "var loadScriptAsync = function(uri){\n",
       "  return new Promise((resolve, reject) => {\n",
       "    //this is to ignore the existence of requirejs amd\n",
       "    var savedexports, savedmodule;\n",
       "    if (typeof exports !== 'undefined') savedexports = exports;\n",
       "    else exports = {}\n",
       "    if (typeof module !== 'undefined') savedmodule = module;\n",
       "    else module = {}\n",
       "\n",
       "    var tag = document.createElement('script');\n",
       "    tag.src = uri;\n",
       "    tag.async = true;\n",
       "    tag.onload = () => {\n",
       "        exports = savedexports;\n",
       "        module = savedmodule;\n",
       "        resolve();\n",
       "    };\n",
       "  var firstScriptTag = document.getElementsByTagName('script')[0];\n",
       "  firstScriptTag.parentNode.insertBefore(tag, firstScriptTag);\n",
       "});\n",
       "};\n",
       "\n",
       "if(typeof $3Dmolpromise === 'undefined') {\n",
       "$3Dmolpromise = null;\n",
       "  $3Dmolpromise = loadScriptAsync('https://cdnjs.cloudflare.com/ajax/libs/3Dmol/2.0.3/3Dmol-min.js');\n",
       "}\n",
       "\n",
       "var viewer_16914343124904053 = null;\n",
       "var warn = document.getElementById(\"3dmolwarning_16914343124904053\");\n",
       "if(warn) {\n",
       "    warn.parentNode.removeChild(warn);\n",
       "}\n",
       "$3Dmolpromise.then(function() {\n",
       "viewer_16914343124904053 = $3Dmol.createViewer(document.getElementById(\"3dmolviewer_16914343124904053\"),{backgroundColor:\"white\"});\n",
       "viewer_16914343124904053.addModel(\"8\\nuDGP instance\\nC    0.0000    0.0000    0.0000\\nC    0.7044    1.3623    -0.9783\\nC    0.7604    0.8123    0.0025\\nC    0.3284    1.8372    -0.0432\\nC    1.4490    1.6606    -0.1962\\nC    1.5642    0.6888    -0.7505\\nC    0.5408    0.2717    -0.9449\\nC    -0.2174    0.9740    -0.4988\");\n",
       "viewer_16914343124904053.zoomTo();\n",
       "\tviewer_16914343124904053.setBackgroundColor(\"#000000\",0.2);\n",
       "\tviewer_16914343124904053.setStyle({\"stick\": {\"radius\": 0.1, \"color\": \"#cbd5e1\"}, \"sphere\": {\"scale\": 0.2, \"color\": \"#60a5fa\"}});\n",
       "viewer_16914343124904053.render();\n",
       "});\n",
       "</script>"
      ]
     },
     "metadata": {},
     "output_type": "display_data"
    },
    {
     "data": {
      "text/plain": [
       "<py3Dmol.view at 0x243b7822310>"
      ]
     },
     "execution_count": 5,
     "metadata": {},
     "output_type": "execute_result"
    }
   ],
   "source": [
    "from IPython.display import clear_output\n",
    "\n",
    "previous_a = []\n",
    "\n",
    "i = 1\n",
    "instance.reset(reset_runtime=True)\n",
    "# while not instance.is_solved():\n",
    "while instance.fixed_n < instance.n:\n",
    "    clear_output(wait=True)\n",
    "    print(\"=================\")\n",
    "    print(f\"TENTATIVA {i}\")\n",
    "    print(\"=================\")\n",
    "    i += 1\n",
    "\n",
    "    instance.reset()\n",
    "\n",
    "    instance.solve_step(\"M2\", nx=4, max_gap=1e-2, previous_a=previous_a)\n",
    "    previous_a.append(instance.a_indices.tolist())\n",
    "\n",
    "    print(\"CORE\")\n",
    "\n",
    "    # instance.reset_with_core(\"mock\")\n",
    "\n",
    "    broken = False\n",
    "    while instance.fixed_n < instance.n and not broken:\n",
    "        print(f\"  {instance.fixed_n} átomos\")\n",
    "\n",
    "        solved = False\n",
    "        tries = 0\n",
    "\n",
    "        solved = instance.solve_step(\"M2\", nx=1, max_gap=1e-2)\n",
    "\n",
    "        if not solved:\n",
    "            broken = True\n",
    "            break\n",
    "\n",
    "print(instance.runtime)\n",
    "\n",
    "instance.view()\n"
   ]
  }
 ],
 "metadata": {
  "kernelspec": {
   "display_name": "venv",
   "language": "python",
   "name": "python3"
  },
  "language_info": {
   "codemirror_mode": {
    "name": "ipython",
    "version": 3
   },
   "file_extension": ".py",
   "mimetype": "text/x-python",
   "name": "python",
   "nbconvert_exporter": "python",
   "pygments_lexer": "ipython3",
   "version": "3.11.4"
  },
  "orig_nbformat": 4
 },
 "nbformat": 4,
 "nbformat_minor": 2
}
