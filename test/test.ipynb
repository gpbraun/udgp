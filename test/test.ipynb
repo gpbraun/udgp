{
   "cells": [
      {
         "cell_type": "markdown",
         "metadata": {},
         "source": [
            "# Tests"
         ]
      },
      {
         "cell_type": "code",
         "execution_count": 7,
         "metadata": {},
         "outputs": [],
         "source": [
            "from udgp import Instance, set_logger\n",
            "\n",
            "set_logger(\"INFO\", log_to_console=False)"
         ]
      },
      {
         "cell_type": "code",
         "execution_count": 8,
         "metadata": {},
         "outputs": [
            {
               "data": {
                  "application/3dmoljs_load.v0": "<div id=\"3dmolviewer_17506464565281787\"  style=\"position: relative; width: 400px; height: 350px;\">\n        <p id=\"3dmolwarning_17506464565281787\" style=\"background-color:#ffcccc;color:black\">3Dmol.js failed to load for some reason.  Please check your browser console for error messages.<br></p>\n        </div>\n<script>\n\nvar loadScriptAsync = function(uri){\n  return new Promise((resolve, reject) => {\n    //this is to ignore the existence of requirejs amd\n    var savedexports, savedmodule;\n    if (typeof exports !== 'undefined') savedexports = exports;\n    else exports = {}\n    if (typeof module !== 'undefined') savedmodule = module;\n    else module = {}\n\n    var tag = document.createElement('script');\n    tag.src = uri;\n    tag.async = true;\n    tag.onload = () => {\n        exports = savedexports;\n        module = savedmodule;\n        resolve();\n    };\n  var firstScriptTag = document.getElementsByTagName('script')[0];\n  firstScriptTag.parentNode.insertBefore(tag, firstScriptTag);\n});\n};\n\nif(typeof $3Dmolpromise === 'undefined') {\n$3Dmolpromise = null;\n  $3Dmolpromise = loadScriptAsync('https://cdn.jsdelivr.net/npm/3dmol@2.5.0/build/3Dmol-min.js');\n}\n\nvar viewer_17506464565281787 = null;\nvar warn = document.getElementById(\"3dmolwarning_17506464565281787\");\nif(warn) {\n    warn.parentNode.removeChild(warn);\n}\n$3Dmolpromise.then(function() {\nviewer_17506464565281787 = $3Dmol.createViewer(document.getElementById(\"3dmolviewer_17506464565281787\"),{backgroundColor:\"white\"});\nviewer_17506464565281787.addModel(\"6\\nuDGP instance\\nC    0.0000    0.0000    0.0000\\nC    -1.5000    0.0000    0.0000\\nC    -2.0000    1.4142    0.0000\\nC    -1.5000    2.1213    -1.2247\\nC    -2.0000    3.5355    -1.2247\\nC    -3.5000    3.5355    -1.2247\",undefined,undefined);\nviewer_17506464565281787.zoomTo();\n\tviewer_17506464565281787.setBackgroundColor(\"#000000\",0.2);\n\tviewer_17506464565281787.setStyle({\"stick\": {\"radius\": 0.1, \"color\": \"#cbd5e1\"}, \"sphere\": {\"scale\": 0.2, \"color\": \"#60a5fa\"}});\nviewer_17506464565281787.render();\n});\n</script>",
                  "text/html": [
                     "<div id=\"3dmolviewer_17506464565281787\"  style=\"position: relative; width: 400px; height: 350px;\">\n",
                     "        <p id=\"3dmolwarning_17506464565281787\" style=\"background-color:#ffcccc;color:black\">3Dmol.js failed to load for some reason.  Please check your browser console for error messages.<br></p>\n",
                     "        </div>\n",
                     "<script>\n",
                     "\n",
                     "var loadScriptAsync = function(uri){\n",
                     "  return new Promise((resolve, reject) => {\n",
                     "    //this is to ignore the existence of requirejs amd\n",
                     "    var savedexports, savedmodule;\n",
                     "    if (typeof exports !== 'undefined') savedexports = exports;\n",
                     "    else exports = {}\n",
                     "    if (typeof module !== 'undefined') savedmodule = module;\n",
                     "    else module = {}\n",
                     "\n",
                     "    var tag = document.createElement('script');\n",
                     "    tag.src = uri;\n",
                     "    tag.async = true;\n",
                     "    tag.onload = () => {\n",
                     "        exports = savedexports;\n",
                     "        module = savedmodule;\n",
                     "        resolve();\n",
                     "    };\n",
                     "  var firstScriptTag = document.getElementsByTagName('script')[0];\n",
                     "  firstScriptTag.parentNode.insertBefore(tag, firstScriptTag);\n",
                     "});\n",
                     "};\n",
                     "\n",
                     "if(typeof $3Dmolpromise === 'undefined') {\n",
                     "$3Dmolpromise = null;\n",
                     "  $3Dmolpromise = loadScriptAsync('https://cdn.jsdelivr.net/npm/3dmol@2.5.0/build/3Dmol-min.js');\n",
                     "}\n",
                     "\n",
                     "var viewer_17506464565281787 = null;\n",
                     "var warn = document.getElementById(\"3dmolwarning_17506464565281787\");\n",
                     "if(warn) {\n",
                     "    warn.parentNode.removeChild(warn);\n",
                     "}\n",
                     "$3Dmolpromise.then(function() {\n",
                     "viewer_17506464565281787 = $3Dmol.createViewer(document.getElementById(\"3dmolviewer_17506464565281787\"),{backgroundColor:\"white\"});\n",
                     "viewer_17506464565281787.addModel(\"6\\nuDGP instance\\nC    0.0000    0.0000    0.0000\\nC    -1.5000    0.0000    0.0000\\nC    -2.0000    1.4142    0.0000\\nC    -1.5000    2.1213    -1.2247\\nC    -2.0000    3.5355    -1.2247\\nC    -3.5000    3.5355    -1.2247\",undefined,undefined);\n",
                     "viewer_17506464565281787.zoomTo();\n",
                     "\tviewer_17506464565281787.setBackgroundColor(\"#000000\",0.2);\n",
                     "\tviewer_17506464565281787.setStyle({\"stick\": {\"radius\": 0.1, \"color\": \"#cbd5e1\"}, \"sphere\": {\"scale\": 0.2, \"color\": \"#60a5fa\"}});\n",
                     "viewer_17506464565281787.render();\n",
                     "});\n",
                     "</script>"
                  ]
               },
               "metadata": {},
               "output_type": "display_data"
            },
            {
               "data": {
                  "text/plain": [
                     "<py3Dmol.view at 0x7b6eb01e4260>"
                  ]
               },
               "execution_count": 8,
               "metadata": {},
               "output_type": "execute_result"
            }
         ],
         "source": [
            "N = 6\n",
            "instance = Instance.artificial_molecule(N, freq=True, seed=123456)\n",
            "instance.view_input()"
         ]
      },
      {
         "cell_type": "code",
         "execution_count": 9,
         "metadata": {},
         "outputs": [
            {
               "name": "stdout",
               "output_type": "stream",
               "text": [
                  "[1.5    1.5    1.5    1.5    1.5    2.4495 2.4495 2.4495 2.4495 2.8723\n",
                  " 2.8723 3.7749 4.2426 4.2426 5.1235]\n",
                  "Set parameter LogToConsole to value 0\n",
                  "distâncias:\n",
                  "[1.50005849 1.51907207 1.5675212  1.58257956 1.60639803 2.35959411\n",
                  " 2.40656551 2.48894569 2.59928061 2.93146876 3.02176457 3.7163814\n",
                  " 4.10485707 4.16556812 5.09186178]\n",
                  "distâncias calculadas:\n",
                  "[1.5001 1.5191 1.5675 1.5826 1.6064 2.3596 2.4066 2.4889 2.5993 2.9315\n",
                  " 3.0218 3.7164 4.1049 4.1656 5.0919]\n",
                  "0.7001701198733216\n"
               ]
            },
            {
               "data": {
                  "application/3dmoljs_load.v0": "<div id=\"3dmolviewer_17506464644637623\"  style=\"position: relative; width: 400px; height: 350px;\">\n        <p id=\"3dmolwarning_17506464644637623\" style=\"background-color:#ffcccc;color:black\">3Dmol.js failed to load for some reason.  Please check your browser console for error messages.<br></p>\n        </div>\n<script>\n\nvar loadScriptAsync = function(uri){\n  return new Promise((resolve, reject) => {\n    //this is to ignore the existence of requirejs amd\n    var savedexports, savedmodule;\n    if (typeof exports !== 'undefined') savedexports = exports;\n    else exports = {}\n    if (typeof module !== 'undefined') savedmodule = module;\n    else module = {}\n\n    var tag = document.createElement('script');\n    tag.src = uri;\n    tag.async = true;\n    tag.onload = () => {\n        exports = savedexports;\n        module = savedmodule;\n        resolve();\n    };\n  var firstScriptTag = document.getElementsByTagName('script')[0];\n  firstScriptTag.parentNode.insertBefore(tag, firstScriptTag);\n});\n};\n\nif(typeof $3Dmolpromise === 'undefined') {\n$3Dmolpromise = null;\n  $3Dmolpromise = loadScriptAsync('https://cdn.jsdelivr.net/npm/3dmol@2.5.0/build/3Dmol-min.js');\n}\n\nvar viewer_17506464644637623 = null;\nvar warn = document.getElementById(\"3dmolwarning_17506464644637623\");\nif(warn) {\n    warn.parentNode.removeChild(warn);\n}\n$3Dmolpromise.then(function() {\nviewer_17506464644637623 = $3Dmol.createViewer(document.getElementById(\"3dmolviewer_17506464644637623\"),{backgroundColor:\"white\"});\nviewer_17506464644637623.addModel(\"6\\nuDGP instance\\nC    0.0000    0.0000    0.0000\\nC    -2.1166    -1.0309    -2.8755\\nC    -3.2254    -0.0487    -2.5385\\nC    -2.9732    -2.2559    -3.4638\\nC    -0.5683    0.4523    -1.4061\\nC    -2.5052    -0.8951    -1.4330\",undefined,undefined);\nviewer_17506464644637623.zoomTo();\n\tviewer_17506464644637623.setBackgroundColor(\"#000000\",0.2);\n\tviewer_17506464644637623.setStyle({\"stick\": {\"radius\": 0.1, \"color\": \"#cbd5e1\"}, \"sphere\": {\"scale\": 0.2, \"color\": \"#60a5fa\"}});\nviewer_17506464644637623.render();\n});\n</script>",
                  "text/html": [
                     "<div id=\"3dmolviewer_17506464644637623\"  style=\"position: relative; width: 400px; height: 350px;\">\n",
                     "        <p id=\"3dmolwarning_17506464644637623\" style=\"background-color:#ffcccc;color:black\">3Dmol.js failed to load for some reason.  Please check your browser console for error messages.<br></p>\n",
                     "        </div>\n",
                     "<script>\n",
                     "\n",
                     "var loadScriptAsync = function(uri){\n",
                     "  return new Promise((resolve, reject) => {\n",
                     "    //this is to ignore the existence of requirejs amd\n",
                     "    var savedexports, savedmodule;\n",
                     "    if (typeof exports !== 'undefined') savedexports = exports;\n",
                     "    else exports = {}\n",
                     "    if (typeof module !== 'undefined') savedmodule = module;\n",
                     "    else module = {}\n",
                     "\n",
                     "    var tag = document.createElement('script');\n",
                     "    tag.src = uri;\n",
                     "    tag.async = true;\n",
                     "    tag.onload = () => {\n",
                     "        exports = savedexports;\n",
                     "        module = savedmodule;\n",
                     "        resolve();\n",
                     "    };\n",
                     "  var firstScriptTag = document.getElementsByTagName('script')[0];\n",
                     "  firstScriptTag.parentNode.insertBefore(tag, firstScriptTag);\n",
                     "});\n",
                     "};\n",
                     "\n",
                     "if(typeof $3Dmolpromise === 'undefined') {\n",
                     "$3Dmolpromise = null;\n",
                     "  $3Dmolpromise = loadScriptAsync('https://cdn.jsdelivr.net/npm/3dmol@2.5.0/build/3Dmol-min.js');\n",
                     "}\n",
                     "\n",
                     "var viewer_17506464644637623 = null;\n",
                     "var warn = document.getElementById(\"3dmolwarning_17506464644637623\");\n",
                     "if(warn) {\n",
                     "    warn.parentNode.removeChild(warn);\n",
                     "}\n",
                     "$3Dmolpromise.then(function() {\n",
                     "viewer_17506464644637623 = $3Dmol.createViewer(document.getElementById(\"3dmolviewer_17506464644637623\"),{backgroundColor:\"white\"});\n",
                     "viewer_17506464644637623.addModel(\"6\\nuDGP instance\\nC    0.0000    0.0000    0.0000\\nC    -2.1166    -1.0309    -2.8755\\nC    -3.2254    -0.0487    -2.5385\\nC    -2.9732    -2.2559    -3.4638\\nC    -0.5683    0.4523    -1.4061\\nC    -2.5052    -0.8951    -1.4330\",undefined,undefined);\n",
                     "viewer_17506464644637623.zoomTo();\n",
                     "\tviewer_17506464644637623.setBackgroundColor(\"#000000\",0.2);\n",
                     "\tviewer_17506464644637623.setStyle({\"stick\": {\"radius\": 0.1, \"color\": \"#cbd5e1\"}, \"sphere\": {\"scale\": 0.2, \"color\": \"#60a5fa\"}});\n",
                     "viewer_17506464644637623.render();\n",
                     "});\n",
                     "</script>"
                  ]
               },
               "metadata": {},
               "output_type": "display_data"
            },
            {
               "data": {
                  "text/plain": [
                     "<py3Dmol.view at 0x7b6eafeb1d30>"
                  ]
               },
               "execution_count": 9,
               "metadata": {},
               "output_type": "execute_result"
            }
         ],
         "source": [
            "instance.reset(reset_runtime=True)\n",
            "instance.solve(\"M3\", backend=\"gurobipy\")\n",
            "print(instance.work)\n",
            "instance.view()\n"
         ]
      }
   ],
   "metadata": {
      "kernelspec": {
         "display_name": "udgp-env",
         "language": "python",
         "name": "python3"
      },
      "language_info": {
         "codemirror_mode": {
            "name": "ipython",
            "version": 3
         },
         "file_extension": ".py",
         "mimetype": "text/x-python",
         "name": "python",
         "nbconvert_exporter": "python",
         "pygments_lexer": "ipython3",
         "version": "3.12.11"
      },
      "orig_nbformat": 4
   },
   "nbformat": 4,
   "nbformat_minor": 2
}
