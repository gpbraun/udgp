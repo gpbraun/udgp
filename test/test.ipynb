{
   "cells": [
      {
         "cell_type": "markdown",
         "metadata": {},
         "source": [
            "# Teste pyomo"
         ]
      },
      {
         "cell_type": "code",
         "execution_count": 1,
         "metadata": {},
         "outputs": [],
         "source": [
            "import numpy as np\n",
            "from udgp import Instance"
         ]
      },
      {
         "cell_type": "code",
         "execution_count": 2,
         "metadata": {},
         "outputs": [
            {
               "data": {
                  "application/3dmoljs_load.v0": "<div id=\"3dmolviewer_17113215427097242\"  style=\"position: relative; width: 400px; height: 350px;\">\n        <p id=\"3dmolwarning_17113215427097242\" style=\"background-color:#ffcccc;color:black\">You appear to be running in JupyterLab (or JavaScript failed to load for some other reason).  You need to install the 3dmol extension: <br>\n        <tt>jupyter labextension install jupyterlab_3dmol</tt></p>\n        </div>\n<script>\n\nvar loadScriptAsync = function(uri){\n  return new Promise((resolve, reject) => {\n    //this is to ignore the existence of requirejs amd\n    var savedexports, savedmodule;\n    if (typeof exports !== 'undefined') savedexports = exports;\n    else exports = {}\n    if (typeof module !== 'undefined') savedmodule = module;\n    else module = {}\n\n    var tag = document.createElement('script');\n    tag.src = uri;\n    tag.async = true;\n    tag.onload = () => {\n        exports = savedexports;\n        module = savedmodule;\n        resolve();\n    };\n  var firstScriptTag = document.getElementsByTagName('script')[0];\n  firstScriptTag.parentNode.insertBefore(tag, firstScriptTag);\n});\n};\n\nif(typeof $3Dmolpromise === 'undefined') {\n$3Dmolpromise = null;\n  $3Dmolpromise = loadScriptAsync('https://cdnjs.cloudflare.com/ajax/libs/3Dmol/2.0.3/3Dmol-min.js');\n}\n\nvar viewer_17113215427097242 = null;\nvar warn = document.getElementById(\"3dmolwarning_17113215427097242\");\nif(warn) {\n    warn.parentNode.removeChild(warn);\n}\n$3Dmolpromise.then(function() {\nviewer_17113215427097242 = $3Dmol.createViewer(document.getElementById(\"3dmolviewer_17113215427097242\"),{backgroundColor:\"white\"});\nviewer_17113215427097242.addModel(\"4\\nuDGP instance\\nC    0.0000    0.0000    0.0000\\nC    -1.5000    0.0000    0.0000\\nC    -2.0000    1.4142    0.0000\\nC    -1.5000    2.1213    -1.2247\");\nviewer_17113215427097242.zoomTo();\n\tviewer_17113215427097242.setBackgroundColor(\"#000000\",0.2);\n\tviewer_17113215427097242.setStyle({\"stick\": {\"radius\": 0.1, \"color\": \"#cbd5e1\"}, \"sphere\": {\"scale\": 0.2, \"color\": \"#60a5fa\"}});\nviewer_17113215427097242.render();\n});\n</script>",
                  "text/html": [
                     "<div id=\"3dmolviewer_17113215427097242\"  style=\"position: relative; width: 400px; height: 350px;\">\n",
                     "        <p id=\"3dmolwarning_17113215427097242\" style=\"background-color:#ffcccc;color:black\">You appear to be running in JupyterLab (or JavaScript failed to load for some other reason).  You need to install the 3dmol extension: <br>\n",
                     "        <tt>jupyter labextension install jupyterlab_3dmol</tt></p>\n",
                     "        </div>\n",
                     "<script>\n",
                     "\n",
                     "var loadScriptAsync = function(uri){\n",
                     "  return new Promise((resolve, reject) => {\n",
                     "    //this is to ignore the existence of requirejs amd\n",
                     "    var savedexports, savedmodule;\n",
                     "    if (typeof exports !== 'undefined') savedexports = exports;\n",
                     "    else exports = {}\n",
                     "    if (typeof module !== 'undefined') savedmodule = module;\n",
                     "    else module = {}\n",
                     "\n",
                     "    var tag = document.createElement('script');\n",
                     "    tag.src = uri;\n",
                     "    tag.async = true;\n",
                     "    tag.onload = () => {\n",
                     "        exports = savedexports;\n",
                     "        module = savedmodule;\n",
                     "        resolve();\n",
                     "    };\n",
                     "  var firstScriptTag = document.getElementsByTagName('script')[0];\n",
                     "  firstScriptTag.parentNode.insertBefore(tag, firstScriptTag);\n",
                     "});\n",
                     "};\n",
                     "\n",
                     "if(typeof $3Dmolpromise === 'undefined') {\n",
                     "$3Dmolpromise = null;\n",
                     "  $3Dmolpromise = loadScriptAsync('https://cdnjs.cloudflare.com/ajax/libs/3Dmol/2.0.3/3Dmol-min.js');\n",
                     "}\n",
                     "\n",
                     "var viewer_17113215427097242 = null;\n",
                     "var warn = document.getElementById(\"3dmolwarning_17113215427097242\");\n",
                     "if(warn) {\n",
                     "    warn.parentNode.removeChild(warn);\n",
                     "}\n",
                     "$3Dmolpromise.then(function() {\n",
                     "viewer_17113215427097242 = $3Dmol.createViewer(document.getElementById(\"3dmolviewer_17113215427097242\"),{backgroundColor:\"white\"});\n",
                     "viewer_17113215427097242.addModel(\"4\\nuDGP instance\\nC    0.0000    0.0000    0.0000\\nC    -1.5000    0.0000    0.0000\\nC    -2.0000    1.4142    0.0000\\nC    -1.5000    2.1213    -1.2247\");\n",
                     "viewer_17113215427097242.zoomTo();\n",
                     "\tviewer_17113215427097242.setBackgroundColor(\"#000000\",0.2);\n",
                     "\tviewer_17113215427097242.setStyle({\"stick\": {\"radius\": 0.1, \"color\": \"#cbd5e1\"}, \"sphere\": {\"scale\": 0.2, \"color\": \"#60a5fa\"}});\n",
                     "viewer_17113215427097242.render();\n",
                     "});\n",
                     "</script>"
                  ]
               },
               "metadata": {},
               "output_type": "display_data"
            },
            {
               "data": {
                  "text/plain": [
                     "<py3Dmol.view at 0x71236432d7d0>"
                  ]
               },
               "execution_count": 2,
               "metadata": {},
               "output_type": "execute_result"
            }
         ],
         "source": [
            "N = 4\n",
            "instance = Instance.artificial_molecule(N, freq=True, seed=123456)\n",
            "instance.view_input()"
         ]
      },
      {
         "cell_type": "code",
         "execution_count": 5,
         "metadata": {},
         "outputs": [
            {
               "name": "stdout",
               "output_type": "stream",
               "text": [
                  "        0.02 seconds required for presolve\n",
                  "Set parameter TimeLimit to value 300\n",
                  "Set parameter NonConvex to value 2\n",
                  "Gurobi Optimizer version 10.0.2 build v10.0.2rc0 (linux64)\n",
                  "\n",
                  "CPU model: Intel(R) Core(TM) i7-10510U CPU @ 1.80GHz, instruction set [SSE2|AVX|AVX2]\n",
                  "Thread count: 4 physical cores, 8 logical processors, using up to 8 threads\n",
                  "\n",
                  "Optimize a model with 171 rows, 105 columns and 441 nonzeros\n",
                  "Model fingerprint: 0x57591a26\n",
                  "Model has 6 quadratic constraints\n",
                  "Variable types: 87 continuous, 18 integer (18 binary)\n",
                  "Coefficient statistics:\n",
                  "  Matrix range     [1e+00, 3e+00]\n",
                  "  QMatrix range    [1e+00, 1e+00]\n",
                  "  Objective range  [1e+00, 1e+00]\n",
                  "  Bounds range     [1e-01, 3e+00]\n",
                  "  RHS range        [1e-01, 6e+00]\n",
                  "Presolve removed 27 rows and 9 columns\n",
                  "Presolve time: 0.00s\n",
                  "Presolved: 222 rows, 120 columns, 573 nonzeros\n",
                  "Presolved model has 24 bilinear constraint(s)\n",
                  "Variable types: 102 continuous, 18 integer (18 binary)\n",
                  "\n",
                  "Root relaxation: objective 1.000000e+00, 105 iterations, 0.00 seconds (0.00 work units)\n",
                  "\n",
                  "    Nodes    |    Current Node    |     Objective Bounds      |     Work\n",
                  " Expl Unexpl |  Obj  Depth IntInf | Incumbent    BestBd   Gap | It/Node Time\n",
                  "\n",
                  "     0     0    1.00000    0   18          -    1.00000      -     -    0s\n",
                  "     0     0    1.00000    0   19          -    1.00000      -     -    0s\n",
                  "     0     0    1.00000    0   15          -    1.00000      -     -    0s\n",
                  "     0     0    1.00000    0   15          -    1.00000      -     -    0s\n",
                  "     0     0    1.00000    0   15          -    1.00000      -     -    0s\n",
                  "     0     2    1.00000    0   15          -    1.00000      -     -    0s\n",
                  "*  268   567              50       1.2001386    1.00000  16.7%  10.1    0s\n",
                  "*  275   567              53       1.2001380    1.00000  16.7%   9.9    0s\n",
                  "H  674   757                       1.2001375    1.00000  16.7%  10.0    0s\n",
                  "*  814   731              65       1.0713902    1.00000  6.66%   8.8    0s\n",
                  "* 1003   695              52       1.0117438    1.00000  1.16%   8.9    0s\n",
                  "* 1005   693              53       1.0116925    1.00000  1.16%   8.9    0s\n",
                  "* 1008   693              54       1.0116904    1.00000  1.16%   8.9    0s\n",
                  "* 1546   683              59       1.0082383    1.00000  0.82%  11.8    0s\n",
                  "* 1639  1000              65       1.0053658    1.00000  0.53%  11.8    0s\n",
                  "* 1739   943              65       1.0046910    1.00000  0.47%  11.9    0s\n",
                  "* 1741   921              64       1.0044751    1.00000  0.45%  11.9    0s\n",
                  "* 2001   813             150       1.0041735    1.00000  0.42%  11.8    0s\n",
                  "* 2284   762              74       1.0015499    1.00000  0.15%  11.8    0s\n",
                  "* 2334   761              57       1.0010003    1.00000  0.10%  11.9    0s\n",
                  "* 2336   761              58       1.0009781    1.00000  0.10%  11.8    0s\n",
                  "* 2794   792              68       1.0002667    1.00000  0.03%  12.2    0s\n",
                  "* 2795   792              68       1.0002645    1.00000  0.03%  12.2    0s\n",
                  "* 2796   791              67       1.0001640    1.00000  0.02%  12.2    0s\n",
                  "* 3325   832              69       1.0000150    1.00000  0.00%  12.4    0s\n",
                  "* 3358   523              65       1.0000000    1.00000  0.00%  12.4    0s\n",
                  "\n",
                  "Cutting planes:\n",
                  "  RLT: 5\n",
                  "\n",
                  "Explored 3873 nodes (48559 simplex iterations) in 0.83 seconds (0.25 work units)\n",
                  "Thread count was 8 (of 8 available processors)\n",
                  "\n",
                  "Solution count 10: 1 1.00001 1.00016 ... 1.00448\n",
                  "\n",
                  "Optimal solution found (tolerance 1.00e-04)\n",
                  "Best objective 1.000000000000e+00, best bound 1.000000000000e+00, gap 0.0000%\n",
                  "        0.88 seconds required for solver\n",
                  "        0.00 seconds required for postsolve\n",
                  "0.873615026473999\n"
               ]
            },
            {
               "data": {
                  "application/3dmoljs_load.v0": "<div id=\"3dmolviewer_171132158024227\"  style=\"position: relative; width: 400px; height: 350px;\">\n        <p id=\"3dmolwarning_171132158024227\" style=\"background-color:#ffcccc;color:black\">You appear to be running in JupyterLab (or JavaScript failed to load for some other reason).  You need to install the 3dmol extension: <br>\n        <tt>jupyter labextension install jupyterlab_3dmol</tt></p>\n        </div>\n<script>\n\nvar loadScriptAsync = function(uri){\n  return new Promise((resolve, reject) => {\n    //this is to ignore the existence of requirejs amd\n    var savedexports, savedmodule;\n    if (typeof exports !== 'undefined') savedexports = exports;\n    else exports = {}\n    if (typeof module !== 'undefined') savedmodule = module;\n    else module = {}\n\n    var tag = document.createElement('script');\n    tag.src = uri;\n    tag.async = true;\n    tag.onload = () => {\n        exports = savedexports;\n        module = savedmodule;\n        resolve();\n    };\n  var firstScriptTag = document.getElementsByTagName('script')[0];\n  firstScriptTag.parentNode.insertBefore(tag, firstScriptTag);\n});\n};\n\nif(typeof $3Dmolpromise === 'undefined') {\n$3Dmolpromise = null;\n  $3Dmolpromise = loadScriptAsync('https://cdnjs.cloudflare.com/ajax/libs/3Dmol/2.0.3/3Dmol-min.js');\n}\n\nvar viewer_171132158024227 = null;\nvar warn = document.getElementById(\"3dmolwarning_171132158024227\");\nif(warn) {\n    warn.parentNode.removeChild(warn);\n}\n$3Dmolpromise.then(function() {\nviewer_171132158024227 = $3Dmol.createViewer(document.getElementById(\"3dmolviewer_171132158024227\"),{backgroundColor:\"white\"});\nviewer_171132158024227.addModel(\"4\\nuDGP instance\\nC    0.0000    0.0000    0.0000\\nC    0.0000    -0.7001    -1.3266\\nC    -0.1013    -2.1645    1.1422\\nC    -1.2331    -0.7114    -0.4726\");\nviewer_171132158024227.zoomTo();\n\tviewer_171132158024227.setBackgroundColor(\"#000000\",0.2);\n\tviewer_171132158024227.setStyle({\"stick\": {\"radius\": 0.1, \"color\": \"#cbd5e1\"}, \"sphere\": {\"scale\": 0.2, \"color\": \"#60a5fa\"}});\nviewer_171132158024227.render();\n});\n</script>",
                  "text/html": [
                     "<div id=\"3dmolviewer_171132158024227\"  style=\"position: relative; width: 400px; height: 350px;\">\n",
                     "        <p id=\"3dmolwarning_171132158024227\" style=\"background-color:#ffcccc;color:black\">You appear to be running in JupyterLab (or JavaScript failed to load for some other reason).  You need to install the 3dmol extension: <br>\n",
                     "        <tt>jupyter labextension install jupyterlab_3dmol</tt></p>\n",
                     "        </div>\n",
                     "<script>\n",
                     "\n",
                     "var loadScriptAsync = function(uri){\n",
                     "  return new Promise((resolve, reject) => {\n",
                     "    //this is to ignore the existence of requirejs amd\n",
                     "    var savedexports, savedmodule;\n",
                     "    if (typeof exports !== 'undefined') savedexports = exports;\n",
                     "    else exports = {}\n",
                     "    if (typeof module !== 'undefined') savedmodule = module;\n",
                     "    else module = {}\n",
                     "\n",
                     "    var tag = document.createElement('script');\n",
                     "    tag.src = uri;\n",
                     "    tag.async = true;\n",
                     "    tag.onload = () => {\n",
                     "        exports = savedexports;\n",
                     "        module = savedmodule;\n",
                     "        resolve();\n",
                     "    };\n",
                     "  var firstScriptTag = document.getElementsByTagName('script')[0];\n",
                     "  firstScriptTag.parentNode.insertBefore(tag, firstScriptTag);\n",
                     "});\n",
                     "};\n",
                     "\n",
                     "if(typeof $3Dmolpromise === 'undefined') {\n",
                     "$3Dmolpromise = null;\n",
                     "  $3Dmolpromise = loadScriptAsync('https://cdnjs.cloudflare.com/ajax/libs/3Dmol/2.0.3/3Dmol-min.js');\n",
                     "}\n",
                     "\n",
                     "var viewer_171132158024227 = null;\n",
                     "var warn = document.getElementById(\"3dmolwarning_171132158024227\");\n",
                     "if(warn) {\n",
                     "    warn.parentNode.removeChild(warn);\n",
                     "}\n",
                     "$3Dmolpromise.then(function() {\n",
                     "viewer_171132158024227 = $3Dmol.createViewer(document.getElementById(\"3dmolviewer_171132158024227\"),{backgroundColor:\"white\"});\n",
                     "viewer_171132158024227.addModel(\"4\\nuDGP instance\\nC    0.0000    0.0000    0.0000\\nC    0.0000    -0.7001    -1.3266\\nC    -0.1013    -2.1645    1.1422\\nC    -1.2331    -0.7114    -0.4726\");\n",
                     "viewer_171132158024227.zoomTo();\n",
                     "\tviewer_171132158024227.setBackgroundColor(\"#000000\",0.2);\n",
                     "\tviewer_171132158024227.setStyle({\"stick\": {\"radius\": 0.1, \"color\": \"#cbd5e1\"}, \"sphere\": {\"scale\": 0.2, \"color\": \"#60a5fa\"}});\n",
                     "viewer_171132158024227.render();\n",
                     "});\n",
                     "</script>"
                  ]
               },
               "metadata": {},
               "output_type": "display_data"
            },
            {
               "data": {
                  "text/plain": [
                     "<py3Dmol.view at 0x7123247d0190>"
                  ]
               },
               "execution_count": 5,
               "metadata": {},
               "output_type": "execute_result"
            }
         ],
         "source": [
            "instance.reset(reset_runtime=True)\n",
            "instance.solve_step(\"M2\", max_gap=1e-1, time_limit=300, log=True)\n",
            "print(instance.runtime)\n",
            "instance.view()\n"
         ]
      },
      {
         "cell_type": "code",
         "execution_count": 67,
         "metadata": {},
         "outputs": [
            {
               "name": "stdout",
               "output_type": "stream",
               "text": [
                  "10.5 & 0.517 & 9.81 & 11.2\n"
               ]
            }
         ],
         "source": [
            "x = np.array([10.239649057388306, 9.812, 10.7, 11.2])\n",
            "print(f\"{np.mean(x):.3} & {np.std(x):.3} & {np.min(x):.3} & {np.max(x):.3}\")\n"
         ]
      }
   ],
   "metadata": {
      "kernelspec": {
         "display_name": "venv",
         "language": "python",
         "name": "python3"
      },
      "language_info": {
         "codemirror_mode": {
            "name": "ipython",
            "version": 3
         },
         "file_extension": ".py",
         "mimetype": "text/x-python",
         "name": "python",
         "nbconvert_exporter": "python",
         "pygments_lexer": "ipython3",
         "version": "3.11.6"
      },
      "orig_nbformat": 4
   },
   "nbformat": 4,
   "nbformat_minor": 2
}
