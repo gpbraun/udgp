{
 "cells": [
  {
   "cell_type": "markdown",
   "metadata": {},
   "source": [
    "# Teste pyomo"
   ]
  },
  {
   "cell_type": "code",
   "execution_count": 1,
   "metadata": {},
   "outputs": [],
   "source": [
    "import numpy as np\n",
    "from udgp import Instance"
   ]
  },
  {
   "cell_type": "code",
   "execution_count": 21,
   "metadata": {},
   "outputs": [
    {
     "data": {
      "application/3dmoljs_load.v0": "<div id=\"3dmolviewer_16913662355033956\"  style=\"position: relative; width: 400px; height: 350px;\">\n        <p id=\"3dmolwarning_16913662355033956\" style=\"background-color:#ffcccc;color:black\">You appear to be running in JupyterLab (or JavaScript failed to load for some other reason).  You need to install the 3dmol extension: <br>\n        <tt>jupyter labextension install jupyterlab_3dmol</tt></p>\n        </div>\n<script>\n\nvar loadScriptAsync = function(uri){\n  return new Promise((resolve, reject) => {\n    //this is to ignore the existence of requirejs amd\n    var savedexports, savedmodule;\n    if (typeof exports !== 'undefined') savedexports = exports;\n    else exports = {}\n    if (typeof module !== 'undefined') savedmodule = module;\n    else module = {}\n\n    var tag = document.createElement('script');\n    tag.src = uri;\n    tag.async = true;\n    tag.onload = () => {\n        exports = savedexports;\n        module = savedmodule;\n        resolve();\n    };\n  var firstScriptTag = document.getElementsByTagName('script')[0];\n  firstScriptTag.parentNode.insertBefore(tag, firstScriptTag);\n});\n};\n\nif(typeof $3Dmolpromise === 'undefined') {\n$3Dmolpromise = null;\n  $3Dmolpromise = loadScriptAsync('https://cdnjs.cloudflare.com/ajax/libs/3Dmol/2.0.3/3Dmol-min.js');\n}\n\nvar viewer_16913662355033956 = null;\nvar warn = document.getElementById(\"3dmolwarning_16913662355033956\");\nif(warn) {\n    warn.parentNode.removeChild(warn);\n}\n$3Dmolpromise.then(function() {\nviewer_16913662355033956 = $3Dmol.createViewer(document.getElementById(\"3dmolviewer_16913662355033956\"),{backgroundColor:\"white\"});\nviewer_16913662355033956.addModel(\"15\\nuDGP instance\\nC    -0.2129    1.1830    -0.9605\\nC    0.4813    1.4577    -0.1049\\nC    -0.5524    -0.8821    0.7313\\nC    0.3387    -1.2205    0.1170\\nC    -0.6371    -0.9455    -0.4032\\nC    0.4902    -0.4995    0.9862\\nC    0.3526    -0.6187    -0.8460\\nC    -0.3945    0.2069    1.0122\\nC    -1.0933    -0.0695    0.1508\\nC    1.0515    -0.3422    0.0153\\nC    -0.5244    0.1112    -0.8219\\nC    0.5919    0.5528    0.5540\\nC    -0.3985    0.8093    0.0636\\nC    0.5273    0.4577    -0.5747\\nC    -0.0204    -0.2005    0.0809\");\nviewer_16913662355033956.zoomTo();\n\tviewer_16913662355033956.setBackgroundColor(\"#000000\",0.2);\n\tviewer_16913662355033956.setStyle({\"stick\": {\"radius\": 0.1, \"color\": \"#cbd5e1\"}, \"sphere\": {\"scale\": 0.2, \"color\": \"#60a5fa\"}});\nviewer_16913662355033956.render();\n});\n</script>",
      "text/html": [
       "<div id=\"3dmolviewer_16913662355033956\"  style=\"position: relative; width: 400px; height: 350px;\">\n",
       "        <p id=\"3dmolwarning_16913662355033956\" style=\"background-color:#ffcccc;color:black\">You appear to be running in JupyterLab (or JavaScript failed to load for some other reason).  You need to install the 3dmol extension: <br>\n",
       "        <tt>jupyter labextension install jupyterlab_3dmol</tt></p>\n",
       "        </div>\n",
       "<script>\n",
       "\n",
       "var loadScriptAsync = function(uri){\n",
       "  return new Promise((resolve, reject) => {\n",
       "    //this is to ignore the existence of requirejs amd\n",
       "    var savedexports, savedmodule;\n",
       "    if (typeof exports !== 'undefined') savedexports = exports;\n",
       "    else exports = {}\n",
       "    if (typeof module !== 'undefined') savedmodule = module;\n",
       "    else module = {}\n",
       "\n",
       "    var tag = document.createElement('script');\n",
       "    tag.src = uri;\n",
       "    tag.async = true;\n",
       "    tag.onload = () => {\n",
       "        exports = savedexports;\n",
       "        module = savedmodule;\n",
       "        resolve();\n",
       "    };\n",
       "  var firstScriptTag = document.getElementsByTagName('script')[0];\n",
       "  firstScriptTag.parentNode.insertBefore(tag, firstScriptTag);\n",
       "});\n",
       "};\n",
       "\n",
       "if(typeof $3Dmolpromise === 'undefined') {\n",
       "$3Dmolpromise = null;\n",
       "  $3Dmolpromise = loadScriptAsync('https://cdnjs.cloudflare.com/ajax/libs/3Dmol/2.0.3/3Dmol-min.js');\n",
       "}\n",
       "\n",
       "var viewer_16913662355033956 = null;\n",
       "var warn = document.getElementById(\"3dmolwarning_16913662355033956\");\n",
       "if(warn) {\n",
       "    warn.parentNode.removeChild(warn);\n",
       "}\n",
       "$3Dmolpromise.then(function() {\n",
       "viewer_16913662355033956 = $3Dmol.createViewer(document.getElementById(\"3dmolviewer_16913662355033956\"),{backgroundColor:\"white\"});\n",
       "viewer_16913662355033956.addModel(\"15\\nuDGP instance\\nC    -0.2129    1.1830    -0.9605\\nC    0.4813    1.4577    -0.1049\\nC    -0.5524    -0.8821    0.7313\\nC    0.3387    -1.2205    0.1170\\nC    -0.6371    -0.9455    -0.4032\\nC    0.4902    -0.4995    0.9862\\nC    0.3526    -0.6187    -0.8460\\nC    -0.3945    0.2069    1.0122\\nC    -1.0933    -0.0695    0.1508\\nC    1.0515    -0.3422    0.0153\\nC    -0.5244    0.1112    -0.8219\\nC    0.5919    0.5528    0.5540\\nC    -0.3985    0.8093    0.0636\\nC    0.5273    0.4577    -0.5747\\nC    -0.0204    -0.2005    0.0809\");\n",
       "viewer_16913662355033956.zoomTo();\n",
       "\tviewer_16913662355033956.setBackgroundColor(\"#000000\",0.2);\n",
       "\tviewer_16913662355033956.setStyle({\"stick\": {\"radius\": 0.1, \"color\": \"#cbd5e1\"}, \"sphere\": {\"scale\": 0.2, \"color\": \"#60a5fa\"}});\n",
       "viewer_16913662355033956.render();\n",
       "});\n",
       "</script>"
      ]
     },
     "metadata": {},
     "output_type": "display_data"
    },
    {
     "data": {
      "text/plain": [
       "<py3Dmol.view at 0x7f33b51c6450>"
      ]
     },
     "execution_count": 21,
     "metadata": {},
     "output_type": "execute_result"
    }
   ],
   "source": [
    "N = 15\n",
    "# instance = Instance.artificial_molecule(N, freq=True, seed=1234567)\n",
    "instance = Instance.lj_cluster(N, freq=True)\n",
    "instance.view_input()"
   ]
  },
  {
   "cell_type": "code",
   "execution_count": 22,
   "metadata": {},
   "outputs": [
    {
     "name": "stdout",
     "output_type": "stream",
     "text": [
      "=================\n",
      "TENTATIVA 19\n",
      "=================\n",
      "CORE\n",
      "  5 átomos\n",
      "  6 átomos\n",
      "  7 átomos\n",
      "  8 átomos\n",
      "  9 átomos\n",
      "  10 átomos\n"
     ]
    }
   ],
   "source": [
    "from IPython.display import clear_output\n",
    "\n",
    "previous_a = []\n",
    "\n",
    "i = 1\n",
    "instance.reset()\n",
    "while not instance.is_solved():\n",
    "    clear_output(wait=True)\n",
    "    print(\"=================\")\n",
    "    print(f\"TENTATIVA {i}\")\n",
    "    print(\"=================\")\n",
    "    i += 1\n",
    "\n",
    "    instance.reset()\n",
    "\n",
    "    instance.solve_step(\"M2gp\", nx=4, max_gap=1e-2, previous_a=previous_a)\n",
    "    previous_a.append(instance.a_indices.tolist())\n",
    "\n",
    "    # instance.reset_with_core(\"mock\")\n",
    "    \n",
    "    print(\"CORE\")\n",
    "\n",
    "    broken = False\n",
    "    while instance.fixed_n < instance.n and not broken:\n",
    "        print(f\"  {instance.fixed_n} átomos\")\n",
    "\n",
    "        solved = False\n",
    "        tries = 0\n",
    "\n",
    "        solved = instance.solve_step(\"M2gp\", nx=1, max_gap=1e-1)\n",
    "\n",
    "        if not solved:\n",
    "            broken = True\n",
    "            break\n",
    "\n",
    "instance.view()\n"
   ]
  }
 ],
 "metadata": {
  "kernelspec": {
   "display_name": "venv",
   "language": "python",
   "name": "python3"
  },
  "language_info": {
   "codemirror_mode": {
    "name": "ipython",
    "version": 3
   },
   "file_extension": ".py",
   "mimetype": "text/x-python",
   "name": "python",
   "nbconvert_exporter": "python",
   "pygments_lexer": "ipython3",
   "version": "3.11.4"
  },
  "orig_nbformat": 4
 },
 "nbformat": 4,
 "nbformat_minor": 2
}
