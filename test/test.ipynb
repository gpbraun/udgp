{
   "cells": [
      {
         "cell_type": "markdown",
         "metadata": {},
         "source": [
            "# Tests"
         ]
      },
      {
         "cell_type": "code",
         "execution_count": 1,
         "metadata": {},
         "outputs": [],
         "source": [
            "import udgp\n",
            "\n",
            "N = 7\n",
            "instance = udgp.Instance.molecule_artificial(N, seed=123456)"
         ]
      },
      {
         "cell_type": "code",
         "execution_count": 2,
         "metadata": {},
         "outputs": [
            {
               "data": {
                  "application/3dmoljs_load.v0": "<div id=\"3dmolviewer_17514792540625427\"  style=\"position: relative; width: 400px; height: 350px;\">\n        <p id=\"3dmolwarning_17514792540625427\" style=\"background-color:#ffcccc;color:black\">3Dmol.js failed to load for some reason.  Please check your browser console for error messages.<br></p>\n        </div>\n<script>\n\nvar loadScriptAsync = function(uri){\n  return new Promise((resolve, reject) => {\n    //this is to ignore the existence of requirejs amd\n    var savedexports, savedmodule;\n    if (typeof exports !== 'undefined') savedexports = exports;\n    else exports = {}\n    if (typeof module !== 'undefined') savedmodule = module;\n    else module = {}\n\n    var tag = document.createElement('script');\n    tag.src = uri;\n    tag.async = true;\n    tag.onload = () => {\n        exports = savedexports;\n        module = savedmodule;\n        resolve();\n    };\n  var firstScriptTag = document.getElementsByTagName('script')[0];\n  firstScriptTag.parentNode.insertBefore(tag, firstScriptTag);\n});\n};\n\nif(typeof $3Dmolpromise === 'undefined') {\n$3Dmolpromise = null;\n  $3Dmolpromise = loadScriptAsync('https://cdn.jsdelivr.net/npm/3dmol@2.5.0/build/3Dmol-min.js');\n}\n\nvar viewer_17514792540625427 = null;\nvar warn = document.getElementById(\"3dmolwarning_17514792540625427\");\nif(warn) {\n    warn.parentNode.removeChild(warn);\n}\n$3Dmolpromise.then(function() {\nviewer_17514792540625427 = $3Dmol.createViewer(document.getElementById(\"3dmolviewer_17514792540625427\"),{backgroundColor:\"white\"});\nviewer_17514792540625427.addModel(\"7\\nuDGP instance\\nC    0.0000    0.0000    0.0000\\nC    -1.5000    0.0000    0.0000\\nC    -2.0000    1.4142    0.0000\\nC    -1.5000    2.1213    -1.2247\\nC    -2.0000    3.5355    -1.2247\\nC    -3.5000    3.5355    -1.2247\\nC    -4.0000    4.9497    -1.2247\",undefined,undefined);\nviewer_17514792540625427.zoomTo();\n\tviewer_17514792540625427.setBackgroundColor(\"#000000\",0.2);\n\tviewer_17514792540625427.setStyle({\"stick\": {\"radius\": 0.1, \"color\": \"#cbd5e1\"}, \"sphere\": {\"scale\": 0.2, \"color\": \"#60a5fa\"}});\nviewer_17514792540625427.render();\n});\n</script>",
                  "text/html": [
                     "<div id=\"3dmolviewer_17514792540625427\"  style=\"position: relative; width: 400px; height: 350px;\">\n",
                     "        <p id=\"3dmolwarning_17514792540625427\" style=\"background-color:#ffcccc;color:black\">3Dmol.js failed to load for some reason.  Please check your browser console for error messages.<br></p>\n",
                     "        </div>\n",
                     "<script>\n",
                     "\n",
                     "var loadScriptAsync = function(uri){\n",
                     "  return new Promise((resolve, reject) => {\n",
                     "    //this is to ignore the existence of requirejs amd\n",
                     "    var savedexports, savedmodule;\n",
                     "    if (typeof exports !== 'undefined') savedexports = exports;\n",
                     "    else exports = {}\n",
                     "    if (typeof module !== 'undefined') savedmodule = module;\n",
                     "    else module = {}\n",
                     "\n",
                     "    var tag = document.createElement('script');\n",
                     "    tag.src = uri;\n",
                     "    tag.async = true;\n",
                     "    tag.onload = () => {\n",
                     "        exports = savedexports;\n",
                     "        module = savedmodule;\n",
                     "        resolve();\n",
                     "    };\n",
                     "  var firstScriptTag = document.getElementsByTagName('script')[0];\n",
                     "  firstScriptTag.parentNode.insertBefore(tag, firstScriptTag);\n",
                     "});\n",
                     "};\n",
                     "\n",
                     "if(typeof $3Dmolpromise === 'undefined') {\n",
                     "$3Dmolpromise = null;\n",
                     "  $3Dmolpromise = loadScriptAsync('https://cdn.jsdelivr.net/npm/3dmol@2.5.0/build/3Dmol-min.js');\n",
                     "}\n",
                     "\n",
                     "var viewer_17514792540625427 = null;\n",
                     "var warn = document.getElementById(\"3dmolwarning_17514792540625427\");\n",
                     "if(warn) {\n",
                     "    warn.parentNode.removeChild(warn);\n",
                     "}\n",
                     "$3Dmolpromise.then(function() {\n",
                     "viewer_17514792540625427 = $3Dmol.createViewer(document.getElementById(\"3dmolviewer_17514792540625427\"),{backgroundColor:\"white\"});\n",
                     "viewer_17514792540625427.addModel(\"7\\nuDGP instance\\nC    0.0000    0.0000    0.0000\\nC    -1.5000    0.0000    0.0000\\nC    -2.0000    1.4142    0.0000\\nC    -1.5000    2.1213    -1.2247\\nC    -2.0000    3.5355    -1.2247\\nC    -3.5000    3.5355    -1.2247\\nC    -4.0000    4.9497    -1.2247\",undefined,undefined);\n",
                     "viewer_17514792540625427.zoomTo();\n",
                     "\tviewer_17514792540625427.setBackgroundColor(\"#000000\",0.2);\n",
                     "\tviewer_17514792540625427.setStyle({\"stick\": {\"radius\": 0.1, \"color\": \"#cbd5e1\"}, \"sphere\": {\"scale\": 0.2, \"color\": \"#60a5fa\"}});\n",
                     "viewer_17514792540625427.render();\n",
                     "});\n",
                     "</script>"
                  ]
               },
               "metadata": {},
               "output_type": "display_data"
            },
            {
               "data": {
                  "text/plain": [
                     "<py3Dmol.view at 0x72b826ac48c0>"
                  ]
               },
               "execution_count": 2,
               "metadata": {},
               "output_type": "execute_result"
            }
         ],
         "source": [
            "instance.view_input()"
         ]
      },
      {
         "cell_type": "code",
         "execution_count": 3,
         "metadata": {},
         "outputs": [
            {
               "name": "stdout",
               "output_type": "stream",
               "text": [
                  "\n",
                  "Interrupt request received\n",
                  "57.180237722846336\n"
               ]
            },
            {
               "data": {
                  "application/3dmoljs_load.v0": "<div id=\"3dmolviewer_17514793371394532\"  style=\"position: relative; width: 400px; height: 350px;\">\n        <p id=\"3dmolwarning_17514793371394532\" style=\"background-color:#ffcccc;color:black\">3Dmol.js failed to load for some reason.  Please check your browser console for error messages.<br></p>\n        </div>\n<script>\n\nvar loadScriptAsync = function(uri){\n  return new Promise((resolve, reject) => {\n    //this is to ignore the existence of requirejs amd\n    var savedexports, savedmodule;\n    if (typeof exports !== 'undefined') savedexports = exports;\n    else exports = {}\n    if (typeof module !== 'undefined') savedmodule = module;\n    else module = {}\n\n    var tag = document.createElement('script');\n    tag.src = uri;\n    tag.async = true;\n    tag.onload = () => {\n        exports = savedexports;\n        module = savedmodule;\n        resolve();\n    };\n  var firstScriptTag = document.getElementsByTagName('script')[0];\n  firstScriptTag.parentNode.insertBefore(tag, firstScriptTag);\n});\n};\n\nif(typeof $3Dmolpromise === 'undefined') {\n$3Dmolpromise = null;\n  $3Dmolpromise = loadScriptAsync('https://cdn.jsdelivr.net/npm/3dmol@2.5.0/build/3Dmol-min.js');\n}\n\nvar viewer_17514793371394532 = null;\nvar warn = document.getElementById(\"3dmolwarning_17514793371394532\");\nif(warn) {\n    warn.parentNode.removeChild(warn);\n}\n$3Dmolpromise.then(function() {\nviewer_17514793371394532 = $3Dmol.createViewer(document.getElementById(\"3dmolviewer_17514793371394532\"),{backgroundColor:\"white\"});\nviewer_17514793371394532.addModel(\"2\\nuDGP instance\\nC    0.0000    0.0000    0.0000\\nC    1.5000    0.0000    0.0000\",undefined,undefined);\nviewer_17514793371394532.zoomTo();\n\tviewer_17514793371394532.setBackgroundColor(\"#000000\",0.2);\n\tviewer_17514793371394532.setStyle({\"stick\": {\"radius\": 0.1, \"color\": \"#cbd5e1\"}, \"sphere\": {\"scale\": 0.2, \"color\": \"#60a5fa\"}});\nviewer_17514793371394532.render();\n});\n</script>",
                  "text/html": [
                     "<div id=\"3dmolviewer_17514793371394532\"  style=\"position: relative; width: 400px; height: 350px;\">\n",
                     "        <p id=\"3dmolwarning_17514793371394532\" style=\"background-color:#ffcccc;color:black\">3Dmol.js failed to load for some reason.  Please check your browser console for error messages.<br></p>\n",
                     "        </div>\n",
                     "<script>\n",
                     "\n",
                     "var loadScriptAsync = function(uri){\n",
                     "  return new Promise((resolve, reject) => {\n",
                     "    //this is to ignore the existence of requirejs amd\n",
                     "    var savedexports, savedmodule;\n",
                     "    if (typeof exports !== 'undefined') savedexports = exports;\n",
                     "    else exports = {}\n",
                     "    if (typeof module !== 'undefined') savedmodule = module;\n",
                     "    else module = {}\n",
                     "\n",
                     "    var tag = document.createElement('script');\n",
                     "    tag.src = uri;\n",
                     "    tag.async = true;\n",
                     "    tag.onload = () => {\n",
                     "        exports = savedexports;\n",
                     "        module = savedmodule;\n",
                     "        resolve();\n",
                     "    };\n",
                     "  var firstScriptTag = document.getElementsByTagName('script')[0];\n",
                     "  firstScriptTag.parentNode.insertBefore(tag, firstScriptTag);\n",
                     "});\n",
                     "};\n",
                     "\n",
                     "if(typeof $3Dmolpromise === 'undefined') {\n",
                     "$3Dmolpromise = null;\n",
                     "  $3Dmolpromise = loadScriptAsync('https://cdn.jsdelivr.net/npm/3dmol@2.5.0/build/3Dmol-min.js');\n",
                     "}\n",
                     "\n",
                     "var viewer_17514793371394532 = null;\n",
                     "var warn = document.getElementById(\"3dmolwarning_17514793371394532\");\n",
                     "if(warn) {\n",
                     "    warn.parentNode.removeChild(warn);\n",
                     "}\n",
                     "$3Dmolpromise.then(function() {\n",
                     "viewer_17514793371394532 = $3Dmol.createViewer(document.getElementById(\"3dmolviewer_17514793371394532\"),{backgroundColor:\"white\"});\n",
                     "viewer_17514793371394532.addModel(\"2\\nuDGP instance\\nC    0.0000    0.0000    0.0000\\nC    1.5000    0.0000    0.0000\",undefined,undefined);\n",
                     "viewer_17514793371394532.zoomTo();\n",
                     "\tviewer_17514793371394532.setBackgroundColor(\"#000000\",0.2);\n",
                     "\tviewer_17514793371394532.setStyle({\"stick\": {\"radius\": 0.1, \"color\": \"#cbd5e1\"}, \"sphere\": {\"scale\": 0.2, \"color\": \"#60a5fa\"}});\n",
                     "viewer_17514793371394532.render();\n",
                     "});\n",
                     "</script>"
                  ]
               },
               "metadata": {},
               "output_type": "display_data"
            },
            {
               "data": {
                  "text/plain": [
                     "<py3Dmol.view at 0x72b8262a3fe0>"
                  ]
               },
               "execution_count": 3,
               "metadata": {},
               "output_type": "execute_result"
            }
         ],
         "source": [
            "solved = instance.solve(\n",
            "    \"M2\",\n",
            "    backend=\"gurobipy\",\n",
            "    model_params={\"Relax\": 0},\n",
            ")\n",
            "\n",
            "print(instance.work)\n",
            "instance.view()"
         ]
      }
   ],
   "metadata": {
      "kernelspec": {
         "display_name": "udgp-env",
         "language": "python",
         "name": "python3"
      },
      "language_info": {
         "codemirror_mode": {
            "name": "ipython",
            "version": 3
         },
         "file_extension": ".py",
         "mimetype": "text/x-python",
         "name": "python",
         "nbconvert_exporter": "python",
         "pygments_lexer": "ipython3",
         "version": "3.12.11"
      },
      "orig_nbformat": 4
   },
   "nbformat": 4,
   "nbformat_minor": 2
}
