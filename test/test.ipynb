{
   "cells": [
      {
         "cell_type": "markdown",
         "metadata": {},
         "source": [
            "# Tests"
         ]
      },
      {
         "cell_type": "code",
         "execution_count": 1,
         "metadata": {},
         "outputs": [],
         "source": [
            "from udgp import Instance"
         ]
      },
      {
         "cell_type": "code",
         "execution_count": 6,
         "metadata": {},
         "outputs": [
            {
               "data": {
                  "application/3dmoljs_load.v0": "<div id=\"3dmolviewer_1750127140855805\"  style=\"position: relative; width: 400px; height: 350px;\">\n        <p id=\"3dmolwarning_1750127140855805\" style=\"background-color:#ffcccc;color:black\">3Dmol.js failed to load for some reason.  Please check your browser console for error messages.<br></p>\n        </div>\n<script>\n\nvar loadScriptAsync = function(uri){\n  return new Promise((resolve, reject) => {\n    //this is to ignore the existence of requirejs amd\n    var savedexports, savedmodule;\n    if (typeof exports !== 'undefined') savedexports = exports;\n    else exports = {}\n    if (typeof module !== 'undefined') savedmodule = module;\n    else module = {}\n\n    var tag = document.createElement('script');\n    tag.src = uri;\n    tag.async = true;\n    tag.onload = () => {\n        exports = savedexports;\n        module = savedmodule;\n        resolve();\n    };\n  var firstScriptTag = document.getElementsByTagName('script')[0];\n  firstScriptTag.parentNode.insertBefore(tag, firstScriptTag);\n});\n};\n\nif(typeof $3Dmolpromise === 'undefined') {\n$3Dmolpromise = null;\n  $3Dmolpromise = loadScriptAsync('https://cdnjs.cloudflare.com/ajax/libs/3Dmol/2.4.2/3Dmol-min.js');\n}\n\nvar viewer_1750127140855805 = null;\nvar warn = document.getElementById(\"3dmolwarning_1750127140855805\");\nif(warn) {\n    warn.parentNode.removeChild(warn);\n}\n$3Dmolpromise.then(function() {\nviewer_1750127140855805 = $3Dmol.createViewer(document.getElementById(\"3dmolviewer_1750127140855805\"),{backgroundColor:\"white\"});\nviewer_1750127140855805.addModel(\"5\\nuDGP instance\\nC    0.0000    0.0000    0.0000\\nC    -1.5000    0.0000    0.0000\\nC    -2.0000    1.4142    0.0000\\nC    -1.5000    2.1213    -1.2247\\nC    -2.0000    3.5355    -1.2247\");\nviewer_1750127140855805.zoomTo();\n\tviewer_1750127140855805.setBackgroundColor(\"#000000\",0.2);\n\tviewer_1750127140855805.setStyle({\"stick\": {\"radius\": 0.1, \"color\": \"#cbd5e1\"}, \"sphere\": {\"scale\": 0.2, \"color\": \"#60a5fa\"}});\nviewer_1750127140855805.render();\n});\n</script>",
                  "text/html": [
                     "<div id=\"3dmolviewer_1750127140855805\"  style=\"position: relative; width: 400px; height: 350px;\">\n",
                     "        <p id=\"3dmolwarning_1750127140855805\" style=\"background-color:#ffcccc;color:black\">3Dmol.js failed to load for some reason.  Please check your browser console for error messages.<br></p>\n",
                     "        </div>\n",
                     "<script>\n",
                     "\n",
                     "var loadScriptAsync = function(uri){\n",
                     "  return new Promise((resolve, reject) => {\n",
                     "    //this is to ignore the existence of requirejs amd\n",
                     "    var savedexports, savedmodule;\n",
                     "    if (typeof exports !== 'undefined') savedexports = exports;\n",
                     "    else exports = {}\n",
                     "    if (typeof module !== 'undefined') savedmodule = module;\n",
                     "    else module = {}\n",
                     "\n",
                     "    var tag = document.createElement('script');\n",
                     "    tag.src = uri;\n",
                     "    tag.async = true;\n",
                     "    tag.onload = () => {\n",
                     "        exports = savedexports;\n",
                     "        module = savedmodule;\n",
                     "        resolve();\n",
                     "    };\n",
                     "  var firstScriptTag = document.getElementsByTagName('script')[0];\n",
                     "  firstScriptTag.parentNode.insertBefore(tag, firstScriptTag);\n",
                     "});\n",
                     "};\n",
                     "\n",
                     "if(typeof $3Dmolpromise === 'undefined') {\n",
                     "$3Dmolpromise = null;\n",
                     "  $3Dmolpromise = loadScriptAsync('https://cdnjs.cloudflare.com/ajax/libs/3Dmol/2.4.2/3Dmol-min.js');\n",
                     "}\n",
                     "\n",
                     "var viewer_1750127140855805 = null;\n",
                     "var warn = document.getElementById(\"3dmolwarning_1750127140855805\");\n",
                     "if(warn) {\n",
                     "    warn.parentNode.removeChild(warn);\n",
                     "}\n",
                     "$3Dmolpromise.then(function() {\n",
                     "viewer_1750127140855805 = $3Dmol.createViewer(document.getElementById(\"3dmolviewer_1750127140855805\"),{backgroundColor:\"white\"});\n",
                     "viewer_1750127140855805.addModel(\"5\\nuDGP instance\\nC    0.0000    0.0000    0.0000\\nC    -1.5000    0.0000    0.0000\\nC    -2.0000    1.4142    0.0000\\nC    -1.5000    2.1213    -1.2247\\nC    -2.0000    3.5355    -1.2247\");\n",
                     "viewer_1750127140855805.zoomTo();\n",
                     "\tviewer_1750127140855805.setBackgroundColor(\"#000000\",0.2);\n",
                     "\tviewer_1750127140855805.setStyle({\"stick\": {\"radius\": 0.1, \"color\": \"#cbd5e1\"}, \"sphere\": {\"scale\": 0.2, \"color\": \"#60a5fa\"}});\n",
                     "viewer_1750127140855805.render();\n",
                     "});\n",
                     "</script>"
                  ]
               },
               "metadata": {},
               "output_type": "display_data"
            },
            {
               "data": {
                  "text/plain": [
                     "<py3Dmol.view at 0x7112bd973690>"
                  ]
               },
               "execution_count": 6,
               "metadata": {},
               "output_type": "execute_result"
            }
         ],
         "source": [
            "N = 5\n",
            "instance = Instance.artificial_molecule(N, freq=True, seed=123456)\n",
            "instance.view_input()"
         ]
      },
      {
         "cell_type": "code",
         "execution_count": 7,
         "metadata": {},
         "outputs": [
            {
               "name": "stdout",
               "output_type": "stream",
               "text": [
                  "Set parameter LogToConsole to value 1\n",
                  "Set parameter NonConvex to value 2\n",
                  "Set parameter MIPGap to value 0.01\n",
                  "Set parameter Heuristics to value 0.5\n",
                  "Set parameter Cuts to value 1\n",
                  "Set parameter Presolve to value 2\n",
                  "Set parameter ScaleFlag to value 2\n",
                  "Set parameter NumericFocus to value 1\n",
                  "Gurobi Optimizer version 12.0.1 build v12.0.1rc0 (linux64 - \"Ubuntu 24.04.2 LTS\")\n",
                  "\n",
                  "CPU model: Intel(R) Core(TM) i7-10510U CPU @ 1.80GHz, instruction set [SSE2|AVX|AVX2]\n",
                  "Thread count: 4 physical cores, 8 logical processors, using up to 8 threads\n",
                  "\n",
                  "Non-default parameters:\n",
                  "MIPGap  0.01\n",
                  "ScaleFlag  2\n",
                  "Heuristics  0.5\n",
                  "Cuts  1\n",
                  "NonConvex  2\n",
                  "NumericFocus  1\n",
                  "Presolve  2\n",
                  "\n",
                  "Academic license 2372514 - for non-commercial use only - registered to br___@cos.ufrj.br\n",
                  "Optimize a model with 445 rows, 252 columns and 1178 nonzeros\n",
                  "Model fingerprint: 0x85a68be3\n",
                  "Model has 10 quadratic constraints\n",
                  "Variable types: 202 continuous, 50 integer (50 binary)\n",
                  "Coefficient statistics:\n",
                  "  Matrix range     [1e+00, 4e+00]\n",
                  "  QMatrix range    [1e+00, 1e+00]\n",
                  "  Objective range  [1e+00, 1e+00]\n",
                  "  Bounds range     [1e+00, 4e+00]\n",
                  "  RHS range        [5e-01, 8e+00]\n",
                  "Presolve removed 102 rows and 22 columns\n",
                  "Presolve time: 0.00s\n",
                  "Presolved: 473 rows, 271 columns, 1164 nonzeros\n",
                  "Presolved model has 40 bilinear constraint(s)\n",
                  "\n",
                  "Solving non-convex MIQCP\n",
                  "\n",
                  "Variable types: 221 continuous, 50 integer (50 binary)\n",
                  "Root relaxation presolve removed 58 rows and 29 columns\n",
                  "Root relaxation presolved: 415 rows, 242 columns, 1106 nonzeros\n",
                  "\n",
                  "\n",
                  "Root relaxation: objective 1.000000e+00, 118 iterations, 0.00 seconds (0.00 work units)\n",
                  "\n",
                  "    Nodes    |    Current Node    |     Objective Bounds      |     Work\n",
                  " Expl Unexpl |  Obj  Depth IntInf | Incumbent    BestBd   Gap | It/Node Time\n",
                  "\n",
                  "     0     0    1.00000    0   31          -    1.00000      -     -    0s\n",
                  "     0     0    1.00000    0   28          -    1.00000      -     -    0s\n",
                  "     0     0    1.00000    0   27          -    1.00000      -     -    0s\n",
                  "     0     0    1.00000    0   27          -    1.00000      -     -    0s\n",
                  "     0     0    1.00000    0   27          -    1.00000      -     -    0s\n",
                  "H    0     0                     119.3930000    1.00000  99.2%     -    0s\n",
                  "H    0     0                       2.0819196    1.00000  52.0%     -    0s\n",
                  "     0     2    1.00000    0   27    2.08192    1.00000  52.0%     -    0s\n",
                  "* 1127   782             126       1.1807567    1.00000  15.3%  12.1    0s\n",
                  "* 2347  1537             102       1.1432294    1.00000  12.5%  19.3    1s\n",
                  "* 2349  1499             103       1.1430085    1.00000  12.5%  19.2    1s\n",
                  "H 3927  1399                       1.0011815    1.00000  0.12%  32.4    3s\n",
                  "\n",
                  "Cutting planes:\n",
                  "  RLT: 6\n",
                  "\n",
                  "Explored 3928 nodes (127619 simplex iterations) in 3.16 seconds (1.95 work units)\n",
                  "Thread count was 8 (of 8 available processors)\n",
                  "\n",
                  "Solution count 6: 1.00118 1.14301 1.14323 ... 119.393\n",
                  "\n",
                  "Optimal solution found (tolerance 1.00e-02)\n",
                  "Best objective 1.001181465015e+00, best bound 1.000000000000e+00, gap 0.1180%\n",
                  "3.16464900970459\n"
               ]
            },
            {
               "data": {
                  "application/3dmoljs_load.v0": "<div id=\"3dmolviewer_17501271459613073\"  style=\"position: relative; width: 400px; height: 350px;\">\n        <p id=\"3dmolwarning_17501271459613073\" style=\"background-color:#ffcccc;color:black\">3Dmol.js failed to load for some reason.  Please check your browser console for error messages.<br></p>\n        </div>\n<script>\n\nvar loadScriptAsync = function(uri){\n  return new Promise((resolve, reject) => {\n    //this is to ignore the existence of requirejs amd\n    var savedexports, savedmodule;\n    if (typeof exports !== 'undefined') savedexports = exports;\n    else exports = {}\n    if (typeof module !== 'undefined') savedmodule = module;\n    else module = {}\n\n    var tag = document.createElement('script');\n    tag.src = uri;\n    tag.async = true;\n    tag.onload = () => {\n        exports = savedexports;\n        module = savedmodule;\n        resolve();\n    };\n  var firstScriptTag = document.getElementsByTagName('script')[0];\n  firstScriptTag.parentNode.insertBefore(tag, firstScriptTag);\n});\n};\n\nif(typeof $3Dmolpromise === 'undefined') {\n$3Dmolpromise = null;\n  $3Dmolpromise = loadScriptAsync('https://cdnjs.cloudflare.com/ajax/libs/3Dmol/2.4.2/3Dmol-min.js');\n}\n\nvar viewer_17501271459613073 = null;\nvar warn = document.getElementById(\"3dmolwarning_17501271459613073\");\nif(warn) {\n    warn.parentNode.removeChild(warn);\n}\n$3Dmolpromise.then(function() {\nviewer_17501271459613073 = $3Dmol.createViewer(document.getElementById(\"3dmolviewer_17501271459613073\"),{backgroundColor:\"white\"});\nviewer_17501271459613073.addModel(\"5\\nuDGP instance\\nC    0.0000    0.0000    0.0000\\nC    0.7077    1.2251    3.4997\\nC    0.7067    1.2251    1.9997\\nC    -0.7075    1.2251    3.9998\\nC    0.0000    0.0000    1.5000\");\nviewer_17501271459613073.zoomTo();\n\tviewer_17501271459613073.setBackgroundColor(\"#000000\",0.2);\n\tviewer_17501271459613073.setStyle({\"stick\": {\"radius\": 0.1, \"color\": \"#cbd5e1\"}, \"sphere\": {\"scale\": 0.2, \"color\": \"#60a5fa\"}});\nviewer_17501271459613073.render();\n});\n</script>",
                  "text/html": [
                     "<div id=\"3dmolviewer_17501271459613073\"  style=\"position: relative; width: 400px; height: 350px;\">\n",
                     "        <p id=\"3dmolwarning_17501271459613073\" style=\"background-color:#ffcccc;color:black\">3Dmol.js failed to load for some reason.  Please check your browser console for error messages.<br></p>\n",
                     "        </div>\n",
                     "<script>\n",
                     "\n",
                     "var loadScriptAsync = function(uri){\n",
                     "  return new Promise((resolve, reject) => {\n",
                     "    //this is to ignore the existence of requirejs amd\n",
                     "    var savedexports, savedmodule;\n",
                     "    if (typeof exports !== 'undefined') savedexports = exports;\n",
                     "    else exports = {}\n",
                     "    if (typeof module !== 'undefined') savedmodule = module;\n",
                     "    else module = {}\n",
                     "\n",
                     "    var tag = document.createElement('script');\n",
                     "    tag.src = uri;\n",
                     "    tag.async = true;\n",
                     "    tag.onload = () => {\n",
                     "        exports = savedexports;\n",
                     "        module = savedmodule;\n",
                     "        resolve();\n",
                     "    };\n",
                     "  var firstScriptTag = document.getElementsByTagName('script')[0];\n",
                     "  firstScriptTag.parentNode.insertBefore(tag, firstScriptTag);\n",
                     "});\n",
                     "};\n",
                     "\n",
                     "if(typeof $3Dmolpromise === 'undefined') {\n",
                     "$3Dmolpromise = null;\n",
                     "  $3Dmolpromise = loadScriptAsync('https://cdnjs.cloudflare.com/ajax/libs/3Dmol/2.4.2/3Dmol-min.js');\n",
                     "}\n",
                     "\n",
                     "var viewer_17501271459613073 = null;\n",
                     "var warn = document.getElementById(\"3dmolwarning_17501271459613073\");\n",
                     "if(warn) {\n",
                     "    warn.parentNode.removeChild(warn);\n",
                     "}\n",
                     "$3Dmolpromise.then(function() {\n",
                     "viewer_17501271459613073 = $3Dmol.createViewer(document.getElementById(\"3dmolviewer_17501271459613073\"),{backgroundColor:\"white\"});\n",
                     "viewer_17501271459613073.addModel(\"5\\nuDGP instance\\nC    0.0000    0.0000    0.0000\\nC    0.7077    1.2251    3.4997\\nC    0.7067    1.2251    1.9997\\nC    -0.7075    1.2251    3.9998\\nC    0.0000    0.0000    1.5000\");\n",
                     "viewer_17501271459613073.zoomTo();\n",
                     "\tviewer_17501271459613073.setBackgroundColor(\"#000000\",0.2);\n",
                     "\tviewer_17501271459613073.setStyle({\"stick\": {\"radius\": 0.1, \"color\": \"#cbd5e1\"}, \"sphere\": {\"scale\": 0.2, \"color\": \"#60a5fa\"}});\n",
                     "viewer_17501271459613073.render();\n",
                     "});\n",
                     "</script>"
                  ]
               },
               "metadata": {},
               "output_type": "display_data"
            },
            {
               "data": {
                  "text/plain": [
                     "<py3Dmol.view at 0x7112bda1be90>"
                  ]
               },
               "execution_count": 7,
               "metadata": {},
               "output_type": "execute_result"
            }
         ],
         "source": [
            "instance.reset(reset_runtime=True)\n",
            "instance.solve(\"M2\", log=True, backend=\"gurobipy\")\n",
            "print(instance.runtime)\n",
            "instance.view()\n"
         ]
      }
   ],
   "metadata": {
      "kernelspec": {
         "display_name": "udgp-env",
         "language": "python",
         "name": "python3"
      },
      "language_info": {
         "codemirror_mode": {
            "name": "ipython",
            "version": 3
         },
         "file_extension": ".py",
         "mimetype": "text/x-python",
         "name": "python",
         "nbconvert_exporter": "python",
         "pygments_lexer": "ipython3",
         "version": "3.11.11"
      },
      "orig_nbformat": 4
   },
   "nbformat": 4,
   "nbformat_minor": 2
}
