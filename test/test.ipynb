{
   "cells": [
      {
         "cell_type": "markdown",
         "metadata": {},
         "source": [
            "# Tests"
         ]
      },
      {
         "cell_type": "code",
         "execution_count": 1,
         "metadata": {},
         "outputs": [],
         "source": [
            "from udgp import Instance, set_logger\n",
            "\n",
            "set_logger(\"INFO\", log_to_console=False)"
         ]
      },
      {
         "cell_type": "code",
         "execution_count": 2,
         "metadata": {},
         "outputs": [
            {
               "data": {
                  "application/3dmoljs_load.v0": "<div id=\"3dmolviewer_17508958738331375\"  style=\"position: relative; width: 400px; height: 350px;\">\n        <p id=\"3dmolwarning_17508958738331375\" style=\"background-color:#ffcccc;color:black\">3Dmol.js failed to load for some reason.  Please check your browser console for error messages.<br></p>\n        </div>\n<script>\n\nvar loadScriptAsync = function(uri){\n  return new Promise((resolve, reject) => {\n    //this is to ignore the existence of requirejs amd\n    var savedexports, savedmodule;\n    if (typeof exports !== 'undefined') savedexports = exports;\n    else exports = {}\n    if (typeof module !== 'undefined') savedmodule = module;\n    else module = {}\n\n    var tag = document.createElement('script');\n    tag.src = uri;\n    tag.async = true;\n    tag.onload = () => {\n        exports = savedexports;\n        module = savedmodule;\n        resolve();\n    };\n  var firstScriptTag = document.getElementsByTagName('script')[0];\n  firstScriptTag.parentNode.insertBefore(tag, firstScriptTag);\n});\n};\n\nif(typeof $3Dmolpromise === 'undefined') {\n$3Dmolpromise = null;\n  $3Dmolpromise = loadScriptAsync('https://cdn.jsdelivr.net/npm/3dmol@2.5.0/build/3Dmol-min.js');\n}\n\nvar viewer_17508958738331375 = null;\nvar warn = document.getElementById(\"3dmolwarning_17508958738331375\");\nif(warn) {\n    warn.parentNode.removeChild(warn);\n}\n$3Dmolpromise.then(function() {\nviewer_17508958738331375 = $3Dmol.createViewer(document.getElementById(\"3dmolviewer_17508958738331375\"),{backgroundColor:\"white\"});\nviewer_17508958738331375.addModel(\"5\\nuDGP instance\\nC    0.0000    0.0000    0.0000\\nC    -1.5000    0.0000    0.0000\\nC    -2.0000    1.4142    0.0000\\nC    -1.5000    2.1213    -1.2247\\nC    -2.0000    3.5355    -1.2247\",undefined,undefined);\nviewer_17508958738331375.zoomTo();\n\tviewer_17508958738331375.setBackgroundColor(\"#000000\",0.2);\n\tviewer_17508958738331375.setStyle({\"stick\": {\"radius\": 0.1, \"color\": \"#cbd5e1\"}, \"sphere\": {\"scale\": 0.2, \"color\": \"#60a5fa\"}});\nviewer_17508958738331375.render();\n});\n</script>",
                  "text/html": [
                     "<div id=\"3dmolviewer_17508958738331375\"  style=\"position: relative; width: 400px; height: 350px;\">\n",
                     "        <p id=\"3dmolwarning_17508958738331375\" style=\"background-color:#ffcccc;color:black\">3Dmol.js failed to load for some reason.  Please check your browser console for error messages.<br></p>\n",
                     "        </div>\n",
                     "<script>\n",
                     "\n",
                     "var loadScriptAsync = function(uri){\n",
                     "  return new Promise((resolve, reject) => {\n",
                     "    //this is to ignore the existence of requirejs amd\n",
                     "    var savedexports, savedmodule;\n",
                     "    if (typeof exports !== 'undefined') savedexports = exports;\n",
                     "    else exports = {}\n",
                     "    if (typeof module !== 'undefined') savedmodule = module;\n",
                     "    else module = {}\n",
                     "\n",
                     "    var tag = document.createElement('script');\n",
                     "    tag.src = uri;\n",
                     "    tag.async = true;\n",
                     "    tag.onload = () => {\n",
                     "        exports = savedexports;\n",
                     "        module = savedmodule;\n",
                     "        resolve();\n",
                     "    };\n",
                     "  var firstScriptTag = document.getElementsByTagName('script')[0];\n",
                     "  firstScriptTag.parentNode.insertBefore(tag, firstScriptTag);\n",
                     "});\n",
                     "};\n",
                     "\n",
                     "if(typeof $3Dmolpromise === 'undefined') {\n",
                     "$3Dmolpromise = null;\n",
                     "  $3Dmolpromise = loadScriptAsync('https://cdn.jsdelivr.net/npm/3dmol@2.5.0/build/3Dmol-min.js');\n",
                     "}\n",
                     "\n",
                     "var viewer_17508958738331375 = null;\n",
                     "var warn = document.getElementById(\"3dmolwarning_17508958738331375\");\n",
                     "if(warn) {\n",
                     "    warn.parentNode.removeChild(warn);\n",
                     "}\n",
                     "$3Dmolpromise.then(function() {\n",
                     "viewer_17508958738331375 = $3Dmol.createViewer(document.getElementById(\"3dmolviewer_17508958738331375\"),{backgroundColor:\"white\"});\n",
                     "viewer_17508958738331375.addModel(\"5\\nuDGP instance\\nC    0.0000    0.0000    0.0000\\nC    -1.5000    0.0000    0.0000\\nC    -2.0000    1.4142    0.0000\\nC    -1.5000    2.1213    -1.2247\\nC    -2.0000    3.5355    -1.2247\",undefined,undefined);\n",
                     "viewer_17508958738331375.zoomTo();\n",
                     "\tviewer_17508958738331375.setBackgroundColor(\"#000000\",0.2);\n",
                     "\tviewer_17508958738331375.setStyle({\"stick\": {\"radius\": 0.1, \"color\": \"#cbd5e1\"}, \"sphere\": {\"scale\": 0.2, \"color\": \"#60a5fa\"}});\n",
                     "viewer_17508958738331375.render();\n",
                     "});\n",
                     "</script>"
                  ]
               },
               "metadata": {},
               "output_type": "display_data"
            },
            {
               "data": {
                  "text/plain": [
                     "<py3Dmol.view at 0x76f311254380>"
                  ]
               },
               "execution_count": 2,
               "metadata": {},
               "output_type": "execute_result"
            }
         ],
         "source": [
            "N = 5\n",
            "instance = Instance.molecule_artificial(N, freq=True, seed=123456)\n",
            "instance.view_input()"
         ]
      },
      {
         "cell_type": "code",
         "execution_count": 5,
         "metadata": {},
         "outputs": [
            {
               "name": "stdout",
               "output_type": "stream",
               "text": [
                  "1.6047883145626916\n"
               ]
            },
            {
               "data": {
                  "application/3dmoljs_load.v0": "<div id=\"3dmolviewer_17508959923622644\"  style=\"position: relative; width: 400px; height: 350px;\">\n        <p id=\"3dmolwarning_17508959923622644\" style=\"background-color:#ffcccc;color:black\">3Dmol.js failed to load for some reason.  Please check your browser console for error messages.<br></p>\n        </div>\n<script>\n\nvar loadScriptAsync = function(uri){\n  return new Promise((resolve, reject) => {\n    //this is to ignore the existence of requirejs amd\n    var savedexports, savedmodule;\n    if (typeof exports !== 'undefined') savedexports = exports;\n    else exports = {}\n    if (typeof module !== 'undefined') savedmodule = module;\n    else module = {}\n\n    var tag = document.createElement('script');\n    tag.src = uri;\n    tag.async = true;\n    tag.onload = () => {\n        exports = savedexports;\n        module = savedmodule;\n        resolve();\n    };\n  var firstScriptTag = document.getElementsByTagName('script')[0];\n  firstScriptTag.parentNode.insertBefore(tag, firstScriptTag);\n});\n};\n\nif(typeof $3Dmolpromise === 'undefined') {\n$3Dmolpromise = null;\n  $3Dmolpromise = loadScriptAsync('https://cdn.jsdelivr.net/npm/3dmol@2.5.0/build/3Dmol-min.js');\n}\n\nvar viewer_17508959923622644 = null;\nvar warn = document.getElementById(\"3dmolwarning_17508959923622644\");\nif(warn) {\n    warn.parentNode.removeChild(warn);\n}\n$3Dmolpromise.then(function() {\nviewer_17508959923622644 = $3Dmol.createViewer(document.getElementById(\"3dmolviewer_17508959923622644\"),{backgroundColor:\"white\"});\nviewer_17508959923622644.addModel(\"5\\nuDGP instance\\nC    0.0000    0.0000    0.0000\\nC    0.5002    -0.0000    -1.4142\\nC    0.5001    -1.2248    -3.5355\\nC    0.0002    -1.2248    -2.1213\\nC    0.0002    0.0000    -4.2426\",undefined,undefined);\nviewer_17508959923622644.zoomTo();\n\tviewer_17508959923622644.setBackgroundColor(\"#000000\",0.2);\n\tviewer_17508959923622644.setStyle({\"stick\": {\"radius\": 0.1, \"color\": \"#cbd5e1\"}, \"sphere\": {\"scale\": 0.2, \"color\": \"#60a5fa\"}});\nviewer_17508959923622644.render();\n});\n</script>",
                  "text/html": [
                     "<div id=\"3dmolviewer_17508959923622644\"  style=\"position: relative; width: 400px; height: 350px;\">\n",
                     "        <p id=\"3dmolwarning_17508959923622644\" style=\"background-color:#ffcccc;color:black\">3Dmol.js failed to load for some reason.  Please check your browser console for error messages.<br></p>\n",
                     "        </div>\n",
                     "<script>\n",
                     "\n",
                     "var loadScriptAsync = function(uri){\n",
                     "  return new Promise((resolve, reject) => {\n",
                     "    //this is to ignore the existence of requirejs amd\n",
                     "    var savedexports, savedmodule;\n",
                     "    if (typeof exports !== 'undefined') savedexports = exports;\n",
                     "    else exports = {}\n",
                     "    if (typeof module !== 'undefined') savedmodule = module;\n",
                     "    else module = {}\n",
                     "\n",
                     "    var tag = document.createElement('script');\n",
                     "    tag.src = uri;\n",
                     "    tag.async = true;\n",
                     "    tag.onload = () => {\n",
                     "        exports = savedexports;\n",
                     "        module = savedmodule;\n",
                     "        resolve();\n",
                     "    };\n",
                     "  var firstScriptTag = document.getElementsByTagName('script')[0];\n",
                     "  firstScriptTag.parentNode.insertBefore(tag, firstScriptTag);\n",
                     "});\n",
                     "};\n",
                     "\n",
                     "if(typeof $3Dmolpromise === 'undefined') {\n",
                     "$3Dmolpromise = null;\n",
                     "  $3Dmolpromise = loadScriptAsync('https://cdn.jsdelivr.net/npm/3dmol@2.5.0/build/3Dmol-min.js');\n",
                     "}\n",
                     "\n",
                     "var viewer_17508959923622644 = null;\n",
                     "var warn = document.getElementById(\"3dmolwarning_17508959923622644\");\n",
                     "if(warn) {\n",
                     "    warn.parentNode.removeChild(warn);\n",
                     "}\n",
                     "$3Dmolpromise.then(function() {\n",
                     "viewer_17508959923622644 = $3Dmol.createViewer(document.getElementById(\"3dmolviewer_17508959923622644\"),{backgroundColor:\"white\"});\n",
                     "viewer_17508959923622644.addModel(\"5\\nuDGP instance\\nC    0.0000    0.0000    0.0000\\nC    0.5002    -0.0000    -1.4142\\nC    0.5001    -1.2248    -3.5355\\nC    0.0002    -1.2248    -2.1213\\nC    0.0002    0.0000    -4.2426\",undefined,undefined);\n",
                     "viewer_17508959923622644.zoomTo();\n",
                     "\tviewer_17508959923622644.setBackgroundColor(\"#000000\",0.2);\n",
                     "\tviewer_17508959923622644.setStyle({\"stick\": {\"radius\": 0.1, \"color\": \"#cbd5e1\"}, \"sphere\": {\"scale\": 0.2, \"color\": \"#60a5fa\"}});\n",
                     "viewer_17508959923622644.render();\n",
                     "});\n",
                     "</script>"
                  ]
               },
               "metadata": {},
               "output_type": "display_data"
            },
            {
               "data": {
                  "text/plain": [
                     "<py3Dmol.view at 0x76f310ca0410>"
                  ]
               },
               "execution_count": 5,
               "metadata": {},
               "output_type": "execute_result"
            }
         ],
         "source": [
            "instance.reset(reset_runtime=True)\n",
            "instance.solve(\n",
            "    \"M2\",\n",
            "    backend=\"gurobipy\",\n",
            "    model_params={\"Relax\": 0},\n",
            ")\n",
            "print(instance.work)\n",
            "instance.view()"
         ]
      },
      {
         "cell_type": "code",
         "execution_count": 4,
         "metadata": {},
         "outputs": [
            {
               "name": "stdout",
               "output_type": "stream",
               "text": [
                  "[1.5    1.5    1.5    1.5    2.4495 2.4495 2.4495 2.8723 3.7749 4.2426]\n",
                  "[1.5    1.5    1.5    1.5    1.6298 2.052  2.1751 2.2596 2.7897 3.4824]\n"
               ]
            }
         ],
         "source": [
            "print(instance.input_repeat_dists)\n",
            "print(instance.solution_repeat_dists)"
         ]
      }
   ],
   "metadata": {
      "kernelspec": {
         "display_name": "udgp-env",
         "language": "python",
         "name": "python3"
      },
      "language_info": {
         "codemirror_mode": {
            "name": "ipython",
            "version": 3
         },
         "file_extension": ".py",
         "mimetype": "text/x-python",
         "name": "python",
         "nbconvert_exporter": "python",
         "pygments_lexer": "ipython3",
         "version": "3.12.11"
      },
      "orig_nbformat": 4
   },
   "nbformat": 4,
   "nbformat_minor": 2
}
