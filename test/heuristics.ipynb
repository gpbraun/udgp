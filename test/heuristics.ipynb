{
 "cells": [
  {
   "cell_type": "markdown",
   "metadata": {},
   "source": [
    "# Heurísticas"
   ]
  },
  {
   "cell_type": "code",
   "execution_count": 1,
   "metadata": {},
   "outputs": [],
   "source": [
    "import numpy as np\n",
    "from udgp import Instance"
   ]
  },
  {
   "cell_type": "code",
   "execution_count": 2,
   "metadata": {},
   "outputs": [
    {
     "data": {
      "application/3dmoljs_load.v0": "<div id=\"3dmolviewer_1695924466640973\"  style=\"position: relative; width: 400px; height: 350px;\">\n        <p id=\"3dmolwarning_1695924466640973\" style=\"background-color:#ffcccc;color:black\">You appear to be running in JupyterLab (or JavaScript failed to load for some other reason).  You need to install the 3dmol extension: <br>\n        <tt>jupyter labextension install jupyterlab_3dmol</tt></p>\n        </div>\n<script>\n\nvar loadScriptAsync = function(uri){\n  return new Promise((resolve, reject) => {\n    //this is to ignore the existence of requirejs amd\n    var savedexports, savedmodule;\n    if (typeof exports !== 'undefined') savedexports = exports;\n    else exports = {}\n    if (typeof module !== 'undefined') savedmodule = module;\n    else module = {}\n\n    var tag = document.createElement('script');\n    tag.src = uri;\n    tag.async = true;\n    tag.onload = () => {\n        exports = savedexports;\n        module = savedmodule;\n        resolve();\n    };\n  var firstScriptTag = document.getElementsByTagName('script')[0];\n  firstScriptTag.parentNode.insertBefore(tag, firstScriptTag);\n});\n};\n\nif(typeof $3Dmolpromise === 'undefined') {\n$3Dmolpromise = null;\n  $3Dmolpromise = loadScriptAsync('https://cdnjs.cloudflare.com/ajax/libs/3Dmol/2.0.3/3Dmol-min.js');\n}\n\nvar viewer_1695924466640973 = null;\nvar warn = document.getElementById(\"3dmolwarning_1695924466640973\");\nif(warn) {\n    warn.parentNode.removeChild(warn);\n}\n$3Dmolpromise.then(function() {\nviewer_1695924466640973 = $3Dmol.createViewer(document.getElementById(\"3dmolviewer_1695924466640973\"),{backgroundColor:\"white\"});\nviewer_1695924466640973.addModel(\"6\\nuDGP instance\\nC    0.0000    0.0000    0.0000\\nC    -1.5000    0.0000    0.0000\\nC    -2.0000    1.4142    0.0000\\nC    -1.5000    2.1213    1.2247\\nC    -2.0000    1.4142    2.4495\\nC    -1.5000    2.1213    3.6742\");\nviewer_1695924466640973.zoomTo();\n\tviewer_1695924466640973.setBackgroundColor(\"#000000\",0.2);\n\tviewer_1695924466640973.setStyle({\"stick\": {\"radius\": 0.1, \"color\": \"#cbd5e1\"}, \"sphere\": {\"scale\": 0.2, \"color\": \"#60a5fa\"}});\nviewer_1695924466640973.render();\n});\n</script>",
      "text/html": [
       "<div id=\"3dmolviewer_1695924466640973\"  style=\"position: relative; width: 400px; height: 350px;\">\n",
       "        <p id=\"3dmolwarning_1695924466640973\" style=\"background-color:#ffcccc;color:black\">You appear to be running in JupyterLab (or JavaScript failed to load for some other reason).  You need to install the 3dmol extension: <br>\n",
       "        <tt>jupyter labextension install jupyterlab_3dmol</tt></p>\n",
       "        </div>\n",
       "<script>\n",
       "\n",
       "var loadScriptAsync = function(uri){\n",
       "  return new Promise((resolve, reject) => {\n",
       "    //this is to ignore the existence of requirejs amd\n",
       "    var savedexports, savedmodule;\n",
       "    if (typeof exports !== 'undefined') savedexports = exports;\n",
       "    else exports = {}\n",
       "    if (typeof module !== 'undefined') savedmodule = module;\n",
       "    else module = {}\n",
       "\n",
       "    var tag = document.createElement('script');\n",
       "    tag.src = uri;\n",
       "    tag.async = true;\n",
       "    tag.onload = () => {\n",
       "        exports = savedexports;\n",
       "        module = savedmodule;\n",
       "        resolve();\n",
       "    };\n",
       "  var firstScriptTag = document.getElementsByTagName('script')[0];\n",
       "  firstScriptTag.parentNode.insertBefore(tag, firstScriptTag);\n",
       "});\n",
       "};\n",
       "\n",
       "if(typeof $3Dmolpromise === 'undefined') {\n",
       "$3Dmolpromise = null;\n",
       "  $3Dmolpromise = loadScriptAsync('https://cdnjs.cloudflare.com/ajax/libs/3Dmol/2.0.3/3Dmol-min.js');\n",
       "}\n",
       "\n",
       "var viewer_1695924466640973 = null;\n",
       "var warn = document.getElementById(\"3dmolwarning_1695924466640973\");\n",
       "if(warn) {\n",
       "    warn.parentNode.removeChild(warn);\n",
       "}\n",
       "$3Dmolpromise.then(function() {\n",
       "viewer_1695924466640973 = $3Dmol.createViewer(document.getElementById(\"3dmolviewer_1695924466640973\"),{backgroundColor:\"white\"});\n",
       "viewer_1695924466640973.addModel(\"6\\nuDGP instance\\nC    0.0000    0.0000    0.0000\\nC    -1.5000    0.0000    0.0000\\nC    -2.0000    1.4142    0.0000\\nC    -1.5000    2.1213    1.2247\\nC    -2.0000    1.4142    2.4495\\nC    -1.5000    2.1213    3.6742\");\n",
       "viewer_1695924466640973.zoomTo();\n",
       "\tviewer_1695924466640973.setBackgroundColor(\"#000000\",0.2);\n",
       "\tviewer_1695924466640973.setStyle({\"stick\": {\"radius\": 0.1, \"color\": \"#cbd5e1\"}, \"sphere\": {\"scale\": 0.2, \"color\": \"#60a5fa\"}});\n",
       "viewer_1695924466640973.render();\n",
       "});\n",
       "</script>"
      ]
     },
     "metadata": {},
     "output_type": "display_data"
    },
    {
     "data": {
      "text/plain": [
       "<py3Dmol.view at 0x279ff5adc50>"
      ]
     },
     "execution_count": 2,
     "metadata": {},
     "output_type": "execute_result"
    }
   ],
   "source": [
    "N = 6\n",
    "instance = Instance.artificial_molecule(N, freq=True, seed=12345678)\n",
    "# instance = Instance.lj_cluster(N, freq=True)\n",
    "#instance = Instance.c60(freq=True)\n",
    "instance.view_input()"
   ]
  },
  {
   "cell_type": "code",
   "execution_count": 4,
   "metadata": {},
   "outputs": [
    {
     "name": "stdout",
     "output_type": "stream",
     "text": [
      "=================\n",
      "TENTATIVA 5\n",
      "=================\n",
      "CORE\n",
      "  5 átomos\n",
      "42.31099987030029\n"
     ]
    },
    {
     "data": {
      "application/3dmoljs_load.v0": "<div id=\"3dmolviewer_16959245486461704\"  style=\"position: relative; width: 400px; height: 350px;\">\n        <p id=\"3dmolwarning_16959245486461704\" style=\"background-color:#ffcccc;color:black\">You appear to be running in JupyterLab (or JavaScript failed to load for some other reason).  You need to install the 3dmol extension: <br>\n        <tt>jupyter labextension install jupyterlab_3dmol</tt></p>\n        </div>\n<script>\n\nvar loadScriptAsync = function(uri){\n  return new Promise((resolve, reject) => {\n    //this is to ignore the existence of requirejs amd\n    var savedexports, savedmodule;\n    if (typeof exports !== 'undefined') savedexports = exports;\n    else exports = {}\n    if (typeof module !== 'undefined') savedmodule = module;\n    else module = {}\n\n    var tag = document.createElement('script');\n    tag.src = uri;\n    tag.async = true;\n    tag.onload = () => {\n        exports = savedexports;\n        module = savedmodule;\n        resolve();\n    };\n  var firstScriptTag = document.getElementsByTagName('script')[0];\n  firstScriptTag.parentNode.insertBefore(tag, firstScriptTag);\n});\n};\n\nif(typeof $3Dmolpromise === 'undefined') {\n$3Dmolpromise = null;\n  $3Dmolpromise = loadScriptAsync('https://cdnjs.cloudflare.com/ajax/libs/3Dmol/2.0.3/3Dmol-min.js');\n}\n\nvar viewer_16959245486461704 = null;\nvar warn = document.getElementById(\"3dmolwarning_16959245486461704\");\nif(warn) {\n    warn.parentNode.removeChild(warn);\n}\n$3Dmolpromise.then(function() {\nviewer_16959245486461704 = $3Dmol.createViewer(document.getElementById(\"3dmolviewer_16959245486461704\"),{backgroundColor:\"white\"});\nviewer_16959245486461704.addModel(\"6\\nuDGP instance\\nC    0.0000    0.0000    0.0000\\nC    0.0000    -2.3070    0.8233\\nC    -0.2299    -2.8052    -0.5727\\nC    -1.7040    -2.8984    -0.8339\\nC    -0.6221    -0.9510    0.9791\\nC    -0.6223    1.3559    0.1556\");\nviewer_16959245486461704.zoomTo();\n\tviewer_16959245486461704.setBackgroundColor(\"#000000\",0.2);\n\tviewer_16959245486461704.setStyle({\"stick\": {\"radius\": 0.1, \"color\": \"#cbd5e1\"}, \"sphere\": {\"scale\": 0.2, \"color\": \"#60a5fa\"}});\nviewer_16959245486461704.render();\n});\n</script>",
      "text/html": [
       "<div id=\"3dmolviewer_16959245486461704\"  style=\"position: relative; width: 400px; height: 350px;\">\n",
       "        <p id=\"3dmolwarning_16959245486461704\" style=\"background-color:#ffcccc;color:black\">You appear to be running in JupyterLab (or JavaScript failed to load for some other reason).  You need to install the 3dmol extension: <br>\n",
       "        <tt>jupyter labextension install jupyterlab_3dmol</tt></p>\n",
       "        </div>\n",
       "<script>\n",
       "\n",
       "var loadScriptAsync = function(uri){\n",
       "  return new Promise((resolve, reject) => {\n",
       "    //this is to ignore the existence of requirejs amd\n",
       "    var savedexports, savedmodule;\n",
       "    if (typeof exports !== 'undefined') savedexports = exports;\n",
       "    else exports = {}\n",
       "    if (typeof module !== 'undefined') savedmodule = module;\n",
       "    else module = {}\n",
       "\n",
       "    var tag = document.createElement('script');\n",
       "    tag.src = uri;\n",
       "    tag.async = true;\n",
       "    tag.onload = () => {\n",
       "        exports = savedexports;\n",
       "        module = savedmodule;\n",
       "        resolve();\n",
       "    };\n",
       "  var firstScriptTag = document.getElementsByTagName('script')[0];\n",
       "  firstScriptTag.parentNode.insertBefore(tag, firstScriptTag);\n",
       "});\n",
       "};\n",
       "\n",
       "if(typeof $3Dmolpromise === 'undefined') {\n",
       "$3Dmolpromise = null;\n",
       "  $3Dmolpromise = loadScriptAsync('https://cdnjs.cloudflare.com/ajax/libs/3Dmol/2.0.3/3Dmol-min.js');\n",
       "}\n",
       "\n",
       "var viewer_16959245486461704 = null;\n",
       "var warn = document.getElementById(\"3dmolwarning_16959245486461704\");\n",
       "if(warn) {\n",
       "    warn.parentNode.removeChild(warn);\n",
       "}\n",
       "$3Dmolpromise.then(function() {\n",
       "viewer_16959245486461704 = $3Dmol.createViewer(document.getElementById(\"3dmolviewer_16959245486461704\"),{backgroundColor:\"white\"});\n",
       "viewer_16959245486461704.addModel(\"6\\nuDGP instance\\nC    0.0000    0.0000    0.0000\\nC    0.0000    -2.3070    0.8233\\nC    -0.2299    -2.8052    -0.5727\\nC    -1.7040    -2.8984    -0.8339\\nC    -0.6221    -0.9510    0.9791\\nC    -0.6223    1.3559    0.1556\");\n",
       "viewer_16959245486461704.zoomTo();\n",
       "\tviewer_16959245486461704.setBackgroundColor(\"#000000\",0.2);\n",
       "\tviewer_16959245486461704.setStyle({\"stick\": {\"radius\": 0.1, \"color\": \"#cbd5e1\"}, \"sphere\": {\"scale\": 0.2, \"color\": \"#60a5fa\"}});\n",
       "viewer_16959245486461704.render();\n",
       "});\n",
       "</script>"
      ]
     },
     "metadata": {},
     "output_type": "display_data"
    },
    {
     "data": {
      "text/plain": [
       "<py3Dmol.view at 0x279a714ab50>"
      ]
     },
     "execution_count": 4,
     "metadata": {},
     "output_type": "execute_result"
    }
   ],
   "source": [
    "from IPython.display import clear_output\n",
    "\n",
    "previous_a = []\n",
    "\n",
    "i = 1\n",
    "instance.reset(reset_runtime=True)\n",
    "# while not instance.is_solved():\n",
    "while instance.fixed_n < instance.n:\n",
    "    clear_output(wait=True)\n",
    "    print(\"=================\")\n",
    "    print(f\"TENTATIVA {i}\")\n",
    "    print(\"=================\")\n",
    "    i += 1\n",
    "\n",
    "    instance.reset()\n",
    "\n",
    "    instance.solve_step(\"M2\", nx=4, max_gap=5e-4, previous_a=previous_a)\n",
    "    previous_a.append(instance.a_indices.tolist())\n",
    "\n",
    "    print(\"CORE\")\n",
    "\n",
    "    # instance.reset_with_core(\"mock\")\n",
    "\n",
    "    broken = False\n",
    "    while instance.fixed_n < instance.n and not broken:\n",
    "        print(f\"  {instance.fixed_n} átomos\")\n",
    "\n",
    "        solved = False\n",
    "        tries = 0\n",
    "\n",
    "        # iter_gap = 5e-3 + 1e-3 * instance.fixed_n\n",
    "        solved = instance.solve_step(\"M2\", nx=1, ny=4, max_gap=5e-3, max_threshold=1)\n",
    "\n",
    "        if not solved:\n",
    "            broken = True\n",
    "            break\n",
    "\n",
    "print(instance.runtime)\n",
    "\n",
    "instance.view()\n"
   ]
  }
 ],
 "metadata": {
  "kernelspec": {
   "display_name": "venv",
   "language": "python",
   "name": "python3"
  },
  "language_info": {
   "codemirror_mode": {
    "name": "ipython",
    "version": 3
   },
   "file_extension": ".py",
   "mimetype": "text/x-python",
   "name": "python",
   "nbconvert_exporter": "python",
   "pygments_lexer": "ipython3",
   "version": "3.11.4"
  },
  "orig_nbformat": 4
 },
 "nbformat": 4,
 "nbformat_minor": 2
}
