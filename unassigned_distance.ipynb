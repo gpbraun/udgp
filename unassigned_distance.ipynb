{
 "cells": [
  {
   "cell_type": "markdown",
   "metadata": {},
   "source": [
    "# Nova formulação\n",
    "\n",
    "Uma nova formulação a partir do artigo\n",
    "\n",
    "*Duxbury, Lavor, Liberti, Salles-Neto, Unassigned distance geometry and molecular conformation problems, Journal of Global Optimization, v.83, pp: 73-82, 2022.*\n",
    "\n",
    "A ideia é substituir a função objetivo do modelo (3) no artigo acima por:\n",
    "$$\n",
    "    \\min \\sum_{i=1}^{n-1} \\sum_{j=i+1}^{n} \\left( \\sum_{k=1}^{m} a_{ij}^k \\big\\vert \\Vert x_i - x_j \\Vert_2 - d_k \\big\\vert \\right),\n",
    "$$\n",
    "onde $x_i = (x_{i,1}, x_{i,2}, x_{i,3})^\\mathsf{T}$, $i = 1, 2, \\ldots, n$."
   ]
  },
  {
   "cell_type": "code",
   "execution_count": 55,
   "metadata": {},
   "outputs": [
    {
     "name": "stdout",
     "output_type": "stream",
     "text": [
      "Defaulting to user installation because normal site-packages is not writeable\n",
      "Requirement already satisfied: gurobipy in /home/braun/.local/lib/python3.10/site-packages (9.5.2)\n",
      "Note: you may need to restart the kernel to use updated packages.\n"
     ]
    }
   ],
   "source": [
    "%pip install gurobipy"
   ]
  },
  {
   "cell_type": "code",
   "execution_count": 56,
   "metadata": {},
   "outputs": [],
   "source": [
    "import gurobipy as gp\n",
    "from gurobipy import GRB"
   ]
  },
  {
   "cell_type": "markdown",
   "metadata": {},
   "source": [
    "## Preprocessamento"
   ]
  },
  {
   "cell_type": "code",
   "execution_count": 57,
   "metadata": {},
   "outputs": [],
   "source": [
    "import numpy as np\n",
    "\n",
    "# Lista de distâncias\n",
    "n = 5\n",
    "d = np.sort(\n",
    "    np.array(\n",
    "        [\n",
    "            1.5,\n",
    "            2.5244,\n",
    "            3.8724,\n",
    "            4.8611,\n",
    "            1.5,\n",
    "            2.5244,\n",
    "            3.6242,\n",
    "            1.5,\n",
    "            2.5244,\n",
    "            1.5,\n",
    "        ]\n",
    "    )\n",
    ")\n",
    "m = len(d)\n"
   ]
  },
  {
   "cell_type": "markdown",
   "metadata": {},
   "source": [
    "Sejam\n",
    "$$\n",
    "    D = \\max_{k=1,\\ldots, m} \\{ d_k \\}\n",
    "$$"
   ]
  },
  {
   "cell_type": "code",
   "execution_count": 58,
   "metadata": {},
   "outputs": [],
   "source": [
    "D = d.max()\n"
   ]
  },
  {
   "cell_type": "markdown",
   "metadata": {},
   "source": [
    "## Modelo"
   ]
  },
  {
   "cell_type": "markdown",
   "metadata": {},
   "source": [
    "### Variáveis"
   ]
  },
  {
   "cell_type": "code",
   "execution_count": 59,
   "metadata": {},
   "outputs": [
    {
     "name": "stdout",
     "output_type": "stream",
     "text": [
      "Set parameter NonConvex to value 2\n"
     ]
    }
   ],
   "source": [
    "model = gp.Model(\"UnassignedDistance\")\n",
    "model.setParam(GRB.Param.NonConvex, 2)\n",
    "\n",
    "# Variável com as coordenadas\n",
    "x = {\n",
    "    i: model.addMVar(3, name=f\"x[{i}]\", vtype=GRB.CONTINUOUS)\n",
    "    for i in range(n)\n",
    "}\n",
    "\n",
    "# Vetor de distância entre os átomos i e j\n",
    "v = {\n",
    "    (i, j): model.addMVar(3, name=f\"v[{i},{j}]\", vtype=GRB.CONTINUOUS)\n",
    "    for i in range(n - 1)\n",
    "    for j in range(i + 1, n)\n",
    "}\n",
    "\n",
    "# Erro nas distâncias\n",
    "alpha = model.addVars(m, name=\"alpha\")\n",
    "\n",
    "# Valor absoluto do erro das arestas\n",
    "y = model.addVars(m, name=\"y\")\n",
    "\n",
    "# Distância entre os átomos i e j\n",
    "t = {\n",
    "    (i, j): model.addVar(name=f\"w[{i},{j}]\", vtype=GRB.CONTINUOUS, lb=0)\n",
    "    for i in range(n - 1)\n",
    "    for j in range(i + 1, n)\n",
    "}\n",
    "\n",
    "# Variável de decisão (distância k é referente ao par i, j.)\n",
    "a = {\n",
    "    (i, j, k): model.addVar(name=f\"a[{i},{j},{k}]\", vtype=GRB.BINARY)\n",
    "    for i in range(n - 1)\n",
    "    for j in range(i + 1, n)\n",
    "    for k in range(m)\n",
    "}\n",
    "\n",
    "# Variável z (distância entre os átomos i e j se distância k é referente ao par i, j. Zero em caso contrário.)\n",
    "z = {\n",
    "    (i, j, k): model.addVar(name=f\"z[{i},{j},{k}]\", vtype=GRB.CONTINUOUS)\n",
    "    for i in range(n - 1)\n",
    "    for j in range(i + 1, n)\n",
    "    for k in range(m)\n",
    "}\n"
   ]
  },
  {
   "cell_type": "markdown",
   "metadata": {},
   "source": [
    "### Função objetivo\n",
    "\n",
    "O novo modelo:\n",
    "$$\n",
    "    \\text{(P):} \\quad \\min \\sum_{k=1}^{m} y_k\n",
    "$$"
   ]
  },
  {
   "cell_type": "code",
   "execution_count": 60,
   "metadata": {},
   "outputs": [],
   "source": [
    "model.setObjective(gp.quicksum(y), GRB.MINIMIZE)"
   ]
  },
  {
   "cell_type": "markdown",
   "metadata": {},
   "source": [
    "### Restrições\n",
    "\n",
    "O problema está sujeito a:\n",
    "$$\n",
    "\\begin{aligned}\n",
    "    &\\text{(C1):} & y_k &\\geq \\alpha_k, \\quad y_k \\geq -\\alpha_k \\\\\n",
    "    &\\text{(C2):} & t_{ij}^2 &= \\Vert x_i - x_j \\Vert_2^2 \\\\\n",
    "    &\\text{(C3):} & -(1-a_{ij}^k)D + t_{ij} &\\leq z_{ij}^k \\leq t_{ij} + (1-a_{ij}^k)D \\\\\n",
    "    &\\text{(C4):} & -a_{ij}^kD &\\leq z_{ij}^k \\leq a_{ij}^kD \\\\\n",
    "    &\\text{(C5):} & -(1-a_{ij}^k)D + (d_k + \\alpha_k) &\\leq z_{ij}^k \\leq (1-a_{ij}^k)D + (d_k + \\alpha_k)\n",
    "\\end{aligned}\n",
    "$$\n",
    "para $i = 1, 2, \\ldots, n−1,\\; j = i+1, i+2, \\ldots, n,\\; k = 1, 2, \\ldots, m$"
   ]
  },
  {
   "cell_type": "code",
   "execution_count": 61,
   "metadata": {},
   "outputs": [],
   "source": [
    "# C1\n",
    "c1a = model.addConstrs((y[k] >= alpha[k] for k in range(m)), name=\"C1a\")\n",
    "c1b = model.addConstrs((y[k] >= -alpha[k] for k in range(m)), name=\"C1b\")\n",
    "\n",
    "# C2\n",
    "c2_aux = model.addConstrs(\n",
    "    (v[i, j] == x[i] - x[j] for i in range(n - 1) for j in range(i + 1, n)),\n",
    "    name=\"C2aux\",\n",
    ")\n",
    "c2 = model.addConstrs(\n",
    "    (t[i, j] == gp.norm(v[i, j], 2) for i in range(n - 1) for j in range(i + 1, n)),\n",
    "    name=\"C2\",\n",
    ")\n",
    "\n",
    "# C3\n",
    "c3a = model.addConstrs(\n",
    "    (\n",
    "        -(1 - a[i, j, k]) * D + t[i, j] <= z[i, j, k]\n",
    "        for i in range(n - 1)\n",
    "        for j in range(i + 1, n)\n",
    "        for k in range(m)\n",
    "    ),\n",
    "    name=\"C3a\",\n",
    ")\n",
    "c3b = model.addConstrs(\n",
    "    (\n",
    "        z[i, j, k] <= (1 - a[i, j, k]) * D + t[i, j]\n",
    "        for i in range(n - 1)\n",
    "        for j in range(i + 1, n)\n",
    "        for k in range(m)\n",
    "    ),\n",
    "    name=\"C3b\",\n",
    ")\n",
    "\n",
    "# C4\n",
    "c4a = model.addConstrs(\n",
    "    (\n",
    "        -a[i, j, k] * D <= z[i, j, k]\n",
    "        for i in range(n - 1)\n",
    "        for j in range(i + 1, n)\n",
    "        for k in range(m)\n",
    "    ),\n",
    "    name=\"C4a\",\n",
    ")\n",
    "c4b = model.addConstrs(\n",
    "    (\n",
    "        z[i, j, k] <= a[i, j, k] * D\n",
    "        for i in range(n - 1)\n",
    "        for j in range(i + 1, n)\n",
    "        for k in range(m)\n",
    "    ),\n",
    "    name=\"C4b\",\n",
    ")\n",
    "\n",
    "# C5\n",
    "c5a = model.addConstrs(\n",
    "    (\n",
    "        -(1 - a[i, j, k]) * D + (d[k] + alpha[k]) <= z[i, j, k]\n",
    "        for i in range(n - 1)\n",
    "        for j in range(i + 1, n)\n",
    "        for k in range(m)\n",
    "    ),\n",
    "    name=\"C5a\",\n",
    ")\n",
    "c5b = model.addConstrs(\n",
    "    (\n",
    "        z[i, j, k] <= (1 - a[i, j, k]) * D + (d[k] + alpha[k])\n",
    "        for i in range(n - 1)\n",
    "        for j in range(i + 1, n)\n",
    "        for k in range(m)\n",
    "    ),\n",
    "    name=\"C5b\",\n",
    ")\n"
   ]
  },
  {
   "cell_type": "markdown",
   "metadata": {},
   "source": [
    "Mantendo as restrições do modelo (3):\n",
    "$$\n",
    "\\begin{aligned}\n",
    "    &\\text{(C6):} & \\sum_{i=1}^{n-1} \\sum_{j=1+1}^{n} a_{ij}^k &= 1 && k = 1, 2, \\ldots, m, \\\\\n",
    "    &\\text{(C7):} & \\sum_{k=1}^{m} a_{ij}^k &\\leq 1 && i = 1, 2, \\ldots, n−1,\\; j = i+1, i+2, \\ldots, n,\n",
    "\\end{aligned}\n",
    "$$"
   ]
  },
  {
   "cell_type": "code",
   "execution_count": 62,
   "metadata": {},
   "outputs": [],
   "source": [
    "# C6\n",
    "c5 = model.addConstrs(\n",
    "    gp.quicksum(a[i, j, k] for i in range(n - 1) for j in range(i + 1, n)) == 1\n",
    "    for k in range(m)\n",
    ")\n",
    "# C7\n",
    "c6 = model.addConstrs(\n",
    "    gp.quicksum(a[i, j, k] for k in range(m)) <= 1\n",
    "    for i in range(n - 1)\n",
    "    for j in range(i + 1, n)\n",
    ")\n"
   ]
  },
  {
   "cell_type": "markdown",
   "metadata": {},
   "source": [
    "## Solução"
   ]
  },
  {
   "cell_type": "code",
   "execution_count": 63,
   "metadata": {},
   "outputs": [
    {
     "name": "stdout",
     "output_type": "stream",
     "text": [
      "Set parameter TimeLimit to value 300\n"
     ]
    }
   ],
   "source": [
    "# Salva a formulação do modelo\n",
    "model.write(\"unassigned_distance.lp\")\n",
    "\n",
    "# Otimiza o modelo\n",
    "model.setParam(\"TimeLimit\", 5 * 60)\n",
    "model.setParam(\"LogToConsole\", 0)\n",
    "\n",
    "model.optimize()\n"
   ]
  },
  {
   "cell_type": "code",
   "execution_count": 64,
   "metadata": {},
   "outputs": [],
   "source": [
    "# Salva os resultados no arquivo out.sol\n",
    "model.write(\"out.sol\")\n"
   ]
  },
  {
   "cell_type": "markdown",
   "metadata": {},
   "source": [
    "## Pós-processamento"
   ]
  },
  {
   "cell_type": "code",
   "execution_count": 65,
   "metadata": {},
   "outputs": [
    {
     "name": "stdout",
     "output_type": "stream",
     "text": [
      "Defaulting to user installation because normal site-packages is not writeable\n",
      "Requirement already satisfied: py3Dmol in /home/braun/.local/lib/python3.10/site-packages (1.8.1)\n",
      "Note: you may need to restart the kernel to use updated packages.\n"
     ]
    }
   ],
   "source": [
    "%pip install py3Dmol"
   ]
  },
  {
   "cell_type": "code",
   "execution_count": 66,
   "metadata": {},
   "outputs": [],
   "source": [
    "def gurobi_variables_to_xyz_str(x: list) -> str:\n",
    "    xyz_coords = [\"C   \" + \"   \".join(str(x_i_l.X) for x_i_l in x_i) for x_i in x.values()]\n",
    "    return \"\\n\".join([str(n), \"OUTPUT\", *xyz_coords])\n"
   ]
  },
  {
   "cell_type": "code",
   "execution_count": 67,
   "metadata": {},
   "outputs": [
    {
     "name": "stdout",
     "output_type": "stream",
     "text": [
      "4\n",
      "OUTPUT\n",
      "C   3.609783421319821   1.4017648725495795   0.0\n",
      "C   2.1098450858577915   1.3860552468956546   0.0\n",
      "C   1.4999183292673934   0.01565780379394327   0.0\n",
      "C   0.0   0.0   0.0\n"
     ]
    }
   ],
   "source": [
    "xyz_str = gurobi_variables_to_xyz_str(x)\n",
    "\n",
    "with open(\"output.xyz\", \"w\") as f:\n",
    "    f.write(xyz_str)\n",
    "\n",
    "print(xyz_str)"
   ]
  },
  {
   "cell_type": "code",
   "execution_count": 68,
   "metadata": {},
   "outputs": [
    {
     "data": {
      "application/3dmoljs_load.v0": "<div id=\"3dmolviewer_16666563885271175\"  style=\"position: relative; width: 640px; height: 480px\">\n        <p id=\"3dmolwarning_16666563885271175\" style=\"background-color:#ffcccc;color:black\">You appear to be running in JupyterLab (or JavaScript failed to load for some other reason).  You need to install the 3dmol extension: <br>\n        <tt>jupyter labextension install jupyterlab_3dmol</tt></p>\n        </div>\n<script>\n\nvar loadScriptAsync = function(uri){\n  return new Promise((resolve, reject) => {\n    var tag = document.createElement('script');\n    tag.src = uri;\n    tag.async = true;\n    tag.onload = () => {\n      resolve();\n    };\n  var firstScriptTag = document.getElementsByTagName('script')[0];\n  firstScriptTag.parentNode.insertBefore(tag, firstScriptTag);\n});\n};\n\nif(typeof $3Dmolpromise === 'undefined') {\n$3Dmolpromise = null;\n  $3Dmolpromise = loadScriptAsync('https://cdn.jsdelivr.net/npm/3dmol@latest/build/3Dmol-min.min.js');\n}\n\nvar viewer_16666563885271175 = null;\nvar warn = document.getElementById(\"3dmolwarning_16666563885271175\");\nif(warn) {\n    warn.parentNode.removeChild(warn);\n}\n$3Dmolpromise.then(function() {\nviewer_16666563885271175 = $3Dmol.createViewer($(\"#3dmolviewer_16666563885271175\"),{backgroundColor:\"white\"});\nviewer_16666563885271175.addModel(\"4\\nOUTPUT\\nC   3.609783421319821   1.4017648725495795   0.0\\nC   2.1098450858577915   1.3860552468956546   0.0\\nC   1.4999183292673934   0.01565780379394327   0.0\\nC   0.0   0.0   0.0\");\nviewer_16666563885271175.zoomTo();\n\tviewer_16666563885271175.setBackgroundColor(\"000\");\n\tviewer_16666563885271175.setStyle({\"stick\": {}});\nviewer_16666563885271175.render();\n});\n</script>",
      "text/html": [
       "<div id=\"3dmolviewer_16666563885271175\"  style=\"position: relative; width: 640px; height: 480px\">\n",
       "        <p id=\"3dmolwarning_16666563885271175\" style=\"background-color:#ffcccc;color:black\">You appear to be running in JupyterLab (or JavaScript failed to load for some other reason).  You need to install the 3dmol extension: <br>\n",
       "        <tt>jupyter labextension install jupyterlab_3dmol</tt></p>\n",
       "        </div>\n",
       "<script>\n",
       "\n",
       "var loadScriptAsync = function(uri){\n",
       "  return new Promise((resolve, reject) => {\n",
       "    var tag = document.createElement('script');\n",
       "    tag.src = uri;\n",
       "    tag.async = true;\n",
       "    tag.onload = () => {\n",
       "      resolve();\n",
       "    };\n",
       "  var firstScriptTag = document.getElementsByTagName('script')[0];\n",
       "  firstScriptTag.parentNode.insertBefore(tag, firstScriptTag);\n",
       "});\n",
       "};\n",
       "\n",
       "if(typeof $3Dmolpromise === 'undefined') {\n",
       "$3Dmolpromise = null;\n",
       "  $3Dmolpromise = loadScriptAsync('https://cdn.jsdelivr.net/npm/3dmol@latest/build/3Dmol-min.min.js');\n",
       "}\n",
       "\n",
       "var viewer_16666563885271175 = null;\n",
       "var warn = document.getElementById(\"3dmolwarning_16666563885271175\");\n",
       "if(warn) {\n",
       "    warn.parentNode.removeChild(warn);\n",
       "}\n",
       "$3Dmolpromise.then(function() {\n",
       "viewer_16666563885271175 = $3Dmol.createViewer($(\"#3dmolviewer_16666563885271175\"),{backgroundColor:\"white\"});\n",
       "viewer_16666563885271175.addModel(\"4\\nOUTPUT\\nC   3.609783421319821   1.4017648725495795   0.0\\nC   2.1098450858577915   1.3860552468956546   0.0\\nC   1.4999183292673934   0.01565780379394327   0.0\\nC   0.0   0.0   0.0\");\n",
       "viewer_16666563885271175.zoomTo();\n",
       "\tviewer_16666563885271175.setBackgroundColor(\"000\");\n",
       "\tviewer_16666563885271175.setStyle({\"stick\": {}});\n",
       "viewer_16666563885271175.render();\n",
       "});\n",
       "</script>"
      ]
     },
     "metadata": {},
     "output_type": "display_data"
    },
    {
     "data": {
      "text/plain": [
       "<py3Dmol.view at 0x7f66139fde10>"
      ]
     },
     "execution_count": 68,
     "metadata": {},
     "output_type": "execute_result"
    }
   ],
   "source": [
    "import py3Dmol\n",
    "view = py3Dmol.view(data=xyz_str)\n",
    "view.setBackgroundColor('000')\n",
    "view.setStyle({'stick':{}})\n",
    "view"
   ]
  }
 ],
 "metadata": {
  "kernelspec": {
   "display_name": "Python 3 (ipykernel)",
   "language": "python",
   "name": "python3"
  },
  "language_info": {
   "codemirror_mode": {
    "name": "ipython",
    "version": 3
   },
   "file_extension": ".py",
   "mimetype": "text/x-python",
   "name": "python",
   "nbconvert_exporter": "python",
   "pygments_lexer": "ipython3",
   "version": "3.10.6"
  },
  "vscode": {
   "interpreter": {
    "hash": "e7370f93d1d0cde622a1f8e1c04877d8463912d04d973331ad4851f04de6915a"
   }
  }
 },
 "nbformat": 4,
 "nbformat_minor": 2
}
