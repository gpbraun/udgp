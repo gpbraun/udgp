{
 "cells": [
  {
   "cell_type": "markdown",
   "metadata": {},
   "source": [
    "# Nova formulação\n",
    "\n",
    "Uma nova formulação a partir do artigo\n",
    "\n",
    "*Duxbury, Lavor, Liberti, Salles-Neto, Unassigned distance geometry and molecular conformation problems, Journal of Global Optimization, v.83, pp: 73-82, 2022.*\n",
    "\n",
    "A ideia é substituir a função objetivo do modelo (3) no artigo acima por:\n",
    "$$\n",
    "    \\min \\sum_{i=1}^{n-1} \\sum_{j=i+1}^{n} \\left( \\sum_{k=1}^{m} a_{ij}^k \\big\\vert \\Vert x_i - x_j \\Vert_2 - d_k \\big\\vert \\right),\n",
    "$$\n",
    "onde $x_i = (x_{i,1}, x_{i,2}, x_{i,3})^\\mathsf{T}$, $i = 1, 2, \\ldots, n$."
   ]
  },
  {
   "cell_type": "code",
   "execution_count": 60,
   "metadata": {},
   "outputs": [
    {
     "name": "stdout",
     "output_type": "stream",
     "text": [
      "Defaulting to user installation because normal site-packages is not writeable\n",
      "Requirement already satisfied: gurobipy in /home/braun/.local/lib/python3.10/site-packages (9.5.2)\n",
      "Note: you may need to restart the kernel to use updated packages.\n"
     ]
    }
   ],
   "source": [
    "%pip install gurobipy"
   ]
  },
  {
   "cell_type": "code",
   "execution_count": 61,
   "metadata": {},
   "outputs": [],
   "source": [
    "import gurobipy as gp\n",
    "from gurobipy import GRB"
   ]
  },
  {
   "cell_type": "markdown",
   "metadata": {},
   "source": [
    "## Preprocessamento"
   ]
  },
  {
   "cell_type": "code",
   "execution_count": 62,
   "metadata": {},
   "outputs": [],
   "source": [
    "import numpy as np\n",
    "\n",
    "# Lista de distâncias\n",
    "n = 4\n",
    "d = np.sort(\n",
    "    np.array(\n",
    "        [\n",
    "            1.5,\n",
    "            2.5244,\n",
    "            3.8724,\n",
    "            1.5,\n",
    "            2.5244,\n",
    "            1.5,\n",
    "        ]\n",
    "    )\n",
    ")\n",
    "m = len(d)\n",
    "\n",
    "alfa = 1\n"
   ]
  },
  {
   "cell_type": "markdown",
   "metadata": {},
   "source": [
    "Sejam\n",
    "$$\n",
    "    D = \\max_{k=1,\\ldots, m} \\{ d_k \\} \\quad\\text{e}\\quad S = \\sum_{k=1}^m d_k.\n",
    "$$"
   ]
  },
  {
   "cell_type": "code",
   "execution_count": 63,
   "metadata": {},
   "outputs": [],
   "source": [
    "D = d.max()\n",
    "S = d.sum()\n"
   ]
  },
  {
   "cell_type": "markdown",
   "metadata": {},
   "source": [
    "## Modelo"
   ]
  },
  {
   "cell_type": "markdown",
   "metadata": {},
   "source": [
    "### Variáveis"
   ]
  },
  {
   "cell_type": "code",
   "execution_count": 64,
   "metadata": {},
   "outputs": [
    {
     "name": "stdout",
     "output_type": "stream",
     "text": [
      "Set parameter NonConvex to value 2\n"
     ]
    }
   ],
   "source": [
    "model = gp.Model(\"UnassignedDistance\")\n",
    "model.setParam(GRB.Param.NonConvex, 2)\n",
    "\n",
    "# Variável com as coordenadas\n",
    "x = {\n",
    "    i: model.addMVar(3, name=f\"x[{i}]\", vtype=GRB.CONTINUOUS)\n",
    "    for i in range(n)\n",
    "}\n",
    "\n",
    "# Vetor de distância entre os átomos i e j\n",
    "v = {\n",
    "    (i, j): model.addMVar(3, name=f\"v[{i},{j}]\", vtype=GRB.CONTINUOUS)\n",
    "    for i in range(n - 1)\n",
    "    for j in range(i + 1, n)\n",
    "}\n",
    "\n",
    "# Distância entre os átomos i e j\n",
    "w = {\n",
    "    (i, j): model.addVar(name=f\"w[{i},{j}]\", vtype=GRB.CONTINUOUS)\n",
    "    for i in range(n - 1)\n",
    "    for j in range(i + 1, n)\n",
    "}\n",
    "\n",
    "# Variável de decisão (distância k é referente ao par i, j.)\n",
    "a = {\n",
    "    (i, j, k): model.addVar(name=f\"a[{i},{j},{k}]\", vtype=GRB.BINARY)\n",
    "    for i in range(n - 1)\n",
    "    for j in range(i + 1, n)\n",
    "    for k in range(m)\n",
    "}\n",
    "\n",
    "# Variável z (distância entre os átomos i e j se distância k é referente ao par i, j. Zero em caso contrário.)\n",
    "z = {\n",
    "    (i, j, k): model.addVar(name=f\"z[{i},{j},{k}]\", vtype=GRB.CONTINUOUS)\n",
    "    for i in range(n - 1)\n",
    "    for j in range(i + 1, n)\n",
    "    for k in range(m)\n",
    "}\n"
   ]
  },
  {
   "cell_type": "markdown",
   "metadata": {},
   "source": [
    "### Função objetivo\n",
    "\n",
    "O novo modelo:\n",
    "$$\n",
    "    \\text{(NP):} \\quad \\min \\sum_{i=1}^{n-1} \\sum_{j=i+1}^{n} \\left( \\sum_{k=1}^{m} z_{ijk} \\right) - S,\n",
    "$$"
   ]
  },
  {
   "cell_type": "code",
   "execution_count": 65,
   "metadata": {},
   "outputs": [],
   "source": [
    "model.setObjective(\n",
    "    gp.quicksum(\n",
    "        z[i, j, k] for i in range(n - 1) for j in range(i + 1, n) for k in range(m)\n",
    "    )\n",
    "    - S,\n",
    "    GRB.MINIMIZE,\n",
    ")\n"
   ]
  },
  {
   "cell_type": "markdown",
   "metadata": {},
   "source": [
    "### Restrições\n",
    "\n",
    "O problema está sujeito a:\n",
    "$$\n",
    "\\begin{aligned}\n",
    "    &\\text{(C1):} & z_{ijk} &= a_{ij}^k \\Vert x_{i} - x_{j} \\Vert_2 \\\\\n",
    "    &\\text{(C2):} & -a_{ij}^k D &\\leq z_{ijk} \\leq a_{ij}^k D \\\\\n",
    "    &\\text{(C3):} & d_k - (1-a_{ij}^k) D &\\leq z_{ijk} \\leq d_k + (1-a_{ij}^k) D \n",
    "\\end{aligned}\n",
    "$$\n",
    "para $i = 1, 2, \\ldots, n−1,\\; j = i+1, i+2, \\ldots, n,\\; k = 1, 2, \\ldots, m$"
   ]
  },
  {
   "cell_type": "code",
   "execution_count": 66,
   "metadata": {},
   "outputs": [],
   "source": [
    "for i in range(n - 1):\n",
    "    for j in range(i + 1, n):\n",
    "\n",
    "        model.addConstr(v[i, j] == x[i] - x[j], name=f\"C1auxA_{i}_{j}\")\n",
    "        model.addConstr(w[i, j] == gp.norm(v[i, j], 2), name=f\"C1auxB_{i}_{j}\")\n",
    "\n",
    "        for k in range(m):\n",
    "            # C1\n",
    "            model.addConstr(z[i, j, k] == a[i, j, k] * w[i, j], name=f\"C1_{i}_{j}_{k}\")\n",
    "            # C2\n",
    "            model.addConstr(z[i, j, k] <= a[i, j, k] * D, name=f\"C2A_{i}_{j}_{k}\")\n",
    "            # C2'\n",
    "            model.addConstr(z[i, j, k] >= -a[i, j, k] * D, name=f\"C2B_{i}_{j}_{k}\")\n",
    "            # C3\n",
    "            model.addConstr(\n",
    "                z[i, j, k] <= (d[k] + alfa) + (1 - a[i, j, k]) * D,\n",
    "                name=f\"C3A_{i}_{j}_{k}\",\n",
    "            )\n",
    "            # C4\n",
    "            model.addConstr(\n",
    "                z[i, j, k] >= (d[k] - alfa) - (1 - a[i, j, k]) * D,\n",
    "                name=f\"C3B_{i}_{j}_{k}\",\n",
    "            )\n"
   ]
  },
  {
   "cell_type": "markdown",
   "metadata": {},
   "source": [
    "Mantendo as restrições do modelo (3):\n",
    "$$\n",
    "\\begin{aligned}\n",
    "    &\\text{(C5):} & \\sum_{i=1}^{n-1} \\sum_{j=1+1}^{n} a_{ij}^k &= 1 && k = 1, 2, \\ldots, m, \\\\\n",
    "    &\\text{(C6):} & \\sum_{k=1}^{m} a_{ij}^k &\\leq 1 && i = 1, 2, \\ldots, n−1,\\; j = i+1, i+2, \\ldots, n,\n",
    "\\end{aligned}\n",
    "$$"
   ]
  },
  {
   "cell_type": "code",
   "execution_count": 67,
   "metadata": {},
   "outputs": [],
   "source": [
    "# C5\n",
    "c5 = model.addConstrs(\n",
    "    gp.quicksum(a[i, j, k] for i in range(n - 1) for j in range(i + 1, n)) == 1\n",
    "    for k in range(m)\n",
    ")\n",
    "# C6\n",
    "c6 = model.addConstrs(\n",
    "    gp.quicksum(a[i, j, k] for k in range(m)) <= 1\n",
    "    for i in range(n - 1)\n",
    "    for j in range(i + 1, n)\n",
    ")\n"
   ]
  },
  {
   "cell_type": "markdown",
   "metadata": {},
   "source": [
    "## Solução"
   ]
  },
  {
   "cell_type": "code",
   "execution_count": 68,
   "metadata": {},
   "outputs": [
    {
     "name": "stdout",
     "output_type": "stream",
     "text": [
      "Gurobi Optimizer version 9.5.2 build v9.5.2rc0 (linux64)\n",
      "Thread count: 4 physical cores, 8 logical processors, using up to 8 threads\n",
      "Optimize a model with 174 rows, 108 columns and 414 nonzeros\n",
      "Model fingerprint: 0xa8cc889b\n",
      "Model has 36 quadratic constraints\n",
      "Model has 6 general constraints\n",
      "Variable types: 72 continuous, 36 integer (36 binary)\n",
      "Coefficient statistics:\n",
      "  Matrix range     [1e+00, 4e+00]\n",
      "  QMatrix range    [1e+00, 1e+00]\n",
      "  QLMatrix range   [1e+00, 1e+00]\n",
      "  Objective range  [1e+00, 1e+00]\n",
      "  Bounds range     [1e+00, 1e+00]\n",
      "  RHS range        [5e-01, 8e+00]\n",
      "Presolve removed 81 rows and 12 columns\n",
      "Presolve time: 0.00s\n",
      "Presolved: 279 rows, 229 columns, 642 nonzeros\n",
      "Presolved model has 72 SOS constraint(s)\n",
      "Presolved model has 24 bilinear constraint(s)\n",
      "Variable types: 157 continuous, 72 integer (72 binary)\n",
      "\n",
      "Root relaxation: objective -3.000000e+00, 129 iterations, 0.00 seconds (0.00 work units)\n",
      "\n",
      "    Nodes    |    Current Node    |     Objective Bounds      |     Work\n",
      " Expl Unexpl |  Obj  Depth IntInf | Incumbent    BestBd   Gap | It/Node Time\n",
      "\n",
      "     0     0   -3.00000    0    6          -   -3.00000      -     -    0s\n",
      "     0     0   -3.00000    0    6          -   -3.00000      -     -    0s\n",
      "     0     2   -3.00000    0    6          -   -3.00000      -     -    0s\n",
      "H 1303   598                      -1.9977960   -3.00000  50.2%   7.9    0s\n",
      "H 1303   568                      -1.9977963   -3.00000  50.2%   7.9    0s\n",
      "H 1303   540                      -1.9978018   -3.00000  50.2%   7.9    0s\n",
      "H 1303   513                      -2.2723905   -3.00000  32.0%   7.9    0s\n",
      "H 1310   493                      -2.3040000   -3.00000  30.2%   8.0    1s\n",
      " 46675  4868   -3.00000  205    5   -2.30400   -3.00000  30.2%   2.1    5s\n",
      " 125650  9188   -3.00000  167    6   -2.30400   -3.00000  30.2%   1.9   10s\n",
      " 197652 11353 infeasible  133        -2.30400   -3.00000  30.2%   1.8   15s\n",
      " 277923 14480   -2.99995  221    5   -2.30400   -3.00000  30.2%   1.8   20s\n",
      " 339691 16635   -2.97015  156    8   -2.30400   -3.00000  30.2%   1.7   25s\n",
      "H340821 16635                      -2.3040011   -3.00000  30.2%   1.7   25s\n",
      "H340985 16635                      -2.3040013   -3.00000  30.2%   1.7   25s\n",
      "H341958 16830                      -2.3040017   -3.00000  30.2%   1.7   25s\n",
      "H342752 16830                      -2.3040017   -3.00000  30.2%   1.7   25s\n",
      "H345570 17038                      -2.3040031   -3.00000  30.2%   1.7   25s\n",
      "H346610 17067                      -2.3040033   -3.00000  30.2%   1.7   25s\n",
      "H347016 17067                      -2.3040070   -3.00000  30.2%   1.7   25s\n",
      "H353433 17434                      -2.3040071   -3.00000  30.2%   1.7   26s\n",
      "H361978 18241                      -2.3040073   -3.00000  30.2%   1.7   26s\n",
      "H377005 18916                      -2.3040093   -3.00000  30.2%   1.7   27s\n",
      "H379422 19047                      -2.3040176   -3.00000  30.2%   1.7   28s\n",
      " 443125 22025 infeasible   74        -2.30402   -3.00000  30.2%   1.7   30s\n",
      "H453810 22307                      -2.3040189   -3.00000  30.2%   1.7   30s\n",
      " 608302 28660   -3.00000  141   12   -2.30402   -3.00000  30.2%   1.7   35s\n",
      "H661654 30211                      -2.3040192   -3.00000  30.2%   1.6   36s\n",
      "\n",
      "Interrupt request received\n",
      "\n",
      "Explored 729234 nodes (1200912 simplex iterations) in 38.51 seconds (9.44 work units)\n",
      "Thread count was 8 (of 8 available processors)\n",
      "\n",
      "Solution count 10: -2.30402 -2.30401 -2.30401 ... -2.27239\n",
      "\n",
      "Solve interrupted\n",
      "Best objective -2.304019218906e+00, best bound -3.000000000000e+00, gap 30.2072%\n"
     ]
    }
   ],
   "source": [
    "# Verify model formulation\n",
    "\n",
    "model.write(\"unassigned_distance.lp\")\n",
    "\n",
    "# Run optimization engine\n",
    "\n",
    "model.optimize()"
   ]
  },
  {
   "cell_type": "code",
   "execution_count": null,
   "metadata": {},
   "outputs": [
    {
     "name": "stdout",
     "output_type": "stream",
     "text": [
      "\n",
      "    Variable            x \n",
      "-------------------------\n",
      "     x[0][0]      2.23452 \n",
      "     x[0][1]      1.54044 \n",
      "     x[0][2]      0.94055 \n",
      "     x[1][0]     0.972319 \n",
      "     x[1][2]          0.5 \n",
      "     x[2][0]     0.472319 \n",
      "     x[2][2]          0.5 \n",
      "   v[0,1][0]       1.2622 \n",
      "   v[0,1][1]      1.54044 \n",
      "   v[0,1][2]      0.44055 \n",
      "   v[0,2][0]       1.7622 \n",
      "   v[0,2][1]      1.54044 \n",
      "   v[0,2][2]      0.44055 \n",
      "   v[0,3][0]      2.23452 \n",
      "   v[0,3][1]      1.54044 \n",
      "   v[0,3][2]      0.94055 \n",
      "   v[1,2][0]          0.5 \n",
      "   v[1,3][0]     0.972319 \n",
      "   v[1,3][2]          0.5 \n",
      "   v[2,3][0]     0.472319 \n",
      "   v[2,3][2]          0.5 \n",
      "      w[0,1]      2.03966 \n",
      "      w[0,2]      2.38168 \n",
      "      w[0,3]       2.8724 \n",
      "      w[1,2]          0.5 \n",
      "      w[1,3]      1.09335 \n",
      "      w[2,3]     0.687812 \n",
      "    a[0,1,3]            1 \n",
      "    a[0,2,4]            1 \n",
      "    a[0,3,5]            1 \n",
      "    a[1,2,0]            1 \n",
      "    a[1,3,1]            1 \n",
      "    a[2,3,2]            1 \n",
      "    z[0,1,3]      2.03966 \n",
      "    z[0,2,4]      2.38168 \n",
      "    z[0,3,5]       2.8724 \n",
      "    z[1,2,0]          0.5 \n",
      "    z[1,3,1]      1.09335 \n",
      "    z[2,3,2]     0.687812 \n"
     ]
    }
   ],
   "source": [
    "try:\n",
    "    model.write(\"out.sol\")\n",
    "    model.printAttr('x')\n",
    "except gp.GurobiError:\n",
    "    pass"
   ]
  },
  {
   "cell_type": "markdown",
   "metadata": {},
   "source": [
    "## Pós-processamento"
   ]
  }
 ],
 "metadata": {
  "kernelspec": {
   "display_name": "Python 3.10.4 64-bit",
   "language": "python",
   "name": "python3"
  },
  "language_info": {
   "codemirror_mode": {
    "name": "ipython",
    "version": 3
   },
   "file_extension": ".py",
   "mimetype": "text/x-python",
   "name": "python",
   "nbconvert_exporter": "python",
   "pygments_lexer": "ipython3",
   "version": "3.10.4"
  },
  "orig_nbformat": 4,
  "vscode": {
   "interpreter": {
    "hash": "e7370f93d1d0cde622a1f8e1c04877d8463912d04d973331ad4851f04de6915a"
   }
  }
 },
 "nbformat": 4,
 "nbformat_minor": 2
}
