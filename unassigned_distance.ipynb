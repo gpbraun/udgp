{
 "cells": [
  {
   "cell_type": "markdown",
   "metadata": {},
   "source": [
    "# Nova formulação\n",
    "\n",
    "Uma nova formulação a partir do artigo\n",
    "\n",
    "*Duxbury, Lavor, Liberti, Salles-Neto, Unassigned distance geometry and molecular conformation problems, Journal of Global Optimization, v.83, pp: 73-82, 2022.*\n",
    "\n",
    "A ideia é substituir a função objetivo do modelo (3) no artigo acima por:\n",
    "$$\n",
    "    \\min \\sum_{i=1}^{n-1} \\sum_{j=i+1}^{n} \\left( \\sum_{k=1}^{m} a_{ij}^k \\big\\vert \\Vert x_i - x_j \\Vert_2 - d_k \\big\\vert \\right),\n",
    "$$\n",
    "onde $x_i = (x_{i,1}, x_{i,2}, x_{i,3})^\\mathsf{T}$, $i = 1, 2, \\ldots, n$."
   ]
  },
  {
   "cell_type": "code",
   "execution_count": 109,
   "metadata": {},
   "outputs": [
    {
     "name": "stdout",
     "output_type": "stream",
     "text": [
      "Defaulting to user installation because normal site-packages is not writeable\n",
      "Requirement already satisfied: gurobipy in /home/braun/.local/lib/python3.10/site-packages (9.5.2)\n",
      "Note: you may need to restart the kernel to use updated packages.\n",
      "Defaulting to user installation because normal site-packages is not writeable\n",
      "Requirement already satisfied: py3Dmol in /home/braun/.local/lib/python3.10/site-packages (1.8.1)\n",
      "Note: you may need to restart the kernel to use updated packages.\n"
     ]
    }
   ],
   "source": [
    "%pip install gurobipy\n",
    "%pip install py3Dmol"
   ]
  },
  {
   "cell_type": "code",
   "execution_count": 110,
   "metadata": {},
   "outputs": [],
   "source": [
    "import gurobipy as gp\n",
    "from gurobipy import GRB"
   ]
  },
  {
   "cell_type": "markdown",
   "metadata": {},
   "source": [
    "## Preprocessamento"
   ]
  },
  {
   "cell_type": "code",
   "execution_count": 111,
   "metadata": {},
   "outputs": [],
   "source": [
    "import numpy as np\n",
    "\n",
    "# Lista de distâncias\n",
    "n = 4\n",
    "d = np.sort(\n",
    "    np.array(\n",
    "        [\n",
    "            1.5,\n",
    "            2.5244,\n",
    "            3.8724,\n",
    "            1.5,\n",
    "            2.5244,\n",
    "            1.5,\n",
    "        ]\n",
    "    )\n",
    ")\n",
    "m = len(d)\n",
    "\n",
    "alfa = 0.2\n"
   ]
  },
  {
   "cell_type": "markdown",
   "metadata": {},
   "source": [
    "Sejam\n",
    "$$\n",
    "    D = \\max_{k=1,\\ldots, m} \\{ d_k \\} \\quad\\text{e}\\quad S = \\sum_{k=1}^m d_k.\n",
    "$$"
   ]
  },
  {
   "cell_type": "code",
   "execution_count": 112,
   "metadata": {},
   "outputs": [],
   "source": [
    "D = d.max()\n",
    "S = d.sum()\n"
   ]
  },
  {
   "cell_type": "markdown",
   "metadata": {},
   "source": [
    "## Modelo"
   ]
  },
  {
   "cell_type": "markdown",
   "metadata": {},
   "source": [
    "### Variáveis"
   ]
  },
  {
   "cell_type": "code",
   "execution_count": 113,
   "metadata": {},
   "outputs": [
    {
     "name": "stdout",
     "output_type": "stream",
     "text": [
      "Set parameter NonConvex to value 2\n"
     ]
    }
   ],
   "source": [
    "model = gp.Model(\"UnassignedDistance\")\n",
    "model.setParam(GRB.Param.NonConvex, 2)\n",
    "\n",
    "# Variável com as coordenadas\n",
    "x = {\n",
    "    i: model.addMVar(3, name=f\"x[{i}]\", vtype=GRB.CONTINUOUS)\n",
    "    for i in range(n)\n",
    "}\n",
    "\n",
    "# Vetor de distância entre os átomos i e j\n",
    "v = {\n",
    "    (i, j): model.addMVar(3, name=f\"v[{i},{j}]\", vtype=GRB.CONTINUOUS)\n",
    "    for i in range(n - 1)\n",
    "    for j in range(i + 1, n)\n",
    "}\n",
    "\n",
    "# Distância entre os átomos i e j\n",
    "w = {\n",
    "    (i, j): model.addVar(name=f\"w[{i},{j}]\", vtype=GRB.CONTINUOUS)\n",
    "    for i in range(n - 1)\n",
    "    for j in range(i + 1, n)\n",
    "}\n",
    "\n",
    "# Variável de decisão (distância k é referente ao par i, j.)\n",
    "a = {\n",
    "    (i, j, k): model.addVar(name=f\"a[{i},{j},{k}]\", vtype=GRB.BINARY)\n",
    "    for i in range(n - 1)\n",
    "    for j in range(i + 1, n)\n",
    "    for k in range(m)\n",
    "}\n",
    "\n",
    "# Variável z (distância entre os átomos i e j se distância k é referente ao par i, j. Zero em caso contrário.)\n",
    "z = {\n",
    "    (i, j, k): model.addVar(name=f\"z[{i},{j},{k}]\", vtype=GRB.CONTINUOUS)\n",
    "    for i in range(n - 1)\n",
    "    for j in range(i + 1, n)\n",
    "    for k in range(m)\n",
    "}\n"
   ]
  },
  {
   "cell_type": "markdown",
   "metadata": {},
   "source": [
    "### Função objetivo\n",
    "\n",
    "O novo modelo:\n",
    "$$\n",
    "    \\text{(NP):} \\quad \\min \\sum_{i=1}^{n-1} \\sum_{j=i+1}^{n} \\left( \\sum_{k=1}^{m} z_{ijk} \\right) - S,\n",
    "$$"
   ]
  },
  {
   "cell_type": "code",
   "execution_count": 114,
   "metadata": {},
   "outputs": [],
   "source": [
    "model.setObjective(\n",
    "    gp.quicksum(\n",
    "        z[i, j, k] for i in range(n - 1) for j in range(i + 1, n) for k in range(m)\n",
    "    )\n",
    "    - S,\n",
    "    GRB.MINIMIZE,\n",
    ")\n"
   ]
  },
  {
   "cell_type": "markdown",
   "metadata": {},
   "source": [
    "### Restrições\n",
    "\n",
    "O problema está sujeito a:\n",
    "$$\n",
    "\\begin{aligned}\n",
    "    &\\text{(C1):} & z_{ijk} &= a_{ij}^k \\Vert x_{i} - x_{j} \\Vert_2 \\\\\n",
    "    &\\text{(C2):} & -a_{ij}^k D &\\leq z_{ijk} \\leq a_{ij}^k D \\\\\n",
    "    &\\text{(C3):} & d_k - (1-a_{ij}^k) D &\\leq z_{ijk} \\leq d_k + (1-a_{ij}^k) D \n",
    "\\end{aligned}\n",
    "$$\n",
    "para $i = 1, 2, \\ldots, n−1,\\; j = i+1, i+2, \\ldots, n,\\; k = 1, 2, \\ldots, m$"
   ]
  },
  {
   "cell_type": "code",
   "execution_count": 115,
   "metadata": {},
   "outputs": [],
   "source": [
    "for i in range(n - 1):\n",
    "    for j in range(i + 1, n):\n",
    "\n",
    "        model.addConstr(v[i, j] == x[i] - x[j], name=f\"C1auxA_{i}_{j}\")\n",
    "        model.addConstr(w[i, j] == gp.norm(v[i, j], 2), name=f\"C1auxB_{i}_{j}\")\n",
    "\n",
    "        for k in range(m):\n",
    "            # C1\n",
    "            model.addConstr(z[i, j, k] == a[i, j, k] * w[i, j], name=f\"C1_{i}_{j}_{k}\")\n",
    "            # C2A\n",
    "            model.addConstr(z[i, j, k] <= a[i, j, k] * D, name=f\"C2A_{i}_{j}_{k}\")\n",
    "            # C2B\n",
    "            model.addConstr(z[i, j, k] >= -a[i, j, k] * D, name=f\"C2B_{i}_{j}_{k}\")\n",
    "            # C3A\n",
    "            model.addConstr(\n",
    "                z[i, j, k] <= (d[k] + alfa) + (1 - a[i, j, k]) * D,\n",
    "                name=f\"C3A_{i}_{j}_{k}\",\n",
    "            )\n",
    "            # C3B\n",
    "            model.addConstr(\n",
    "                z[i, j, k] >= (d[k] - alfa) - (1 - a[i, j, k]) * D,\n",
    "                name=f\"C3B_{i}_{j}_{k}\",\n",
    "            )\n"
   ]
  },
  {
   "cell_type": "markdown",
   "metadata": {},
   "source": [
    "Mantendo as restrições do modelo (3):\n",
    "$$\n",
    "\\begin{aligned}\n",
    "    &\\text{(C4):} & \\sum_{i=1}^{n-1} \\sum_{j=1+1}^{n} a_{ij}^k &= 1 && k = 1, 2, \\ldots, m, \\\\\n",
    "    &\\text{(C5):} & \\sum_{k=1}^{m} a_{ij}^k &\\leq 1 && i = 1, 2, \\ldots, n−1,\\; j = i+1, i+2, \\ldots, n,\n",
    "\\end{aligned}\n",
    "$$"
   ]
  },
  {
   "cell_type": "code",
   "execution_count": 116,
   "metadata": {},
   "outputs": [],
   "source": [
    "# C4\n",
    "c5 = model.addConstrs(\n",
    "    gp.quicksum(a[i, j, k] for i in range(n - 1) for j in range(i + 1, n)) == 1\n",
    "    for k in range(m)\n",
    ")\n",
    "# C5\n",
    "c6 = model.addConstrs(\n",
    "    gp.quicksum(a[i, j, k] for k in range(m)) <= 1\n",
    "    for i in range(n - 1)\n",
    "    for j in range(i + 1, n)\n",
    ")\n"
   ]
  },
  {
   "cell_type": "markdown",
   "metadata": {},
   "source": [
    "## Solução"
   ]
  },
  {
   "cell_type": "code",
   "execution_count": 117,
   "metadata": {},
   "outputs": [
    {
     "name": "stdout",
     "output_type": "stream",
     "text": [
      "Set parameter TimeLimit to value 300\n"
     ]
    }
   ],
   "source": [
    "# Salva a formulação do modelo\n",
    "model.write(\"unassigned_distance.lp\")\n",
    "\n",
    "# Otimiza o modelo\n",
    "model.setParam(\"TimeLimit\", 5 * 60)\n",
    "model.setParam(\"LogToConsole\", 0)\n",
    "\n",
    "model.optimize()\n"
   ]
  },
  {
   "cell_type": "code",
   "execution_count": null,
   "metadata": {},
   "outputs": [],
   "source": [
    "# Salva os resultados no arquivo out.sol\n",
    "model.write(\"out.sol\")\n"
   ]
  },
  {
   "cell_type": "markdown",
   "metadata": {},
   "source": [
    "## Pós-processamento"
   ]
  },
  {
   "cell_type": "code",
   "execution_count": null,
   "metadata": {},
   "outputs": [],
   "source": [
    "def gurobi_variables_to_xyz(x: list):\n",
    "    xyz_coords = [f\"C   {x_i[0].X:.4f}   {x_i[1].X:.4f}   {x_i[2].X:.4f}\" for x_i in x.values()]\n",
    "    return \"\\n\".join([str(n), \"OUTPUT\", *xyz_coords])\n"
   ]
  },
  {
   "cell_type": "code",
   "execution_count": null,
   "metadata": {},
   "outputs": [],
   "source": [
    "with open(\"output.xyz\", \"w\") as f:\n",
    "    f.write(gurobi_variables_to_xyz(x))"
   ]
  },
  {
   "cell_type": "code",
   "execution_count": null,
   "metadata": {},
   "outputs": [
    {
     "data": {
      "application/3dmoljs_load.v0": "<div id=\"3dmolviewer_16663102288235805\"  style=\"position: relative; width: 640px; height: 480px\">\n        <p id=\"3dmolwarning_16663102288235805\" style=\"background-color:#ffcccc;color:black\">You appear to be running in JupyterLab (or JavaScript failed to load for some other reason).  You need to install the 3dmol extension: <br>\n        <tt>jupyter labextension install jupyterlab_3dmol</tt></p>\n        </div>\n<script>\n\nvar loadScriptAsync = function(uri){\n  return new Promise((resolve, reject) => {\n    var tag = document.createElement('script');\n    tag.src = uri;\n    tag.async = true;\n    tag.onload = () => {\n      resolve();\n    };\n  var firstScriptTag = document.getElementsByTagName('script')[0];\n  firstScriptTag.parentNode.insertBefore(tag, firstScriptTag);\n});\n};\n\nif(typeof $3Dmolpromise === 'undefined') {\n$3Dmolpromise = null;\n  $3Dmolpromise = loadScriptAsync('https://cdn.jsdelivr.net/npm/3dmol@latest/build/3Dmol-min.min.js');\n}\n\nvar viewer_16663102288235805 = null;\nvar warn = document.getElementById(\"3dmolwarning_16663102288235805\");\nif(warn) {\n    warn.parentNode.removeChild(warn);\n}\n$3Dmolpromise.then(function() {\nviewer_16663102288235805 = $3Dmol.createViewer($(\"#3dmolviewer_16663102288235805\"),{backgroundColor:\"white\"});\n$3Dmol.download(\"input.xyz\", viewer_16663102288235805, {}, function() {\nviewer_16663102288235805.zoomTo();\n\tviewer_16663102288235805.setBackgroundColor(\"000\");\n\tviewer_16663102288235805.setStyle({\"stick\": {}});\nviewer_16663102288235805.render();\n})\n});\n</script>",
      "text/html": [
       "<div id=\"3dmolviewer_16663102288235805\"  style=\"position: relative; width: 640px; height: 480px\">\n",
       "        <p id=\"3dmolwarning_16663102288235805\" style=\"background-color:#ffcccc;color:black\">You appear to be running in JupyterLab (or JavaScript failed to load for some other reason).  You need to install the 3dmol extension: <br>\n",
       "        <tt>jupyter labextension install jupyterlab_3dmol</tt></p>\n",
       "        </div>\n",
       "<script>\n",
       "\n",
       "var loadScriptAsync = function(uri){\n",
       "  return new Promise((resolve, reject) => {\n",
       "    var tag = document.createElement('script');\n",
       "    tag.src = uri;\n",
       "    tag.async = true;\n",
       "    tag.onload = () => {\n",
       "      resolve();\n",
       "    };\n",
       "  var firstScriptTag = document.getElementsByTagName('script')[0];\n",
       "  firstScriptTag.parentNode.insertBefore(tag, firstScriptTag);\n",
       "});\n",
       "};\n",
       "\n",
       "if(typeof $3Dmolpromise === 'undefined') {\n",
       "$3Dmolpromise = null;\n",
       "  $3Dmolpromise = loadScriptAsync('https://cdn.jsdelivr.net/npm/3dmol@latest/build/3Dmol-min.min.js');\n",
       "}\n",
       "\n",
       "var viewer_16663102288235805 = null;\n",
       "var warn = document.getElementById(\"3dmolwarning_16663102288235805\");\n",
       "if(warn) {\n",
       "    warn.parentNode.removeChild(warn);\n",
       "}\n",
       "$3Dmolpromise.then(function() {\n",
       "viewer_16663102288235805 = $3Dmol.createViewer($(\"#3dmolviewer_16663102288235805\"),{backgroundColor:\"white\"});\n",
       "$3Dmol.download(\"input.xyz\", viewer_16663102288235805, {}, function() {\n",
       "viewer_16663102288235805.zoomTo();\n",
       "\tviewer_16663102288235805.setBackgroundColor(\"000\");\n",
       "\tviewer_16663102288235805.setStyle({\"stick\": {}});\n",
       "viewer_16663102288235805.render();\n",
       "})\n",
       "});\n",
       "</script>"
      ]
     },
     "metadata": {},
     "output_type": "display_data"
    },
    {
     "data": {
      "text/plain": [
       "<py3Dmol.view at 0x7f7e49579090>"
      ]
     },
     "execution_count": 99,
     "metadata": {},
     "output_type": "execute_result"
    }
   ],
   "source": [
    "import py3Dmol\n",
    "view = py3Dmol.view(query='output.xyz')\n",
    "view.setBackgroundColor('000')\n",
    "view.setStyle({'stick':{}})\n",
    "view"
   ]
  }
 ],
 "metadata": {
  "kernelspec": {
   "display_name": "Python 3.10.4 64-bit",
   "language": "python",
   "name": "python3"
  },
  "language_info": {
   "codemirror_mode": {
    "name": "ipython",
    "version": 3
   },
   "file_extension": ".py",
   "mimetype": "text/x-python",
   "name": "python",
   "nbconvert_exporter": "python",
   "pygments_lexer": "ipython3",
   "version": "3.10.4"
  },
  "orig_nbformat": 4,
  "vscode": {
   "interpreter": {
    "hash": "e7370f93d1d0cde622a1f8e1c04877d8463912d04d973331ad4851f04de6915a"
   }
  }
 },
 "nbformat": 4,
 "nbformat_minor": 2
}
