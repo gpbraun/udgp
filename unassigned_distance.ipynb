{
 "cells": [
  {
   "cell_type": "markdown",
   "metadata": {},
   "source": [
    "# Nova formulação\n",
    "\n",
    "Uma nova formulação a partir do artigo\n",
    "\n",
    "*Duxbury, Lavor, Liberti, Salles-Neto, Unassigned distance geometry and molecular conformation problems, Journal of Global Optimization, v.83, pp: 73-82, 2022.*\n",
    "\n",
    "A ideia é substituir a função objetivo do modelo (3) no artigo acima por:\n",
    "$$\n",
    "    \\min \\sum_{i=1}^{n-1} \\sum_{j=i+1}^{n} \\left( \\sum_{k=1}^{m} a_{ij}^k \\big\\vert \\Vert x_i - x_j \\Vert_2 - d_k \\big\\vert \\right),\n",
    "$$\n",
    "onde $x_i = (x_{i,1}, x_{i,2}, x_{i,3})^\\mathsf{T}$, $i = 1, 2, \\ldots, n$."
   ]
  },
  {
   "cell_type": "code",
   "execution_count": 11,
   "metadata": {},
   "outputs": [
    {
     "name": "stdout",
     "output_type": "stream",
     "text": [
      "Defaulting to user installation because normal site-packages is not writeable\n",
      "Requirement already satisfied: gurobipy in /home/braun/.local/lib/python3.10/site-packages (9.5.2)\n",
      "Note: you may need to restart the kernel to use updated packages.\n"
     ]
    }
   ],
   "source": [
    "%pip install gurobipy"
   ]
  },
  {
   "cell_type": "code",
   "execution_count": 12,
   "metadata": {},
   "outputs": [],
   "source": [
    "import gurobipy as gp\n",
    "from gurobipy import GRB"
   ]
  },
  {
   "cell_type": "markdown",
   "metadata": {},
   "source": [
    "## Preprocessamento"
   ]
  },
  {
   "cell_type": "code",
   "execution_count": 13,
   "metadata": {},
   "outputs": [],
   "source": [
    "import numpy as np\n",
    "\n",
    "# Lista de distâncias\n",
    "n = 4\n",
    "d = np.sort(\n",
    "    np.array(\n",
    "        [\n",
    "            1.5,\n",
    "            2.5244,\n",
    "            3.8724,\n",
    "            1.5,\n",
    "            2.5244,\n",
    "            1.5,\n",
    "        ]\n",
    "    )\n",
    ")\n",
    "m = len(d)\n",
    "\n",
    "alfa = 0.1\n"
   ]
  },
  {
   "cell_type": "markdown",
   "metadata": {},
   "source": [
    "Sejam\n",
    "$$\n",
    "    D = \\max_{k=1,\\ldots, m} \\{ d_k \\} \\quad\\text{e}\\quad S = \\sum_{k=1}^m d_k.\n",
    "$$"
   ]
  },
  {
   "cell_type": "code",
   "execution_count": 14,
   "metadata": {},
   "outputs": [],
   "source": [
    "D = d.max()\n",
    "S = d.sum()\n"
   ]
  },
  {
   "cell_type": "markdown",
   "metadata": {},
   "source": [
    "## Modelo"
   ]
  },
  {
   "cell_type": "markdown",
   "metadata": {},
   "source": [
    "### Variáveis"
   ]
  },
  {
   "cell_type": "code",
   "execution_count": 15,
   "metadata": {},
   "outputs": [
    {
     "name": "stdout",
     "output_type": "stream",
     "text": [
      "Set parameter NonConvex to value 2\n"
     ]
    }
   ],
   "source": [
    "model = gp.Model(\"UnassignedDistance\")\n",
    "model.setParam(GRB.Param.NonConvex, 2)\n",
    "\n",
    "# Variável com as coordenadas\n",
    "x = {\n",
    "    (i, l): model.addVar(name=f\"x_{i}_{l}\", vtype=GRB.CONTINUOUS)\n",
    "    for i in range(n)\n",
    "    for l in range(3)\n",
    "}\n",
    "\n",
    "# Variável de decisão (distância k é referente ao par i, j.)\n",
    "a = {\n",
    "    (i, j, k): model.addVar(name=f\"a_{i}_{j}_{k}\", vtype=GRB.BINARY)\n",
    "    for i in range(n - 1)\n",
    "    for j in range(i + 1, n)\n",
    "    for k in range(m)\n",
    "}\n",
    "\n",
    "# Variável z (distância entre os átomos i e j se distância k é referente ao par i, j. Zero em caso contrário.)\n",
    "z = {\n",
    "    (i, j, k): model.addVar(name=f\"z_{i}_{j}_{k}\", vtype=GRB.CONTINUOUS)\n",
    "    for i in range(n - 1)\n",
    "    for j in range(i + 1, n)\n",
    "    for k in range(m)\n",
    "}\n",
    "\n",
    "# Variável w (distância entre os átomos i e j)\n",
    "w = {\n",
    "    (i, j): model.addVar(name=f\"w_{i}_{j}\", vtype=GRB.CONTINUOUS)\n",
    "    for i in range(n - 1)\n",
    "    for j in range(i + 1, n)\n",
    "}\n"
   ]
  },
  {
   "cell_type": "markdown",
   "metadata": {},
   "source": [
    "### Função objetivo\n",
    "\n",
    "O novo modelo:\n",
    "$$\n",
    "    \\text{(NP):} \\quad \\min \\sum_{i=1}^{n-1} \\sum_{j=i+1}^{n} \\left( \\sum_{k=1}^{m} z_{ijk} \\right) - S,\n",
    "$$"
   ]
  },
  {
   "cell_type": "code",
   "execution_count": 16,
   "metadata": {},
   "outputs": [],
   "source": [
    "model.setObjective(\n",
    "    gp.quicksum(\n",
    "        z[i, j, k] for i in range(n - 1) for j in range(i + 1, n) for k in range(m)\n",
    "    )\n",
    "    - S,\n",
    "    GRB.MINIMIZE,\n",
    ")\n"
   ]
  },
  {
   "cell_type": "markdown",
   "metadata": {},
   "source": [
    "### Restrições\n",
    "\n",
    "O problema está sujeito a:\n",
    "$$\n",
    "\\begin{aligned}\n",
    "    &\\text{(C1):} & z_{ijk}^2 &= a_{ij}^k \\sum_{l=1}^3 ( x_{i,l} - x_{j,l} )^2 \\\\\n",
    "    &\\text{(C2):} & z_{ijk} &\\leq a_{ij}^k D \\\\\n",
    "    &\\text{(C2$^\\prime$):} & z_{ijk} &\\geq -a_{ij}^k D \\\\\n",
    "    &\\text{(C3):} & z_{ijk} &\\leq d_k + (1-a_{ij}^k) D \\\\\n",
    "    &\\text{(C4):} & z_{ijk} &\\geq d_k - (1-a_{ij}^k) D \\\\\n",
    "\\end{aligned}\n",
    "$$\n",
    "para $i = 1, 2, \\ldots, n−1,\\; j = i+1, i+2, \\ldots, n,\\; k = 1, 2, \\ldots, m$"
   ]
  },
  {
   "cell_type": "code",
   "execution_count": 17,
   "metadata": {},
   "outputs": [],
   "source": [
    "for i in range(n - 1):\n",
    "    for j in range(i + 1, n):\n",
    "\n",
    "        model.addConstr(\n",
    "            w[i, j] ** 2 == gp.quicksum((x[i, l] - x[j, l]) ** 2 for l in range(3)),\n",
    "            name=f\"w_{i}_{j}\",\n",
    "        )\n",
    "\n",
    "        for k in range(m):\n",
    "            # C1\n",
    "            model.addConstr(\n",
    "                z[i, j, k] ** 2 == a[i, j, k] * w[i, j],\n",
    "            )\n",
    "            # C2\n",
    "            model.addConstr(z[i, j, k] <= a[i, j, k] * D)\n",
    "            # C2'\n",
    "            model.addConstr(z[i, j, k] >= -a[i, j, k] * D)\n",
    "            # C3\n",
    "            model.addConstr(z[i, j, k] <= (d[k] + alfa) + (1 - a[i, j, k]) * D)\n",
    "            # C4\n",
    "            model.addConstr(z[i, j, k] >= (d[k] - alfa) - (1 - a[i, j, k]) * D)\n"
   ]
  },
  {
   "cell_type": "markdown",
   "metadata": {},
   "source": [
    "Mantendo as restrições do modelo (3):\n",
    "$$\n",
    "\\begin{aligned}\n",
    "    &\\text{(C5):} & \\sum_{i=1}^{n-1} \\sum_{j=1+1}^{n} a_{ij}^k &= 1 && k = 1, 2, \\ldots, m, \\\\\n",
    "    &\\text{(C6):} & \\sum_{k=1}^{m} a_{ij}^k &\\leq 1 && i = 1, 2, \\ldots, n−1,\\; j = i+1, i+2, \\ldots, n,\n",
    "\\end{aligned}\n",
    "$$"
   ]
  },
  {
   "cell_type": "code",
   "execution_count": 18,
   "metadata": {},
   "outputs": [],
   "source": [
    "# C5\n",
    "c5 = model.addConstrs(\n",
    "    gp.quicksum(a[i, j, k] for i in range(n - 1) for j in range(i + 1, n)) == 1\n",
    "    for k in range(m)\n",
    ")\n",
    "# C6\n",
    "c6 = model.addConstrs(\n",
    "    gp.quicksum(a[i, j, k] for k in range(m)) <= 1\n",
    "    for i in range(n - 1)\n",
    "    for j in range(i + 1, n)\n",
    ")\n"
   ]
  },
  {
   "cell_type": "markdown",
   "metadata": {},
   "source": [
    "## Solução"
   ]
  },
  {
   "cell_type": "code",
   "execution_count": 19,
   "metadata": {},
   "outputs": [
    {
     "name": "stdout",
     "output_type": "stream",
     "text": [
      "Warning: Q constraint 1 doesn't have a name\n",
      "Gurobi Optimizer version 9.5.2 build v9.5.2rc0 (linux64)\n",
      "Thread count: 4 physical cores, 8 logical processors, using up to 8 threads\n",
      "Optimize a model with 120 rows, 90 columns and 288 nonzeros\n",
      "Model fingerprint: 0xc1d80850\n",
      "Model has 42 quadratic constraints\n",
      "Variable types: 54 continuous, 36 integer (36 binary)\n",
      "Coefficient statistics:\n",
      "  Matrix range     [1e+00, 4e+00]\n",
      "  QMatrix range    [1e+00, 2e+00]\n",
      "  Objective range  [1e+00, 1e+00]\n",
      "  Bounds range     [1e+00, 1e+00]\n",
      "  RHS range        [1e-01, 8e+00]\n",
      "Presolve removed 36 rows and 0 columns\n",
      "Presolve time: 0.00s\n",
      "Presolved: 432 rows, 271 columns, 924 nonzeros\n",
      "Presolved model has 72 SOS constraint(s)\n",
      "Presolved model has 72 bilinear constraint(s)\n",
      "Variable types: 199 continuous, 72 integer (72 binary)\n",
      "\n",
      "Root relaxation: objective -6.000000e-01, 136 iterations, 0.00 seconds (0.00 work units)\n",
      "\n",
      "    Nodes    |    Current Node    |     Objective Bounds      |     Work\n",
      " Expl Unexpl |  Obj  Depth IntInf | Incumbent    BestBd   Gap | It/Node Time\n",
      "\n",
      "     0     0   -0.60000    0   12          -   -0.60000      -     -    0s\n",
      "     0     0   -0.60000    0    7          -   -0.60000      -     -    0s\n",
      "     0     0   -0.60000    0    7          -   -0.60000      -     -    0s\n",
      "     0     2   -0.60000    0    7          -   -0.60000      -     -    0s\n",
      "\n",
      "Interrupt request received\n",
      "\n",
      "Cutting planes:\n",
      "  Gomory: 5\n",
      "  Implied bound: 12\n",
      "  Flow cover: 22\n",
      "  RLT: 8\n",
      "  Relax-and-lift: 4\n",
      "\n",
      "Explored 34220 nodes (189067 simplex iterations) in 3.61 seconds (1.19 work units)\n",
      "Thread count was 8 (of 8 available processors)\n",
      "\n",
      "Solution count 0\n",
      "\n",
      "Solve interrupted\n",
      "Best objective -, best bound -6.000000000000e-01, gap -\n"
     ]
    }
   ],
   "source": [
    "# Verify model formulation\n",
    "\n",
    "model.write(\"unassigned_distance.lp\")\n",
    "\n",
    "# Run optimization engine\n",
    "\n",
    "model.optimize()"
   ]
  },
  {
   "cell_type": "markdown",
   "metadata": {},
   "source": [
    "## Resultados"
   ]
  },
  {
   "cell_type": "code",
   "execution_count": null,
   "metadata": {},
   "outputs": [
    {
     "name": "stdout",
     "output_type": "stream",
     "text": [
      "\n",
      "    Variable            x \n",
      "-------------------------\n"
     ]
    }
   ],
   "source": [
    "try:\n",
    "    model.write(\"out.sol\")\n",
    "    model.printAttr('x')\n",
    "except gp.GurobiError:\n",
    "    pass"
   ]
  }
 ],
 "metadata": {
  "kernelspec": {
   "display_name": "Python 3.10.4 64-bit",
   "language": "python",
   "name": "python3"
  },
  "language_info": {
   "codemirror_mode": {
    "name": "ipython",
    "version": 3
   },
   "file_extension": ".py",
   "mimetype": "text/x-python",
   "name": "python",
   "nbconvert_exporter": "python",
   "pygments_lexer": "ipython3",
   "version": "3.10.4"
  },
  "orig_nbformat": 4,
  "vscode": {
   "interpreter": {
    "hash": "e7370f93d1d0cde622a1f8e1c04877d8463912d04d973331ad4851f04de6915a"
   }
  }
 },
 "nbformat": 4,
 "nbformat_minor": 2
}
