{
 "cells": [
  {
   "cell_type": "markdown",
   "metadata": {},
   "source": [
    "# Nova formulação\n",
    "\n",
    "Uma nova formulação a partir do artigo\n",
    "\n",
    "*Duxbury, Lavor, Liberti, Salles-Neto, Unassigned distance geometry and molecular conformation problems, Journal of Global Optimization, v.83, pp: 73-82, 2022.*\n",
    "\n",
    "A ideia é substituir a função objetivo do modelo (3) no artigo acima por:\n",
    "$$\n",
    "    \\min \\sum_{i=1}^{n-1} \\sum_{j=i+1}^{n} \\left( \\sum_{k=1}^{m} a_{ij}^k \\big\\vert \\Vert x_i - x_j \\Vert_2 - d_k \\big\\vert \\right),\n",
    "$$\n",
    "onde $x_i = (x_{i,1}, x_{i,2}, x_{i,3})^\\mathsf{T}$, $i = 1, 2, \\ldots, n$."
   ]
  },
  {
   "cell_type": "code",
   "execution_count": 89,
   "metadata": {},
   "outputs": [
    {
     "name": "stdout",
     "output_type": "stream",
     "text": [
      "Defaulting to user installation because normal site-packages is not writeable\n",
      "Requirement already satisfied: gurobipy in /home/braun/.local/lib/python3.10/site-packages (9.5.2)\n",
      "Note: you may need to restart the kernel to use updated packages.\n",
      "Defaulting to user installation because normal site-packages is not writeable\n",
      "Requirement already satisfied: py3Dmol in /home/braun/.local/lib/python3.10/site-packages (1.8.1)\n",
      "Note: you may need to restart the kernel to use updated packages.\n"
     ]
    }
   ],
   "source": [
    "%pip install gurobipy\n",
    "%pip install py3Dmol"
   ]
  },
  {
   "cell_type": "code",
   "execution_count": 70,
   "metadata": {},
   "outputs": [],
   "source": [
    "import gurobipy as gp\n",
    "from gurobipy import GRB"
   ]
  },
  {
   "cell_type": "markdown",
   "metadata": {},
   "source": [
    "## Preprocessamento"
   ]
  },
  {
   "cell_type": "code",
   "execution_count": 71,
   "metadata": {},
   "outputs": [],
   "source": [
    "import numpy as np\n",
    "\n",
    "# Lista de distâncias\n",
    "n = 4\n",
    "d = np.sort(\n",
    "    np.array(\n",
    "        [\n",
    "            1.5,\n",
    "            2.5244,\n",
    "            3.8724,\n",
    "            1.5,\n",
    "            2.5244,\n",
    "            1.5,\n",
    "        ]\n",
    "    )\n",
    ")\n",
    "m = len(d)\n",
    "\n",
    "alfa = 1\n"
   ]
  },
  {
   "cell_type": "markdown",
   "metadata": {},
   "source": [
    "Sejam\n",
    "$$\n",
    "    D = \\max_{k=1,\\ldots, m} \\{ d_k \\} \\quad\\text{e}\\quad S = \\sum_{k=1}^m d_k.\n",
    "$$"
   ]
  },
  {
   "cell_type": "code",
   "execution_count": 72,
   "metadata": {},
   "outputs": [],
   "source": [
    "D = d.max()\n",
    "S = d.sum()\n"
   ]
  },
  {
   "cell_type": "markdown",
   "metadata": {},
   "source": [
    "## Modelo"
   ]
  },
  {
   "cell_type": "markdown",
   "metadata": {},
   "source": [
    "### Variáveis"
   ]
  },
  {
   "cell_type": "code",
   "execution_count": 73,
   "metadata": {},
   "outputs": [
    {
     "name": "stdout",
     "output_type": "stream",
     "text": [
      "Set parameter NonConvex to value 2\n"
     ]
    }
   ],
   "source": [
    "model = gp.Model(\"UnassignedDistance\")\n",
    "model.setParam(GRB.Param.NonConvex, 2)\n",
    "\n",
    "# Variável com as coordenadas\n",
    "x = {\n",
    "    i: model.addMVar(3, name=f\"x[{i}]\", vtype=GRB.CONTINUOUS)\n",
    "    for i in range(n)\n",
    "}\n",
    "\n",
    "# Vetor de distância entre os átomos i e j\n",
    "v = {\n",
    "    (i, j): model.addMVar(3, name=f\"v[{i},{j}]\", vtype=GRB.CONTINUOUS)\n",
    "    for i in range(n - 1)\n",
    "    for j in range(i + 1, n)\n",
    "}\n",
    "\n",
    "# Distância entre os átomos i e j\n",
    "w = {\n",
    "    (i, j): model.addVar(name=f\"w[{i},{j}]\", vtype=GRB.CONTINUOUS)\n",
    "    for i in range(n - 1)\n",
    "    for j in range(i + 1, n)\n",
    "}\n",
    "\n",
    "# Variável de decisão (distância k é referente ao par i, j.)\n",
    "a = {\n",
    "    (i, j, k): model.addVar(name=f\"a[{i},{j},{k}]\", vtype=GRB.BINARY)\n",
    "    for i in range(n - 1)\n",
    "    for j in range(i + 1, n)\n",
    "    for k in range(m)\n",
    "}\n",
    "\n",
    "# Variável z (distância entre os átomos i e j se distância k é referente ao par i, j. Zero em caso contrário.)\n",
    "z = {\n",
    "    (i, j, k): model.addVar(name=f\"z[{i},{j},{k}]\", vtype=GRB.CONTINUOUS)\n",
    "    for i in range(n - 1)\n",
    "    for j in range(i + 1, n)\n",
    "    for k in range(m)\n",
    "}\n"
   ]
  },
  {
   "cell_type": "markdown",
   "metadata": {},
   "source": [
    "### Função objetivo\n",
    "\n",
    "O novo modelo:\n",
    "$$\n",
    "    \\text{(NP):} \\quad \\min \\sum_{i=1}^{n-1} \\sum_{j=i+1}^{n} \\left( \\sum_{k=1}^{m} z_{ijk} \\right) - S,\n",
    "$$"
   ]
  },
  {
   "cell_type": "code",
   "execution_count": 74,
   "metadata": {},
   "outputs": [],
   "source": [
    "model.setObjective(\n",
    "    gp.quicksum(\n",
    "        z[i, j, k] for i in range(n - 1) for j in range(i + 1, n) for k in range(m)\n",
    "    )\n",
    "    - S,\n",
    "    GRB.MINIMIZE,\n",
    ")\n"
   ]
  },
  {
   "cell_type": "markdown",
   "metadata": {},
   "source": [
    "### Restrições\n",
    "\n",
    "O problema está sujeito a:\n",
    "$$\n",
    "\\begin{aligned}\n",
    "    &\\text{(C1):} & z_{ijk} &= a_{ij}^k \\Vert x_{i} - x_{j} \\Vert_2 \\\\\n",
    "    &\\text{(C2):} & -a_{ij}^k D &\\leq z_{ijk} \\leq a_{ij}^k D \\\\\n",
    "    &\\text{(C3):} & d_k - (1-a_{ij}^k) D &\\leq z_{ijk} \\leq d_k + (1-a_{ij}^k) D \n",
    "\\end{aligned}\n",
    "$$\n",
    "para $i = 1, 2, \\ldots, n−1,\\; j = i+1, i+2, \\ldots, n,\\; k = 1, 2, \\ldots, m$"
   ]
  },
  {
   "cell_type": "code",
   "execution_count": 75,
   "metadata": {},
   "outputs": [],
   "source": [
    "for i in range(n - 1):\n",
    "    for j in range(i + 1, n):\n",
    "\n",
    "        model.addConstr(v[i, j] == x[i] - x[j], name=f\"C1auxA_{i}_{j}\")\n",
    "        model.addConstr(w[i, j] == gp.norm(v[i, j], 2), name=f\"C1auxB_{i}_{j}\")\n",
    "\n",
    "        for k in range(m):\n",
    "            # C1\n",
    "            model.addConstr(z[i, j, k] == a[i, j, k] * w[i, j], name=f\"C1_{i}_{j}_{k}\")\n",
    "            # C2\n",
    "            model.addConstr(z[i, j, k] <= a[i, j, k] * D, name=f\"C2A_{i}_{j}_{k}\")\n",
    "            # C2'\n",
    "            model.addConstr(z[i, j, k] >= -a[i, j, k] * D, name=f\"C2B_{i}_{j}_{k}\")\n",
    "            # C3\n",
    "            model.addConstr(\n",
    "                z[i, j, k] <= (d[k] + alfa) + (1 - a[i, j, k]) * D,\n",
    "                name=f\"C3A_{i}_{j}_{k}\",\n",
    "            )\n",
    "            # C4\n",
    "            model.addConstr(\n",
    "                z[i, j, k] >= (d[k] - alfa) - (1 - a[i, j, k]) * D,\n",
    "                name=f\"C3B_{i}_{j}_{k}\",\n",
    "            )\n"
   ]
  },
  {
   "cell_type": "markdown",
   "metadata": {},
   "source": [
    "Mantendo as restrições do modelo (3):\n",
    "$$\n",
    "\\begin{aligned}\n",
    "    &\\text{(C5):} & \\sum_{i=1}^{n-1} \\sum_{j=1+1}^{n} a_{ij}^k &= 1 && k = 1, 2, \\ldots, m, \\\\\n",
    "    &\\text{(C6):} & \\sum_{k=1}^{m} a_{ij}^k &\\leq 1 && i = 1, 2, \\ldots, n−1,\\; j = i+1, i+2, \\ldots, n,\n",
    "\\end{aligned}\n",
    "$$"
   ]
  },
  {
   "cell_type": "code",
   "execution_count": 76,
   "metadata": {},
   "outputs": [],
   "source": [
    "# C5\n",
    "c5 = model.addConstrs(\n",
    "    gp.quicksum(a[i, j, k] for i in range(n - 1) for j in range(i + 1, n)) == 1\n",
    "    for k in range(m)\n",
    ")\n",
    "# C6\n",
    "c6 = model.addConstrs(\n",
    "    gp.quicksum(a[i, j, k] for k in range(m)) <= 1\n",
    "    for i in range(n - 1)\n",
    "    for j in range(i + 1, n)\n",
    ")\n"
   ]
  },
  {
   "cell_type": "markdown",
   "metadata": {},
   "source": [
    "## Solução"
   ]
  },
  {
   "cell_type": "code",
   "execution_count": 77,
   "metadata": {},
   "outputs": [
    {
     "name": "stdout",
     "output_type": "stream",
     "text": [
      "Gurobi Optimizer version 9.5.2 build v9.5.2rc0 (linux64)\n",
      "Thread count: 4 physical cores, 8 logical processors, using up to 8 threads\n",
      "Optimize a model with 174 rows, 108 columns and 414 nonzeros\n",
      "Model fingerprint: 0xe687d61c\n",
      "Model has 36 quadratic constraints\n",
      "Model has 6 general constraints\n",
      "Variable types: 72 continuous, 36 integer (36 binary)\n",
      "Coefficient statistics:\n",
      "  Matrix range     [1e+00, 4e+00]\n",
      "  QMatrix range    [1e+00, 1e+00]\n",
      "  QLMatrix range   [1e+00, 1e+00]\n",
      "  Objective range  [1e+00, 1e+00]\n",
      "  Bounds range     [1e+00, 1e+00]\n",
      "  RHS range        [1e+00, 9e+00]\n",
      "Presolve removed 81 rows and 12 columns\n",
      "Presolve time: 0.00s\n",
      "Presolved: 279 rows, 229 columns, 642 nonzeros\n",
      "Presolved model has 72 SOS constraint(s)\n",
      "Presolved model has 24 bilinear constraint(s)\n",
      "Variable types: 157 continuous, 72 integer (72 binary)\n",
      "\n",
      "Root relaxation: objective -6.000000e+00, 133 iterations, 0.00 seconds (0.00 work units)\n",
      "\n",
      "    Nodes    |    Current Node    |     Objective Bounds      |     Work\n",
      " Expl Unexpl |  Obj  Depth IntInf | Incumbent    BestBd   Gap | It/Node Time\n",
      "\n",
      "     0     0   -6.00000    0    6          -   -6.00000      -     -    0s\n",
      "     0     0   -6.00000    0    6          -   -6.00000      -     -    0s\n",
      "     0     2   -6.00000    0    6          -   -6.00000      -     -    0s\n",
      "H   32    54                      -3.7760182   -6.00000  58.9%   3.2    0s\n",
      "H   59    90                      -3.9424712   -6.00000  52.2%   4.1    0s\n",
      "* 1656   409              72      -4.2314110   -6.00000  41.8%   9.5    0s\n",
      "* 1657   409              72      -4.2314338   -6.00000  41.8%   9.4    0s\n",
      "H 2043   438                      -4.2370971   -6.00000  41.6%   9.7    0s\n",
      "H 2085   446                      -4.2370973   -6.00000  41.6%   9.8    0s\n",
      "H 2086   425                      -4.2370975   -6.00000  41.6%   9.8    0s\n",
      "H 2977   629                      -4.2370979   -6.00000  41.6%   8.8    0s\n",
      "H 3329   924                      -4.2458897   -6.00000  41.3%   8.6    0s\n",
      "* 4363  1261              86      -4.2961164   -6.00000  39.7%   7.7    0s\n",
      "* 4367  1261              87      -4.2961453   -6.00000  39.7%   7.7    0s\n",
      "H 6465  1500                      -4.3040007   -6.00000  39.4%   6.6    0s\n",
      "H 7109  1587                      -4.3040029   -6.00000  39.4%   6.6    0s\n",
      "H10539  2445                      -4.3040038   -6.00000  39.4%   6.4    0s\n",
      "H12824  2829                      -4.3040045   -6.00000  39.4%   6.4    0s\n",
      "H17584  3554                      -4.3040061   -6.00000  39.4%   6.4    1s\n",
      "H25963  4992                      -4.3040080   -6.00000  39.4%   6.3    1s\n",
      "H28106  5276                      -4.3040101   -6.00000  39.4%   6.2    1s\n",
      " 107849  9886     cutoff  162        -4.30401   -6.00000  39.4%   3.6    5s\n",
      "H151914 12059                      -4.3040103   -6.00000  39.4%   4.0    7s\n",
      "H155192 12190                      -4.3040112   -6.00000  39.4%   4.1    7s\n",
      " 193502 14590 infeasible   87        -4.30401   -6.00000  39.4%   4.2   10s\n",
      "H193850 14590                      -4.3040160   -6.00000  39.4%   4.2   10s\n",
      " 277863 19947 infeasible  156        -4.30402   -6.00000  39.4%   4.6   15s\n",
      "H334324 23501                      -4.3040168   -6.00000  39.4%   5.1   19s\n",
      " 341968 24185     cutoff   99        -4.30402   -6.00000  39.4%   5.1   20s\n",
      " 402615 28576     cutoff  139        -4.30402   -6.00000  39.4%   5.3   25s\n",
      " 435294 30558     cutoff   98        -4.30402   -6.00000  39.4%   5.4   30s\n",
      " 478593 32714   -6.00000  128    9   -4.30402   -6.00000  39.4%   5.6   35s\n",
      " 522491 34841   -6.00000  132   12   -4.30402   -6.00000  39.4%   5.6   40s\n",
      " 566124 37623   -6.00000  164   10   -4.30402   -6.00000  39.4%   5.6   45s\n",
      " 602478 41309   -6.00000  196    5   -4.30402   -6.00000  39.4%   5.6   50s\n",
      " 631676 43371   -6.00000  101   11   -4.30402   -6.00000  39.4%   5.7   55s\n",
      " 664069 45429 infeasible  130        -4.30402   -6.00000  39.4%   5.8   60s\n",
      " 691933 47191   -4.96724  189    8   -4.30402   -6.00000  39.4%   5.8   65s\n",
      " 723809 48660     cutoff  123        -4.30402   -6.00000  39.4%   5.8   70s\n",
      " 762116 50347     cutoff   91        -4.30402   -6.00000  39.4%   5.8   75s\n",
      " 821158 54807     cutoff  119        -4.30402   -6.00000  39.4%   5.9   80s\n",
      " 876826 58084   -4.43874   89   12   -4.30402   -6.00000  39.4%   6.0   85s\n",
      " 929580 61774     cutoff  162        -4.30402   -6.00000  39.4%   6.1   90s\n",
      " 1014208 65325     cutoff  215        -4.30402   -6.00000  39.4%   6.1   95s\n",
      " 1096923 68221 infeasible  178        -4.30402   -6.00000  39.4%   6.0  100s\n",
      " 1185066 71251     cutoff  132        -4.30402   -6.00000  39.4%   6.0  105s\n",
      " 1241106 74578 infeasible  122        -4.30402   -6.00000  39.4%   5.9  110s\n",
      " 1285403 77717     cutoff  149        -4.30402   -6.00000  39.4%   6.0  115s\n",
      " 1327673 80859     cutoff  141        -4.30402   -6.00000  39.4%   5.9  120s\n",
      " 1372862 82781 infeasible  168        -4.30402   -6.00000  39.4%   5.9  125s\n",
      " 1414984 86099   -6.00000  139   10   -4.30402   -6.00000  39.4%   5.9  130s\n",
      " 1455824 88029     cutoff  171        -4.30402   -6.00000  39.4%   6.0  135s\n",
      " 1500693 89961     cutoff  161        -4.30402   -6.00000  39.4%   5.9  140s\n",
      " 1547988 94518   -6.00000  174   12   -4.30402   -6.00000  39.4%   5.9  145s\n",
      " 1590896 96411   -6.00000  143    7   -4.30402   -6.00000  39.4%   5.9  150s\n",
      " 1638770 99929   -4.87560  135    7   -4.30402   -6.00000  39.4%   5.9  155s\n",
      " 1742269 105880   -5.01026  131   13   -4.30402   -6.00000  39.4%   5.9  160s\n",
      " 1832993 110505   -6.00000  153    8   -4.30402   -6.00000  39.4%   5.9  165s\n",
      " 1930981 116380   -5.99855  141    6   -4.30402   -6.00000  39.4%   5.9  170s\n",
      " 2020172 119935   -6.00000  162    6   -4.30402   -6.00000  39.4%   5.9  175s\n",
      " 2110492 122944   -6.00000  155   10   -4.30402   -6.00000  39.4%   5.9  180s\n",
      "H2154523 124124                      -4.3040168   -6.00000  39.4%   5.9  182s\n",
      " 2184719 124764     cutoff  197        -4.30402   -6.00000  39.4%   5.9  185s\n",
      " 2226611 126290     cutoff  174        -4.30402   -6.00000  39.4%   6.0  190s\n",
      " 2261450 127800     cutoff  137        -4.30402   -6.00000  39.4%   6.0  195s\n",
      " 2301522 129836 infeasible  107        -4.30402   -6.00000  39.4%   5.9  200s\n",
      " 2329421 132537   -6.00000  136    7   -4.30402   -6.00000  39.4%   6.0  205s\n",
      " 2358582 134216   -6.00000  159    4   -4.30402   -6.00000  39.4%   6.1  210s\n",
      " 2395635 137090 infeasible  107        -4.30402   -6.00000  39.4%   6.1  215s\n",
      " 2433675 140131   -4.50576  168   11   -4.30402   -6.00000  39.4%   6.1  220s\n",
      " 2472046 143228   -5.99991  134    5   -4.30402   -6.00000  39.4%   6.1  225s\n",
      " 2509685 146664 infeasible  105        -4.30402   -6.00000  39.4%   6.2  230s\n",
      " 2538884 148402   -5.99949  127    4   -4.30402   -6.00000  39.4%   6.2  235s\n",
      " 2617220 154752     cutoff  154        -4.30402   -6.00000  39.4%   6.3  240s\n",
      " 2692750 159675   -5.99986  188    5   -4.30402   -6.00000  39.4%   6.5  245s\n",
      " 2772146 164073     cutoff  154        -4.30402   -6.00000  39.4%   6.6  250s\n",
      " 2871971 172176   -4.93023  135   15   -4.30402   -6.00000  39.4%   6.5  255s\n",
      " 2947339 176429   -6.00000  164    5   -4.30402   -6.00000  39.4%   6.5  260s\n",
      " 3031011 182767 infeasible  149        -4.30402   -6.00000  39.4%   6.5  265s\n",
      " 3085762 185831   -6.00000  112   11   -4.30402   -6.00000  39.4%   6.4  270s\n",
      " 3127972 189216     cutoff  212        -4.30402   -6.00000  39.4%   6.4  275s\n",
      " 3173856 191830     cutoff  130        -4.30402   -6.00000  39.4%   6.4  280s\n",
      " 3219167 194015   -6.00000  164    6   -4.30402   -6.00000  39.4%   6.4  285s\n",
      " 3267093 198296   -4.54721  220   11   -4.30402   -6.00000  39.4%   6.4  290s\n",
      " 3307824 200486 infeasible  171        -4.30402   -6.00000  39.4%   6.4  295s\n",
      " 3360179 203041 infeasible  145        -4.30402   -6.00000  39.4%   6.3  300s\n",
      " 3433121 207290   -6.00000  157   10   -4.30402   -6.00000  39.4%   6.2  305s\n",
      " 3481750 210270 infeasible  141        -4.30402   -6.00000  39.4%   6.2  310s\n",
      " 3568711 215903 infeasible  169        -4.30402   -6.00000  39.4%   6.2  315s\n",
      " 3734813 228190   -6.00000  106    7   -4.30402   -6.00000  39.4%   6.0  320s\n",
      " 3897471 233174   -6.00000  148    8   -4.30402   -6.00000  39.4%   5.8  325s\n",
      " 4023663 236501   -6.00000  129    6   -4.30402   -6.00000  39.4%   5.8  330s\n",
      " 4096521 238487   -4.98928  234   15   -4.30402   -6.00000  39.4%   5.7  335s\n",
      " 4181909 242022   -4.86114  181    7   -4.30402   -6.00000  39.4%   5.7  340s\n",
      " 4236645 244333   -5.99945  189    5   -4.30402   -6.00000  39.4%   5.7  345s\n",
      " 4276000 246667 infeasible   89        -4.30402   -6.00000  39.4%   5.7  350s\n",
      " 4311609 248835   -5.99958  157    5   -4.30402   -6.00000  39.4%   5.7  355s\n",
      " 4352085 251385 infeasible  142        -4.30402   -6.00000  39.4%   5.7  360s\n",
      " 4394423 253311   -6.00000  137   21   -4.30402   -6.00000  39.4%   5.7  365s\n",
      " 4434453 254991     cutoff  108        -4.30402   -6.00000  39.4%   5.7  370s\n",
      " 4477337 257153   -6.00000  111    6   -4.30402   -6.00000  39.4%   5.8  375s\n",
      " 4523305 258795   -6.00000  119   12   -4.30402   -6.00000  39.4%   5.8  380s\n",
      " 4556331 260513 infeasible   87        -4.30402   -6.00000  39.4%   5.8  385s\n",
      " 4600081 262187   -5.13187  113   11   -4.30402   -6.00000  39.4%   5.8  390s\n",
      " 4650386 265454     cutoff  115        -4.30402   -6.00000  39.4%   5.8  395s\n",
      " 4737290 270034   -4.81044   92    7   -4.30402   -6.00000  39.4%   5.8  400s\n",
      " 4831887 274574   -6.00000  141    5   -4.30402   -6.00000  39.4%   5.8  405s\n",
      " 4934840 280430   -6.00000  104    7   -4.30402   -6.00000  39.4%   5.7  410s\n",
      " 5055889 286986     cutoff  123        -4.30402   -6.00000  39.4%   5.7  415s\n",
      " 5179342 292284 infeasible  118        -4.30402   -6.00000  39.4%   5.6  420s\n",
      " 5286692 297000 infeasible  172        -4.30402   -6.00000  39.4%   5.6  425s\n",
      " 5340864 299860     cutoff  141        -4.30402   -6.00000  39.4%   5.6  430s\n",
      " 5381263 302194     cutoff  151        -4.30402   -6.00000  39.4%   5.6  435s\n",
      " 5435332 306053   -6.00000   78   24   -4.30402   -6.00000  39.4%   5.6  440s\n",
      " 5488086 308646 infeasible  145        -4.30402   -6.00000  39.4%   5.5  445s\n",
      " 5534112 312169     cutoff  163        -4.30402   -6.00000  39.4%   5.6  450s\n",
      "H5540430 312405                      -4.3040183   -6.00000  39.4%   5.6  450s\n",
      " 5580684 315292 infeasible  175        -4.30402   -6.00000  39.4%   5.6  455s\n",
      " 5627888 318453   -6.00000  106    7   -4.30402   -6.00000  39.4%   5.6  460s\n",
      " 5672103 320894 infeasible  126        -4.30402   -6.00000  39.4%   5.5  465s\n",
      " 5729765 323830     cutoff  201        -4.30402   -6.00000  39.4%   5.5  470s\n",
      " 5784824 326893   -5.02796  151   14   -4.30402   -6.00000  39.4%   5.5  475s\n",
      " 5912548 332681 infeasible  146        -4.30402   -6.00000  39.4%   5.4  480s\n",
      " 6022050 340625     cutoff  166        -4.30402   -6.00000  39.4%   5.4  485s\n",
      " 6199925 352042   -6.00000  109    6   -4.30402   -6.00000  39.4%   5.3  490s\n",
      " 6368516 360843   -6.00000  224    5   -4.30402   -6.00000  39.4%   5.2  495s\n",
      " 6537596 374156 infeasible   95        -4.30402   -6.00000  39.4%   5.1  500s\n",
      " 6690643 382827   -5.94953  112    8   -4.30402   -6.00000  39.4%   5.1  505s\n",
      " 6789400 387952     cutoff  147        -4.30402   -6.00000  39.4%   5.0  510s\n",
      " 6839421 392289 infeasible   85        -4.30402   -6.00000  39.4%   5.0  515s\n",
      " 6921336 397687   -6.00000  130    8   -4.30402   -6.00000  39.4%   5.0  520s\n",
      " 6991380 402861 infeasible  114        -4.30402   -6.00000  39.4%   4.9  525s\n",
      " 7065195 410188 infeasible  119        -4.30402   -6.00000  39.4%   4.9  530s\n",
      "H7089516 412054                      -4.3040191   -6.00000  39.4%   4.9  531s\n",
      " 7146582 416637 infeasible  118        -4.30402   -6.00000  39.4%   4.9  535s\n",
      " 7223602 421105   -6.00000   87    6   -4.30402   -6.00000  39.4%   4.8  540s\n",
      " 7304348 425099   -6.00000   80    6   -4.30402   -6.00000  39.4%   4.8  545s\n",
      " 7376117 430302   -6.00000   87    9   -4.30402   -6.00000  39.4%   4.7  550s\n",
      " 7435215 433311   -6.00000  135    5   -4.30402   -6.00000  39.4%   4.7  555s\n",
      " 7536243 440088   -6.00000  169    6   -4.30402   -6.00000  39.4%   4.7  560s\n",
      " 7705801 449943 infeasible  149        -4.30402   -6.00000  39.4%   4.6  565s\n",
      " 7896145 455961   -6.00000  126    6   -4.30402   -6.00000  39.4%   4.6  570s\n",
      " 8070465 460692 infeasible  154        -4.30402   -6.00000  39.4%   4.5  575s\n",
      " 8274726 464499 infeasible  169        -4.30402   -6.00000  39.4%   4.4  580s\n",
      " 8403100 466528 infeasible  150        -4.30402   -6.00000  39.4%   4.3  585s\n",
      " 8463465 469734   -6.00000  113    6   -4.30402   -6.00000  39.4%   4.3  590s\n",
      " 8522681 473156 infeasible  118        -4.30402   -6.00000  39.4%   4.3  595s\n",
      " 8588078 476088   -6.00000  147    7   -4.30402   -6.00000  39.4%   4.2  600s\n",
      " 8650383 477882 infeasible  169        -4.30402   -6.00000  39.4%   4.2  605s\n",
      " 8720867 479102   -6.00000  163    6   -4.30402   -6.00000  39.4%   4.2  610s\n",
      "H8785355 481193                      -4.3040211   -6.00000  39.4%   4.2  614s\n",
      " 8786599 481199   -6.00000  124    6   -4.30402   -6.00000  39.4%   4.2  615s\n",
      " 8866704 484896 infeasible  129        -4.30402   -6.00000  39.4%   4.1  620s\n",
      " 8944728 489014   -6.00000  178    6   -4.30402   -6.00000  39.4%   4.1  625s\n",
      " 9029882 492772   -6.00000  155    8   -4.30402   -6.00000  39.4%   4.1  630s\n",
      " 9125941 494338 infeasible  154        -4.30402   -6.00000  39.4%   4.0  635s\n",
      " 9262331 499832   -6.00000  159    5   -4.30402   -6.00000  39.4%   4.0  640s\n",
      " 9475442 509128   -5.99902  132    5   -4.30402   -6.00000  39.4%   3.9  645s\n",
      " 9678025 518581 infeasible  142        -4.30402   -6.00000  39.4%   3.8  650s\n",
      " 9854301 524375   -6.00000  121    5   -4.30402   -6.00000  39.4%   3.8  655s\n",
      " 10007800 528695   -5.99996   97    6   -4.30402   -6.00000  39.4%   3.7  660s\n",
      " 10194576 537281 infeasible  113        -4.30402   -6.00000  39.4%   3.7  665s\n",
      " 10295943 542805   -6.00000  121    5   -4.30402   -6.00000  39.4%   3.7  670s\n",
      " 10376451 546002   -6.00000  110    6   -4.30402   -6.00000  39.4%   3.6  675s\n",
      " 10461203 549721 infeasible  136        -4.30402   -6.00000  39.4%   3.6  680s\n",
      " 10568566 555241   -5.99984   90    6   -4.30402   -6.00000  39.4%   3.6  685s\n",
      " 10683227 561420   -6.00000   89    8   -4.30402   -6.00000  39.4%   3.5  690s\n",
      " 10772589 563919 infeasible  104        -4.30402   -6.00000  39.4%   3.5  695s\n",
      " 10834564 565750 infeasible  124        -4.30402   -6.00000  39.4%   3.5  700s\n",
      " 10906559 569036 infeasible  102        -4.30402   -6.00000  39.4%   3.5  705s\n",
      " 10983307 572481 infeasible  164        -4.30402   -6.00000  39.4%   3.5  710s\n",
      " 11062854 575735 infeasible  108        -4.30402   -6.00000  39.4%   3.4  715s\n",
      " 11142360 579045   -5.99885  120    5   -4.30402   -6.00000  39.4%   3.4  720s\n",
      " 11284680 587749   -6.00000  107    5   -4.30402   -6.00000  39.4%   3.4  725s\n",
      " 11454701 596729 infeasible   87        -4.30402   -6.00000  39.4%   3.3  730s\n",
      " 11657894 606568   -6.00000  136    6   -4.30402   -6.00000  39.4%   3.3  735s\n",
      " 11802977 613134 infeasible  101        -4.30402   -6.00000  39.4%   3.3  740s\n",
      " 11996828 624085   -6.00000  172    5   -4.30402   -6.00000  39.4%   3.2  745s\n",
      " 12181632 635021 infeasible  130        -4.30402   -6.00000  39.4%   3.2  750s\n",
      " 12300737 643506   -4.99064  181    8   -4.30402   -6.00000  39.4%   3.2  755s\n",
      "\n",
      "Interrupt request received\n",
      "\n",
      "Explored 12336117 nodes (39182296 simplex iterations) in 759.06 seconds (218.75 work units)\n",
      "Thread count was 8 (of 8 available processors)\n",
      "\n",
      "Solution count 10: -4.30402 -4.304 -4.29615 ... -3.94247\n",
      "\n",
      "Solve interrupted\n",
      "Best objective -4.304021054709e+00, best bound -6.000000000000e+00, gap 39.4045%\n"
     ]
    }
   ],
   "source": [
    "# Salva a formulação do modelo\n",
    "model.write(\"unassigned_distance.lp\")\n",
    "\n",
    "# Otimiza o modelo\n",
    "m.setParam(\"TimeLimit\", 5 * 60)\n",
    "m.setParam(\"LogToConsole\", 0)\n",
    "\n",
    "model.optimize()\n"
   ]
  },
  {
   "cell_type": "code",
   "execution_count": 79,
   "metadata": {},
   "outputs": [],
   "source": [
    "# Salva os resultados no arquivo out.sol\n",
    "model.write(\"out.sol\")\n"
   ]
  },
  {
   "cell_type": "markdown",
   "metadata": {},
   "source": [
    "## Pós-processamento"
   ]
  },
  {
   "cell_type": "code",
   "execution_count": 86,
   "metadata": {},
   "outputs": [],
   "source": [
    "def gurobi_variables_to_xyz(x: list):\n",
    "    xyz_coords = [f\"C   {x_i[0].X:.4f}   {x_i[1].X:.4f}   {x_i[2].X:.4f}\" for x_i in x.values()]\n",
    "    return \"\\n\".join([str(n), \"OUTPUT\", *xyz_coords])\n"
   ]
  },
  {
   "cell_type": "code",
   "execution_count": 88,
   "metadata": {},
   "outputs": [],
   "source": [
    "with open(\"output.xyz\", \"w\") as f:\n",
    "    f.write(gurobi_variables_to_xyz(x))"
   ]
  },
  {
   "cell_type": "code",
   "execution_count": 98,
   "metadata": {},
   "outputs": [
    {
     "data": {
      "application/3dmoljs_load.v0": "<div id=\"3dmolviewer_1666310210110209\"  style=\"position: relative; width: 640px; height: 480px\">\n        <p id=\"3dmolwarning_1666310210110209\" style=\"background-color:#ffcccc;color:black\">You appear to be running in JupyterLab (or JavaScript failed to load for some other reason).  You need to install the 3dmol extension: <br>\n        <tt>jupyter labextension install jupyterlab_3dmol</tt></p>\n        </div>\n<script>\n\nvar loadScriptAsync = function(uri){\n  return new Promise((resolve, reject) => {\n    var tag = document.createElement('script');\n    tag.src = uri;\n    tag.async = true;\n    tag.onload = () => {\n      resolve();\n    };\n  var firstScriptTag = document.getElementsByTagName('script')[0];\n  firstScriptTag.parentNode.insertBefore(tag, firstScriptTag);\n});\n};\n\nif(typeof $3Dmolpromise === 'undefined') {\n$3Dmolpromise = null;\n  $3Dmolpromise = loadScriptAsync('https://cdn.jsdelivr.net/npm/3dmol@latest/build/3Dmol-min.min.js');\n}\n\nvar viewer_1666310210110209 = null;\nvar warn = document.getElementById(\"3dmolwarning_1666310210110209\");\nif(warn) {\n    warn.parentNode.removeChild(warn);\n}\n$3Dmolpromise.then(function() {\nviewer_1666310210110209 = $3Dmol.createViewer($(\"#3dmolviewer_1666310210110209\"),{backgroundColor:\"white\"});\n$3Dmol.download(\"input.xyz\", viewer_1666310210110209, {}, function() {\nviewer_1666310210110209.zoomTo();\n\tviewer_1666310210110209.setBackgroundColor(\"000\");\n\tviewer_1666310210110209.setStyle({\"cross\": {}});\nviewer_1666310210110209.render();\n})\n});\n</script>",
      "text/html": [
       "<div id=\"3dmolviewer_1666310210110209\"  style=\"position: relative; width: 640px; height: 480px\">\n",
       "        <p id=\"3dmolwarning_1666310210110209\" style=\"background-color:#ffcccc;color:black\">You appear to be running in JupyterLab (or JavaScript failed to load for some other reason).  You need to install the 3dmol extension: <br>\n",
       "        <tt>jupyter labextension install jupyterlab_3dmol</tt></p>\n",
       "        </div>\n",
       "<script>\n",
       "\n",
       "var loadScriptAsync = function(uri){\n",
       "  return new Promise((resolve, reject) => {\n",
       "    var tag = document.createElement('script');\n",
       "    tag.src = uri;\n",
       "    tag.async = true;\n",
       "    tag.onload = () => {\n",
       "      resolve();\n",
       "    };\n",
       "  var firstScriptTag = document.getElementsByTagName('script')[0];\n",
       "  firstScriptTag.parentNode.insertBefore(tag, firstScriptTag);\n",
       "});\n",
       "};\n",
       "\n",
       "if(typeof $3Dmolpromise === 'undefined') {\n",
       "$3Dmolpromise = null;\n",
       "  $3Dmolpromise = loadScriptAsync('https://cdn.jsdelivr.net/npm/3dmol@latest/build/3Dmol-min.min.js');\n",
       "}\n",
       "\n",
       "var viewer_1666310210110209 = null;\n",
       "var warn = document.getElementById(\"3dmolwarning_1666310210110209\");\n",
       "if(warn) {\n",
       "    warn.parentNode.removeChild(warn);\n",
       "}\n",
       "$3Dmolpromise.then(function() {\n",
       "viewer_1666310210110209 = $3Dmol.createViewer($(\"#3dmolviewer_1666310210110209\"),{backgroundColor:\"white\"});\n",
       "$3Dmol.download(\"input.xyz\", viewer_1666310210110209, {}, function() {\n",
       "viewer_1666310210110209.zoomTo();\n",
       "\tviewer_1666310210110209.setBackgroundColor(\"000\");\n",
       "\tviewer_1666310210110209.setStyle({\"cross\": {}});\n",
       "viewer_1666310210110209.render();\n",
       "})\n",
       "});\n",
       "</script>"
      ]
     },
     "metadata": {},
     "output_type": "display_data"
    },
    {
     "data": {
      "text/plain": [
       "<py3Dmol.view at 0x7f7e49508af0>"
      ]
     },
     "execution_count": 98,
     "metadata": {},
     "output_type": "execute_result"
    }
   ],
   "source": [
    "import py3Dmol\n",
    "view = py3Dmol.view(query='input.xyz')\n",
    "view.setBackgroundColor('000')\n",
    "view.setStyle({'stick':{}})\n",
    "view"
   ]
  }
 ],
 "metadata": {
  "kernelspec": {
   "display_name": "Python 3.10.4 64-bit",
   "language": "python",
   "name": "python3"
  },
  "language_info": {
   "codemirror_mode": {
    "name": "ipython",
    "version": 3
   },
   "file_extension": ".py",
   "mimetype": "text/x-python",
   "name": "python",
   "nbconvert_exporter": "python",
   "pygments_lexer": "ipython3",
   "version": "3.10.4"
  },
  "orig_nbformat": 4,
  "vscode": {
   "interpreter": {
    "hash": "e7370f93d1d0cde622a1f8e1c04877d8463912d04d973331ad4851f04de6915a"
   }
  }
 },
 "nbformat": 4,
 "nbformat_minor": 2
}
